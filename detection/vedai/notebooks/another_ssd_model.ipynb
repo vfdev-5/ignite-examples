{
 "cells": [
  {
   "cell_type": "markdown",
   "metadata": {},
   "source": [
    "# Another SSD model\n",
    "more adapted for small objects"
   ]
  },
  {
   "cell_type": "code",
   "execution_count": 1,
   "metadata": {},
   "outputs": [],
   "source": [
    "import sys\n",
    "from pathlib import Path\n",
    "\n",
    "root_path = Path('..').absolute().resolve()\n",
    "if root_path.as_posix() not in sys.path:\n",
    "    sys.path.append(root_path.as_posix())"
   ]
  },
  {
   "cell_type": "code",
   "execution_count": 2,
   "metadata": {},
   "outputs": [],
   "source": [
    "import torch\n",
    "from models.net import AnotherSSD300, BoxCoder300"
   ]
  },
  {
   "cell_type": "code",
   "execution_count": 3,
   "metadata": {},
   "outputs": [],
   "source": [
    "model = AnotherSSD300(2)"
   ]
  },
  {
   "cell_type": "code",
   "execution_count": 4,
   "metadata": {},
   "outputs": [],
   "source": [
    "model = model.cuda()"
   ]
  },
  {
   "cell_type": "code",
   "execution_count": 5,
   "metadata": {},
   "outputs": [],
   "source": [
    "from torch.autograd import Variable\n",
    "\n",
    "x = Variable(torch.rand(1, 3, 300, 300).cuda(), requires_grad=True)"
   ]
  },
  {
   "cell_type": "code",
   "execution_count": 6,
   "metadata": {},
   "outputs": [],
   "source": [
    "feature_maps = model.extractor(x)"
   ]
  },
  {
   "cell_type": "code",
   "execution_count": 7,
   "metadata": {},
   "outputs": [
    {
     "name": "stdout",
     "output_type": "stream",
     "text": [
      "torch.Size([1, 64, 75, 75])\n",
      "torch.Size([1, 128, 37, 37])\n",
      "torch.Size([1, 256, 18, 18])\n"
     ]
    }
   ],
   "source": [
    "for fm in feature_maps:\n",
    "    print(fm.shape)"
   ]
  },
  {
   "cell_type": "code",
   "execution_count": 8,
   "metadata": {},
   "outputs": [
    {
     "name": "stdout",
     "output_type": "stream",
     "text": [
      "Output loc pred 0 : torch.Size([1, 5776, 4])\n",
      "Output loc pred 1 : torch.Size([1, 1444, 4])\n",
      "Output loc pred 2 : torch.Size([1, 324, 4])\n"
     ]
    }
   ],
   "source": [
    "for index in range(len(feature_maps)):\n",
    "    loc_pred = model.loc_layers[index](feature_maps[index])\n",
    "    loc_pred = loc_pred.permute(0,2,3,1).contiguous()\n",
    "    loc_pred = loc_pred.view(loc_pred.size(0),-1,4)\n",
    "    print(\"Output loc pred {} :\".format(index), loc_pred.shape)"
   ]
  },
  {
   "cell_type": "code",
   "execution_count": 9,
   "metadata": {},
   "outputs": [
    {
     "data": {
      "text/plain": [
       "[torch.Size([1, 16, 38, 38]),\n",
       " torch.Size([1, 16, 19, 19]),\n",
       " torch.Size([1, 16, 9, 9])]"
      ]
     },
     "execution_count": 9,
     "metadata": {},
     "output_type": "execute_result"
    }
   ],
   "source": [
    "fm_sizes = []\n",
    "xs = feature_maps\n",
    "for i, _x in enumerate(xs):\n",
    "    loc_pred = model.loc_layers[i](_x)\n",
    "    fm_sizes.append(loc_pred.shape)\n",
    "fm_sizes"
   ]
  },
  {
   "cell_type": "code",
   "execution_count": null,
   "metadata": {},
   "outputs": [],
   "source": []
  },
  {
   "cell_type": "code",
   "execution_count": 10,
   "metadata": {},
   "outputs": [],
   "source": [
    "y = model(x)"
   ]
  },
  {
   "cell_type": "code",
   "execution_count": 11,
   "metadata": {},
   "outputs": [
    {
     "data": {
      "text/plain": [
       "torch.Size([1, 7544, 4])"
      ]
     },
     "execution_count": 11,
     "metadata": {},
     "output_type": "execute_result"
    }
   ],
   "source": [
    "y[0].shape"
   ]
  },
  {
   "cell_type": "code",
   "execution_count": 12,
   "metadata": {},
   "outputs": [],
   "source": [
    "box_coder = BoxCoder300(feature_map_sizes=model.feature_map_sizes)"
   ]
  },
  {
   "cell_type": "code",
   "execution_count": 13,
   "metadata": {},
   "outputs": [
    {
     "data": {
      "text/plain": [
       "7544"
      ]
     },
     "execution_count": 13,
     "metadata": {},
     "output_type": "execute_result"
    }
   ],
   "source": [
    "len(box_coder.default_boxes)"
   ]
  },
  {
   "cell_type": "code",
   "execution_count": null,
   "metadata": {},
   "outputs": [],
   "source": []
  },
  {
   "cell_type": "code",
   "execution_count": 14,
   "metadata": {},
   "outputs": [],
   "source": [
    "from customized_torchcv.loss.ssd_loss import SSDLoss\n",
    "from ignite._utils import to_variable"
   ]
  },
  {
   "cell_type": "code",
   "execution_count": 15,
   "metadata": {},
   "outputs": [],
   "source": [
    "loss_fn = SSDLoss(2)"
   ]
  },
  {
   "cell_type": "code",
   "execution_count": 16,
   "metadata": {},
   "outputs": [],
   "source": [
    "objs = torch.Tensor([[1, 1, 5, 5], [10, 10, 11, 11], [150, 150, 155, 155]])\n",
    "labels = torch.LongTensor([1, 0, 2])\n",
    "\n",
    "loc_targets, cls_targets = box_coder.encode(objs, labels)\n",
    "loc_targets = loc_targets.unsqueeze(0).cuda()\n",
    "cls_targets = cls_targets.unsqueeze(0).cuda()\n",
    "y_true = loc_targets, cls_targets"
   ]
  },
  {
   "cell_type": "code",
   "execution_count": 17,
   "metadata": {},
   "outputs": [
    {
     "data": {
      "text/plain": [
       "(torch.Size([1, 7544]), torch.Size([1, 7544, 4]))"
      ]
     },
     "execution_count": 17,
     "metadata": {},
     "output_type": "execute_result"
    }
   ],
   "source": [
    "cls_targets.shape, loc_targets.shape"
   ]
  },
  {
   "cell_type": "code",
   "execution_count": 18,
   "metadata": {},
   "outputs": [
    {
     "data": {
      "text/plain": [
       "Variable containing:\n",
       " 13.4976\n",
       "[torch.cuda.FloatTensor of size 1 (GPU 0)]"
      ]
     },
     "execution_count": 18,
     "metadata": {},
     "output_type": "execute_result"
    }
   ],
   "source": [
    "loss_fn(y, to_variable(y_true))"
   ]
  },
  {
   "cell_type": "code",
   "execution_count": null,
   "metadata": {},
   "outputs": [],
   "source": []
  },
  {
   "cell_type": "code",
   "execution_count": null,
   "metadata": {},
   "outputs": [],
   "source": []
  },
  {
   "cell_type": "code",
   "execution_count": 82,
   "metadata": {},
   "outputs": [],
   "source": [
    "feature_maps = [None] * 5\n",
    "\n",
    "def get_feature_map(index):\n",
    "    def hook(module, input, result):\n",
    "        feature_maps[index] = result\n",
    "    return hook"
   ]
  },
  {
   "cell_type": "code",
   "execution_count": 84,
   "metadata": {},
   "outputs": [],
   "source": [
    "vgg_features = model.features\n",
    "# indices = [5, 12, 22, 32, 42]\n",
    "# for i in indices:\n",
    "#     print(vgg_features[i])"
   ]
  },
  {
   "cell_type": "code",
   "execution_count": 37,
   "metadata": {},
   "outputs": [],
   "source": [
    "handles = []\n",
    "for i, index in enumerate(indices):\n",
    "    handles.append(vgg_features[index].register_forward_hook(get_feature_map(i)))"
   ]
  },
  {
   "cell_type": "code",
   "execution_count": 38,
   "metadata": {},
   "outputs": [],
   "source": [
    "from torch.autograd import Variable\n",
    "\n",
    "x = Variable(torch.rand(2, 3, 128, 128), requires_grad=True)"
   ]
  },
  {
   "cell_type": "code",
   "execution_count": 42,
   "metadata": {},
   "outputs": [
    {
     "name": "stdout",
     "output_type": "stream",
     "text": [
      "[None, None, None, None, None]\n"
     ]
    }
   ],
   "source": [
    "print(feature_maps)\n",
    "_ = vgg_features(x)"
   ]
  },
  {
   "cell_type": "code",
   "execution_count": 43,
   "metadata": {},
   "outputs": [
    {
     "name": "stdout",
     "output_type": "stream",
     "text": [
      "torch.Size([2, 64, 128, 128])\n",
      "torch.Size([2, 128, 64, 64])\n",
      "torch.Size([2, 256, 32, 32])\n",
      "torch.Size([2, 512, 16, 16])\n",
      "torch.Size([2, 512, 8, 8])\n"
     ]
    }
   ],
   "source": [
    "for fm in feature_maps:\n",
    "    print(fm.shape)"
   ]
  },
  {
   "cell_type": "code",
   "execution_count": null,
   "metadata": {},
   "outputs": [],
   "source": []
  }
 ],
 "metadata": {
  "kernelspec": {
   "display_name": "Python 3",
   "language": "python",
   "name": "python3"
  },
  "language_info": {
   "codemirror_mode": {
    "name": "ipython",
    "version": 3
   },
   "file_extension": ".py",
   "mimetype": "text/x-python",
   "name": "python",
   "nbconvert_exporter": "python",
   "pygments_lexer": "ipython3",
   "version": "3.5.2"
  }
 },
 "nbformat": 4,
 "nbformat_minor": 2
}
