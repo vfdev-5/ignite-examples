{
 "cells": [
  {
   "cell_type": "markdown",
   "metadata": {},
   "source": [
    "# Compare prediction probabilities on validation"
   ]
  },
  {
   "cell_type": "code",
   "execution_count": 1,
   "metadata": {},
   "outputs": [],
   "source": [
    "from pathlib import Path\n",
    "import sys\n",
    "sys.path.insert(0, Path(\".\").absolute().parent.as_posix())"
   ]
  },
  {
   "cell_type": "code",
   "execution_count": 3,
   "metadata": {},
   "outputs": [],
   "source": [
    "import matplotlib.pylab as plt\n",
    "%matplotlib inline\n",
    "import seaborn as sns\n",
    "\n",
    "import numpy as np\n",
    "import pandas as pd\n",
    "\n",
    "OUTPUT_PATH = Path(\".\").absolute().parent / \"output\" / \"val_probas\""
   ]
  },
  {
   "cell_type": "code",
   "execution_count": 11,
   "metadata": {},
   "outputs": [],
   "source": [
    "# Get true values\n",
    "from PIL import Image\n",
    "from common.dataset import FilesFromCsvDataset, TransformedDataset\n",
    "from common.meta import get_metafeatures, get_imsize_and_targets\n",
    "\n",
    "\n",
    "dataset = FilesFromCsvDataset(\"../output/filtered_val_dataset.csv\")\n",
    "dataset = TransformedDataset(dataset,\n",
    "                             transforms=lambda x: (x, Image.open(x).size),\n",
    "                             target_transforms=lambda l: l - 1)\n",
    "\n",
    "df_imsize_targets = get_imsize_and_targets(dataset)\n",
    "y_true = df_imsize_targets['target']"
   ]
  },
  {
   "cell_type": "markdown",
   "metadata": {},
   "source": [
    "## Validation result from a single model"
   ]
  },
  {
   "cell_type": "code",
   "execution_count": 42,
   "metadata": {},
   "outputs": [
    {
     "name": "stdout",
     "output_type": "stream",
     "text": [
      "val_probas_inceptionresnetv2_350_resized_crop\n",
      "val_probas_inceptionresnetv2_350_weighted_sampler2_resized_crop\n",
      "val_probas_inceptionv4_350_cls_wts_adam_resized_crop\n",
      "val_probas_inceptionv4_350_fc_random_resized_crop\n",
      "val_probas_inceptionv4_350_resized_crop\n",
      "val_probas_nasnetalarge_350_random_resized_crop\n",
      "val_probas_nasnetalarge_350_resized_crop\n",
      "val_probas_squeezenet_350\n"
     ]
    }
   ],
   "source": [
    "!ls {OUTPUT_PATH}"
   ]
  },
  {
   "cell_type": "code",
   "execution_count": 72,
   "metadata": {},
   "outputs": [
    {
     "name": "stdout",
     "output_type": "stream",
     "text": [
      "20180520_2032\n"
     ]
    }
   ],
   "source": [
    "!ls {OUTPUT_PATH}/val_probas_inceptionv4_350_fc_random_resized_crop/"
   ]
  },
  {
   "cell_type": "code",
   "execution_count": 68,
   "metadata": {},
   "outputs": [],
   "source": [
    "prediction_file = OUTPUT_PATH / \"val_probas_nasnetalarge_350_resized_crop\" / \"20180428_1654\" / \"probas.csv\""
   ]
  },
  {
   "cell_type": "code",
   "execution_count": 69,
   "metadata": {},
   "outputs": [],
   "source": [
    "df = pd.read_csv(prediction_file, index_col='id')"
   ]
  },
  {
   "cell_type": "code",
   "execution_count": 70,
   "metadata": {},
   "outputs": [],
   "source": [
    "y_probas = df.groupby('id').mean()\n",
    "y_probas = y_probas.loc[y_true.index, :]\n",
    "y_pred = np.argmax(y_probas.values, axis=1)"
   ]
  },
  {
   "cell_type": "code",
   "execution_count": 71,
   "metadata": {},
   "outputs": [
    {
     "data": {
      "text/plain": [
       "0.1311397234144015"
      ]
     },
     "execution_count": 71,
     "metadata": {},
     "output_type": "execute_result"
    }
   ],
   "source": [
    "from sklearn.metrics import accuracy_score\n",
    "\n",
    "1.0 - accuracy_score(y_true, y_pred)"
   ]
  },
  {
   "cell_type": "markdown",
   "metadata": {},
   "source": [
    "### Results:\n",
    "\n",
    "| Model | Val Error | Test 30% Error |\n",
    "| --- | --- | --- |\n",
    "| inceptionresnetv2_350_resized_crop/20180428_1622 | 0.13829279923700522 | 0.15468 |\n",
    "| inceptionresnetv2_350_weighted_sampler2_resized_crop/20180501_1710 | 0.1702432045779685 | 0.17890 |\n",
    "| inceptionv4_350_cls_wts_adam_resized_crop/20180520_2026 | 0.14592274678111583 |  | \n",
    "| inceptionv4_350_fc_random_resized_crop/20180520_2032 | 0.14353838817358133 | 0.16614 |\n",
    "| inceptionv4_350_resized_crop/20180428_1633 | 0.13718009855348912 | 0.15755 | \n",
    "| nasnetalarge_350_random_resized_crop/20180514_2202 | 0.1351136544269591 | 0.15026 |\n",
    "| nasnetalarge_350_random_resized_crop/20180514_2232 | 0.14147194404705132 | 0.15442 |\n",
    "| nasnetalarge_350_resized_crop/20180428_1654 | 0.1311397234144015 | 0.14635 |\n",
    "| squeezenet_350/20180428_1447 | 0.24845016690510258 |\n",
    "\n"
   ]
  },
  {
   "cell_type": "code",
   "execution_count": null,
   "metadata": {},
   "outputs": [],
   "source": []
  },
  {
   "cell_type": "markdown",
   "metadata": {},
   "source": [
    "## Mean probability of multiple predictions"
   ]
  },
  {
   "cell_type": "code",
   "execution_count": 181,
   "metadata": {},
   "outputs": [],
   "source": [
    "prediction_files = [\n",
    "    OUTPUT_PATH / \"val_probas_inceptionv4_350_resized_crop\" / \"20180428_1633\" / \"probas.csv\",\n",
    "    OUTPUT_PATH / \"val_probas_inceptionv4_350_cls_wts_adam_resized_crop\" / \"20180520_2026\" / \"probas.csv\",\n",
    "    OUTPUT_PATH / \"val_probas_inceptionv4_350_fc_random_resized_crop\" / \"20180520_2032\" / \"probas.csv\",\n",
    "    \n",
    "    OUTPUT_PATH / \"val_probas_inceptionresnetv2_350_resized_crop\" / \"20180428_1622\" / \"probas.csv\",\n",
    "    OUTPUT_PATH / \"val_probas_inceptionresnetv2_350_weighted_sampler2_resized_crop\" / \"20180501_1710\" / \"probas.csv\",\n",
    "    \n",
    "    OUTPUT_PATH / \"val_probas_nasnetalarge_350_resized_crop\" / \"20180428_1654\" / \"probas.csv\",\n",
    "    OUTPUT_PATH / \"val_probas_nasnetalarge_350_random_resized_crop\" / \"20180514_2232\" / \"probas.csv\",\n",
    "    OUTPUT_PATH / \"val_probas_nasnetalarge_350_random_resized_crop\" / \"20180514_2202\" / \"probas.csv\",\n",
    "]"
   ]
  },
  {
   "cell_type": "code",
   "execution_count": 184,
   "metadata": {},
   "outputs": [],
   "source": [
    "dfs = [pd.read_csv(f, index_col='id') for f in prediction_files]\n",
    "assert len(dfs) == len(prediction_files)"
   ]
  },
  {
   "cell_type": "code",
   "execution_count": 185,
   "metadata": {},
   "outputs": [],
   "source": [
    "df_probas = pd.concat(dfs, axis=0)\n",
    "y_probas = df_probas.groupby('id').mean()\n",
    "y_probas = y_probas.loc[y_true.index, :]\n",
    "y_pred = np.argmax(y_probas.values, axis=1)"
   ]
  },
  {
   "cell_type": "code",
   "execution_count": 186,
   "metadata": {},
   "outputs": [
    {
     "data": {
      "text/plain": [
       "0.11937688761723098"
      ]
     },
     "execution_count": 186,
     "metadata": {},
     "output_type": "execute_result"
    }
   ],
   "source": [
    "from sklearn.metrics import accuracy_score\n",
    "\n",
    "1.0 - accuracy_score(y_true, y_pred)"
   ]
  },
  {
   "cell_type": "markdown",
   "metadata": {},
   "source": [
    "Geometric mean probability"
   ]
  },
  {
   "cell_type": "code",
   "execution_count": 109,
   "metadata": {},
   "outputs": [],
   "source": [
    "def gmean(arr):\n",
    "    l = len(arr)\n",
    "    prod = np.prod(arr)\n",
    "    return np.power(prod, 1.0/l)"
   ]
  },
  {
   "cell_type": "code",
   "execution_count": 112,
   "metadata": {},
   "outputs": [],
   "source": [
    "# y_probas_gmean = df_probas.groupby('id').agg(gmean)\n",
    "# y_probas_gmean = y_probas_gmean.loc[y_true.index, :]\n",
    "# y_pred_gmean = np.argmax(y_probas_gmean.values, axis=1)\n",
    "# y_pred = np.argmax(y_probas.values, axis=1)\n",
    "\n",
    "# 1.0 - accuracy_score(y_true, y_pred)"
   ]
  },
  {
   "cell_type": "code",
   "execution_count": null,
   "metadata": {},
   "outputs": [],
   "source": []
  },
  {
   "cell_type": "code",
   "execution_count": null,
   "metadata": {},
   "outputs": [],
   "source": []
  },
  {
   "cell_type": "markdown",
   "metadata": {},
   "source": [
    "### Random search of weights"
   ]
  },
  {
   "cell_type": "code",
   "execution_count": 113,
   "metadata": {},
   "outputs": [],
   "source": [
    "from hyperopt import fmin, tpe, hp, STATUS_OK, Trials"
   ]
  },
  {
   "cell_type": "code",
   "execution_count": 182,
   "metadata": {},
   "outputs": [],
   "source": [
    "from sklearn.model_selection import StratifiedKFold\n",
    "\n",
    "splt = StratifiedKFold(n_splits=5, random_state=17)\n",
    "dfs = [pd.read_csv(f, index_col='id') for f in prediction_files]"
   ]
  },
  {
   "cell_type": "code",
   "execution_count": 206,
   "metadata": {},
   "outputs": [],
   "source": [
    "def score(params):\n",
    "    weights = [params[\"w_{}\".format(i)] for i in range(len(dfs))]\n",
    "    \n",
    "    print(\"Trial: weights: {}\".format(weights), end=\" -> \")\n",
    "    weighted_dfs = [w * df for w, df in zip(weights, dfs)]\n",
    "    df_probas = pd.concat(weighted_dfs, axis=0)\n",
    "    y_probas = df_probas.groupby('id').sum()\n",
    "    y_probas = y_probas.loc[y_true.index, :]\n",
    "    y_pred = np.argmax(y_probas.values, axis=1)\n",
    "    \n",
    "    res_cv = []\n",
    "    res_test = []\n",
    "    for train_index, test_index in splt.split(y_true.values[:, None], y_true.values):        \n",
    "        res_cv.append(1.0 - accuracy_score(y_true.values[train_index], y_pred[train_index]))\n",
    "        res_test.append(1.0 - accuracy_score(y_true.values[test_index], y_pred[test_index]))        \n",
    "    \n",
    "    res = np.mean(res_cv)\n",
    "    res_test = np.mean(res_test)\n",
    "    print(\"Score: cv={} | test={}\".format(res, res_test))\n",
    "    return {'loss': res, 'status': STATUS_OK, 'val_score': res_test}\n",
    "    \n",
    "    \n",
    "def get_uniform(name):\n",
    "    return hp.uniform(name, 0.10, 0.90)\n",
    "    \n",
    "    \n",
    "def optimize(trials, max_evals):\n",
    "    params = {}\n",
    "    for i in range(len(prediction_files)):\n",
    "        n = \"w_{}\".format(i)\n",
    "        params[n] = get_uniform(n)   \n",
    "    best = fmin(score, params, algo=tpe.suggest, trials=trials, max_evals=max_evals)    \n",
    "    return best\n",
    "\n",
    "\n",
    "trials = Trials()\n",
    "best_weights = optimize(trials, max_evals=500)\n",
    "best_weights"
   ]
  },
  {
   "cell_type": "code",
   "execution_count": 157,
   "metadata": {},
   "outputs": [
    {
     "data": {
      "text/plain": [
       "({'w_0': 0.8654605129896079,\n",
       "  'w_1': 0.5321224537280229,\n",
       "  'w_2': 0.1886420238665844,\n",
       "  'w_3': 0.7444695911930883,\n",
       "  'w_4': 0.24655462551634644,\n",
       "  'w_5': 0.5547166610070141,\n",
       "  'w_6': 0.4298804200059071,\n",
       "  'w_7': 0.3334794430497531},\n",
       " {'book_time': datetime.datetime(2018, 5, 20, 21, 41, 59, 34000),\n",
       "  'exp_key': None,\n",
       "  'misc': {'cmd': ('domain_attachment', 'FMinIter_Domain'),\n",
       "   'idxs': {'w_0': [161],\n",
       "    'w_1': [161],\n",
       "    'w_2': [161],\n",
       "    'w_3': [161],\n",
       "    'w_4': [161],\n",
       "    'w_5': [161],\n",
       "    'w_6': [161],\n",
       "    'w_7': [161]},\n",
       "   'tid': 161,\n",
       "   'vals': {'w_0': [0.8654605129896079],\n",
       "    'w_1': [0.5321224537280229],\n",
       "    'w_2': [0.1886420238665844],\n",
       "    'w_3': [0.7444695911930883],\n",
       "    'w_4': [0.24655462551634644],\n",
       "    'w_5': [0.5547166610070141],\n",
       "    'w_6': [0.4298804200059071],\n",
       "    'w_7': [0.3334794430497531]},\n",
       "   'workdir': None},\n",
       "  'owner': None,\n",
       "  'refresh_time': datetime.datetime(2018, 5, 20, 21, 41, 59, 124000),\n",
       "  'result': {'loss': 0.11698940006708616,\n",
       "   'status': 'ok',\n",
       "   'val_score': 0.11694345407472558},\n",
       "  'spec': None,\n",
       "  'state': 2,\n",
       "  'tid': 161,\n",
       "  'version': 0})"
      ]
     },
     "execution_count": 157,
     "metadata": {},
     "output_type": "execute_result"
    }
   ],
   "source": [
    "best_weights, trials.best_trial"
   ]
  },
  {
   "cell_type": "code",
   "execution_count": null,
   "metadata": {},
   "outputs": [],
   "source": []
  },
  {
   "cell_type": "code",
   "execution_count": 190,
   "metadata": {},
   "outputs": [
    {
     "data": {
      "text/plain": [
       "0.11699252900969637"
      ]
     },
     "execution_count": 190,
     "metadata": {},
     "output_type": "execute_result"
    }
   ],
   "source": [
    "weights = [best_weights[\"w_{}\".format(i)] for i in range(len(dfs))]\n",
    "\n",
    "weighted_dfs = [w * df for w, df in zip(weights, dfs)]\n",
    "df_probas = pd.concat(weighted_dfs, axis=0)\n",
    "y_probas = df_probas.groupby('id').sum()\n",
    "y_probas = y_probas.loc[y_true.index, :]\n",
    "y_pred = np.argmax(y_probas.values, axis=1)\n",
    "\n",
    "1.0 - accuracy_score(y_true.values, y_pred)"
   ]
  },
  {
   "cell_type": "code",
   "execution_count": null,
   "metadata": {},
   "outputs": [],
   "source": []
  },
  {
   "cell_type": "code",
   "execution_count": null,
   "metadata": {},
   "outputs": [],
   "source": []
  },
  {
   "cell_type": "markdown",
   "metadata": {},
   "source": [
    "### Compute test probabilities"
   ]
  },
  {
   "cell_type": "code",
   "execution_count": 191,
   "metadata": {},
   "outputs": [],
   "source": [
    "best_weights = {\n",
    "    'w_0': 0.8654605129896079,\n",
    "    'w_1': 0.5321224537280229,\n",
    "    'w_2': 0.1886420238665844,\n",
    "    'w_3': 0.7444695911930883,\n",
    "    'w_4': 0.24655462551634644,\n",
    "    'w_5': 0.5547166610070141,\n",
    "    'w_6': 0.4298804200059071,\n",
    "    'w_7': 0.3334794430497531\n",
    "}"
   ]
  },
  {
   "cell_type": "code",
   "execution_count": 193,
   "metadata": {},
   "outputs": [],
   "source": [
    "OUTPUT_PATH = Path(\".\").absolute().parent / \"output\" / \"test_probas\""
   ]
  },
  {
   "cell_type": "code",
   "execution_count": 197,
   "metadata": {},
   "outputs": [
    {
     "name": "stdout",
     "output_type": "stream",
     "text": [
      "20180520_2151\n"
     ]
    }
   ],
   "source": [
    "!ls {OUTPUT_PATH}/test_probas_inceptionv4_350_fc_random_resized_crop"
   ]
  },
  {
   "cell_type": "code",
   "execution_count": 198,
   "metadata": {},
   "outputs": [],
   "source": [
    "test_prediction_files = [\n",
    "    \n",
    "    OUTPUT_PATH / \"test_probas_inceptionv4_350_resized_crop\" / \"20180429_1303\" / \"probas.csv\",\n",
    "    OUTPUT_PATH / \"test_probas_inceptionv4_350_cls_wts_adam_resized_crop\" / \"20180520_2151\" / \"probas.csv\",\n",
    "    OUTPUT_PATH / \"test_probas_inceptionv4_350_fc_random_resized_crop\" / \"20180520_2151\" / \"probas.csv\",\n",
    "    \n",
    "    OUTPUT_PATH / \"test_probas_inceptionresnetv2_350_resized_crop\" / \"20180429_1242\" / \"probas.csv\",\n",
    "    OUTPUT_PATH / \"test_probas_inceptionresnetv2_350_weighted_sampler2_resized_crop\" / \"20180501_1725\" / \"probas.csv\",\n",
    "    \n",
    "    OUTPUT_PATH / \"test_probas_nasnetalarge_350_resized_crop\" / \"20180429_1406\" / \"probas.csv\",\n",
    "    OUTPUT_PATH / \"test_probas_nasnetalarge_350_random_resized_crop\" / \"20180514_0821\" / \"probas.csv\",\n",
    "    OUTPUT_PATH / \"test_probas_nasnetalarge_350_random_resized_crop\" / \"20180514_1034\" / \"probas.csv\",    \n",
    "]"
   ]
  },
  {
   "cell_type": "code",
   "execution_count": 208,
   "metadata": {},
   "outputs": [],
   "source": [
    "weights = [best_weights[\"w_{}\".format(i)] for i in range(len(test_prediction_files))]\n",
    "test_dfs = [w * pd.read_csv(f, index_col='id') for w, f in zip(weights, test_prediction_files)]"
   ]
  },
  {
   "cell_type": "code",
   "execution_count": 209,
   "metadata": {},
   "outputs": [],
   "source": [
    "sample_predicitions_df = pd.read_csv(\"/home/fast_storage/imaterialist-challenge-furniture-2018/sample_submission_randomlabel.csv\", index_col='id')"
   ]
  },
  {
   "cell_type": "code",
   "execution_count": 210,
   "metadata": {},
   "outputs": [
    {
     "data": {
      "text/html": [
       "<div>\n",
       "<style scoped>\n",
       "    .dataframe tbody tr th:only-of-type {\n",
       "        vertical-align: middle;\n",
       "    }\n",
       "\n",
       "    .dataframe tbody tr th {\n",
       "        vertical-align: top;\n",
       "    }\n",
       "\n",
       "    .dataframe thead th {\n",
       "        text-align: right;\n",
       "    }\n",
       "</style>\n",
       "<table border=\"1\" class=\"dataframe\">\n",
       "  <thead>\n",
       "    <tr style=\"text-align: right;\">\n",
       "      <th></th>\n",
       "      <th>predicted</th>\n",
       "    </tr>\n",
       "    <tr>\n",
       "      <th>id</th>\n",
       "      <th></th>\n",
       "    </tr>\n",
       "  </thead>\n",
       "  <tbody>\n",
       "    <tr>\n",
       "      <th>1</th>\n",
       "      <td>57</td>\n",
       "    </tr>\n",
       "    <tr>\n",
       "      <th>2</th>\n",
       "      <td>74</td>\n",
       "    </tr>\n",
       "    <tr>\n",
       "      <th>3</th>\n",
       "      <td>52</td>\n",
       "    </tr>\n",
       "    <tr>\n",
       "      <th>4</th>\n",
       "      <td>54</td>\n",
       "    </tr>\n",
       "    <tr>\n",
       "      <th>5</th>\n",
       "      <td>39</td>\n",
       "    </tr>\n",
       "  </tbody>\n",
       "</table>\n",
       "</div>"
      ],
      "text/plain": [
       "    predicted\n",
       "id           \n",
       "1          57\n",
       "2          74\n",
       "3          52\n",
       "4          54\n",
       "5          39"
      ]
     },
     "execution_count": 210,
     "metadata": {},
     "output_type": "execute_result"
    }
   ],
   "source": [
    "sample_predicitions_df.head()"
   ]
  },
  {
   "cell_type": "code",
   "execution_count": 215,
   "metadata": {},
   "outputs": [],
   "source": [
    "df_test_probas = pd.concat(test_dfs, axis=0)\n",
    "y_test_probas = df_test_probas.groupby('id').sum()\n",
    "y_test_pred = np.argmax(y_test_probas.values, axis=1)\n",
    "\n",
    "df = sample_predicitions_df.copy()\n",
    "df.loc[y_test_probas.index, 'predicted'] = y_test_pred + 1\n",
    "df.to_csv(\"weighted_proba_8models.csv\")"
   ]
  },
  {
   "cell_type": "code",
   "execution_count": 216,
   "metadata": {},
   "outputs": [],
   "source": [
    "!cd ../ && python3 utils/update_test_predictions.py notebooks/weighted_proba_8models.csv notebooks/test_with_labels.csv notebooks/"
   ]
  },
  {
   "cell_type": "code",
   "execution_count": 217,
   "metadata": {},
   "outputs": [
    {
     "name": "stdout",
     "output_type": "stream",
     "text": [
      "id,predicted\n",
      "1,12\n",
      "2,71\n",
      "3,91\n",
      "4,54\n",
      "5,126\n",
      "6,76\n",
      "7,94\n",
      "8,8\n",
      "9,127\n"
     ]
    }
   ],
   "source": [
    "!head -10 fixed_weighted_proba_8models.csv"
   ]
  },
  {
   "cell_type": "markdown",
   "metadata": {},
   "source": [
    "```\n",
    "id,predicted\n",
    "1,12\n",
    "2,71\n",
    "3,91\n",
    "4,54\n",
    "5,126\n",
    "6,76\n",
    "7,94\n",
    "8,8\n",
    "9,127\n",
    "```"
   ]
  },
  {
   "cell_type": "code",
   "execution_count": null,
   "metadata": {},
   "outputs": [],
   "source": []
  }
 ],
 "metadata": {
  "kernelspec": {
   "display_name": "Python 3",
   "language": "python",
   "name": "python3"
  },
  "language_info": {
   "codemirror_mode": {
    "name": "ipython",
    "version": 3
   },
   "file_extension": ".py",
   "mimetype": "text/x-python",
   "name": "python",
   "nbconvert_exporter": "python",
   "pygments_lexer": "ipython3",
   "version": "3.5.2"
  }
 },
 "nbformat": 4,
 "nbformat_minor": 2
}
