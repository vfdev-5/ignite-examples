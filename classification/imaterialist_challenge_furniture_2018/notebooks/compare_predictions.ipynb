{
 "cells": [
  {
   "cell_type": "markdown",
   "metadata": {},
   "source": [
    "# Compare predictions"
   ]
  },
  {
   "cell_type": "code",
   "execution_count": 2,
   "metadata": {},
   "outputs": [],
   "source": [
    "from pathlib import Path\n",
    "import numpy as np\n",
    "import pandas as pd"
   ]
  },
  {
   "cell_type": "code",
   "execution_count": 3,
   "metadata": {},
   "outputs": [],
   "source": [
    "OUTPUT_PATH = Path(\".\").absolute().parent / \"output\" / \"test\""
   ]
  },
  {
   "cell_type": "code",
   "execution_count": 4,
   "metadata": {},
   "outputs": [],
   "source": [
    "# !head -50 ../output/inference_FurnitureInceptionV4_350_20180425_2258/predict.log"
   ]
  },
  {
   "cell_type": "code",
   "execution_count": 5,
   "metadata": {},
   "outputs": [
    {
     "name": "stdout",
     "output_type": "stream",
     "text": [
      "-rw-r--r-- 1 1000 1000 106081 May 14 20:51 ../output/test/test_retinanet_cls_only/20180514_2037/predictions.csv\n"
     ]
    }
   ],
   "source": [
    "!ls -all ../output/test/test_retinanet_cls_only/20180514_2037/predictions.csv"
   ]
  },
  {
   "cell_type": "code",
   "execution_count": 6,
   "metadata": {},
   "outputs": [],
   "source": [
    "# !head -50 ../output/inference_FurnitureInceptionResNet299_20180426_1440/predict.log"
   ]
  },
  {
   "cell_type": "code",
   "execution_count": 7,
   "metadata": {},
   "outputs": [],
   "source": [
    "prediction_files = [\n",
    "    OUTPUT_PATH / \"inference_FurnitureNASNetALarge_20180418_0635\" / \"predictions.csv\",\n",
    "    OUTPUT_PATH / \"test_nasnetalarge_350_resized_crop\" / \"20180428_1455\" / \"predictions.csv\",\n",
    "    \n",
    "    OUTPUT_PATH / \"inference_FurnitureInceptionResNet299_20180426_1440\" / \"predictions.csv\",\n",
    "    \n",
    "#     OUTPUT_PATH / \"inference_FurnitureInceptionV4_350_20180425_2258\" / \"predictions.csv\",\n",
    "#     OUTPUT_PATH / \"inference_FurnitureInceptionV4_350_20180428_0808\" / \"predictions.csv\",    \n",
    "# #     OUTPUT_PATH / \"test_inceptionv4_350_fc_random_resized_crop\" / \"20180507_1116\" / \"predictions.csv\",    \n",
    "# #     OUTPUT_PATH / \"test_resnet101_350_finetune_random_resized_crop\" / \"20180509_0937\" / \"predictions.csv\",\n",
    "    OUTPUT_PATH / \"test_nasnetalarge_350_random_resized_crop\" / \"20180514_0917\" / \"predictions.csv\",\n",
    "    OUTPUT_PATH / \"test_nasnetalarge_350_random_resized_crop\" / \"20180514_1126\" / \"predictions.csv\",    \n",
    "]\n",
    "\n",
    "# prediction_files = [\n",
    "#     \"kaggle_maj_votes_2nasnet_2incv4_incv4rc.csv\",\n",
    "#     OUTPUT_PATH / \"test_retinanet_cls_only\" / \"20180514_2037\" / \"predictions.csv\",\n",
    "# ]"
   ]
  },
  {
   "cell_type": "code",
   "execution_count": 8,
   "metadata": {},
   "outputs": [
    {
     "data": {
      "text/plain": [
       "['FurnitureNASNetALarge_20180418_0635',\n",
       " '20180428_1455',\n",
       " 'FurnitureInceptionResNet299_20180426_1440',\n",
       " '20180514_0917',\n",
       " '20180514_1126']"
      ]
     },
     "execution_count": 8,
     "metadata": {},
     "output_type": "execute_result"
    }
   ],
   "source": [
    "names = [f.parent.name.replace(\"inference_\", \"\") for f in prediction_files]\n",
    "names\n",
    "# names = [\"kaggle_maj_votes_2nasnet_2incv4_incv4rc\", \"20180514_2037\"]"
   ]
  },
  {
   "cell_type": "code",
   "execution_count": 9,
   "metadata": {},
   "outputs": [],
   "source": [
    "dfs = [pd.read_csv(f, index_col='id') for f in prediction_files]\n",
    "\n",
    "merged_df = pd.concat([df for df in dfs], axis=1)\n",
    "merged_df.columns = names"
   ]
  },
  {
   "cell_type": "code",
   "execution_count": 10,
   "metadata": {},
   "outputs": [
    {
     "data": {
      "text/html": [
       "<div>\n",
       "<style scoped>\n",
       "    .dataframe tbody tr th:only-of-type {\n",
       "        vertical-align: middle;\n",
       "    }\n",
       "\n",
       "    .dataframe tbody tr th {\n",
       "        vertical-align: top;\n",
       "    }\n",
       "\n",
       "    .dataframe thead th {\n",
       "        text-align: right;\n",
       "    }\n",
       "</style>\n",
       "<table border=\"1\" class=\"dataframe\">\n",
       "  <thead>\n",
       "    <tr style=\"text-align: right;\">\n",
       "      <th></th>\n",
       "      <th>FurnitureNASNetALarge_20180418_0635</th>\n",
       "      <th>20180428_1455</th>\n",
       "      <th>FurnitureInceptionResNet299_20180426_1440</th>\n",
       "      <th>20180514_0917</th>\n",
       "      <th>20180514_1126</th>\n",
       "    </tr>\n",
       "    <tr>\n",
       "      <th>id</th>\n",
       "      <th></th>\n",
       "      <th></th>\n",
       "      <th></th>\n",
       "      <th></th>\n",
       "      <th></th>\n",
       "    </tr>\n",
       "  </thead>\n",
       "  <tbody>\n",
       "    <tr>\n",
       "      <th>1</th>\n",
       "      <td>12</td>\n",
       "      <td>12</td>\n",
       "      <td>12</td>\n",
       "      <td>12</td>\n",
       "      <td>12</td>\n",
       "    </tr>\n",
       "    <tr>\n",
       "      <th>2</th>\n",
       "      <td>71</td>\n",
       "      <td>71</td>\n",
       "      <td>71</td>\n",
       "      <td>61</td>\n",
       "      <td>71</td>\n",
       "    </tr>\n",
       "    <tr>\n",
       "      <th>3</th>\n",
       "      <td>91</td>\n",
       "      <td>91</td>\n",
       "      <td>91</td>\n",
       "      <td>91</td>\n",
       "      <td>91</td>\n",
       "    </tr>\n",
       "    <tr>\n",
       "      <th>4</th>\n",
       "      <td>54</td>\n",
       "      <td>54</td>\n",
       "      <td>54</td>\n",
       "      <td>54</td>\n",
       "      <td>54</td>\n",
       "    </tr>\n",
       "    <tr>\n",
       "      <th>5</th>\n",
       "      <td>126</td>\n",
       "      <td>126</td>\n",
       "      <td>126</td>\n",
       "      <td>126</td>\n",
       "      <td>126</td>\n",
       "    </tr>\n",
       "    <tr>\n",
       "      <th>6</th>\n",
       "      <td>76</td>\n",
       "      <td>76</td>\n",
       "      <td>76</td>\n",
       "      <td>76</td>\n",
       "      <td>76</td>\n",
       "    </tr>\n",
       "    <tr>\n",
       "      <th>7</th>\n",
       "      <td>94</td>\n",
       "      <td>94</td>\n",
       "      <td>94</td>\n",
       "      <td>94</td>\n",
       "      <td>94</td>\n",
       "    </tr>\n",
       "    <tr>\n",
       "      <th>8</th>\n",
       "      <td>8</td>\n",
       "      <td>8</td>\n",
       "      <td>8</td>\n",
       "      <td>8</td>\n",
       "      <td>8</td>\n",
       "    </tr>\n",
       "    <tr>\n",
       "      <th>9</th>\n",
       "      <td>127</td>\n",
       "      <td>127</td>\n",
       "      <td>127</td>\n",
       "      <td>127</td>\n",
       "      <td>127</td>\n",
       "    </tr>\n",
       "    <tr>\n",
       "      <th>10</th>\n",
       "      <td>117</td>\n",
       "      <td>117</td>\n",
       "      <td>117</td>\n",
       "      <td>117</td>\n",
       "      <td>117</td>\n",
       "    </tr>\n",
       "  </tbody>\n",
       "</table>\n",
       "</div>"
      ],
      "text/plain": [
       "    FurnitureNASNetALarge_20180418_0635  20180428_1455  \\\n",
       "id                                                       \n",
       "1                                    12             12   \n",
       "2                                    71             71   \n",
       "3                                    91             91   \n",
       "4                                    54             54   \n",
       "5                                   126            126   \n",
       "6                                    76             76   \n",
       "7                                    94             94   \n",
       "8                                     8              8   \n",
       "9                                   127            127   \n",
       "10                                  117            117   \n",
       "\n",
       "    FurnitureInceptionResNet299_20180426_1440  20180514_0917  20180514_1126  \n",
       "id                                                                           \n",
       "1                                          12             12             12  \n",
       "2                                          71             61             71  \n",
       "3                                          91             91             91  \n",
       "4                                          54             54             54  \n",
       "5                                         126            126            126  \n",
       "6                                          76             76             76  \n",
       "7                                          94             94             94  \n",
       "8                                           8              8              8  \n",
       "9                                         127            127            127  \n",
       "10                                        117            117            117  "
      ]
     },
     "execution_count": 10,
     "metadata": {},
     "output_type": "execute_result"
    }
   ],
   "source": [
    "merged_df.head(10)"
   ]
  },
  {
   "cell_type": "code",
   "execution_count": 11,
   "metadata": {},
   "outputs": [
    {
     "name": "stdout",
     "output_type": "stream",
     "text": [
      "1739 12800\n"
     ]
    }
   ],
   "source": [
    "disagreement_mask = merged_df.mean(axis=1).apply(lambda x: int(x) != x)\n",
    "print(disagreement_mask.sum(), disagreement_mask.shape[0])"
   ]
  },
  {
   "cell_type": "code",
   "execution_count": 12,
   "metadata": {},
   "outputs": [
    {
     "data": {
      "text/html": [
       "<div>\n",
       "<style scoped>\n",
       "    .dataframe tbody tr th:only-of-type {\n",
       "        vertical-align: middle;\n",
       "    }\n",
       "\n",
       "    .dataframe tbody tr th {\n",
       "        vertical-align: top;\n",
       "    }\n",
       "\n",
       "    .dataframe thead th {\n",
       "        text-align: right;\n",
       "    }\n",
       "</style>\n",
       "<table border=\"1\" class=\"dataframe\">\n",
       "  <thead>\n",
       "    <tr style=\"text-align: right;\">\n",
       "      <th></th>\n",
       "      <th>FurnitureNASNetALarge_20180418_0635</th>\n",
       "      <th>20180428_1455</th>\n",
       "      <th>FurnitureInceptionResNet299_20180426_1440</th>\n",
       "      <th>20180514_0917</th>\n",
       "      <th>20180514_1126</th>\n",
       "    </tr>\n",
       "    <tr>\n",
       "      <th>id</th>\n",
       "      <th></th>\n",
       "      <th></th>\n",
       "      <th></th>\n",
       "      <th></th>\n",
       "      <th></th>\n",
       "    </tr>\n",
       "  </thead>\n",
       "  <tbody>\n",
       "    <tr>\n",
       "      <th>12</th>\n",
       "      <td>128</td>\n",
       "      <td>19</td>\n",
       "      <td>19</td>\n",
       "      <td>19</td>\n",
       "      <td>19</td>\n",
       "    </tr>\n",
       "    <tr>\n",
       "      <th>14</th>\n",
       "      <td>77</td>\n",
       "      <td>77</td>\n",
       "      <td>45</td>\n",
       "      <td>77</td>\n",
       "      <td>77</td>\n",
       "    </tr>\n",
       "    <tr>\n",
       "      <th>20</th>\n",
       "      <td>108</td>\n",
       "      <td>108</td>\n",
       "      <td>27</td>\n",
       "      <td>49</td>\n",
       "      <td>49</td>\n",
       "    </tr>\n",
       "    <tr>\n",
       "      <th>24</th>\n",
       "      <td>15</td>\n",
       "      <td>63</td>\n",
       "      <td>63</td>\n",
       "      <td>15</td>\n",
       "      <td>26</td>\n",
       "    </tr>\n",
       "    <tr>\n",
       "      <th>26</th>\n",
       "      <td>89</td>\n",
       "      <td>89</td>\n",
       "      <td>89</td>\n",
       "      <td>97</td>\n",
       "      <td>97</td>\n",
       "    </tr>\n",
       "    <tr>\n",
       "      <th>38</th>\n",
       "      <td>75</td>\n",
       "      <td>61</td>\n",
       "      <td>61</td>\n",
       "      <td>61</td>\n",
       "      <td>61</td>\n",
       "    </tr>\n",
       "    <tr>\n",
       "      <th>47</th>\n",
       "      <td>82</td>\n",
       "      <td>127</td>\n",
       "      <td>43</td>\n",
       "      <td>43</td>\n",
       "      <td>43</td>\n",
       "    </tr>\n",
       "    <tr>\n",
       "      <th>48</th>\n",
       "      <td>15</td>\n",
       "      <td>15</td>\n",
       "      <td>63</td>\n",
       "      <td>15</td>\n",
       "      <td>15</td>\n",
       "    </tr>\n",
       "    <tr>\n",
       "      <th>52</th>\n",
       "      <td>127</td>\n",
       "      <td>127</td>\n",
       "      <td>127</td>\n",
       "      <td>127</td>\n",
       "      <td>110</td>\n",
       "    </tr>\n",
       "    <tr>\n",
       "      <th>76</th>\n",
       "      <td>14</td>\n",
       "      <td>30</td>\n",
       "      <td>30</td>\n",
       "      <td>30</td>\n",
       "      <td>30</td>\n",
       "    </tr>\n",
       "  </tbody>\n",
       "</table>\n",
       "</div>"
      ],
      "text/plain": [
       "    FurnitureNASNetALarge_20180418_0635  20180428_1455  \\\n",
       "id                                                       \n",
       "12                                  128             19   \n",
       "14                                   77             77   \n",
       "20                                  108            108   \n",
       "24                                   15             63   \n",
       "26                                   89             89   \n",
       "38                                   75             61   \n",
       "47                                   82            127   \n",
       "48                                   15             15   \n",
       "52                                  127            127   \n",
       "76                                   14             30   \n",
       "\n",
       "    FurnitureInceptionResNet299_20180426_1440  20180514_0917  20180514_1126  \n",
       "id                                                                           \n",
       "12                                         19             19             19  \n",
       "14                                         45             77             77  \n",
       "20                                         27             49             49  \n",
       "24                                         63             15             26  \n",
       "26                                         89             97             97  \n",
       "38                                         61             61             61  \n",
       "47                                         43             43             43  \n",
       "48                                         63             15             15  \n",
       "52                                        127            127            110  \n",
       "76                                         30             30             30  "
      ]
     },
     "execution_count": 12,
     "metadata": {},
     "output_type": "execute_result"
    }
   ],
   "source": [
    "merged_df[disagreement_mask].head(10)"
   ]
  },
  {
   "cell_type": "code",
   "execution_count": 13,
   "metadata": {},
   "outputs": [
    {
     "data": {
      "text/html": [
       "<div>\n",
       "<style scoped>\n",
       "    .dataframe tbody tr th:only-of-type {\n",
       "        vertical-align: middle;\n",
       "    }\n",
       "\n",
       "    .dataframe tbody tr th {\n",
       "        vertical-align: top;\n",
       "    }\n",
       "\n",
       "    .dataframe thead th {\n",
       "        text-align: right;\n",
       "    }\n",
       "</style>\n",
       "<table border=\"1\" class=\"dataframe\">\n",
       "  <thead>\n",
       "    <tr style=\"text-align: right;\">\n",
       "      <th></th>\n",
       "      <th>FurnitureNASNetALarge_20180418_0635</th>\n",
       "      <th>20180428_1455</th>\n",
       "      <th>FurnitureInceptionResNet299_20180426_1440</th>\n",
       "      <th>20180514_0917</th>\n",
       "      <th>20180514_1126</th>\n",
       "    </tr>\n",
       "    <tr>\n",
       "      <th>id</th>\n",
       "      <th></th>\n",
       "      <th></th>\n",
       "      <th></th>\n",
       "      <th></th>\n",
       "      <th></th>\n",
       "    </tr>\n",
       "  </thead>\n",
       "  <tbody>\n",
       "    <tr>\n",
       "      <th>12723</th>\n",
       "      <td>30</td>\n",
       "      <td>30</td>\n",
       "      <td>30</td>\n",
       "      <td>37</td>\n",
       "      <td>37</td>\n",
       "    </tr>\n",
       "    <tr>\n",
       "      <th>12729</th>\n",
       "      <td>77</td>\n",
       "      <td>81</td>\n",
       "      <td>77</td>\n",
       "      <td>77</td>\n",
       "      <td>77</td>\n",
       "    </tr>\n",
       "    <tr>\n",
       "      <th>12739</th>\n",
       "      <td>105</td>\n",
       "      <td>105</td>\n",
       "      <td>73</td>\n",
       "      <td>100</td>\n",
       "      <td>100</td>\n",
       "    </tr>\n",
       "    <tr>\n",
       "      <th>12741</th>\n",
       "      <td>84</td>\n",
       "      <td>84</td>\n",
       "      <td>84</td>\n",
       "      <td>84</td>\n",
       "      <td>51</td>\n",
       "    </tr>\n",
       "    <tr>\n",
       "      <th>12747</th>\n",
       "      <td>42</td>\n",
       "      <td>113</td>\n",
       "      <td>13</td>\n",
       "      <td>113</td>\n",
       "      <td>113</td>\n",
       "    </tr>\n",
       "    <tr>\n",
       "      <th>12766</th>\n",
       "      <td>60</td>\n",
       "      <td>106</td>\n",
       "      <td>106</td>\n",
       "      <td>106</td>\n",
       "      <td>106</td>\n",
       "    </tr>\n",
       "    <tr>\n",
       "      <th>12776</th>\n",
       "      <td>79</td>\n",
       "      <td>115</td>\n",
       "      <td>37</td>\n",
       "      <td>79</td>\n",
       "      <td>79</td>\n",
       "    </tr>\n",
       "    <tr>\n",
       "      <th>12787</th>\n",
       "      <td>54</td>\n",
       "      <td>54</td>\n",
       "      <td>54</td>\n",
       "      <td>54</td>\n",
       "      <td>50</td>\n",
       "    </tr>\n",
       "    <tr>\n",
       "      <th>12795</th>\n",
       "      <td>2</td>\n",
       "      <td>2</td>\n",
       "      <td>88</td>\n",
       "      <td>2</td>\n",
       "      <td>88</td>\n",
       "    </tr>\n",
       "    <tr>\n",
       "      <th>12797</th>\n",
       "      <td>75</td>\n",
       "      <td>75</td>\n",
       "      <td>75</td>\n",
       "      <td>61</td>\n",
       "      <td>61</td>\n",
       "    </tr>\n",
       "  </tbody>\n",
       "</table>\n",
       "</div>"
      ],
      "text/plain": [
       "       FurnitureNASNetALarge_20180418_0635  20180428_1455  \\\n",
       "id                                                          \n",
       "12723                                   30             30   \n",
       "12729                                   77             81   \n",
       "12739                                  105            105   \n",
       "12741                                   84             84   \n",
       "12747                                   42            113   \n",
       "12766                                   60            106   \n",
       "12776                                   79            115   \n",
       "12787                                   54             54   \n",
       "12795                                    2              2   \n",
       "12797                                   75             75   \n",
       "\n",
       "       FurnitureInceptionResNet299_20180426_1440  20180514_0917  20180514_1126  \n",
       "id                                                                              \n",
       "12723                                         30             37             37  \n",
       "12729                                         77             77             77  \n",
       "12739                                         73            100            100  \n",
       "12741                                         84             84             51  \n",
       "12747                                         13            113            113  \n",
       "12766                                        106            106            106  \n",
       "12776                                         37             79             79  \n",
       "12787                                         54             54             50  \n",
       "12795                                         88              2             88  \n",
       "12797                                         75             61             61  "
      ]
     },
     "execution_count": 13,
     "metadata": {},
     "output_type": "execute_result"
    }
   ],
   "source": [
    "merged_df[disagreement_mask].tail(10)"
   ]
  },
  {
   "cell_type": "code",
   "execution_count": 63,
   "metadata": {},
   "outputs": [],
   "source": [
    "def get_decision_fn(weights):    \n",
    "    def fn(row):\n",
    "        votes = np.zeros(128 + 1, dtype=np.int)\n",
    "        for r, w in zip(row, weights):\n",
    "            votes[r] += w\n",
    "        return np.argmax(votes)\n",
    "    return fn"
   ]
  },
  {
   "cell_type": "code",
   "execution_count": 64,
   "metadata": {},
   "outputs": [],
   "source": [
    "merged_df.loc[:, 'MajVote'] = merged_df.apply(get_decision_fn(weights=[1] * merged_df.shape[1]), axis=1)"
   ]
  },
  {
   "cell_type": "code",
   "execution_count": 217,
   "metadata": {},
   "outputs": [
    {
     "data": {
      "text/html": [
       "<div>\n",
       "<style scoped>\n",
       "    .dataframe tbody tr th:only-of-type {\n",
       "        vertical-align: middle;\n",
       "    }\n",
       "\n",
       "    .dataframe tbody tr th {\n",
       "        vertical-align: top;\n",
       "    }\n",
       "\n",
       "    .dataframe thead th {\n",
       "        text-align: right;\n",
       "    }\n",
       "</style>\n",
       "<table border=\"1\" class=\"dataframe\">\n",
       "  <thead>\n",
       "    <tr style=\"text-align: right;\">\n",
       "      <th></th>\n",
       "      <th>FurnitureNASNetALarge_20180418_0635</th>\n",
       "      <th>20180428_1455</th>\n",
       "      <th>FurnitureInceptionResNet299_20180426_1440</th>\n",
       "      <th>20180514_0917</th>\n",
       "      <th>20180514_1126</th>\n",
       "      <th>MajVote</th>\n",
       "    </tr>\n",
       "    <tr>\n",
       "      <th>id</th>\n",
       "      <th></th>\n",
       "      <th></th>\n",
       "      <th></th>\n",
       "      <th></th>\n",
       "      <th></th>\n",
       "      <th></th>\n",
       "    </tr>\n",
       "  </thead>\n",
       "  <tbody>\n",
       "    <tr>\n",
       "      <th>2</th>\n",
       "      <td>71</td>\n",
       "      <td>71</td>\n",
       "      <td>71</td>\n",
       "      <td>61</td>\n",
       "      <td>71</td>\n",
       "      <td>71</td>\n",
       "    </tr>\n",
       "    <tr>\n",
       "      <th>12</th>\n",
       "      <td>128</td>\n",
       "      <td>19</td>\n",
       "      <td>19</td>\n",
       "      <td>19</td>\n",
       "      <td>19</td>\n",
       "      <td>19</td>\n",
       "    </tr>\n",
       "    <tr>\n",
       "      <th>14</th>\n",
       "      <td>77</td>\n",
       "      <td>77</td>\n",
       "      <td>45</td>\n",
       "      <td>77</td>\n",
       "      <td>77</td>\n",
       "      <td>77</td>\n",
       "    </tr>\n",
       "    <tr>\n",
       "      <th>24</th>\n",
       "      <td>15</td>\n",
       "      <td>63</td>\n",
       "      <td>63</td>\n",
       "      <td>15</td>\n",
       "      <td>26</td>\n",
       "      <td>15</td>\n",
       "    </tr>\n",
       "    <tr>\n",
       "      <th>26</th>\n",
       "      <td>89</td>\n",
       "      <td>89</td>\n",
       "      <td>89</td>\n",
       "      <td>97</td>\n",
       "      <td>97</td>\n",
       "      <td>89</td>\n",
       "    </tr>\n",
       "    <tr>\n",
       "      <th>38</th>\n",
       "      <td>75</td>\n",
       "      <td>61</td>\n",
       "      <td>61</td>\n",
       "      <td>61</td>\n",
       "      <td>61</td>\n",
       "      <td>61</td>\n",
       "    </tr>\n",
       "    <tr>\n",
       "      <th>43</th>\n",
       "      <td>3</td>\n",
       "      <td>58</td>\n",
       "      <td>58</td>\n",
       "      <td>58</td>\n",
       "      <td>58</td>\n",
       "      <td>58</td>\n",
       "    </tr>\n",
       "    <tr>\n",
       "      <th>47</th>\n",
       "      <td>82</td>\n",
       "      <td>127</td>\n",
       "      <td>43</td>\n",
       "      <td>43</td>\n",
       "      <td>43</td>\n",
       "      <td>43</td>\n",
       "    </tr>\n",
       "    <tr>\n",
       "      <th>52</th>\n",
       "      <td>127</td>\n",
       "      <td>127</td>\n",
       "      <td>127</td>\n",
       "      <td>127</td>\n",
       "      <td>110</td>\n",
       "      <td>127</td>\n",
       "    </tr>\n",
       "    <tr>\n",
       "      <th>61</th>\n",
       "      <td>27</td>\n",
       "      <td>112</td>\n",
       "      <td>27</td>\n",
       "      <td>112</td>\n",
       "      <td>112</td>\n",
       "      <td>112</td>\n",
       "    </tr>\n",
       "  </tbody>\n",
       "</table>\n",
       "</div>"
      ],
      "text/plain": [
       "    FurnitureNASNetALarge_20180418_0635  20180428_1455  \\\n",
       "id                                                       \n",
       "2                                    71             71   \n",
       "12                                  128             19   \n",
       "14                                   77             77   \n",
       "24                                   15             63   \n",
       "26                                   89             89   \n",
       "38                                   75             61   \n",
       "43                                    3             58   \n",
       "47                                   82            127   \n",
       "52                                  127            127   \n",
       "61                                   27            112   \n",
       "\n",
       "    FurnitureInceptionResNet299_20180426_1440  20180514_0917  20180514_1126  \\\n",
       "id                                                                            \n",
       "2                                          71             61             71   \n",
       "12                                         19             19             19   \n",
       "14                                         45             77             77   \n",
       "24                                         63             15             26   \n",
       "26                                         89             97             97   \n",
       "38                                         61             61             61   \n",
       "43                                         58             58             58   \n",
       "47                                         43             43             43   \n",
       "52                                        127            127            110   \n",
       "61                                         27            112            112   \n",
       "\n",
       "    MajVote  \n",
       "id           \n",
       "2        71  \n",
       "12       19  \n",
       "14       77  \n",
       "24       15  \n",
       "26       89  \n",
       "38       61  \n",
       "43       58  \n",
       "47       43  \n",
       "52      127  \n",
       "61      112  "
      ]
     },
     "execution_count": 217,
     "metadata": {},
     "output_type": "execute_result"
    }
   ],
   "source": [
    "merged_df[disagreement_mask].head(10)"
   ]
  },
  {
   "cell_type": "code",
   "execution_count": 34,
   "metadata": {},
   "outputs": [
    {
     "data": {
      "text/html": [
       "<div>\n",
       "<style scoped>\n",
       "    .dataframe tbody tr th:only-of-type {\n",
       "        vertical-align: middle;\n",
       "    }\n",
       "\n",
       "    .dataframe tbody tr th {\n",
       "        vertical-align: top;\n",
       "    }\n",
       "\n",
       "    .dataframe thead th {\n",
       "        text-align: right;\n",
       "    }\n",
       "</style>\n",
       "<table border=\"1\" class=\"dataframe\">\n",
       "  <thead>\n",
       "    <tr style=\"text-align: right;\">\n",
       "      <th></th>\n",
       "      <th>FurnitureNASNetALarge_20180418_0635</th>\n",
       "      <th>20180428_1455</th>\n",
       "      <th>FurnitureInceptionResNet299_20180426_1440</th>\n",
       "      <th>20180514_0917</th>\n",
       "      <th>20180514_1126</th>\n",
       "      <th>MajVote</th>\n",
       "    </tr>\n",
       "    <tr>\n",
       "      <th>id</th>\n",
       "      <th></th>\n",
       "      <th></th>\n",
       "      <th></th>\n",
       "      <th></th>\n",
       "      <th></th>\n",
       "      <th></th>\n",
       "    </tr>\n",
       "  </thead>\n",
       "  <tbody>\n",
       "    <tr>\n",
       "      <th>12723</th>\n",
       "      <td>30</td>\n",
       "      <td>30</td>\n",
       "      <td>30</td>\n",
       "      <td>37</td>\n",
       "      <td>37</td>\n",
       "      <td>30</td>\n",
       "    </tr>\n",
       "    <tr>\n",
       "      <th>12729</th>\n",
       "      <td>77</td>\n",
       "      <td>81</td>\n",
       "      <td>77</td>\n",
       "      <td>77</td>\n",
       "      <td>77</td>\n",
       "      <td>77</td>\n",
       "    </tr>\n",
       "    <tr>\n",
       "      <th>12739</th>\n",
       "      <td>105</td>\n",
       "      <td>105</td>\n",
       "      <td>73</td>\n",
       "      <td>100</td>\n",
       "      <td>100</td>\n",
       "      <td>100</td>\n",
       "    </tr>\n",
       "    <tr>\n",
       "      <th>12741</th>\n",
       "      <td>84</td>\n",
       "      <td>84</td>\n",
       "      <td>84</td>\n",
       "      <td>84</td>\n",
       "      <td>51</td>\n",
       "      <td>84</td>\n",
       "    </tr>\n",
       "    <tr>\n",
       "      <th>12747</th>\n",
       "      <td>42</td>\n",
       "      <td>113</td>\n",
       "      <td>13</td>\n",
       "      <td>113</td>\n",
       "      <td>113</td>\n",
       "      <td>113</td>\n",
       "    </tr>\n",
       "    <tr>\n",
       "      <th>12766</th>\n",
       "      <td>60</td>\n",
       "      <td>106</td>\n",
       "      <td>106</td>\n",
       "      <td>106</td>\n",
       "      <td>106</td>\n",
       "      <td>106</td>\n",
       "    </tr>\n",
       "    <tr>\n",
       "      <th>12776</th>\n",
       "      <td>79</td>\n",
       "      <td>115</td>\n",
       "      <td>37</td>\n",
       "      <td>79</td>\n",
       "      <td>79</td>\n",
       "      <td>79</td>\n",
       "    </tr>\n",
       "    <tr>\n",
       "      <th>12787</th>\n",
       "      <td>54</td>\n",
       "      <td>54</td>\n",
       "      <td>54</td>\n",
       "      <td>54</td>\n",
       "      <td>50</td>\n",
       "      <td>54</td>\n",
       "    </tr>\n",
       "    <tr>\n",
       "      <th>12795</th>\n",
       "      <td>2</td>\n",
       "      <td>2</td>\n",
       "      <td>88</td>\n",
       "      <td>2</td>\n",
       "      <td>88</td>\n",
       "      <td>2</td>\n",
       "    </tr>\n",
       "    <tr>\n",
       "      <th>12797</th>\n",
       "      <td>75</td>\n",
       "      <td>75</td>\n",
       "      <td>75</td>\n",
       "      <td>61</td>\n",
       "      <td>61</td>\n",
       "      <td>75</td>\n",
       "    </tr>\n",
       "  </tbody>\n",
       "</table>\n",
       "</div>"
      ],
      "text/plain": [
       "       FurnitureNASNetALarge_20180418_0635  20180428_1455  \\\n",
       "id                                                          \n",
       "12723                                   30             30   \n",
       "12729                                   77             81   \n",
       "12739                                  105            105   \n",
       "12741                                   84             84   \n",
       "12747                                   42            113   \n",
       "12766                                   60            106   \n",
       "12776                                   79            115   \n",
       "12787                                   54             54   \n",
       "12795                                    2              2   \n",
       "12797                                   75             75   \n",
       "\n",
       "       FurnitureInceptionResNet299_20180426_1440  20180514_0917  \\\n",
       "id                                                                \n",
       "12723                                         30             37   \n",
       "12729                                         77             77   \n",
       "12739                                         73            100   \n",
       "12741                                         84             84   \n",
       "12747                                         13            113   \n",
       "12766                                        106            106   \n",
       "12776                                         37             79   \n",
       "12787                                         54             54   \n",
       "12795                                         88              2   \n",
       "12797                                         75             61   \n",
       "\n",
       "       20180514_1126  MajVote  \n",
       "id                             \n",
       "12723             37       30  \n",
       "12729             77       77  \n",
       "12739            100      100  \n",
       "12741             51       84  \n",
       "12747            113      113  \n",
       "12766            106      106  \n",
       "12776             79       79  \n",
       "12787             50       54  \n",
       "12795             88        2  \n",
       "12797             61       75  "
      ]
     },
     "execution_count": 34,
     "metadata": {},
     "output_type": "execute_result"
    }
   ],
   "source": [
    "merged_df[disagreement_mask].tail(10)"
   ]
  },
  {
   "cell_type": "code",
   "execution_count": 35,
   "metadata": {},
   "outputs": [],
   "source": [
    "merged_df['MajVote'].to_csv(\"maj_votes_4nasnet_incv4rc.csv\", header=[\"predicted\"])"
   ]
  },
  {
   "cell_type": "code",
   "execution_count": 36,
   "metadata": {},
   "outputs": [
    {
     "name": "stdout",
     "output_type": "stream",
     "text": [
      "id,predicted\n",
      "1,12\n",
      "2,71\n",
      "3,91\n",
      "4,54\n",
      "5,126\n",
      "6,76\n",
      "7,94\n",
      "8,8\n",
      "9,127\n"
     ]
    }
   ],
   "source": [
    "!head maj_votes_4nasnet_incv4rc.csv"
   ]
  },
  {
   "cell_type": "code",
   "execution_count": 37,
   "metadata": {},
   "outputs": [],
   "source": [
    "!cd ../ && python3 utils/update_test_predictions.py notebooks/maj_votes_4nasnet_incv4rc.csv notebooks/test_with_labels.csv notebooks/"
   ]
  },
  {
   "cell_type": "code",
   "execution_count": null,
   "metadata": {},
   "outputs": [],
   "source": []
  },
  {
   "cell_type": "code",
   "execution_count": null,
   "metadata": {},
   "outputs": [],
   "source": []
  },
  {
   "cell_type": "code",
   "execution_count": null,
   "metadata": {},
   "outputs": [],
   "source": []
  },
  {
   "cell_type": "code",
   "execution_count": null,
   "metadata": {},
   "outputs": [],
   "source": []
  },
  {
   "cell_type": "code",
   "execution_count": null,
   "metadata": {},
   "outputs": [],
   "source": []
  },
  {
   "cell_type": "code",
   "execution_count": null,
   "metadata": {},
   "outputs": [],
   "source": []
  },
  {
   "cell_type": "markdown",
   "metadata": {},
   "source": [
    "## Probas on validation"
   ]
  },
  {
   "cell_type": "code",
   "execution_count": 14,
   "metadata": {},
   "outputs": [],
   "source": [
    "from pathlib import Path\n",
    "import sys\n",
    "sys.path.insert(0, Path(\".\").absolute().parent.as_posix())"
   ]
  },
  {
   "cell_type": "code",
   "execution_count": 15,
   "metadata": {},
   "outputs": [],
   "source": [
    "import matplotlib.pylab as plt\n",
    "%matplotlib inline\n",
    "import seaborn as sns\n"
   ]
  },
  {
   "cell_type": "code",
   "execution_count": 16,
   "metadata": {},
   "outputs": [],
   "source": [
    "import numpy as np\n",
    "import pandas as pd\n",
    "\n",
    "\n",
    "OUTPUT_PATH = Path(\".\").absolute().parent / \"output\" / \"val_probas\""
   ]
  },
  {
   "cell_type": "code",
   "execution_count": 17,
   "metadata": {},
   "outputs": [],
   "source": [
    "# !head -50 ../output/val_probas/val_probas_nasnetalarge_350_random_resized_crop/20180514_2232/predict.log"
   ]
  },
  {
   "cell_type": "code",
   "execution_count": 18,
   "metadata": {},
   "outputs": [],
   "source": [
    "# prediction_files = [\n",
    "#     OUTPUT_PATH / \"val_probas_inceptionresnetv2_350_resized_crop\" / \"20180428_1622\" / \"probas.csv\",\n",
    "#     OUTPUT_PATH / \"val_probas_inceptionv4_350_resized_crop\" / \"20180428_1633\" / \"probas.csv\",\n",
    "#     OUTPUT_PATH / \"val_probas_nasnetalarge_350_resized_crop\" / \"20180428_1654\" / \"probas.csv\",    \n",
    "# #     OUTPUT_PATH / \"val_probas_inceptionresnetv2_350_weighted_sampler2_resized_crop\" / \"20180501_1710\" / \"probas.csv\"\n",
    "# ]"
   ]
  },
  {
   "cell_type": "code",
   "execution_count": 19,
   "metadata": {},
   "outputs": [],
   "source": [
    "prediction_files = [\n",
    "    OUTPUT_PATH / \"val_probas_inceptionv4_350_resized_crop\" / \"20180428_1633\" / \"probas.csv\",\n",
    "    \n",
    "    OUTPUT_PATH / \"val_probas_inceptionresnetv2_350_resized_crop\" / \"20180428_1622\" / \"probas.csv\",\n",
    "    OUTPUT_PATH / \"val_probas_inceptionresnetv2_350_weighted_sampler2_resized_crop\" / \"20180501_1710\" / \"probas.csv\",\n",
    "    \n",
    "    OUTPUT_PATH / \"val_probas_nasnetalarge_350_resized_crop\" / \"20180428_1654\" / \"probas.csv\",\n",
    "    OUTPUT_PATH / \"val_probas_nasnetalarge_350_random_resized_crop\" / \"20180514_2232\" / \"probas.csv\",\n",
    "    OUTPUT_PATH / \"val_probas_nasnetalarge_350_random_resized_crop\" / \"20180514_2202\" / \"probas.csv\",\n",
    "\n",
    "]"
   ]
  },
  {
   "cell_type": "code",
   "execution_count": 20,
   "metadata": {},
   "outputs": [],
   "source": [
    "dfs = [pd.read_csv(f, index_col='id') for f in prediction_files]\n",
    "assert len(dfs) == len(prediction_files)\n",
    "\n",
    "# merged_df = pd.concat([df for df in dfs], axis=1)\n",
    "# merged_df.columns = names"
   ]
  },
  {
   "cell_type": "code",
   "execution_count": 21,
   "metadata": {},
   "outputs": [],
   "source": [
    "df_probas = pd.concat(dfs, axis=0)"
   ]
  },
  {
   "cell_type": "markdown",
   "metadata": {},
   "source": [
    "### Probability mean/gmean value"
   ]
  },
  {
   "cell_type": "code",
   "execution_count": 22,
   "metadata": {},
   "outputs": [
    {
     "data": {
      "text/html": [
       "<div>\n",
       "<style scoped>\n",
       "    .dataframe tbody tr th:only-of-type {\n",
       "        vertical-align: middle;\n",
       "    }\n",
       "\n",
       "    .dataframe tbody tr th {\n",
       "        vertical-align: top;\n",
       "    }\n",
       "\n",
       "    .dataframe thead th {\n",
       "        text-align: right;\n",
       "    }\n",
       "</style>\n",
       "<table border=\"1\" class=\"dataframe\">\n",
       "  <thead>\n",
       "    <tr style=\"text-align: right;\">\n",
       "      <th></th>\n",
       "      <th>c0</th>\n",
       "      <th>c1</th>\n",
       "      <th>c2</th>\n",
       "      <th>c3</th>\n",
       "      <th>c4</th>\n",
       "      <th>c5</th>\n",
       "      <th>c6</th>\n",
       "      <th>c7</th>\n",
       "      <th>c8</th>\n",
       "      <th>c9</th>\n",
       "      <th>...</th>\n",
       "      <th>c118</th>\n",
       "      <th>c119</th>\n",
       "      <th>c120</th>\n",
       "      <th>c121</th>\n",
       "      <th>c122</th>\n",
       "      <th>c123</th>\n",
       "      <th>c124</th>\n",
       "      <th>c125</th>\n",
       "      <th>c126</th>\n",
       "      <th>c127</th>\n",
       "    </tr>\n",
       "    <tr>\n",
       "      <th>id</th>\n",
       "      <th></th>\n",
       "      <th></th>\n",
       "      <th></th>\n",
       "      <th></th>\n",
       "      <th></th>\n",
       "      <th></th>\n",
       "      <th></th>\n",
       "      <th></th>\n",
       "      <th></th>\n",
       "      <th></th>\n",
       "      <th></th>\n",
       "      <th></th>\n",
       "      <th></th>\n",
       "      <th></th>\n",
       "      <th></th>\n",
       "      <th></th>\n",
       "      <th></th>\n",
       "      <th></th>\n",
       "      <th></th>\n",
       "      <th></th>\n",
       "      <th></th>\n",
       "    </tr>\n",
       "  </thead>\n",
       "  <tbody>\n",
       "    <tr>\n",
       "      <th>1</th>\n",
       "      <td>8.099996e-08</td>\n",
       "      <td>4.265870e-07</td>\n",
       "      <td>4.541907e-08</td>\n",
       "      <td>5.151554e-08</td>\n",
       "      <td>3.870617e-08</td>\n",
       "      <td>3.217309e-07</td>\n",
       "      <td>7.076326e-08</td>\n",
       "      <td>9.465426e-07</td>\n",
       "      <td>1.436254e-08</td>\n",
       "      <td>2.117107e-06</td>\n",
       "      <td>...</td>\n",
       "      <td>1.253280e-07</td>\n",
       "      <td>4.684346e-08</td>\n",
       "      <td>3.235977e-08</td>\n",
       "      <td>1.542368e-07</td>\n",
       "      <td>3.320246e-07</td>\n",
       "      <td>4.475440e-08</td>\n",
       "      <td>6.428985e-07</td>\n",
       "      <td>3.916781e-07</td>\n",
       "      <td>7.666353e-08</td>\n",
       "      <td>1.286044e-08</td>\n",
       "    </tr>\n",
       "    <tr>\n",
       "      <th>2</th>\n",
       "      <td>2.484259e-05</td>\n",
       "      <td>9.986498e-06</td>\n",
       "      <td>1.597136e-03</td>\n",
       "      <td>1.278619e-03</td>\n",
       "      <td>6.304915e-06</td>\n",
       "      <td>4.267030e-05</td>\n",
       "      <td>9.965587e-06</td>\n",
       "      <td>2.885103e-04</td>\n",
       "      <td>5.956633e-06</td>\n",
       "      <td>5.569256e-06</td>\n",
       "      <td>...</td>\n",
       "      <td>2.196419e-06</td>\n",
       "      <td>9.064160e-04</td>\n",
       "      <td>1.769369e-05</td>\n",
       "      <td>1.486118e-03</td>\n",
       "      <td>1.520937e-05</td>\n",
       "      <td>7.971722e-06</td>\n",
       "      <td>2.111096e-05</td>\n",
       "      <td>1.613956e-04</td>\n",
       "      <td>9.314521e-06</td>\n",
       "      <td>2.150330e-04</td>\n",
       "    </tr>\n",
       "    <tr>\n",
       "      <th>3</th>\n",
       "      <td>2.587277e-07</td>\n",
       "      <td>3.339431e-06</td>\n",
       "      <td>4.295129e-07</td>\n",
       "      <td>1.654437e-06</td>\n",
       "      <td>1.168454e-06</td>\n",
       "      <td>3.593112e-07</td>\n",
       "      <td>3.280693e-06</td>\n",
       "      <td>6.895329e-07</td>\n",
       "      <td>1.011343e-06</td>\n",
       "      <td>7.193980e-07</td>\n",
       "      <td>...</td>\n",
       "      <td>3.013027e-07</td>\n",
       "      <td>1.655807e-05</td>\n",
       "      <td>3.919396e-05</td>\n",
       "      <td>5.053013e-06</td>\n",
       "      <td>1.049569e-06</td>\n",
       "      <td>1.979417e-03</td>\n",
       "      <td>7.044605e-07</td>\n",
       "      <td>2.336234e-06</td>\n",
       "      <td>1.239963e-06</td>\n",
       "      <td>2.398526e-06</td>\n",
       "    </tr>\n",
       "    <tr>\n",
       "      <th>4</th>\n",
       "      <td>8.503485e-06</td>\n",
       "      <td>2.650881e-06</td>\n",
       "      <td>3.532965e-06</td>\n",
       "      <td>2.196500e-03</td>\n",
       "      <td>2.384373e-06</td>\n",
       "      <td>2.206019e-06</td>\n",
       "      <td>2.224744e-06</td>\n",
       "      <td>1.680988e-03</td>\n",
       "      <td>2.378237e-06</td>\n",
       "      <td>9.128945e-07</td>\n",
       "      <td>...</td>\n",
       "      <td>6.558547e-07</td>\n",
       "      <td>1.942276e-05</td>\n",
       "      <td>3.471601e-06</td>\n",
       "      <td>2.198290e-06</td>\n",
       "      <td>1.364051e-06</td>\n",
       "      <td>6.047988e-06</td>\n",
       "      <td>2.447377e-06</td>\n",
       "      <td>9.053854e-01</td>\n",
       "      <td>1.835148e-06</td>\n",
       "      <td>5.252214e-06</td>\n",
       "    </tr>\n",
       "    <tr>\n",
       "      <th>5</th>\n",
       "      <td>7.039414e-06</td>\n",
       "      <td>2.159147e-08</td>\n",
       "      <td>7.138873e-07</td>\n",
       "      <td>7.225547e-05</td>\n",
       "      <td>4.930302e-08</td>\n",
       "      <td>1.265603e-05</td>\n",
       "      <td>4.930162e-08</td>\n",
       "      <td>3.251224e-07</td>\n",
       "      <td>2.168924e-08</td>\n",
       "      <td>1.076500e-07</td>\n",
       "      <td>...</td>\n",
       "      <td>3.082958e-07</td>\n",
       "      <td>1.943459e-05</td>\n",
       "      <td>1.187292e-07</td>\n",
       "      <td>1.533542e-07</td>\n",
       "      <td>1.623822e-08</td>\n",
       "      <td>1.870446e-08</td>\n",
       "      <td>2.737252e-08</td>\n",
       "      <td>2.558466e-08</td>\n",
       "      <td>1.295808e-08</td>\n",
       "      <td>1.162813e-07</td>\n",
       "    </tr>\n",
       "  </tbody>\n",
       "</table>\n",
       "<p>5 rows × 128 columns</p>\n",
       "</div>"
      ],
      "text/plain": [
       "              c0            c1            c2            c3            c4  \\\n",
       "id                                                                         \n",
       "1   8.099996e-08  4.265870e-07  4.541907e-08  5.151554e-08  3.870617e-08   \n",
       "2   2.484259e-05  9.986498e-06  1.597136e-03  1.278619e-03  6.304915e-06   \n",
       "3   2.587277e-07  3.339431e-06  4.295129e-07  1.654437e-06  1.168454e-06   \n",
       "4   8.503485e-06  2.650881e-06  3.532965e-06  2.196500e-03  2.384373e-06   \n",
       "5   7.039414e-06  2.159147e-08  7.138873e-07  7.225547e-05  4.930302e-08   \n",
       "\n",
       "              c5            c6            c7            c8            c9  \\\n",
       "id                                                                         \n",
       "1   3.217309e-07  7.076326e-08  9.465426e-07  1.436254e-08  2.117107e-06   \n",
       "2   4.267030e-05  9.965587e-06  2.885103e-04  5.956633e-06  5.569256e-06   \n",
       "3   3.593112e-07  3.280693e-06  6.895329e-07  1.011343e-06  7.193980e-07   \n",
       "4   2.206019e-06  2.224744e-06  1.680988e-03  2.378237e-06  9.128945e-07   \n",
       "5   1.265603e-05  4.930162e-08  3.251224e-07  2.168924e-08  1.076500e-07   \n",
       "\n",
       "        ...               c118          c119          c120          c121  \\\n",
       "id      ...                                                                \n",
       "1       ...       1.253280e-07  4.684346e-08  3.235977e-08  1.542368e-07   \n",
       "2       ...       2.196419e-06  9.064160e-04  1.769369e-05  1.486118e-03   \n",
       "3       ...       3.013027e-07  1.655807e-05  3.919396e-05  5.053013e-06   \n",
       "4       ...       6.558547e-07  1.942276e-05  3.471601e-06  2.198290e-06   \n",
       "5       ...       3.082958e-07  1.943459e-05  1.187292e-07  1.533542e-07   \n",
       "\n",
       "            c122          c123          c124          c125          c126  \\\n",
       "id                                                                         \n",
       "1   3.320246e-07  4.475440e-08  6.428985e-07  3.916781e-07  7.666353e-08   \n",
       "2   1.520937e-05  7.971722e-06  2.111096e-05  1.613956e-04  9.314521e-06   \n",
       "3   1.049569e-06  1.979417e-03  7.044605e-07  2.336234e-06  1.239963e-06   \n",
       "4   1.364051e-06  6.047988e-06  2.447377e-06  9.053854e-01  1.835148e-06   \n",
       "5   1.623822e-08  1.870446e-08  2.737252e-08  2.558466e-08  1.295808e-08   \n",
       "\n",
       "            c127  \n",
       "id                \n",
       "1   1.286044e-08  \n",
       "2   2.150330e-04  \n",
       "3   2.398526e-06  \n",
       "4   5.252214e-06  \n",
       "5   1.162813e-07  \n",
       "\n",
       "[5 rows x 128 columns]"
      ]
     },
     "execution_count": 22,
     "metadata": {},
     "output_type": "execute_result"
    }
   ],
   "source": [
    "y_probas = df_probas.groupby('id').mean()\n",
    "y_probas.head()"
   ]
  },
  {
   "cell_type": "code",
   "execution_count": 25,
   "metadata": {},
   "outputs": [],
   "source": [
    "def gmean(arr):\n",
    "    l = len(arr)\n",
    "    prod = np.prod(arr)\n",
    "    return np.power(prod, 1.0/l)"
   ]
  },
  {
   "cell_type": "code",
   "execution_count": 26,
   "metadata": {},
   "outputs": [],
   "source": [
    "from PIL import Image\n",
    "from common.dataset import FilesFromCsvDataset, TransformedDataset\n",
    "from common.meta import get_metafeatures, get_imsize_and_targets\n",
    "\n",
    "\n",
    "dataset = FilesFromCsvDataset(\"../output/filtered_val_dataset.csv\")\n",
    "dataset = TransformedDataset(dataset,\n",
    "                             transforms=lambda x: (x, Image.open(x).size),\n",
    "                             target_transforms=lambda l: l - 1)\n",
    "\n",
    "df_imsize_targets = get_imsize_and_targets(dataset)\n",
    "\n",
    "y_true = df_imsize_targets['target']\n",
    "y_probas = y_probas.loc[y_true.index, :]"
   ]
  },
  {
   "cell_type": "code",
   "execution_count": null,
   "metadata": {},
   "outputs": [],
   "source": [
    "y_probas_gmean = df_probas.groupby('id').agg(gmean)\n",
    "y_probas_gmean = y_probas_gmean.loc[y_true.index, :]\n",
    "y_pred_gmean = np.argmax(y_probas_gmean.values, axis=1)"
   ]
  },
  {
   "cell_type": "code",
   "execution_count": 125,
   "metadata": {},
   "outputs": [],
   "source": [
    "y_pred = np.argmax(y_probas.values, axis=1)"
   ]
  },
  {
   "cell_type": "code",
   "execution_count": 126,
   "metadata": {},
   "outputs": [],
   "source": [
    "from sklearn.metrics import confusion_matrix, recall_score, precision_score, accuracy_score"
   ]
  },
  {
   "cell_type": "code",
   "execution_count": 127,
   "metadata": {},
   "outputs": [],
   "source": [
    "# 1.0 - accuracy_score(y_true, y_pred), 1.0 - accuracy_score(y_true, y_pred_gmean)"
   ]
  },
  {
   "cell_type": "code",
   "execution_count": 128,
   "metadata": {},
   "outputs": [
    {
     "data": {
      "text/plain": [
       "0.12096646002225397"
      ]
     },
     "execution_count": 128,
     "metadata": {},
     "output_type": "execute_result"
    }
   ],
   "source": [
    "1.0 - accuracy_score(y_true, y_pred)"
   ]
  },
  {
   "cell_type": "code",
   "execution_count": null,
   "metadata": {},
   "outputs": [],
   "source": []
  },
  {
   "cell_type": "markdown",
   "metadata": {},
   "source": [
    "Random search on weights"
   ]
  },
  {
   "cell_type": "code",
   "execution_count": 129,
   "metadata": {},
   "outputs": [],
   "source": [
    "from hyperopt import fmin, tpe, hp, STATUS_OK, Trials"
   ]
  },
  {
   "cell_type": "code",
   "execution_count": 130,
   "metadata": {},
   "outputs": [
    {
     "name": "stdout",
     "output_type": "stream",
     "text": [
      "Trial: weights: [0.32038462851493993, 0.2895648090774444, 0.6053060906857075, 0.7142163821747616, 0.6150732458829893, 0.741551417945066] -> Score: 0.12144333174376087\n",
      "Trial: weights: [0.6381176956987362, 0.25575777365144703, 0.4571436705424128, 0.6608323475744745, 0.7305738020670691, 0.263884341049077] -> Score: 0.11985375933873788\n",
      "Trial: weights: [0.3616935203835524, 0.5932277442209484, 0.33563145344531725, 0.4025890697792883, 0.29975323748563976, 0.6297866394444784] -> Score: 0.12080750278175167\n",
      "Trial: weights: [0.7776524172570742, 0.7721033006083982, 0.5112949406515839, 0.2833970395171603, 0.2274055891956006, 0.761332626613455] -> Score: 0.12017167381974247\n",
      "Trial: weights: [0.49777197153778535, 0.31034521110679136, 0.25964578249999926, 0.2641075935126929, 0.3700624414101603, 0.733391745284188] -> Score: 0.11937688761723098\n",
      "Trial: weights: [0.4207096401520402, 0.5812018365091522, 0.6912874498012802, 0.28945969735721105, 0.5298130904587948, 0.7508375820979252] -> Score: 0.12192020346526788\n",
      "Trial: weights: [0.7138787603125925, 0.546377845995762, 0.7058837889985861, 0.6758802396293764, 0.6271441167526628, 0.7458925809376225] -> Score: 0.12096646002225397\n",
      "Trial: weights: [0.6734954800287858, 0.3309630432741596, 0.7730480023587238, 0.3872851606513847, 0.6483006776462638, 0.41521379139002274] -> Score: 0.12096646002225397\n",
      "Trial: weights: [0.7893564643841233, 0.2514748191730228, 0.5573798784221822, 0.4641903226268517, 0.4571063440350624, 0.4922103788137644] -> Score: 0.12096646002225397\n",
      "Trial: weights: [0.4894979246762177, 0.29327519434745497, 0.35414069368554635, 0.3758294517332557, 0.7114645129230432, 0.5879587438393588] -> Score: 0.11969480209823558\n",
      "Trial: weights: [0.30568433218184704, 0.41510911977128195, 0.33810867861883787, 0.6428430287244766, 0.4639825364956204, 0.7729202888597675] -> Score: 0.12080750278175167\n",
      "Trial: weights: [0.7083791640804478, 0.3191532130399157, 0.6370720873064857, 0.5740349236851054, 0.44905254433540404, 0.3319662109083995] -> Score: 0.11921793037672868\n",
      "Trial: weights: [0.5188701234516262, 0.47394337907526846, 0.7362187912615825, 0.6133722224734742, 0.4195233843631878, 0.5720940887181255] -> Score: 0.11937688761723098\n",
      "Trial: weights: [0.4519598332503388, 0.661476212635753, 0.4637277451018457, 0.20840453953392885, 0.3835764101180665, 0.7643900148150129] -> Score: 0.12176124622476558\n",
      "Trial: weights: [0.568001079220789, 0.6421474686420079, 0.3636391463863915, 0.4907136105529462, 0.3342405306267339, 0.43421037171732957] -> Score: 0.11985375933873788\n",
      "Trial: weights: [0.7497215196971923, 0.2718835732027972, 0.7924007306450738, 0.7203867451621877, 0.5202866411591494, 0.4823874938678033] -> Score: 0.11905897313622638\n",
      "Trial: weights: [0.40636888006134647, 0.724226929948439, 0.3384493026851095, 0.2801903471477668, 0.34614749086268937, 0.42910885112559866] -> Score: 0.12160228898426328\n",
      "Trial: weights: [0.4562973346339828, 0.6958584450763254, 0.20613075515622414, 0.4831588521446999, 0.48001790706866104, 0.7134213755398164] -> Score: 0.11937688761723098\n",
      "Trial: weights: [0.6767656485072837, 0.21810757247319823, 0.7785398526522596, 0.3331206751953042, 0.2773348347257854, 0.4696708839152971] -> Score: 0.12064854554124937\n",
      "Trial: weights: [0.5413707715497553, 0.3214745179815207, 0.21102882338433243, 0.3786028234370419, 0.7904091037668408, 0.2620607324243772] -> Score: 0.12080750278175167\n",
      "Trial: weights: [0.6036548462153428, 0.4141035793107203, 0.6424116644025697, 0.7958613808258913, 0.5503803539717593, 0.3446829760305604] -> Score: 0.11890001589572408\n",
      "Trial: weights: [0.5972681597114728, 0.4096317907547704, 0.6510912447091631, 0.7994257540235584, 0.5269620310802914, 0.34663619783146066] -> Score: 0.11890001589572408\n",
      "Trial: weights: [0.5889172773052266, 0.4016343104066169, 0.6403742575290531, 0.7942553250310819, 0.564642596301672, 0.3417305650115856] -> Score: 0.11890001589572408\n",
      "Trial: weights: [0.6166495483649357, 0.43893921223685395, 0.5757987359485364, 0.7935249082617598, 0.5739978036845428, 0.2115236931045295] -> Score: 0.11890001589572408\n",
      "Trial: weights: [0.621514894255385, 0.46297392400000564, 0.5649751653136532, 0.7563057428896994, 0.6765263838054694, 0.21558374009372575] -> Score: 0.11953584485773328\n",
      "Trial: weights: [0.5829108079130058, 0.39836179399339, 0.6702814707244623, 0.5808648146444041, 0.5821627560472984, 0.3479354655787058] -> Score: 0.12001271657924018\n",
      "Trial: weights: [0.20063220975754442, 0.517584891789731, 0.5796336768597892, 0.7547870140597032, 0.7790154168220305, 0.20512837690652913] -> Score: 0.12128437450325857\n",
      "Trial: weights: [0.5463259346303391, 0.36620523484715256, 0.5236089017441234, 0.792547570014435, 0.5629428996490127, 0.2997364771135521] -> Score: 0.11985375933873788\n",
      "Trial: weights: [0.6645190155204879, 0.46111864999951774, 0.41586813341992723, 0.5399427389233112, 0.6103728350404205, 0.3789335056348107] -> Score: 0.12033063106024477\n",
      "Trial: weights: [0.28351806390995127, 0.3668122589603448, 0.6042160286192827, 0.7058352315435854, 0.738628219286908, 0.25842002718803053] -> Score: 0.12080750278175167\n",
      "Trial: weights: [0.7347089728646208, 0.514643735101085, 0.7419500325429977, 0.74093564126923, 0.6931651373351458, 0.2313109354727417] -> Score: 0.11905897313622638\n",
      "Trial: weights: [0.6428717004268212, 0.22502962015373454, 0.46863743726227103, 0.6810546437002645, 0.5861250255325419, 0.3005527316232839] -> Score: 0.12048958830074707\n",
      "Trial: weights: [0.6368805237446672, 0.5659235100176808, 0.4211621339272523, 0.6343415336988618, 0.5066554573127916, 0.2979963514707843] -> Score: 0.12001271657924018\n",
      "Trial: weights: [0.36620738604634484, 0.6257944592595053, 0.52309097062025, 0.7738668198499374, 0.6482978025212449, 0.3855347784051355] -> Score: 0.12048958830074707\n",
      "Trial: weights: [0.761392412198747, 0.44105189351226043, 0.28675653385544575, 0.4374013923120569, 0.4089235440678099, 0.5441003521295243] -> Score: 0.12096646002225397\n",
      "Trial: weights: [0.47777094560679795, 0.3618192633515376, 0.6031409186928257, 0.5223471356036837, 0.7629657405345784, 0.6594012472809218] -> Score: 0.12080750278175167\n",
      "Trial: weights: [0.5257959815942026, 0.49587115321105346, 0.6382718809305125, 0.7045275115928243, 0.5447597815828586, 0.5346670485519232] -> Score: 0.12001271657924018\n",
      "Trial: weights: [0.5738048823771951, 0.6015524351328612, 0.7143417364221307, 0.5909431219583272, 0.22418464924493703, 0.39354746450915445] -> Score: 0.11937688761723098\n",
      "Trial: weights: [0.7974763668399399, 0.5541759654192339, 0.6843152976716903, 0.21214742766107952, 0.6174311260370192, 0.5267669716189516] -> Score: 0.12192020346526788\n",
      "Trial: weights: [0.6993054838023295, 0.3498236213824681, 0.7551314680870065, 0.6673478816284154, 0.4985259580019367, 0.46275461157842834] -> Score: 0.11937688761723098\n",
      "Trial: weights: [0.3949081203410223, 0.2492934187747702, 0.4936009674961762, 0.545567325914665, 0.6632312514764741, 0.2778516475092468] -> Score: 0.12160228898426328\n",
      "Trial: weights: [0.6070210823810865, 0.5322009381381752, 0.5507033755756638, 0.435262803696699, 0.27545289201904655, 0.25079674047568595] -> Score: 0.12033063106024477\n",
      "Trial: weights: [0.6573484342746131, 0.43729184088338785, 0.49185838577091423, 0.7243168646085985, 0.7332518176757022, 0.32273285730940254] -> Score: 0.12001271657924018\n",
      "Trial: weights: [0.263479398473503, 0.2961056970824726, 0.4225174329755563, 0.6243866157073337, 0.44404791614041794, 0.2238694096156975] -> Score: 0.11937688761723098\n",
      "Trial: weights: [0.4515194758966442, 0.20134508262643025, 0.5843129560696549, 0.7691165560811306, 0.40707671090923203, 0.6193705031752609] -> Score: 0.11985375933873788\n",
      "Trial: weights: [0.5133914899117272, 0.4855723160950804, 0.7053239434572056, 0.6864885784056824, 0.6329187461179311, 0.37096930824187824] -> Score: 0.11905897313622638\n",
      "Trial: weights: [0.33903412194114435, 0.4415225520402979, 0.545311989266844, 0.3384435202945649, 0.7108262592314658, 0.7964202146055461] -> Score: 0.12144333174376087\n",
      "Trial: weights: [0.7248909557402813, 0.7747504152945675, 0.3878375596982276, 0.604504818740154, 0.4730180436140219, 0.4092936045594172] -> Score: 0.12001271657924018\n",
      "Trial: weights: [0.6893696923280033, 0.38501338564070775, 0.6204854027514215, 0.2422249907974921, 0.32935723543495754, 0.4454860355415717] -> Score: 0.12128437450325857\n",
      "Trial: weights: [0.5515189494868711, 0.6046994478914474, 0.6716960657928541, 0.6583813454057778, 0.5826191647311187, 0.5069036451990019] -> Score: 0.12017167381974247\n",
      "Trial: weights: [0.4765697454149346, 0.3338722089189498, 0.6573575971483576, 0.5599841915206631, 0.43139086803221793, 0.347070323473157] -> Score: 0.11921793037672868\n",
      "Trial: weights: [0.4226186725826899, 0.26919908034791584, 0.7139964607779092, 0.7351031800645239, 0.37447565669743327, 0.5705980177055997] -> Score: 0.11953584485773328\n",
      "Trial: weights: [0.7644594130240854, 0.678522972808369, 0.4386084382174326, 0.5153163522695473, 0.4882442433208562, 0.23293521644440374] -> Score: 0.12064854554124937\n",
      "Trial: weights: [0.5869609015699847, 0.4097504593266201, 0.7997586250826313, 0.6548356627628025, 0.6004514263132766, 0.3195597756491976] -> Score: 0.11985375933873788\n",
      "Trial: weights: [0.5073960589701091, 0.3055765197307223, 0.6207603149473998, 0.7810768883944723, 0.6776331643075147, 0.20374144627964655] -> Score: 0.11921793037672868\n",
      "Trial: weights: [0.561259794266047, 0.7225398991300842, 0.7672420209949815, 0.3439806504340389, 0.5294346234341155, 0.41299156244516133] -> Score: 0.12223811794627248\n",
      "Trial: weights: [0.6324121632452155, 0.3915319786897989, 0.28023934157230457, 0.45259925788729216, 0.5534001485578146, 0.2876249412371611] -> Score: 0.12096646002225397\n",
      "Trial: weights: [0.782387077074314, 0.4295490253814687, 0.38642382236102246, 0.70265968199177, 0.6407196311231661, 0.24501788328459767] -> Score: 0.12048958830074707\n",
      "Trial: weights: [0.23245218309308457, 0.34299625124728456, 0.7426219300091945, 0.41368699173665263, 0.3952102780134868, 0.6647457610868881] -> Score: 0.12335081862978858\n",
      "Trial: weights: [0.43104575006545975, 0.797546228536098, 0.5754721426409201, 0.7346242507146676, 0.7506840976586587, 0.3594730253219651] -> Score: 0.12096646002225397\n",
      "Trial: weights: [0.5343446205308074, 0.46810931392575855, 0.5115432741545434, 0.753487746608582, 0.3565236234999267, 0.45470279393313623] -> Score: 0.11937688761723098\n",
      "Trial: weights: [0.6824557730434735, 0.5275490346123239, 0.4775760501972227, 0.3181603063812335, 0.7103034927814884, 0.2718458906941951] -> Score: 0.12048958830074707\n",
      "Trial: weights: [0.6098519642725255, 0.5788795702855842, 0.5344811299586133, 0.6060403890455487, 0.5700782368193978, 0.4909071836257103] -> Score: 0.12017167381974247\n",
      "Trial: weights: [0.7427922045225089, 0.2752057357905381, 0.3126590350568128, 0.47148741722175763, 0.45469158408887533, 0.20181959539503394] -> Score: 0.11890001589572408\n",
      "Trial: weights: [0.7296267225145304, 0.23487915699909448, 0.24544229093768385, 0.3640190576823322, 0.2681867378748281, 0.20163643596857797] -> Score: 0.11921793037672868\n",
      "Trial: weights: [0.593834927683042, 0.3758231871952368, 0.6521958629875548, 0.7965985234393989, 0.5272066910605411, 0.4028023340412026] -> Score: 0.11858210141471948\n",
      "Trial: weights: [0.7072020138691758, 0.27967693113885406, 0.3261611367800523, 0.4945686528329516, 0.5117336124931516, 0.7066389827948794] -> Score: 0.11890001589572408\n",
      "Trial: weights: [0.6562060971604056, 0.3128297442464367, 0.22636801231396336, 0.5063007150150396, 0.5051620018878139, 0.7392564785255585] -> Score: 0.11905897313622638\n",
      "Trial: weights: [0.7076593620812861, 0.38199141940971076, 0.35834278011934645, 0.40978515316627057, 0.5405955104606776, 0.710134862210522] -> Score: 0.11905897313622638\n",
      "Trial: weights: [0.4886047502095053, 0.5052949229659387, 0.6371117698015776, 0.798639308572853, 0.6050712530594992, 0.3976138074372643] -> Score: 0.11921793037672868\n",
      "Trial: weights: [0.6189022006572554, 0.28862601308806474, 0.4455139276157131, 0.5324018242097046, 0.426238576354531, 0.6944151463337966] -> Score: 0.11953584485773328\n",
      "Trial: weights: [0.7667149620801081, 0.24492397122667037, 0.5975969589514334, 0.5625245109340657, 0.5169401244251096, 0.5684278305531897] -> Score: 0.12128437450325857\n",
      "Trial: weights: [0.5671393212008157, 0.42853770797939605, 0.6930331427676116, 0.6910922042281015, 0.6558111611054065, 0.5100057690995662] -> Score: 0.12033063106024477\n",
      "Trial: weights: [0.6463015212022349, 0.4892038148755261, 0.6552834020911626, 0.7852379999552013, 0.48319655980951703, 0.4311317875240167] -> Score: 0.11905897313622638\n",
      "Trial: weights: [0.6674343861651256, 0.35952798746470294, 0.3255433339461029, 0.48933151793998353, 0.4638673384138805, 0.61888783714191] -> Score: 0.11985375933873788\n",
      "Trial: weights: [0.5892357465347388, 0.5425085884382637, 0.5588349613152932, 0.7632103409096632, 0.6221386854007924, 0.3156354402638377] -> Score: 0.11969480209823558\n",
      "Trial: weights: [0.5243883380753963, 0.3738439038783099, 0.618725550247624, 0.7129014473999984, 0.5944682525468864, 0.4682070944717074] -> Score: 0.12001271657924018\n",
      "Trial: weights: [0.4433448600435248, 0.44936274923658187, 0.7907093109875136, 0.6715602125036002, 0.5528154618056416, 0.3587057107363482] -> Score: 0.11969480209823558\n",
      "Trial: weights: [0.7183559021641861, 0.20221573448634927, 0.7270091909720173, 0.39480673053083404, 0.6918399294167812, 0.6378215741703785] -> Score: 0.12160228898426328\n",
      "Trial: weights: [0.6276469065965604, 0.3326813308323627, 0.2981863367715103, 0.64447126216648, 0.517848100154326, 0.5559268909512904] -> Score: 0.11985375933873788\n",
      "Trial: weights: [0.40370111480193804, 0.4204624953207548, 0.6858497232195391, 0.7411403863438987, 0.5394275635574666, 0.33980183702736827] -> Score: 0.11874105865522178\n",
      "Trial: weights: [0.3917591699390567, 0.6381672489887338, 0.6809122956675627, 0.7431539145646144, 0.44277025553675226, 0.3075141240274594] -> Score: 0.11985375933873788\n",
      "Trial: weights: [0.3725669814988013, 0.4746261108048092, 0.7590432599715758, 0.7995744452367582, 0.20300000841564225, 0.4419431591354635] -> Score: 0.11953584485773328\n",
      "Trial: weights: [0.3258017834609676, 0.21724550144728164, 0.6952257794992733, 0.5859564252170729, 0.31110606886915043, 0.593527687704729] -> Score: 0.12017167381974247\n",
      "Trial: weights: [0.28775345098915095, 0.4579257711591109, 0.6682338040347922, 0.7708291808219319, 0.38607919556566744, 0.37225342155315094] -> Score: 0.11921793037672868\n",
      "Trial: weights: [0.4953618684339912, 0.4115222612421045, 0.5945992308148523, 0.6266692745742375, 0.5400789719369667, 0.3315746962443342] -> Score: 0.11937688761723098\n",
      "Trial: weights: [0.34826458194626425, 0.35263527403638795, 0.7840972274301301, 0.7199442516777902, 0.4932168213097601, 0.47933448548065133] -> Score: 0.12017167381974247\n",
      "Trial: weights: [0.47198783870584315, 0.5058229803345959, 0.5088020301501254, 0.7464763943707411, 0.6281543824816176, 0.28792761224773666] -> Score: 0.11969480209823558\n",
      "Trial: weights: [0.38199101045079176, 0.26069800439408053, 0.39516289071298094, 0.4724061820774157, 0.4090124161200416, 0.7631083660205249] -> Score: 0.12080750278175167\n",
      "Trial: weights: [0.22567375251360805, 0.32224931236104726, 0.7233565540742546, 0.2984879612734397, 0.45798801722581267, 0.420318992433972] -> Score: 0.12255603242727708\n",
      "Trial: weights: [0.3042350639788846, 0.28744314583328767, 0.6169413780417052, 0.436552328572173, 0.4733709396767548, 0.2195548676294787] -> Score: 0.12096646002225397\n",
      "Trial: weights: [0.4077141625872224, 0.3947895002614662, 0.7439078885746034, 0.6926900421453034, 0.588444975633007, 0.3958858143814614] -> Score: 0.11953584485773328\n",
      "Trial: weights: [0.5545621169559488, 0.42990607885441345, 0.582094303394784, 0.7289348169697034, 0.567310429213757, 0.5208016938507434] -> Score: 0.12017167381974247\n",
      "Trial: weights: [0.7536892459889205, 0.3420536940831519, 0.4840775694784112, 0.25775090117961286, 0.43781556343978456, 0.23601985429170358] -> Score: 0.12033063106024477\n",
      "Trial: weights: [0.7021207815329931, 0.30279607676591075, 0.4112005519937669, 0.451178461989981, 0.34584391584174934, 0.6676963969309575] -> Score: 0.12001271657924018\n",
      "Trial: weights: [0.4634853233411219, 0.5678293211660895, 0.5649221437398136, 0.7832806971971574, 0.7873973694558701, 0.2839245499003183] -> Score: 0.12048958830074707\n",
      "Trial: weights: [0.5336516398886855, 0.4003912590878959, 0.645783420530742, 0.6164662248632513, 0.6694051311276779, 0.33561338279142444] -> Score: 0.12033063106024477\n",
      "Trial: weights: [0.5768707371108509, 0.4825091560560361, 0.5252183964049184, 0.6456416865425406, 0.5767016724764976, 0.2579752242723564] -> Score: 0.11953584485773328\n",
      "Trial: weights: [0.35650780066087795, 0.23332697376424325, 0.37720383624250176, 0.555119578547956, 0.36687170020864246, 0.7223263838185213] -> Score: 0.12112541726275627\n",
      "Trial: weights: [0.6014392943357121, 0.420917307963972, 0.5397666842681597, 0.7618267176293829, 0.7223766202323645, 0.3597984726621043] -> Score: 0.12001271657924018\n",
      "Trial: weights: [0.2561621312052881, 0.3734536692445147, 0.7025420405421307, 0.6806474509945755, 0.6388304373445416, 0.38102048149117046] -> Score: 0.12207916070577018\n",
      "Trial: weights: [0.4328851835733164, 0.5516387650864223, 0.6290511444325776, 0.7031101815592993, 0.6134091172408266, 0.40982370114389244] -> Score: 0.12001271657924018\n",
      "Trial: weights: [0.41086511193630265, 0.5234007300451045, 0.666982816955949, 0.5734907332140089, 0.6919085529385813, 0.268833252170652] -> Score: 0.12128437450325857\n",
      "Trial: weights: [0.5058820747664736, 0.5407286390766112, 0.5918509785717924, 0.597424688642044, 0.5279559268723331, 0.45845460766562723] -> Score: 0.12017167381974247\n",
      "Trial: weights: [0.541396666696797, 0.6152840237874545, 0.6092570860977519, 0.65703809634849, 0.49580455390311845, 0.4774059008351556] -> Score: 0.12033063106024477\n",
      "Trial: weights: [0.6839244269853689, 0.2748200532511511, 0.34886966994199814, 0.36417929971524565, 0.2585302351916416, 0.7787692129142766] -> Score: 0.11953584485773328\n",
      "Trial: weights: [0.48488548903908846, 0.46236429189864464, 0.7303875148499046, 0.7776833082086022, 0.7668523654800806, 0.3053411706689674] -> Score: 0.11969480209823558\n",
      "Trial: weights: [0.5159364891607311, 0.37704129019417765, 0.7650181270896945, 0.7889093736798063, 0.4149388099528899, 0.49985357795472884] -> Score: 0.11874105865522178\n",
      "Trial: weights: [0.45388417749034027, 0.3228967766505659, 0.7978606842243259, 0.7151999266029847, 0.39879465957623494, 0.5979805490996001] -> Score: 0.11937688761723098\n",
      "Trial: weights: [0.3286465540814617, 0.25852241254034436, 0.7494987916216489, 0.7538900177563538, 0.42090814201791865, 0.5380085794579823] -> Score: 0.11985375933873788\n",
      "Trial: weights: [0.4351281697388426, 0.45204126531265376, 0.773822289840966, 0.7996127764406047, 0.47389405201820767, 0.49258851289351485] -> Score: 0.11890001589572408\n",
      "Trial: weights: [0.4654283067971711, 0.38769513716562953, 0.6811072215302908, 0.664952243290716, 0.3730927574142435, 0.552060759056144] -> Score: 0.11969480209823558\n",
      "Trial: weights: [0.5195342223692996, 0.5123688312176076, 0.7028073567006148, 0.6968344933217525, 0.29487971141803904, 0.5247126592975696] -> Score: 0.11874105865522178\n",
      "Trial: weights: [0.310720527197722, 0.7273081717873352, 0.7150915945977244, 0.6317987792027574, 0.28931645437102144, 0.4493140268552896] -> Score: 0.12080750278175167\n",
      "Trial: weights: [0.3964733822032119, 0.5815128528649, 0.6566686594135143, 0.6965750520363564, 0.2516573248501422, 0.5209073577158464] -> Score: 0.11905897313622638\n",
      "Trial: weights: [0.5008611893843555, 0.6506580128983699, 0.6328437532705379, 0.6128191252923727, 0.3184078842144113, 0.610243316757509] -> Score: 0.12017167381974247\n",
      "Trial: weights: [0.5161934352804128, 0.6927761939822559, 0.7859918623798847, 0.5242579537574519, 0.23740966669338157, 0.6416801429212643] -> Score: 0.11969480209823558\n",
      "Trial: weights: [0.4194408152339532, 0.4991439275594751, 0.459947662502888, 0.6781510274202663, 0.20983534772049417, 0.39337454332023547] -> Score: 0.11953584485773328\n",
      "Trial: weights: [0.5598276708097842, 0.47511296857141644, 0.7667728997463623, 0.7324601270958837, 0.33298600469745554, 0.5832732043986595] -> Score: 0.11890001589572408\n",
      "Trial: weights: [0.3697425750552865, 0.586782064340691, 0.7155871108436144, 0.6415485658954553, 0.3486892739049113, 0.4366516081368932] -> Score: 0.11969480209823558\n",
      "Trial: weights: [0.6523795918449544, 0.3589163375406813, 0.7594189197521088, 0.22869661966555738, 0.4508914905506072, 0.5024694003834596] -> Score: 0.12207916070577018\n",
      "Trial: weights: [0.3402553216757599, 0.3416631579690039, 0.7351019772508511, 0.7670906351128399, 0.5589263036877229, 0.32947142550470265] -> Score: 0.11953584485773328\n",
      "Trial: weights: [0.2878321448590539, 0.5960215215049803, 0.5700894266798391, 0.7450606419673449, 0.2901990531447963, 0.6861883300135037] -> Score: 0.11985375933873788\n",
      "Trial: weights: [0.5918452771134529, 0.42295497604384535, 0.6850068837425063, 0.7999444358668958, 0.5352860525839651, 0.42178873268075145] -> Score: 0.11858210141471948\n",
      "Trial: weights: [0.6145527507628165, 0.4073068096613431, 0.6593648681975158, 0.7133079444362006, 0.6523394305565715, 0.4196492046432414] -> Score: 0.11985375933873788\n",
      "Trial: weights: [0.636248923577575, 0.4176115205710496, 0.5493873231525818, 0.7553498107419147, 0.5349321434597, 0.35414772699787866] -> Score: 0.11953584485773328\n",
      "Trial: weights: [0.5912653243972288, 0.5594597698655425, 0.7007780249533461, 0.784342130748775, 0.3838840144797192, 0.5606432574794251] -> Score: 0.11937688761723098\n",
      "Trial: weights: [0.5720139411626535, 0.44385550729965195, 0.6253018355896263, 0.5785702274550995, 0.5063065219484428, 0.5289530341355304] -> Score: 0.12017167381974247\n",
      "Trial: weights: [0.44627630262114243, 0.5350744327749968, 0.6873417963048861, 0.7744347909801998, 0.5975049807182959, 0.37102341598592525] -> Score: 0.11905897313622638\n",
      "Trial: weights: [0.5306084811734648, 0.6708167198150032, 0.6486788850574218, 0.6678100646136786, 0.48247488222589563, 0.42495032251804654] -> Score: 0.12048958830074707\n",
      "Trial: weights: [0.6924166593320418, 0.2921468664422947, 0.5010663963902179, 0.7397821323744408, 0.5466343516430228, 0.40533452019995075] -> Score: 0.12048958830074707\n",
      "Trial: weights: [0.21246161410594994, 0.30916511347078557, 0.6068664875031986, 0.726590847194314, 0.6095108618710067, 0.3168569108496532] -> Score: 0.12096646002225397\n",
      "Trial: weights: [0.6260471064784838, 0.3760845081161516, 0.7752117514160016, 0.4172506406231002, 0.4312185335378025, 0.4679752501957832] -> Score: 0.12080750278175167\n",
      "Trial: weights: [0.6696876842332568, 0.4889569780692388, 0.6775367307600194, 0.3142896392626652, 0.5779154902765624, 0.2430531757644146] -> Score: 0.12207916070577018\n",
      "Trial: weights: [0.2496738066862814, 0.4312165797768716, 0.43818765664826614, 0.7939062843448028, 0.5252880467478772, 0.3402788170012307] -> Score: 0.12017167381974247\n",
      "Trial: weights: [0.5484541773710824, 0.22086311334947778, 0.5280965483300762, 0.7992788343848565, 0.41906877860869873, 0.5085506310179018] -> Score: 0.11985375933873788\n",
      "Trial: weights: [0.7871299271073662, 0.399247691591262, 0.5887088759512048, 0.5505022076519942, 0.6230388427841311, 0.3778863871674085] -> Score: 0.12001271657924018\n",
      "Trial: weights: [0.6433700268090722, 0.6329861716773273, 0.47327089878942824, 0.5096911039250526, 0.3987143024311469, 0.5788869640177307] -> Score: 0.12048958830074707\n",
      "Trial: weights: [0.7373460190354274, 0.6092138418577284, 0.7175638504830937, 0.6858516671680692, 0.31618930289034397, 0.44871347084419577] -> Score: 0.11937688761723098\n",
      "Trial: weights: [0.5981081189180274, 0.5699414572654091, 0.7404972019998802, 0.5679974093720263, 0.22293834133910234, 0.4830243378856007] -> Score: 0.11921793037672868\n",
      "Trial: weights: [0.7174380869250482, 0.5100842529566647, 0.5580613024791307, 0.5377480203108973, 0.46539636930295414, 0.5407816045321207] -> Score: 0.11985375933873788\n",
      "Trial: weights: [0.5843715746088112, 0.20843984727505732, 0.7987730023301417, 0.282260602178624, 0.3603930832847714, 0.4913173646412393] -> Score: 0.12287394690828168\n",
      "Trial: weights: [0.6080181970226557, 0.5199413590974492, 0.7068983485017547, 0.5903190125327228, 0.7450508134398428, 0.6090030994617639] -> Score: 0.12080750278175167\n",
      "Trial: weights: [0.48168252931100086, 0.7511953627696278, 0.6691365319620605, 0.6232290187325157, 0.4953454755385853, 0.648198852723627] -> Score: 0.12096646002225397\n",
      "Trial: weights: [0.383756116949034, 0.3644390530400108, 0.6451048731997104, 0.6503384074623703, 0.6715018130911321, 0.30037680428005287] -> Score: 0.12017167381974247\n",
      "Trial: weights: [0.5189804965123545, 0.4709872632563861, 0.7579314380159687, 0.7891311518545959, 0.3458078519948462, 0.5129821260483176] -> Score: 0.11905897313622638\n",
      "Trial: weights: [0.4910959795907873, 0.450786988888856, 0.7325174386911121, 0.7231115671054364, 0.5615952521225566, 0.43403274741045206] -> Score: 0.11937688761723098\n",
      "Trial: weights: [0.5643698159607348, 0.38577238061475166, 0.7507655917541073, 0.7583783024682464, 0.4132131486576806, 0.5518077076923912] -> Score: 0.11905897313622638\n",
      "Trial: weights: [0.5405127686251013, 0.3291780966249621, 0.7827215409307676, 0.7669422269003102, 0.30817544524143686, 0.4685390359133921] -> Score: 0.11890001589572408\n",
      "Trial: weights: [0.46371931130329735, 0.34723795795242984, 0.689173797177173, 0.709803435658448, 0.46505633136749763, 0.40474709263826] -> Score: 0.11905897313622638\n",
      "Trial: weights: [0.4994437162273379, 0.4184726479286373, 0.6029641495827857, 0.6953929458461079, 0.5095861322338346, 0.36397784739706374] -> Score: 0.11890001589572408\n",
      "Trial: weights: [0.5790151340258377, 0.49327545415250157, 0.6979675747005687, 0.7994057842310608, 0.44769280332430805, 0.38734790696603905] -> Score: 0.11842314417421718\n",
      "Trial: weights: [0.6699136442781078, 0.4920708139463024, 0.617737391019744, 0.7466880675126484, 0.4400945328193648, 0.29068139531813947] -> Score: 0.11826418693371488\n",
      "Trial: weights: [0.797997878723407, 0.4943917941947664, 0.6611863427246254, 0.7826034878508503, 0.4532885810239143, 0.28963083580454196] -> Score: 0.11826418693371488\n",
      "Trial: weights: [0.7564559007720294, 0.49346362325461757, 0.6346838791440509, 0.7786187301170296, 0.38807911397816025, 0.25468155048563174] -> Score: 0.11842314417421718\n",
      "Trial: weights: [0.7742253057850567, 0.5501502398617045, 0.5097378036485474, 0.7488860532776481, 0.3776460606852159, 0.2603517100702406] -> Score: 0.11937688761723098\n",
      "Trial: weights: [0.7951911259157868, 0.4905586578257331, 0.5724755414868989, 0.7806092948132163, 0.4443138887327309, 0.2779850348610206] -> Score: 0.11953584485773328\n",
      "Trial: weights: [0.7479505758702255, 0.65550311514391, 0.6201988536026514, 0.7327216697915945, 0.32517891789119613, 0.22774562738789583] -> Score: 0.11969480209823558\n",
      "Trial: weights: [0.7588952743306845, 0.5726268346809072, 0.6402386645203143, 0.7717728183497842, 0.43228589264563255, 0.20806804434030923] -> Score: 0.11858210141471948\n",
      "Trial: weights: [0.6769932717594724, 0.6160926777455845, 0.5395568908107786, 0.6798653777594059, 0.38351738748809683, 0.2835290728531498] -> Score: 0.12001271657924018\n",
      "Trial: weights: [0.7995811987883215, 0.5002755296831627, 0.5845637540678805, 0.7165052064792978, 0.39469633900471307, 0.24747485731336333] -> Score: 0.11905897313622638\n",
      "Trial: weights: [0.7295915533260892, 0.5955161075920989, 0.6306457640381167, 0.657671708165652, 0.27665391273144696, 0.21526939119325206] -> Score: 0.11985375933873788\n",
      "Trial: weights: [0.777907692774307, 0.5307457894048481, 0.5956560245115317, 0.7617576022863448, 0.35679858319712066, 0.2688199547898768] -> Score: 0.11905897313622638\n",
      "Trial: weights: [0.6930000868233579, 0.5571294366447312, 0.6088420734403899, 0.6016040698982958, 0.3393605660238891, 0.3231546512234961] -> Score: 0.11905897313622638\n",
      "Trial: weights: [0.7096927061691441, 0.4756563688780481, 0.6649484429791911, 0.6715935734058791, 0.44708451324423526, 0.34515057916855957] -> Score: 0.11890001589572408\n",
      "Trial: weights: [0.7450740582749318, 0.45991435208988746, 0.4915824195928431, 0.7467868000759859, 0.4057286105957272, 0.2947937044253071] -> Score: 0.11890001589572408\n",
      "Trial: weights: [0.6633447163478352, 0.5437235928190587, 0.5184772025563361, 0.703795941809047, 0.3683068362767044, 0.25405719227485996] -> Score: 0.11937688761723098\n",
      "Trial: weights: [0.7711923793799121, 0.5229026502549147, 0.5668907231560069, 0.7270517370099462, 0.4841783152191804, 0.3105552847491523] -> Score: 0.11905897313622638\n",
      "Trial: weights: [0.7878837914151505, 0.4404174541669954, 0.6709205154138113, 0.7829348702972876, 0.4267782578964912, 0.2399748658060652] -> Score: 0.11810522969321258\n",
      "Trial: weights: [0.7948562930050731, 0.44074775375299097, 0.5460573319641933, 0.6338365402354786, 0.4734515522289723, 0.23008795145130176] -> Score: 0.11921793037672868\n",
      "Trial: weights: [0.7860055957495776, 0.48258567846018857, 0.4529212322186652, 0.7732623879976892, 0.4213971994315124, 0.24014959090739962] -> Score: 0.11953584485773328\n",
      "Trial: weights: [0.7257629889776104, 0.5103901943887619, 0.7221127953518449, 0.7983524054066734, 0.4550598807871676, 0.29256997110039507] -> Score: 0.11778731521220787\n",
      "Trial: weights: [0.7251748941059754, 0.6293921042775785, 0.7251579648136501, 0.7390565497220103, 0.5006611559329295, 0.29510413948621644] -> Score: 0.11969480209823558\n",
      "Trial: weights: [0.7349215608457855, 0.6906219638858536, 0.6759727381999738, 0.754764655847447, 0.5192151343366267, 0.21479843010330588] -> Score: 0.11969480209823558\n",
      "Trial: weights: [0.6993042944802296, 0.5126810430359386, 0.6561775917365316, 0.6855899693519978, 0.4341513318631857, 0.26968646879946523] -> Score: 0.11826418693371488\n",
      "Trial: weights: [0.6992815449631159, 0.515667261130405, 0.6501572444479324, 0.20303319991806212, 0.43075734740189103, 0.26998229534757845] -> Score: 0.12160228898426328\n",
      "Trial: weights: [0.7684906893341469, 0.5860703612271788, 0.7982220927953738, 0.7072237431393983, 0.465946735592651, 0.32639970011321445] -> Score: 0.11937688761723098\n",
      "Trial: weights: [0.7185026625002299, 0.5379681241349853, 0.7085430058114462, 0.6892830714746545, 0.45416995751138206, 0.22600910809932614] -> Score: 0.11921793037672868\n",
      "Trial: weights: [0.7839941961401563, 0.6429651937415601, 0.7341936331862005, 0.4577945596360351, 0.4061559609436019, 0.20212479303415537] -> Score: 0.12080750278175167\n",
      "Trial: weights: [0.7482417181990464, 0.4623597610931538, 0.7468190585441159, 0.6423067819802217, 0.4876588233562078, 0.2772604098521145] -> Score: 0.11890001589572408\n",
      "Trial: weights: [0.6583363517028656, 0.5622013870933443, 0.6167997048479308, 0.376855581020465, 0.30572292927529565, 0.3116368767253635] -> Score: 0.12080750278175167\n",
      "Trial: weights: [0.6808844492531064, 0.4349297444846878, 0.6724050749310115, 0.4791316510789228, 0.3276099337946806, 0.29022313290731] -> Score: 0.12001271657924018\n",
      "Trial: weights: [0.7971552109369683, 0.6224251212825564, 0.720839275339645, 0.6664659874664125, 0.36381313651545233, 0.20136296653270308] -> Score: 0.12048958830074707\n",
      "Trial: weights: [0.7105237139930108, 0.6045362877299234, 0.7670078377685621, 0.7842360247654804, 0.5495546443424995, 0.3534020148096426] -> Score: 0.11905897313622638\n",
      "Trial: weights: [0.7618004439618478, 0.671817092543892, 0.5795290464489281, 0.7989558576265299, 0.4591854424131442, 0.241648064236463] -> Score: 0.11921793037672868\n",
      "Trial: weights: [0.7289878085594365, 0.5072627318685728, 0.695409323666715, 0.6185518944410828, 0.512309276029175, 0.26720695553840645] -> Score: 0.11905897313622638\n",
      "Trial: weights: [0.6309371389915404, 0.795663048214678, 0.5982314961653582, 0.7225247420011639, 0.3480809225887326, 0.21546655692671537] -> Score: 0.12080750278175167\n",
      "Trial: weights: [0.6480946729467911, 0.7136497528597521, 0.6172449239558725, 0.267573101998425, 0.39393025571865137, 0.3351864243211551] -> Score: 0.12223811794627248\n",
      "Trial: weights: [0.6921603819526442, 0.5747402964416389, 0.6431399007343984, 0.6073299324929032, 0.24900773868800763, 0.30219425679743883] -> Score: 0.12033063106024477\n",
      "Trial: weights: [0.7987482200307005, 0.4508344311973986, 0.5565317692034348, 0.7589989741045086, 0.42378915711782467, 0.36863039006664816] -> Score: 0.11905897313622638\n",
      "Trial: weights: [0.6728595356273293, 0.5290270374117033, 0.7757371439921825, 0.7366680559860834, 0.49971778343355894, 0.23626603095075271] -> Score: 0.11905897313622638\n",
      "Trial: weights: [0.7390826642363332, 0.47540518110214636, 0.6590564068735124, 0.7898424107198876, 0.378873115681332, 0.3868429981334225] -> Score: 0.11762835797170557\n",
      "Trial: weights: [0.7397179189152602, 0.40780481980001987, 0.7548230268469979, 0.3488493185330907, 0.30055530379350803, 0.3196189226771642] -> Score: 0.12017167381974247\n",
      "Trial: weights: [0.7744734051587103, 0.39366631202224456, 0.6292144380691879, 0.7886881482882008, 0.3758518106201891, 0.38462520235056047] -> Score: 0.11858210141471948\n",
      "Trial: weights: [0.7500987559211041, 0.47202322611015596, 0.661994010515208, 0.76891158549711, 0.35389774923650863, 0.3533568992625418] -> Score: 0.11778731521220787\n",
      "Trial: weights: [0.7185129416046092, 0.4614300770109247, 0.40567373704218074, 0.4252561074719469, 0.2683790141445108, 0.3482114924437444] -> Score: 0.11985375933873788\n",
      "Trial: weights: [0.6193384831010439, 0.4764994363945832, 0.7928432004214578, 0.7996394740930473, 0.33044919700178177, 0.36374205012119915] -> Score: 0.11921793037672868\n",
      "Trial: weights: [0.7524598397364829, 0.441622862690991, 0.7117311829302602, 0.7637725843153204, 0.2887189497214338, 0.3986630499251561] -> Score: 0.11794627245271017\n",
      "Trial: weights: [0.7600717141408916, 0.546663326627049, 0.25459847535144553, 0.7147836867447, 0.23836349262028217, 0.45609531114426666] -> Score: 0.12033063106024477\n",
      "Trial: weights: [0.6890019346657305, 0.398111418585602, 0.7112794316229832, 0.22277008845147167, 0.2600373946364749, 0.3966554155267043] -> Score: 0.12128437450325857\n"
     ]
    },
    {
     "data": {
      "text/plain": [
       "{'w_0': 0.7390826642363332,\n",
       " 'w_1': 0.47540518110214636,\n",
       " 'w_2': 0.6590564068735124,\n",
       " 'w_3': 0.7898424107198876,\n",
       " 'w_4': 0.378873115681332,\n",
       " 'w_5': 0.3868429981334225}"
      ]
     },
     "execution_count": 130,
     "metadata": {},
     "output_type": "execute_result"
    }
   ],
   "source": [
    "y_true = df_imsize_targets['target']\n",
    "\n",
    "\n",
    "def score(params):\n",
    "    weights = [params[\"w_{}\".format(i)] for i in range(len(prediction_files))]\n",
    "    \n",
    "    print(\"Trial: weights: {}\".format(weights), end=\" -> \")\n",
    "    \n",
    "    dfs = [w * pd.read_csv(f, index_col='id') for w, f in zip(weights, prediction_files)]\n",
    "    df_probas = pd.concat(dfs, axis=0)\n",
    "    y_probas = df_probas.groupby('id').sum()\n",
    "    y_probas = y_probas.loc[y_true.index, :]\n",
    "    y_pred = np.argmax(y_probas.values, axis=1)\n",
    "    \n",
    "    res = 1.0 - accuracy_score(y_true, y_pred)\n",
    "    print(\"Score: {}\".format(res))\n",
    "    return {'loss': res, 'status': STATUS_OK}\n",
    "    \n",
    "    \n",
    "def get_uniform(name):\n",
    "    return hp.uniform(name, 0.2, 0.8)\n",
    "    \n",
    "    \n",
    "def optimize(trials):\n",
    "    params = {}\n",
    "    for i in range(len(prediction_files)):\n",
    "        n = \"w_{}\".format(i)\n",
    "        params[n] = get_uniform(n)   \n",
    "    best = fmin(score, params, algo=tpe.suggest, trials=trials, max_evals=200)    \n",
    "    return best\n",
    "\n",
    "\n",
    "trials = Trials()\n",
    "best_weights = optimize(trials)\n",
    "best_weights"
   ]
  },
  {
   "cell_type": "code",
   "execution_count": 131,
   "metadata": {},
   "outputs": [
    {
     "data": {
      "text/plain": [
       "({'w_0': 0.7390826642363332,\n",
       "  'w_1': 0.47540518110214636,\n",
       "  'w_2': 0.6590564068735124,\n",
       "  'w_3': 0.7898424107198876,\n",
       "  'w_4': 0.378873115681332,\n",
       "  'w_5': 0.3868429981334225},\n",
       " {'book_time': datetime.datetime(2018, 5, 15, 21, 14, 28, 977000),\n",
       "  'exp_key': None,\n",
       "  'misc': {'cmd': ('domain_attachment', 'FMinIter_Domain'),\n",
       "   'idxs': {'w_0': [191],\n",
       "    'w_1': [191],\n",
       "    'w_2': [191],\n",
       "    'w_3': [191],\n",
       "    'w_4': [191],\n",
       "    'w_5': [191]},\n",
       "   'tid': 191,\n",
       "   'vals': {'w_0': [0.7390826642363332],\n",
       "    'w_1': [0.47540518110214636],\n",
       "    'w_2': [0.6590564068735124],\n",
       "    'w_3': [0.7898424107198876],\n",
       "    'w_4': [0.378873115681332],\n",
       "    'w_5': [0.3868429981334225]},\n",
       "   'workdir': None},\n",
       "  'owner': None,\n",
       "  'refresh_time': datetime.datetime(2018, 5, 15, 21, 14, 29, 974000),\n",
       "  'result': {'loss': 0.11762835797170557, 'status': 'ok'},\n",
       "  'spec': None,\n",
       "  'state': 2,\n",
       "  'tid': 191,\n",
       "  'version': 0})"
      ]
     },
     "execution_count": 131,
     "metadata": {},
     "output_type": "execute_result"
    }
   ],
   "source": [
    "best_weights, trials.best_trial"
   ]
  },
  {
   "cell_type": "code",
   "execution_count": 132,
   "metadata": {},
   "outputs": [],
   "source": [
    "weights = [best_weights[\"w_{}\".format(i)] for i in range(len(prediction_files))]\n",
    "# weights = [0.7, 0.25, 0.65, 0.42, 0.48]\n",
    "\n",
    "dfs = [w * pd.read_csv(f, index_col='id') for w, f in zip(weights, prediction_files)]\n",
    "assert len(dfs) == len(prediction_files)\n",
    "\n",
    "# merged_df = pd.concat([df for df in dfs], axis=1)\n",
    "# merged_df.columns = names"
   ]
  },
  {
   "cell_type": "code",
   "execution_count": 133,
   "metadata": {},
   "outputs": [],
   "source": [
    "df_probas = pd.concat(dfs, axis=0)\n",
    "\n",
    "y_probas = df_probas.groupby('id').sum()\n",
    "\n",
    "\n",
    "y_probas = y_probas.loc[y_true.index, :]\n",
    "y_pred = np.argmax(y_probas.values, axis=1)"
   ]
  },
  {
   "cell_type": "code",
   "execution_count": 134,
   "metadata": {},
   "outputs": [],
   "source": [
    "from sklearn.metrics import confusion_matrix, recall_score, precision_score, accuracy_score"
   ]
  },
  {
   "cell_type": "code",
   "execution_count": 135,
   "metadata": {},
   "outputs": [
    {
     "data": {
      "text/plain": [
       "0.11762835797170557"
      ]
     },
     "execution_count": 135,
     "metadata": {},
     "output_type": "execute_result"
    }
   ],
   "source": [
    "1.0 - accuracy_score(y_true, y_pred)"
   ]
  },
  {
   "cell_type": "code",
   "execution_count": 137,
   "metadata": {},
   "outputs": [
    {
     "data": {
      "text/plain": [
       "{'w_0': 0.7390826642363332,\n",
       " 'w_1': 0.47540518110214636,\n",
       " 'w_2': 0.6590564068735124,\n",
       " 'w_3': 0.7898424107198876,\n",
       " 'w_4': 0.378873115681332,\n",
       " 'w_5': 0.3868429981334225}"
      ]
     },
     "execution_count": 137,
     "metadata": {},
     "output_type": "execute_result"
    }
   ],
   "source": [
    "best_weights"
   ]
  },
  {
   "cell_type": "markdown",
   "metadata": {},
   "source": [
    "Results:\n",
    "\n",
    "    OUTPUT_PATH / \"val_probas_inceptionv4_350_resized_crop\" / \"20180428_1633\" / \"probas.csv\",\n",
    "    \n",
    "    OUTPUT_PATH / \"val_probas_inceptionresnetv2_350_resized_crop\" / \"20180428_1622\" / \"probas.csv\",\n",
    "    \n",
    "    OUTPUT_PATH / \"val_probas_nasnetalarge_350_resized_crop\" / \"20180428_1654\" / \"probas.csv\",\n",
    "    OUTPUT_PATH / \"val_probas_nasnetalarge_350_random_resized_crop\" / \"20180514_2232\" / \"probas.csv\",\n",
    "    OUTPUT_PATH / \"val_probas_nasnetalarge_350_random_resized_crop\" / \"20180514_2202\" / \"probas.csv\",\n",
    "    \n",
    "{'w_0': 0.6952457891587356,     'w_1': 0.24113876273518597,     'w_2': 0.6427090350030666,     'w_3': 0.41338501244162207,     'w_4': 0.4838561104971754}  -> 0.11858210141471948\n",
    "\n",
    "\n",
    "\n",
    "    OUTPUT_PATH / \"val_probas_inceptionv4_350_resized_crop\" / \"20180428_1633\" / \"probas.csv\",\n",
    "    \n",
    "    OUTPUT_PATH / \"val_probas_inceptionresnetv2_350_resized_crop\" / \"20180428_1622\" / \"probas.csv\",\n",
    "    OUTPUT_PATH / \"val_probas_inceptionresnetv2_350_weighted_sampler2_resized_crop\" / \"20180501_1710\" / \"probas.csv\",\n",
    "    \n",
    "    OUTPUT_PATH / \"val_probas_nasnetalarge_350_resized_crop\" / \"20180428_1654\" / \"probas.csv\",\n",
    "    OUTPUT_PATH / \"val_probas_nasnetalarge_350_random_resized_crop\" / \"20180514_2232\" / \"probas.csv\",\n",
    "    OUTPUT_PATH / \"val_probas_nasnetalarge_350_random_resized_crop\" / \"20180514_2202\" / \"probas.csv\",\n",
    "\n",
    "\n",
    "{'w_0': 0.7390826642363332, 'w_1': 0.47540518110214636, 'w_2': 0.6590564068735124, 'w_3': 0.7898424107198876, 'w_4': 0.378873115681332, 'w_5': 0.3868429981334225} -> \n",
    "0.11762835797170557"
   ]
  },
  {
   "cell_type": "code",
   "execution_count": null,
   "metadata": {},
   "outputs": [],
   "source": []
  },
  {
   "cell_type": "markdown",
   "metadata": {},
   "source": [
    "### Learn weights between models"
   ]
  },
  {
   "cell_type": "code",
   "execution_count": 23,
   "metadata": {},
   "outputs": [],
   "source": [
    "import os\n",
    "os.environ['JOBLIB_TEMP_FOLDER']=\"/tmp\""
   ]
  },
  {
   "cell_type": "code",
   "execution_count": 27,
   "metadata": {},
   "outputs": [
    {
     "data": {
      "text/plain": [
       "(6291, 768)"
      ]
     },
     "execution_count": 27,
     "metadata": {},
     "output_type": "execute_result"
    }
   ],
   "source": [
    "df_probas_aligned = pd.concat(dfs, axis=1)\n",
    "df_probas_aligned = df_probas_aligned.loc[y_true.index, :]\n",
    "df_probas_aligned.shape"
   ]
  },
  {
   "cell_type": "code",
   "execution_count": 281,
   "metadata": {},
   "outputs": [],
   "source": [
    "from sklearn.linear_model import LogisticRegressionCV, LogisticRegression\n",
    "from sklearn.model_selection import StratifiedKFold, StratifiedShuffleSplit\n",
    "\n",
    "seed = 15\n",
    "\n",
    "holdout = StratifiedShuffleSplit(test_size=0.3, random_state=seed)\n",
    "\n",
    "x_all = df_probas_aligned.values\n",
    "y_all = y_true.values\n",
    "train_index, test_index = next(holdout.split(x_all, y_all))\n",
    "\n",
    "x_trainval = x_all[train_index]\n",
    "x_test = x_all[test_index]\n",
    "\n",
    "y_trainval = y_all[train_index]\n",
    "y_test = y_all[test_index]"
   ]
  },
  {
   "cell_type": "code",
   "execution_count": 286,
   "metadata": {},
   "outputs": [],
   "source": [
    "split = StratifiedKFold(n_splits=4, random_state=seed)\n",
    "\n",
    "log_reg_cv = LogisticRegressionCV(cv=split, n_jobs=5, max_iter=750, verbose=True)"
   ]
  },
  {
   "cell_type": "code",
   "execution_count": 287,
   "metadata": {},
   "outputs": [
    {
     "name": "stderr",
     "output_type": "stream",
     "text": [
      "[Parallel(n_jobs=5)]: Done  40 tasks      | elapsed:   41.7s\n",
      "[Parallel(n_jobs=5)]: Done 190 tasks      | elapsed:  3.4min\n",
      "/usr/local/lib/python3.5/dist-packages/sklearn/linear_model/logistic.py:718: UserWarning: lbfgs failed to converge. Increase the number of iterations.\n",
      "  warnings.warn(\"lbfgs failed to converge. Increase the number \"\n",
      "/usr/local/lib/python3.5/dist-packages/sklearn/linear_model/logistic.py:718: UserWarning: lbfgs failed to converge. Increase the number of iterations.\n",
      "  warnings.warn(\"lbfgs failed to converge. Increase the number \"\n",
      "/usr/local/lib/python3.5/dist-packages/sklearn/linear_model/logistic.py:718: UserWarning: lbfgs failed to converge. Increase the number of iterations.\n",
      "  warnings.warn(\"lbfgs failed to converge. Increase the number \"\n",
      "/usr/local/lib/python3.5/dist-packages/sklearn/linear_model/logistic.py:718: UserWarning: lbfgs failed to converge. Increase the number of iterations.\n",
      "  warnings.warn(\"lbfgs failed to converge. Increase the number \"\n",
      "[Parallel(n_jobs=5)]: Done 440 tasks      | elapsed:  8.2min\n",
      "[Parallel(n_jobs=5)]: Done 512 out of 512 | elapsed: 10.0min finished\n"
     ]
    },
    {
     "data": {
      "text/plain": [
       "LogisticRegressionCV(Cs=10, class_weight=None,\n",
       "           cv=StratifiedKFold(n_splits=4, random_state=15, shuffle=False),\n",
       "           dual=False, fit_intercept=True, intercept_scaling=1.0,\n",
       "           max_iter=750, multi_class='ovr', n_jobs=5, penalty='l2',\n",
       "           random_state=None, refit=True, scoring=None, solver='lbfgs',\n",
       "           tol=0.0001, verbose=True)"
      ]
     },
     "execution_count": 287,
     "metadata": {},
     "output_type": "execute_result"
    }
   ],
   "source": [
    "log_reg_cv.fit(x_trainval, y_trainval)"
   ]
  },
  {
   "cell_type": "code",
   "execution_count": 290,
   "metadata": {},
   "outputs": [
    {
     "data": {
      "text/plain": [
       "[0.9986282735399113,\n",
       " 0.9977577016097718,\n",
       " 0.9980007060364007,\n",
       " 0.9943301553171191,\n",
       " 0.9995659722222222,\n",
       " 0.9988450434509585,\n",
       " 0.9984216165563875,\n",
       " 0.9988984047026512,\n",
       " 0.9991034375321204,\n",
       " 0.9990751745976383]"
      ]
     },
     "execution_count": 290,
     "metadata": {},
     "output_type": "execute_result"
    }
   ],
   "source": [
    "[np.mean(log_reg_cv.scores_[i], axis=0).max() for i in range(10)]"
   ]
  },
  {
   "cell_type": "code",
   "execution_count": 288,
   "metadata": {},
   "outputs": [],
   "source": [
    "y_test_pred = log_reg_cv.predict(x_test)"
   ]
  },
  {
   "cell_type": "code",
   "execution_count": 289,
   "metadata": {},
   "outputs": [
    {
     "data": {
      "text/plain": [
       "0.13082627118644063"
      ]
     },
     "execution_count": 289,
     "metadata": {},
     "output_type": "execute_result"
    }
   ],
   "source": [
    "1.0 - accuracy_score(y_test, y_test_pred)"
   ]
  },
  {
   "cell_type": "code",
   "execution_count": 153,
   "metadata": {},
   "outputs": [
    {
     "data": {
      "text/plain": [
       "['trained_log_reg_cv.pkl']"
      ]
     },
     "execution_count": 153,
     "metadata": {},
     "output_type": "execute_result"
    }
   ],
   "source": [
    "from sklearn.externals import joblib\n",
    "\n",
    "joblib.dump(log_reg_cv, \"trained_log_reg_cv.pkl\")"
   ]
  },
  {
   "cell_type": "code",
   "execution_count": null,
   "metadata": {},
   "outputs": [],
   "source": []
  },
  {
   "cell_type": "code",
   "execution_count": null,
   "metadata": {},
   "outputs": [],
   "source": []
  },
  {
   "cell_type": "code",
   "execution_count": null,
   "metadata": {},
   "outputs": [],
   "source": []
  },
  {
   "cell_type": "code",
   "execution_count": null,
   "metadata": {},
   "outputs": [],
   "source": []
  },
  {
   "cell_type": "code",
   "execution_count": null,
   "metadata": {},
   "outputs": [],
   "source": []
  },
  {
   "cell_type": "markdown",
   "metadata": {},
   "source": [
    "By definition a confusion matrix :math:`C` is such that :math:`C_{i, j}`\n",
    "is equal to the number of observations known to be in group :math:`i` but\n",
    "predicted to be in group :math:`j`."
   ]
  },
  {
   "cell_type": "code",
   "execution_count": 56,
   "metadata": {},
   "outputs": [],
   "source": [
    "cm = confusion_matrix(y_true, y_pred)\n",
    "recall_per_class = recall_score(y_true, y_pred, average=None)"
   ]
  },
  {
   "cell_type": "code",
   "execution_count": 57,
   "metadata": {},
   "outputs": [
    {
     "data": {
      "text/plain": [
       "array([0.88      , 0.84      , 0.92      , 0.52083333, 0.96      ,\n",
       "       0.91489362, 0.89361702, 0.92      , 0.9375    , 0.9787234 ,\n",
       "       0.96      , 0.97959184, 0.9375    , 0.88      , 0.32      ,\n",
       "       1.        , 0.89583333, 0.9375    , 0.68      , 0.96      ,\n",
       "       0.87234043, 0.78723404, 0.81632653, 0.95918367, 0.81632653,\n",
       "       0.9375    , 0.69387755, 0.89795918, 0.85714286, 0.82      ,\n",
       "       0.79166667, 0.95918367, 0.98      , 0.9375    , 0.77083333,\n",
       "       0.95833333, 0.95918367, 0.97959184, 0.72      , 0.98      ,\n",
       "       0.98      , 0.95833333, 1.        , 1.        , 0.89583333,\n",
       "       1.        , 0.82      , 0.89583333, 0.71428571, 0.67346939,\n",
       "       0.75      , 0.89795918, 0.84      , 0.7755102 , 1.        ,\n",
       "       0.98      , 0.85714286, 0.87755102, 0.88      , 0.93877551,\n",
       "       0.89583333, 0.88      , 0.28      , 0.97959184, 0.83333333,\n",
       "       0.5       , 0.85416667, 1.        , 0.97916667, 0.79591837,\n",
       "       0.97916667, 0.93877551, 0.98      , 0.81632653, 0.96      ,\n",
       "       0.97959184, 0.86      , 0.96      , 0.9       , 0.93877551,\n",
       "       1.        , 0.84      , 0.875     , 0.94      , 0.94      ,\n",
       "       0.7755102 , 0.88      , 0.76      , 0.95918367, 0.89583333,\n",
       "       0.91836735, 0.98      , 0.96      , 0.9       , 0.98      ,\n",
       "       0.86      , 0.78      , 1.        , 0.98      , 0.79591837,\n",
       "       1.        , 0.95918367, 0.85714286, 0.98      , 0.64583333,\n",
       "       0.91836735, 0.9       , 0.84      , 0.91666667, 0.8       ,\n",
       "       0.98      , 0.8       , 0.94      , 0.76      , 0.79591837,\n",
       "       1.        , 0.96      , 0.98      , 0.91836735, 0.86      ,\n",
       "       0.77083333, 0.91836735, 0.97959184, 0.6122449 , 0.94      ,\n",
       "       0.87755102, 0.83333333, 0.77083333])"
      ]
     },
     "execution_count": 57,
     "metadata": {},
     "output_type": "execute_result"
    }
   ],
   "source": [
    "recall_per_class"
   ]
  },
  {
   "cell_type": "code",
   "execution_count": 58,
   "metadata": {},
   "outputs": [],
   "source": [
    "idx = np.arange(len(cm))\n",
    "mcm = cm - cm[idx, idx] * np.eye(len(cm), dtype=np.int)"
   ]
  },
  {
   "cell_type": "code",
   "execution_count": 59,
   "metadata": {},
   "outputs": [],
   "source": [
    "misclassifed = {}\n",
    "\n",
    "for i in range(128):\n",
    "    classes = np.where(mcm[i, :] >= 4)[0]\n",
    "    values = mcm[i, classes]\n",
    "    if len(classes) > 0:\n",
    "        misclassifed[i] = {\n",
    "            'recall': recall_per_class[i],\n",
    "            'wrong_classes':[(c, v) for c, v in zip(classes, values)]\n",
    "        }"
   ]
  },
  {
   "cell_type": "code",
   "execution_count": 60,
   "metadata": {},
   "outputs": [
    {
     "data": {
      "text/plain": [
       "{1: {'recall': 0.84, 'wrong_classes': [(87, 5)]},\n",
       " 3: {'recall': 0.5208333333333334, 'wrong_classes': [(2, 7), (28, 5)]},\n",
       " 14: {'recall': 0.32, 'wrong_classes': [(3, 5), (28, 6), (62, 7), (125, 6)]},\n",
       " 18: {'recall': 0.68, 'wrong_classes': [(79, 4), (127, 6)]},\n",
       " 21: {'recall': 0.7872340425531915, 'wrong_classes': [(16, 4)]},\n",
       " 26: {'recall': 0.6938775510204082, 'wrong_classes': [(111, 10)]},\n",
       " 27: {'recall': 0.8979591836734694, 'wrong_classes': [(23, 4)]},\n",
       " 30: {'recall': 0.7916666666666666, 'wrong_classes': [(69, 5)]},\n",
       " 34: {'recall': 0.7708333333333334, 'wrong_classes': [(12, 4), (69, 5)]},\n",
       " 38: {'recall': 0.72, 'wrong_classes': [(86, 10), (108, 4)]},\n",
       " 48: {'recall': 0.7142857142857143, 'wrong_classes': [(124, 6)]},\n",
       " 49: {'recall': 0.673469387755102, 'wrong_classes': [(19, 4), (53, 10)]},\n",
       " 50: {'recall': 0.75, 'wrong_classes': [(52, 4)]},\n",
       " 53: {'recall': 0.7755102040816326, 'wrong_classes': [(19, 5)]},\n",
       " 57: {'recall': 0.8775510204081632, 'wrong_classes': [(2, 4)]},\n",
       " 58: {'recall': 0.88, 'wrong_classes': [(41, 4)]},\n",
       " 62: {'recall': 0.28, 'wrong_classes': [(14, 5), (22, 7), (25, 8), (28, 9)]},\n",
       " 64: {'recall': 0.8333333333333334, 'wrong_classes': [(123, 5)]},\n",
       " 65: {'recall': 0.5, 'wrong_classes': [(31, 4), (39, 8), (56, 4), (101, 4)]},\n",
       " 66: {'recall': 0.8541666666666666, 'wrong_classes': [(112, 4)]},\n",
       " 69: {'recall': 0.7959183673469388, 'wrong_classes': [(116, 4)]},\n",
       " 86: {'recall': 0.88, 'wrong_classes': [(38, 5)]},\n",
       " 87: {'recall': 0.76, 'wrong_classes': [(1, 4), (53, 4)]},\n",
       " 96: {'recall': 0.78, 'wrong_classes': [(50, 4), (88, 4)]},\n",
       " 99: {'recall': 0.7959183673469388, 'wrong_classes': [(19, 7)]},\n",
       " 104: {'recall': 0.6458333333333334, 'wrong_classes': [(59, 13)]},\n",
       " 107: {'recall': 0.84, 'wrong_classes': [(4, 4)]},\n",
       " 108: {'recall': 0.9166666666666666, 'wrong_classes': [(38, 4)]},\n",
       " 111: {'recall': 0.8, 'wrong_classes': [(26, 6)]},\n",
       " 113: {'recall': 0.76, 'wrong_classes': [(81, 8)]},\n",
       " 114: {'recall': 0.7959183673469388, 'wrong_classes': [(120, 6)]},\n",
       " 123: {'recall': 0.6122448979591837, 'wrong_classes': [(64, 17)]},\n",
       " 126: {'recall': 0.8333333333333334, 'wrong_classes': [(81, 6)]},\n",
       " 127: {'recall': 0.7708333333333334, 'wrong_classes': [(18, 6)]}}"
      ]
     },
     "execution_count": 60,
     "metadata": {},
     "output_type": "execute_result"
    }
   ],
   "source": [
    "misclassifed"
   ]
  },
  {
   "cell_type": "code",
   "execution_count": 25,
   "metadata": {},
   "outputs": [],
   "source": [
    "misclassifed_t = {}\n",
    "\n",
    "for i in range(128):\n",
    "    classes = np.where(cm[:, i] >= 4)[0]\n",
    "    values = cm[classes, i]\n",
    "    if len(classes) > 1:\n",
    "        misclassifed_t[i] = {\n",
    "            'true_classes':[(c, v) for c, v in zip(classes, values)]\n",
    "        }"
   ]
  },
  {
   "cell_type": "code",
   "execution_count": 61,
   "metadata": {},
   "outputs": [],
   "source": [
    "# misclassifed_t"
   ]
  },
  {
   "cell_type": "code",
   "execution_count": 195,
   "metadata": {},
   "outputs": [],
   "source": [
    "# class_index = 62\n",
    "# cols = ['c{}'.format(c) for c, _ in misclassifed[class_index]['wrong_classes']] + ['c{}'.format(class_index)]"
   ]
  },
  {
   "cell_type": "code",
   "execution_count": 14,
   "metadata": {},
   "outputs": [],
   "source": [
    "# df_probas.loc[y_true[y_true == class_index].index[:10], cols]"
   ]
  },
  {
   "cell_type": "code",
   "execution_count": null,
   "metadata": {},
   "outputs": [],
   "source": []
  },
  {
   "cell_type": "code",
   "execution_count": 40,
   "metadata": {},
   "outputs": [
    {
     "data": {
      "text/plain": [
       "(0.8761723096487045, 0.8761723096487045)"
      ]
     },
     "execution_count": 40,
     "metadata": {},
     "output_type": "execute_result"
    }
   ],
   "source": [
    "y_probas_mean = df_probas.groupby('id').mean()\n",
    "y_probas_mean = y_probas_mean.loc[y_true.index, :]\n",
    "\n",
    "y_pred_mean = np.argmax(y_probas_mean.values, axis=1)\n",
    "\n",
    "from sklearn.metrics import recall_score, precision_score\n",
    "\n",
    "recall_score(y_true, y_pred_mean, average='micro'), precision_score(y_true, y_pred_mean, average='micro')"
   ]
  },
  {
   "cell_type": "code",
   "execution_count": 41,
   "metadata": {},
   "outputs": [],
   "source": [
    "def gmean(arr):\n",
    "    l = len(arr)\n",
    "    prod = np.prod(arr)\n",
    "    return np.power(prod, 1.0/l)"
   ]
  },
  {
   "cell_type": "code",
   "execution_count": 42,
   "metadata": {},
   "outputs": [
    {
     "data": {
      "text/plain": [
       "(0.8761723096487045, 0.8761723096487045)"
      ]
     },
     "execution_count": 42,
     "metadata": {},
     "output_type": "execute_result"
    }
   ],
   "source": [
    "y_probas_gmean = df_probas.groupby('id').agg(gmean)\n",
    "y_probas_gmean = y_probas_gmean.loc[y_true.index, :]\n",
    "\n",
    "y_pred_gmean = np.argmax(y_probas_gmean.values, axis=1)\n",
    "\n",
    "recall_score(y_true, y_pred_gmean, average='micro'), precision_score(y_true, y_pred_gmean, average='micro')"
   ]
  },
  {
   "cell_type": "code",
   "execution_count": 45,
   "metadata": {},
   "outputs": [
    {
     "data": {
      "text/plain": [
       "(6.305511012639352e-09, 1.1421323731959247e-07)"
      ]
     },
     "execution_count": 45,
     "metadata": {},
     "output_type": "execute_result"
    }
   ],
   "source": [
    "y_probas_gmean.loc[1, 'c0'], y_probas_mean.loc[1, 'c0']"
   ]
  },
  {
   "cell_type": "code",
   "execution_count": null,
   "metadata": {},
   "outputs": [],
   "source": []
  },
  {
   "cell_type": "code",
   "execution_count": null,
   "metadata": {},
   "outputs": [],
   "source": []
  },
  {
   "cell_type": "markdown",
   "metadata": {},
   "source": [
    "## Predict on test data"
   ]
  },
  {
   "cell_type": "code",
   "execution_count": 138,
   "metadata": {},
   "outputs": [],
   "source": [
    "from pathlib import Path\n",
    "import sys\n",
    "sys.path.insert(0, Path(\".\").absolute().parent.as_posix())"
   ]
  },
  {
   "cell_type": "code",
   "execution_count": 139,
   "metadata": {},
   "outputs": [],
   "source": [
    "import matplotlib.pylab as plt\n",
    "%matplotlib inline\n",
    "import seaborn as sns"
   ]
  },
  {
   "cell_type": "code",
   "execution_count": 140,
   "metadata": {},
   "outputs": [],
   "source": [
    "import numpy as np\n",
    "import pandas as pd\n",
    "\n",
    "\n",
    "OUTPUT_PATH = Path(\".\").absolute().parent / \"output\" / \"test_probas\""
   ]
  },
  {
   "cell_type": "code",
   "execution_count": 102,
   "metadata": {},
   "outputs": [],
   "source": [
    "# prediction_files = [\n",
    "#     OUTPUT_PATH / \"val_probas_inceptionv4_350_resized_crop\" / \"20180428_1633\" / \"probas.csv\",\n",
    "    \n",
    "#     OUTPUT_PATH / \"val_probas_inceptionresnetv2_350_resized_crop\" / \"20180428_1622\" / \"probas.csv\",\n",
    "    \n",
    "#     OUTPUT_PATH / \"val_probas_nasnetalarge_350_resized_crop\" / \"20180428_1654\" / \"probas.csv\",\n",
    "#     OUTPUT_PATH / \"val_probas_nasnetalarge_350_random_resized_crop\" / \"20180514_2202\" / \"probas.csv\",\n",
    "#     OUTPUT_PATH / \"val_probas_nasnetalarge_350_random_resized_crop\" / \"20180514_2232\" / \"probas.csv\",    \n",
    "# ]"
   ]
  },
  {
   "cell_type": "code",
   "execution_count": 103,
   "metadata": {},
   "outputs": [],
   "source": [
    "# !ls ../output/test_probas/test_probas_nasnetalarge_350_random_resized_crop/20180514_1034/"
   ]
  },
  {
   "cell_type": "code",
   "execution_count": 142,
   "metadata": {},
   "outputs": [],
   "source": [
    "test_prediction_files = [\n",
    "    OUTPUT_PATH / \"test_probas_inceptionv4_350_resized_crop\" / \"20180429_1303\" / \"probas.csv\",\n",
    "    \n",
    "    OUTPUT_PATH / \"test_probas_inceptionresnetv2_350_resized_crop\" / \"20180429_1242\" / \"probas.csv\",\n",
    "    OUTPUT_PATH / \"test_probas_inceptionresnetv2_350_weighted_sampler2_resized_crop\" / \"20180501_1725\" / \"probas.csv\",\n",
    "    \n",
    "    OUTPUT_PATH / \"test_probas_nasnetalarge_350_resized_crop\" / \"20180429_1406\" / \"probas.csv\",\n",
    "    OUTPUT_PATH / \"test_probas_nasnetalarge_350_random_resized_crop\" / \"20180514_0821\" / \"probas.csv\",\n",
    "    OUTPUT_PATH / \"test_probas_nasnetalarge_350_random_resized_crop\" / \"20180514_1034\" / \"probas.csv\",    \n",
    "]"
   ]
  },
  {
   "cell_type": "code",
   "execution_count": 143,
   "metadata": {},
   "outputs": [],
   "source": [
    "test_dfs = [pd.read_csv(f, index_col='id') for f in test_prediction_files]\n",
    "\n",
    "# merged_df = pd.concat([df for df in dfs], axis=1)\n",
    "# merged_df.columns = names"
   ]
  },
  {
   "cell_type": "code",
   "execution_count": 144,
   "metadata": {},
   "outputs": [],
   "source": [
    "df_test_probas = pd.concat(test_dfs, axis=0)\n",
    "\n",
    "y_test_probas = df_test_probas.groupby('id').mean()\n",
    "# y_test_probas.head()"
   ]
  },
  {
   "cell_type": "code",
   "execution_count": 145,
   "metadata": {},
   "outputs": [
    {
     "name": "stdout",
     "output_type": "stream",
     "text": [
      "(12800,)\n"
     ]
    }
   ],
   "source": [
    "# Add mising values:\n",
    "missing_indices = list(set(merged_df['MajVote'].index) - set(y_test_probas.index))\n",
    "missing_values = merged_df.loc[missing_indices, 'MajVote'].values\n",
    "for idx, v in zip(missing_indices, missing_values):\n",
    "    y_test_probas.loc[idx, :] = 0.01\n",
    "    col = y_test_probas.columns[v - 1]\n",
    "    y_test_probas.loc[idx, col] = 0.99\n",
    "    \n",
    "y_test_pred = np.argmax(y_test_probas.values, axis=1) + 1   \n",
    "print(y_test_pred.shape)\n",
    "\n",
    "df = pd.DataFrame({\"predicted\": y_test_pred}, index=y_test_probas.index)\n",
    "df.to_csv(\"mean_proba_incv4_incv4rc_3nasnet.csv\")"
   ]
  },
  {
   "cell_type": "code",
   "execution_count": 225,
   "metadata": {},
   "outputs": [],
   "source": [
    "!cd ../ && python3 utils/update_test_predictions.py notebooks/mean_proba_incv4_incv4rc_3nasnet.csv notebooks/test_with_labels.csv notebooks/"
   ]
  },
  {
   "cell_type": "code",
   "execution_count": 226,
   "metadata": {},
   "outputs": [
    {
     "name": "stdout",
     "output_type": "stream",
     "text": [
      "id,predicted\n",
      "1,12\n",
      "2,71\n",
      "3,91\n",
      "4,54\n",
      "5,126\n",
      "6,76\n",
      "7,94\n",
      "8,8\n",
      "9,127\n"
     ]
    }
   ],
   "source": [
    "!head -10 fixed_mean_proba_incv4_incv4rc_3nasnet.csv"
   ]
  },
  {
   "cell_type": "code",
   "execution_count": 227,
   "metadata": {},
   "outputs": [
    {
     "name": "stdout",
     "output_type": "stream",
     "text": [
      "id,predicted\n",
      "1,12\n",
      "2,71\n",
      "3,91\n",
      "4,54\n",
      "5,126\n",
      "6,76\n",
      "7,94\n",
      "8,8\n",
      "9,127\n"
     ]
    }
   ],
   "source": [
    "!head -10 fixed_maj_votes_4nasnet_incv4rc.csv"
   ]
  },
  {
   "cell_type": "code",
   "execution_count": null,
   "metadata": {},
   "outputs": [],
   "source": []
  },
  {
   "cell_type": "markdown",
   "metadata": {},
   "source": [
    "### Weighted probas "
   ]
  },
  {
   "cell_type": "code",
   "execution_count": 146,
   "metadata": {},
   "outputs": [
    {
     "data": {
      "text/plain": [
       "{'w_0': 0.7390826642363332,\n",
       " 'w_1': 0.47540518110214636,\n",
       " 'w_2': 0.6590564068735124,\n",
       " 'w_3': 0.7898424107198876,\n",
       " 'w_4': 0.378873115681332,\n",
       " 'w_5': 0.3868429981334225}"
      ]
     },
     "execution_count": 146,
     "metadata": {},
     "output_type": "execute_result"
    }
   ],
   "source": [
    "best_weights"
   ]
  },
  {
   "cell_type": "code",
   "execution_count": 147,
   "metadata": {},
   "outputs": [],
   "source": [
    "weights = [best_weights[\"w_{}\".format(i)] for i in range(len(test_prediction_files))]\n",
    "test_dfs = [w * pd.read_csv(f, index_col='id') for w, f in zip(weights, test_prediction_files)]"
   ]
  },
  {
   "cell_type": "code",
   "execution_count": 148,
   "metadata": {},
   "outputs": [],
   "source": [
    "df_test_probas = pd.concat(test_dfs, axis=0)\n",
    "y_test_probas = df_test_probas.groupby('id').mean()"
   ]
  },
  {
   "cell_type": "code",
   "execution_count": 150,
   "metadata": {},
   "outputs": [
    {
     "name": "stdout",
     "output_type": "stream",
     "text": [
      "(12800,)\n"
     ]
    }
   ],
   "source": [
    "# Add mising values:\n",
    "missing_indices = list(set(merged_df['MajVote'].index) - set(y_test_probas.index))\n",
    "missing_values = merged_df.loc[missing_indices, 'MajVote'].values\n",
    "for idx, v in zip(missing_indices, missing_values):\n",
    "    y_test_probas.loc[idx, :] = 0.01\n",
    "    col = y_test_probas.columns[v - 1]\n",
    "    y_test_probas.loc[idx, col] = 0.99\n",
    "    \n",
    "y_test_pred = np.argmax(y_test_probas.values, axis=1) + 1   \n",
    "print(y_test_pred.shape)\n",
    "\n",
    "df = pd.DataFrame({\"predicted\": y_test_pred}, index=y_test_probas.index)\n",
    "df.to_csv(\"weighted_proba_incv4_2incv4rc_3nasnet.csv\")"
   ]
  },
  {
   "cell_type": "code",
   "execution_count": 151,
   "metadata": {},
   "outputs": [],
   "source": [
    "!cd ../ && python3 utils/update_test_predictions.py notebooks/weighted_proba_incv4_2incv4rc_3nasnet.csv notebooks/test_with_labels.csv notebooks/"
   ]
  },
  {
   "cell_type": "code",
   "execution_count": 152,
   "metadata": {},
   "outputs": [
    {
     "name": "stdout",
     "output_type": "stream",
     "text": [
      "id,predicted\n",
      "1,12\n",
      "2,71\n",
      "3,91\n",
      "4,54\n",
      "5,126\n",
      "6,76\n",
      "7,94\n",
      "8,8\n",
      "9,127\n"
     ]
    }
   ],
   "source": [
    "!head -10 fixed_weighted_proba_incv4_2incv4rc_3nasnet.csv"
   ]
  },
  {
   "cell_type": "code",
   "execution_count": null,
   "metadata": {},
   "outputs": [],
   "source": []
  },
  {
   "cell_type": "code",
   "execution_count": null,
   "metadata": {},
   "outputs": [],
   "source": []
  },
  {
   "cell_type": "code",
   "execution_count": null,
   "metadata": {},
   "outputs": [],
   "source": []
  },
  {
   "cell_type": "code",
   "execution_count": null,
   "metadata": {},
   "outputs": [],
   "source": []
  },
  {
   "cell_type": "code",
   "execution_count": null,
   "metadata": {},
   "outputs": [],
   "source": []
  },
  {
   "cell_type": "markdown",
   "metadata": {},
   "source": [
    "### Predict with trained model:"
   ]
  },
  {
   "cell_type": "code",
   "execution_count": 257,
   "metadata": {},
   "outputs": [],
   "source": [
    "# To the same indices:\n",
    "index = dfs[0].index\n",
    "for i in range(1, len(prediction_files)):\n",
    "    dfs[i] = dfs[i].loc[index, :]"
   ]
  },
  {
   "cell_type": "code",
   "execution_count": 259,
   "metadata": {},
   "outputs": [
    {
     "data": {
      "text/plain": [
       "(12639, 640)"
      ]
     },
     "execution_count": 259,
     "metadata": {},
     "output_type": "execute_result"
    }
   ],
   "source": [
    "df_test_probas_aligned = pd.concat(dfs, axis=1)\n",
    "df_test_probas_aligned.shape"
   ]
  },
  {
   "cell_type": "code",
   "execution_count": 260,
   "metadata": {},
   "outputs": [],
   "source": [
    "log_reg_cv = joblib.load(\"trained_log_reg_cv.pkl\")"
   ]
  },
  {
   "cell_type": "code",
   "execution_count": 269,
   "metadata": {},
   "outputs": [],
   "source": [
    "y_test_probas = log_reg_cv.predict_proba(df_test_probas_aligned.values)\n",
    "y_test_probas_df = pd.DataFrame(y_test_probas, index=df_test_probas_aligned.index)"
   ]
  },
  {
   "cell_type": "code",
   "execution_count": 277,
   "metadata": {},
   "outputs": [
    {
     "name": "stdout",
     "output_type": "stream",
     "text": [
      "(12800,)\n"
     ]
    }
   ],
   "source": [
    "# Add mising values:\n",
    "missing_indices = list(set(merged_df['MajVote'].index) - set(y_test_probas_df.index))\n",
    "missing_values = merged_df.loc[missing_indices, 'MajVote'].values\n",
    "for idx, v in zip(missing_indices, missing_values):    \n",
    "    y_test_probas_df.loc[idx, :] = 0.01\n",
    "    col = y_test_probas_df.columns[v - 1]\n",
    "    y_test_probas_df.loc[idx, col] = 0.99\n",
    "    \n",
    "y_test_pred = np.argmax(y_test_probas_df.values, axis=1) + 1   \n",
    "print(y_test_pred.shape)\n",
    "\n",
    "df = pd.DataFrame({\"predicted\": y_test_pred}, index=y_test_probas_df.index).sort_index()\n",
    "df.to_csv(\"log_reg_proba_incv4_incv4rc_3nasnet.csv\")"
   ]
  },
  {
   "cell_type": "code",
   "execution_count": 278,
   "metadata": {},
   "outputs": [],
   "source": [
    "!cd ../ && python3 utils/update_test_predictions.py notebooks/log_reg_proba_incv4_incv4rc_3nasnet.csv notebooks/test_with_labels.csv notebooks/"
   ]
  },
  {
   "cell_type": "code",
   "execution_count": 279,
   "metadata": {},
   "outputs": [
    {
     "name": "stdout",
     "output_type": "stream",
     "text": [
      "id,predicted\n",
      "1,12\n",
      "2,71\n",
      "3,91\n",
      "4,54\n",
      "5,126\n",
      "6,76\n",
      "7,94\n",
      "8,8\n",
      "9,127\n"
     ]
    }
   ],
   "source": [
    "!head -10 fixed_log_reg_proba_incv4_incv4rc_3nasnet.csv"
   ]
  },
  {
   "cell_type": "code",
   "execution_count": 280,
   "metadata": {},
   "outputs": [
    {
     "name": "stdout",
     "output_type": "stream",
     "text": [
      "id,predicted\n",
      "1,12\n",
      "2,71\n",
      "3,91\n",
      "4,54\n",
      "5,126\n",
      "6,76\n",
      "7,94\n",
      "8,8\n",
      "9,127\n"
     ]
    }
   ],
   "source": [
    "!head -10 fixed_maj_votes_4nasnet_incv4rc.csv"
   ]
  },
  {
   "cell_type": "code",
   "execution_count": null,
   "metadata": {},
   "outputs": [],
   "source": []
  },
  {
   "cell_type": "code",
   "execution_count": null,
   "metadata": {},
   "outputs": [],
   "source": []
  },
  {
   "cell_type": "code",
   "execution_count": null,
   "metadata": {},
   "outputs": [],
   "source": []
  },
  {
   "cell_type": "code",
   "execution_count": null,
   "metadata": {},
   "outputs": [],
   "source": []
  },
  {
   "cell_type": "code",
   "execution_count": null,
   "metadata": {},
   "outputs": [],
   "source": []
  },
  {
   "cell_type": "code",
   "execution_count": 220,
   "metadata": {},
   "outputs": [
    {
     "data": {
      "text/html": [
       "<div>\n",
       "<style scoped>\n",
       "    .dataframe tbody tr th:only-of-type {\n",
       "        vertical-align: middle;\n",
       "    }\n",
       "\n",
       "    .dataframe tbody tr th {\n",
       "        vertical-align: top;\n",
       "    }\n",
       "\n",
       "    .dataframe thead th {\n",
       "        text-align: right;\n",
       "    }\n",
       "</style>\n",
       "<table border=\"1\" class=\"dataframe\">\n",
       "  <thead>\n",
       "    <tr style=\"text-align: right;\">\n",
       "      <th></th>\n",
       "      <th>c0</th>\n",
       "      <th>c1</th>\n",
       "      <th>c2</th>\n",
       "      <th>c3</th>\n",
       "      <th>c4</th>\n",
       "      <th>c5</th>\n",
       "      <th>c6</th>\n",
       "      <th>c7</th>\n",
       "      <th>c8</th>\n",
       "      <th>c9</th>\n",
       "      <th>...</th>\n",
       "      <th>c118</th>\n",
       "      <th>c119</th>\n",
       "      <th>c120</th>\n",
       "      <th>c121</th>\n",
       "      <th>c122</th>\n",
       "      <th>c123</th>\n",
       "      <th>c124</th>\n",
       "      <th>c125</th>\n",
       "      <th>c126</th>\n",
       "      <th>c127</th>\n",
       "    </tr>\n",
       "    <tr>\n",
       "      <th>id</th>\n",
       "      <th></th>\n",
       "      <th></th>\n",
       "      <th></th>\n",
       "      <th></th>\n",
       "      <th></th>\n",
       "      <th></th>\n",
       "      <th></th>\n",
       "      <th></th>\n",
       "      <th></th>\n",
       "      <th></th>\n",
       "      <th></th>\n",
       "      <th></th>\n",
       "      <th></th>\n",
       "      <th></th>\n",
       "      <th></th>\n",
       "      <th></th>\n",
       "      <th></th>\n",
       "      <th></th>\n",
       "      <th></th>\n",
       "      <th></th>\n",
       "      <th></th>\n",
       "    </tr>\n",
       "  </thead>\n",
       "  <tbody>\n",
       "    <tr>\n",
       "      <th>12796</th>\n",
       "      <td>3.740855e-08</td>\n",
       "      <td>7.699472e-07</td>\n",
       "      <td>3.621496e-07</td>\n",
       "      <td>3.964026e-08</td>\n",
       "      <td>1.351679e-08</td>\n",
       "      <td>6.045437e-08</td>\n",
       "      <td>2.199541e-07</td>\n",
       "      <td>6.690590e-09</td>\n",
       "      <td>3.975444e-07</td>\n",
       "      <td>6.771315e-09</td>\n",
       "      <td>...</td>\n",
       "      <td>5.479484e-09</td>\n",
       "      <td>6.028931e-07</td>\n",
       "      <td>1.559961e-07</td>\n",
       "      <td>6.559622e-08</td>\n",
       "      <td>8.916581e-08</td>\n",
       "      <td>1.017504e-07</td>\n",
       "      <td>8.690805e-08</td>\n",
       "      <td>2.232733e-08</td>\n",
       "      <td>2.711755e-09</td>\n",
       "      <td>1.691902e-09</td>\n",
       "    </tr>\n",
       "    <tr>\n",
       "      <th>12797</th>\n",
       "      <td>5.812775e-06</td>\n",
       "      <td>4.587319e-06</td>\n",
       "      <td>2.474041e-05</td>\n",
       "      <td>2.488180e-05</td>\n",
       "      <td>1.054539e-05</td>\n",
       "      <td>7.284781e-06</td>\n",
       "      <td>6.714315e-06</td>\n",
       "      <td>2.000873e-05</td>\n",
       "      <td>4.213140e-06</td>\n",
       "      <td>3.695690e-06</td>\n",
       "      <td>...</td>\n",
       "      <td>4.620517e-06</td>\n",
       "      <td>2.139555e-05</td>\n",
       "      <td>2.764587e-05</td>\n",
       "      <td>1.579153e-05</td>\n",
       "      <td>7.022183e-06</td>\n",
       "      <td>4.496449e-03</td>\n",
       "      <td>1.263526e-05</td>\n",
       "      <td>3.531694e-05</td>\n",
       "      <td>1.338969e-05</td>\n",
       "      <td>7.176692e-06</td>\n",
       "    </tr>\n",
       "    <tr>\n",
       "      <th>12798</th>\n",
       "      <td>5.186350e-05</td>\n",
       "      <td>2.736125e-06</td>\n",
       "      <td>2.193131e-01</td>\n",
       "      <td>9.613796e-04</td>\n",
       "      <td>1.518391e-06</td>\n",
       "      <td>6.302892e-06</td>\n",
       "      <td>1.375831e-05</td>\n",
       "      <td>5.459569e-06</td>\n",
       "      <td>3.268561e-06</td>\n",
       "      <td>9.933181e-07</td>\n",
       "      <td>...</td>\n",
       "      <td>3.199144e-06</td>\n",
       "      <td>2.900240e-05</td>\n",
       "      <td>2.855623e-06</td>\n",
       "      <td>6.058239e-06</td>\n",
       "      <td>2.601914e-06</td>\n",
       "      <td>7.006069e-07</td>\n",
       "      <td>2.281592e-06</td>\n",
       "      <td>8.103623e-06</td>\n",
       "      <td>1.303272e-06</td>\n",
       "      <td>1.239960e-06</td>\n",
       "    </tr>\n",
       "    <tr>\n",
       "      <th>12799</th>\n",
       "      <td>8.749835e-01</td>\n",
       "      <td>8.248669e-06</td>\n",
       "      <td>7.530487e-04</td>\n",
       "      <td>1.940677e-03</td>\n",
       "      <td>1.398804e-05</td>\n",
       "      <td>3.930042e-03</td>\n",
       "      <td>1.243980e-04</td>\n",
       "      <td>1.117339e-05</td>\n",
       "      <td>4.665101e-05</td>\n",
       "      <td>3.284426e-05</td>\n",
       "      <td>...</td>\n",
       "      <td>3.624489e-04</td>\n",
       "      <td>4.786405e-03</td>\n",
       "      <td>1.282868e-04</td>\n",
       "      <td>2.173255e-03</td>\n",
       "      <td>6.709419e-05</td>\n",
       "      <td>4.579863e-06</td>\n",
       "      <td>9.111378e-06</td>\n",
       "      <td>7.063308e-05</td>\n",
       "      <td>1.432265e-05</td>\n",
       "      <td>7.423627e-05</td>\n",
       "    </tr>\n",
       "    <tr>\n",
       "      <th>12800</th>\n",
       "      <td>4.885252e-08</td>\n",
       "      <td>2.691364e-08</td>\n",
       "      <td>8.786990e-08</td>\n",
       "      <td>1.913607e-07</td>\n",
       "      <td>3.794453e-08</td>\n",
       "      <td>8.208963e-08</td>\n",
       "      <td>9.521560e-08</td>\n",
       "      <td>2.032380e-08</td>\n",
       "      <td>8.779747e-08</td>\n",
       "      <td>6.181915e-09</td>\n",
       "      <td>...</td>\n",
       "      <td>1.766298e-08</td>\n",
       "      <td>1.143649e-07</td>\n",
       "      <td>5.289379e-08</td>\n",
       "      <td>4.477025e-08</td>\n",
       "      <td>2.463165e-07</td>\n",
       "      <td>2.244294e-07</td>\n",
       "      <td>1.638680e-07</td>\n",
       "      <td>9.434708e-09</td>\n",
       "      <td>2.923246e-08</td>\n",
       "      <td>6.561676e-07</td>\n",
       "    </tr>\n",
       "  </tbody>\n",
       "</table>\n",
       "<p>5 rows × 128 columns</p>\n",
       "</div>"
      ],
      "text/plain": [
       "                 c0            c1            c2            c3            c4  \\\n",
       "id                                                                            \n",
       "12796  3.740855e-08  7.699472e-07  3.621496e-07  3.964026e-08  1.351679e-08   \n",
       "12797  5.812775e-06  4.587319e-06  2.474041e-05  2.488180e-05  1.054539e-05   \n",
       "12798  5.186350e-05  2.736125e-06  2.193131e-01  9.613796e-04  1.518391e-06   \n",
       "12799  8.749835e-01  8.248669e-06  7.530487e-04  1.940677e-03  1.398804e-05   \n",
       "12800  4.885252e-08  2.691364e-08  8.786990e-08  1.913607e-07  3.794453e-08   \n",
       "\n",
       "                 c5            c6            c7            c8            c9  \\\n",
       "id                                                                            \n",
       "12796  6.045437e-08  2.199541e-07  6.690590e-09  3.975444e-07  6.771315e-09   \n",
       "12797  7.284781e-06  6.714315e-06  2.000873e-05  4.213140e-06  3.695690e-06   \n",
       "12798  6.302892e-06  1.375831e-05  5.459569e-06  3.268561e-06  9.933181e-07   \n",
       "12799  3.930042e-03  1.243980e-04  1.117339e-05  4.665101e-05  3.284426e-05   \n",
       "12800  8.208963e-08  9.521560e-08  2.032380e-08  8.779747e-08  6.181915e-09   \n",
       "\n",
       "           ...               c118          c119          c120          c121  \\\n",
       "id         ...                                                                \n",
       "12796      ...       5.479484e-09  6.028931e-07  1.559961e-07  6.559622e-08   \n",
       "12797      ...       4.620517e-06  2.139555e-05  2.764587e-05  1.579153e-05   \n",
       "12798      ...       3.199144e-06  2.900240e-05  2.855623e-06  6.058239e-06   \n",
       "12799      ...       3.624489e-04  4.786405e-03  1.282868e-04  2.173255e-03   \n",
       "12800      ...       1.766298e-08  1.143649e-07  5.289379e-08  4.477025e-08   \n",
       "\n",
       "               c122          c123          c124          c125          c126  \\\n",
       "id                                                                            \n",
       "12796  8.916581e-08  1.017504e-07  8.690805e-08  2.232733e-08  2.711755e-09   \n",
       "12797  7.022183e-06  4.496449e-03  1.263526e-05  3.531694e-05  1.338969e-05   \n",
       "12798  2.601914e-06  7.006069e-07  2.281592e-06  8.103623e-06  1.303272e-06   \n",
       "12799  6.709419e-05  4.579863e-06  9.111378e-06  7.063308e-05  1.432265e-05   \n",
       "12800  2.463165e-07  2.244294e-07  1.638680e-07  9.434708e-09  2.923246e-08   \n",
       "\n",
       "               c127  \n",
       "id                   \n",
       "12796  1.691902e-09  \n",
       "12797  7.176692e-06  \n",
       "12798  1.239960e-06  \n",
       "12799  7.423627e-05  \n",
       "12800  6.561676e-07  \n",
       "\n",
       "[5 rows x 128 columns]"
      ]
     },
     "execution_count": 220,
     "metadata": {},
     "output_type": "execute_result"
    }
   ],
   "source": [
    "y_probas = y_probas.sort_index()\n",
    "y_probas.tail()"
   ]
  },
  {
   "cell_type": "code",
   "execution_count": 221,
   "metadata": {},
   "outputs": [],
   "source": [
    "y_pred = np.argmax(y_probas.values, axis=1) + 1"
   ]
  },
  {
   "cell_type": "code",
   "execution_count": 222,
   "metadata": {},
   "outputs": [],
   "source": [
    "y_maj_votes = merged_df['MajVote'].values"
   ]
  },
  {
   "cell_type": "code",
   "execution_count": 223,
   "metadata": {},
   "outputs": [
    {
     "data": {
      "text/plain": [
       "(12318, 482, 12800)"
      ]
     },
     "execution_count": 223,
     "metadata": {},
     "output_type": "execute_result"
    }
   ],
   "source": [
    "(y_maj_votes == y_pred).sum(), (y_maj_votes != y_pred).sum(), len(y_maj_votes)"
   ]
  },
  {
   "cell_type": "code",
   "execution_count": 225,
   "metadata": {},
   "outputs": [
    {
     "data": {
      "text/plain": [
       "array([ 45, 110,  91, 124,   4, 100, 102,  21,  90,  97,   1,   6,  27,\n",
       "        15,  97,  50,  30,  24, 115,  49,  45,   4,  14,  50,  16,  80,\n",
       "        42,  63,   4,  51,  51,  87, 128, 116,  71, 108,  98,  66,  35,\n",
       "        63, 100,  81,  63,  45,   4,  21,  27, 112,  87,  45,  54,  22,\n",
       "       124,  30, 126,  62, 116,  44, 116,   1,  89,  18,  18, 108,  96,\n",
       "       112, 127,  69,  51,  31,  90,  47,   1, 104,  85,  98,  15,  15,\n",
       "       109,  50,  63, 103,  66,   4,   3,  84,  43,  61, 127, 118,  83,\n",
       "        93, 126,  37, 125,  10, 103,   3,  21, 112, 110, 124,  94,   8,\n",
       "        39,  84,  69, 121, 107, 124,  27,  76,   1,  42, 106,  54,  82,\n",
       "        83,  31,  73, 103,  18,  91, 117,  92, 115,  16,  86,  19,  92,\n",
       "        97,   2,   8,  66,  65,  53,  71,  35,  74, 104,   5, 110,   4,\n",
       "        27,  59,  70, 113, 118,   4,  21, 105,  63, 117,  97,  63,  61,\n",
       "        66,  69,   7,  98, 110,  67,  15,   4, 115,  45,  66, 103,  45,\n",
       "        63,  42,  61,  66,  52,  20,  11,  35,  27, 124,  96,  15,  63,\n",
       "        68,  54,  87,  35, 116,  45, 113,  93,  25,  14,  12, 127,  63,\n",
       "        15,   4,  45, 121,  13,   1,  86,  39, 120,  39,  37, 104,   4,\n",
       "        57,  89,  29, 100, 102,  98,  20,  38,  58, 128,  31,  75,  88,\n",
       "        53,   4,  89,   4,  25,  96,  78,  65, 115,  61,  98,  97, 110,\n",
       "        15,  11,  31, 126, 105,  61,  35,  73, 126,  63, 124, 125, 108,\n",
       "        56,  35,   4,  19, 123,   4,  73,  63,  73, 120,  61, 101,  63,\n",
       "       127,  42,  35,  47, 115,  63,  15,  97,  60, 115,  39,  88,   4,\n",
       "         1, 124, 122,  21, 102, 126,  97, 116,  39,  88, 127, 121,  81,\n",
       "        76,  61,  19, 120,  63,  63, 121,  63, 102,  12,  79,   4,  91,\n",
       "       109,  51, 115,   4, 114, 108,  83,  63, 112,  63, 111, 107,  63,\n",
       "        63,  59,  65,  63,  15,  65, 112,  97, 112,  77,  38,  27,   4,\n",
       "         4,  50,  43,  57, 106,  64,   2,   2,   4,  20,  37, 105, 124,\n",
       "         9, 112,  14,  39,  65,  15,  89,  86,  90,  50,  73, 115,  73,\n",
       "       118,  39,  39,  15, 125,  27,  60, 103,  69,   5,  23,  63, 105,\n",
       "        45,  49,  45,  65,  15,   4,  63, 100,  39,  45,  54,  63,  91,\n",
       "        19,  73,   4, 126,   4,  63,   4,   6, 124,  49,  39,  12,  82,\n",
       "       112,  52,  73, 114,  97,  66,  83,   4, 115, 118, 126,  39,  18,\n",
       "       124,  54,  80,   4,   8,  63,  82, 100,   8,  51,   4,  80, 102,\n",
       "        15,  23, 115, 103,  50,  66,  63,  69,   4,  54,   4, 101, 108,\n",
       "        63,  10, 105,  81,  22,  63, 124,  97,  63,   4,  19,   4,  54,\n",
       "       126,  42, 126,  91,  39, 121,  21, 128,  69,  29,  94,  19,   4,\n",
       "        50,   2,  82,  79,  66,  97, 110, 120, 113,  39,  19,  22,   4,\n",
       "        16,  62,  60,  67,  18, 105, 119,  93,  95,  14,  63,  55,  73,\n",
       "        15])"
      ]
     },
     "execution_count": 225,
     "metadata": {},
     "output_type": "execute_result"
    }
   ],
   "source": [
    "y_pred[y_maj_votes != y_pred]"
   ]
  },
  {
   "cell_type": "code",
   "execution_count": 228,
   "metadata": {},
   "outputs": [],
   "source": [
    "df = pd.DataFrame({\"predicted\": y_pred}, index=y_probas.index)\n",
    "df.to_csv(\"mean_proba_nasnet_incv4_incv4rc_ws2.csv\")"
   ]
  },
  {
   "cell_type": "code",
   "execution_count": 229,
   "metadata": {},
   "outputs": [
    {
     "name": "stdout",
     "output_type": "stream",
     "text": [
      "id,predicted\n",
      "1,12\n",
      "2,71\n",
      "3,91\n",
      "4,54\n",
      "5,126\n",
      "6,76\n",
      "7,94\n",
      "8,8\n",
      "9,127\n"
     ]
    }
   ],
   "source": [
    "!head -10 mean_proba_nasnet_incv4_incv4rc_ws2.csv"
   ]
  },
  {
   "cell_type": "code",
   "execution_count": null,
   "metadata": {},
   "outputs": [],
   "source": []
  },
  {
   "cell_type": "code",
   "execution_count": null,
   "metadata": {},
   "outputs": [],
   "source": []
  },
  {
   "cell_type": "code",
   "execution_count": null,
   "metadata": {},
   "outputs": [],
   "source": []
  },
  {
   "cell_type": "code",
   "execution_count": null,
   "metadata": {},
   "outputs": [],
   "source": []
  }
 ],
 "metadata": {
  "kernelspec": {
   "display_name": "Python 3",
   "language": "python",
   "name": "python3"
  },
  "language_info": {
   "codemirror_mode": {
    "name": "ipython",
    "version": 3
   },
   "file_extension": ".py",
   "mimetype": "text/x-python",
   "name": "python",
   "nbconvert_exporter": "python",
   "pygments_lexer": "ipython3",
   "version": "3.5.2"
  }
 },
 "nbformat": 4,
 "nbformat_minor": 2
}
