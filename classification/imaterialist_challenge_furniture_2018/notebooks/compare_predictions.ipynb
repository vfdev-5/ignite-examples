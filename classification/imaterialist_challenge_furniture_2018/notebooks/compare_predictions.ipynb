{
 "cells": [
  {
   "cell_type": "markdown",
   "metadata": {},
   "source": [
    "# Compare predictions"
   ]
  },
  {
   "cell_type": "code",
   "execution_count": 51,
   "metadata": {},
   "outputs": [],
   "source": [
    "from pathlib import Path\n",
    "import numpy as np\n",
    "import pandas as pd"
   ]
  },
  {
   "cell_type": "code",
   "execution_count": 52,
   "metadata": {},
   "outputs": [],
   "source": [
    "OUTPUT_PATH = Path(\".\").absolute().parent / \"output\" / \"test\""
   ]
  },
  {
   "cell_type": "code",
   "execution_count": 53,
   "metadata": {},
   "outputs": [],
   "source": [
    "# !head -50 ../output/inference_FurnitureInceptionV4_350_20180425_2258/predict.log"
   ]
  },
  {
   "cell_type": "code",
   "execution_count": 54,
   "metadata": {},
   "outputs": [
    {
     "name": "stdout",
     "output_type": "stream",
     "text": [
      "-rw-r--r-- 1 1000 1000 106081 May 14 20:51 ../output/test/test_retinanet_cls_only/20180514_2037/predictions.csv\n"
     ]
    }
   ],
   "source": [
    "!ls -all ../output/test/test_retinanet_cls_only/20180514_2037/predictions.csv"
   ]
  },
  {
   "cell_type": "code",
   "execution_count": 55,
   "metadata": {},
   "outputs": [],
   "source": [
    "# !head -50 ../output/inference_FurnitureInceptionResNet299_20180426_1440/predict.log"
   ]
  },
  {
   "cell_type": "code",
   "execution_count": 56,
   "metadata": {},
   "outputs": [],
   "source": [
    "prediction_files = [\n",
    "    OUTPUT_PATH / \"inference_FurnitureNASNetALarge_20180418_0635\" / \"predictions.csv\",\n",
    "    OUTPUT_PATH / \"test_nasnetalarge_350_resized_crop\" / \"20180428_1455\" / \"predictions.csv\",\n",
    "    \n",
    "    OUTPUT_PATH / \"inference_FurnitureInceptionResNet299_20180426_1440\" / \"predictions.csv\",\n",
    "    \n",
    "#     OUTPUT_PATH / \"inference_FurnitureInceptionV4_350_20180425_2258\" / \"predictions.csv\",\n",
    "#     OUTPUT_PATH / \"inference_FurnitureInceptionV4_350_20180428_0808\" / \"predictions.csv\",    \n",
    "# #     OUTPUT_PATH / \"test_inceptionv4_350_fc_random_resized_crop\" / \"20180507_1116\" / \"predictions.csv\",    \n",
    "# #     OUTPUT_PATH / \"test_resnet101_350_finetune_random_resized_crop\" / \"20180509_0937\" / \"predictions.csv\",\n",
    "    OUTPUT_PATH / \"test_nasnetalarge_350_random_resized_crop\" / \"20180514_0917\" / \"predictions.csv\",\n",
    "    OUTPUT_PATH / \"test_nasnetalarge_350_random_resized_crop\" / \"20180514_1126\" / \"predictions.csv\",    \n",
    "]\n",
    "\n",
    "# prediction_files = [\n",
    "#     \"kaggle_maj_votes_2nasnet_2incv4_incv4rc.csv\",\n",
    "#     OUTPUT_PATH / \"test_retinanet_cls_only\" / \"20180514_2037\" / \"predictions.csv\",\n",
    "# ]"
   ]
  },
  {
   "cell_type": "code",
   "execution_count": 57,
   "metadata": {},
   "outputs": [
    {
     "data": {
      "text/plain": [
       "['FurnitureNASNetALarge_20180418_0635',\n",
       " '20180428_1455',\n",
       " 'FurnitureInceptionResNet299_20180426_1440',\n",
       " '20180514_0917',\n",
       " '20180514_1126']"
      ]
     },
     "execution_count": 57,
     "metadata": {},
     "output_type": "execute_result"
    }
   ],
   "source": [
    "names = [f.parent.name.replace(\"inference_\", \"\") for f in prediction_files]\n",
    "names\n",
    "# names = [\"kaggle_maj_votes_2nasnet_2incv4_incv4rc\", \"20180514_2037\"]"
   ]
  },
  {
   "cell_type": "code",
   "execution_count": 58,
   "metadata": {},
   "outputs": [],
   "source": [
    "dfs = [pd.read_csv(f, index_col='id') for f in prediction_files]\n",
    "\n",
    "merged_df = pd.concat([df for df in dfs], axis=1)\n",
    "merged_df.columns = names"
   ]
  },
  {
   "cell_type": "code",
   "execution_count": 59,
   "metadata": {},
   "outputs": [
    {
     "data": {
      "text/html": [
       "<div>\n",
       "<style scoped>\n",
       "    .dataframe tbody tr th:only-of-type {\n",
       "        vertical-align: middle;\n",
       "    }\n",
       "\n",
       "    .dataframe tbody tr th {\n",
       "        vertical-align: top;\n",
       "    }\n",
       "\n",
       "    .dataframe thead th {\n",
       "        text-align: right;\n",
       "    }\n",
       "</style>\n",
       "<table border=\"1\" class=\"dataframe\">\n",
       "  <thead>\n",
       "    <tr style=\"text-align: right;\">\n",
       "      <th></th>\n",
       "      <th>FurnitureNASNetALarge_20180418_0635</th>\n",
       "      <th>20180428_1455</th>\n",
       "      <th>FurnitureInceptionResNet299_20180426_1440</th>\n",
       "      <th>20180514_0917</th>\n",
       "      <th>20180514_1126</th>\n",
       "    </tr>\n",
       "    <tr>\n",
       "      <th>id</th>\n",
       "      <th></th>\n",
       "      <th></th>\n",
       "      <th></th>\n",
       "      <th></th>\n",
       "      <th></th>\n",
       "    </tr>\n",
       "  </thead>\n",
       "  <tbody>\n",
       "    <tr>\n",
       "      <th>1</th>\n",
       "      <td>12</td>\n",
       "      <td>12</td>\n",
       "      <td>12</td>\n",
       "      <td>12</td>\n",
       "      <td>12</td>\n",
       "    </tr>\n",
       "    <tr>\n",
       "      <th>2</th>\n",
       "      <td>71</td>\n",
       "      <td>71</td>\n",
       "      <td>71</td>\n",
       "      <td>61</td>\n",
       "      <td>71</td>\n",
       "    </tr>\n",
       "    <tr>\n",
       "      <th>3</th>\n",
       "      <td>91</td>\n",
       "      <td>91</td>\n",
       "      <td>91</td>\n",
       "      <td>91</td>\n",
       "      <td>91</td>\n",
       "    </tr>\n",
       "    <tr>\n",
       "      <th>4</th>\n",
       "      <td>54</td>\n",
       "      <td>54</td>\n",
       "      <td>54</td>\n",
       "      <td>54</td>\n",
       "      <td>54</td>\n",
       "    </tr>\n",
       "    <tr>\n",
       "      <th>5</th>\n",
       "      <td>126</td>\n",
       "      <td>126</td>\n",
       "      <td>126</td>\n",
       "      <td>126</td>\n",
       "      <td>126</td>\n",
       "    </tr>\n",
       "    <tr>\n",
       "      <th>6</th>\n",
       "      <td>76</td>\n",
       "      <td>76</td>\n",
       "      <td>76</td>\n",
       "      <td>76</td>\n",
       "      <td>76</td>\n",
       "    </tr>\n",
       "    <tr>\n",
       "      <th>7</th>\n",
       "      <td>94</td>\n",
       "      <td>94</td>\n",
       "      <td>94</td>\n",
       "      <td>94</td>\n",
       "      <td>94</td>\n",
       "    </tr>\n",
       "    <tr>\n",
       "      <th>8</th>\n",
       "      <td>8</td>\n",
       "      <td>8</td>\n",
       "      <td>8</td>\n",
       "      <td>8</td>\n",
       "      <td>8</td>\n",
       "    </tr>\n",
       "    <tr>\n",
       "      <th>9</th>\n",
       "      <td>127</td>\n",
       "      <td>127</td>\n",
       "      <td>127</td>\n",
       "      <td>127</td>\n",
       "      <td>127</td>\n",
       "    </tr>\n",
       "    <tr>\n",
       "      <th>10</th>\n",
       "      <td>117</td>\n",
       "      <td>117</td>\n",
       "      <td>117</td>\n",
       "      <td>117</td>\n",
       "      <td>117</td>\n",
       "    </tr>\n",
       "  </tbody>\n",
       "</table>\n",
       "</div>"
      ],
      "text/plain": [
       "    FurnitureNASNetALarge_20180418_0635  20180428_1455  \\\n",
       "id                                                       \n",
       "1                                    12             12   \n",
       "2                                    71             71   \n",
       "3                                    91             91   \n",
       "4                                    54             54   \n",
       "5                                   126            126   \n",
       "6                                    76             76   \n",
       "7                                    94             94   \n",
       "8                                     8              8   \n",
       "9                                   127            127   \n",
       "10                                  117            117   \n",
       "\n",
       "    FurnitureInceptionResNet299_20180426_1440  20180514_0917  20180514_1126  \n",
       "id                                                                           \n",
       "1                                          12             12             12  \n",
       "2                                          71             61             71  \n",
       "3                                          91             91             91  \n",
       "4                                          54             54             54  \n",
       "5                                         126            126            126  \n",
       "6                                          76             76             76  \n",
       "7                                          94             94             94  \n",
       "8                                           8              8              8  \n",
       "9                                         127            127            127  \n",
       "10                                        117            117            117  "
      ]
     },
     "execution_count": 59,
     "metadata": {},
     "output_type": "execute_result"
    }
   ],
   "source": [
    "merged_df.head(10)"
   ]
  },
  {
   "cell_type": "code",
   "execution_count": 60,
   "metadata": {},
   "outputs": [
    {
     "name": "stdout",
     "output_type": "stream",
     "text": [
      "1739 12800\n"
     ]
    }
   ],
   "source": [
    "disagreement_mask = merged_df.mean(axis=1).apply(lambda x: int(x) != x)\n",
    "print(disagreement_mask.sum(), disagreement_mask.shape[0])"
   ]
  },
  {
   "cell_type": "code",
   "execution_count": 61,
   "metadata": {},
   "outputs": [
    {
     "data": {
      "text/html": [
       "<div>\n",
       "<style scoped>\n",
       "    .dataframe tbody tr th:only-of-type {\n",
       "        vertical-align: middle;\n",
       "    }\n",
       "\n",
       "    .dataframe tbody tr th {\n",
       "        vertical-align: top;\n",
       "    }\n",
       "\n",
       "    .dataframe thead th {\n",
       "        text-align: right;\n",
       "    }\n",
       "</style>\n",
       "<table border=\"1\" class=\"dataframe\">\n",
       "  <thead>\n",
       "    <tr style=\"text-align: right;\">\n",
       "      <th></th>\n",
       "      <th>FurnitureNASNetALarge_20180418_0635</th>\n",
       "      <th>20180428_1455</th>\n",
       "      <th>FurnitureInceptionResNet299_20180426_1440</th>\n",
       "      <th>20180514_0917</th>\n",
       "      <th>20180514_1126</th>\n",
       "    </tr>\n",
       "    <tr>\n",
       "      <th>id</th>\n",
       "      <th></th>\n",
       "      <th></th>\n",
       "      <th></th>\n",
       "      <th></th>\n",
       "      <th></th>\n",
       "    </tr>\n",
       "  </thead>\n",
       "  <tbody>\n",
       "    <tr>\n",
       "      <th>12</th>\n",
       "      <td>128</td>\n",
       "      <td>19</td>\n",
       "      <td>19</td>\n",
       "      <td>19</td>\n",
       "      <td>19</td>\n",
       "    </tr>\n",
       "    <tr>\n",
       "      <th>14</th>\n",
       "      <td>77</td>\n",
       "      <td>77</td>\n",
       "      <td>45</td>\n",
       "      <td>77</td>\n",
       "      <td>77</td>\n",
       "    </tr>\n",
       "    <tr>\n",
       "      <th>20</th>\n",
       "      <td>108</td>\n",
       "      <td>108</td>\n",
       "      <td>27</td>\n",
       "      <td>49</td>\n",
       "      <td>49</td>\n",
       "    </tr>\n",
       "    <tr>\n",
       "      <th>24</th>\n",
       "      <td>15</td>\n",
       "      <td>63</td>\n",
       "      <td>63</td>\n",
       "      <td>15</td>\n",
       "      <td>26</td>\n",
       "    </tr>\n",
       "    <tr>\n",
       "      <th>26</th>\n",
       "      <td>89</td>\n",
       "      <td>89</td>\n",
       "      <td>89</td>\n",
       "      <td>97</td>\n",
       "      <td>97</td>\n",
       "    </tr>\n",
       "    <tr>\n",
       "      <th>38</th>\n",
       "      <td>75</td>\n",
       "      <td>61</td>\n",
       "      <td>61</td>\n",
       "      <td>61</td>\n",
       "      <td>61</td>\n",
       "    </tr>\n",
       "    <tr>\n",
       "      <th>47</th>\n",
       "      <td>82</td>\n",
       "      <td>127</td>\n",
       "      <td>43</td>\n",
       "      <td>43</td>\n",
       "      <td>43</td>\n",
       "    </tr>\n",
       "    <tr>\n",
       "      <th>48</th>\n",
       "      <td>15</td>\n",
       "      <td>15</td>\n",
       "      <td>63</td>\n",
       "      <td>15</td>\n",
       "      <td>15</td>\n",
       "    </tr>\n",
       "    <tr>\n",
       "      <th>52</th>\n",
       "      <td>127</td>\n",
       "      <td>127</td>\n",
       "      <td>127</td>\n",
       "      <td>127</td>\n",
       "      <td>110</td>\n",
       "    </tr>\n",
       "    <tr>\n",
       "      <th>76</th>\n",
       "      <td>14</td>\n",
       "      <td>30</td>\n",
       "      <td>30</td>\n",
       "      <td>30</td>\n",
       "      <td>30</td>\n",
       "    </tr>\n",
       "  </tbody>\n",
       "</table>\n",
       "</div>"
      ],
      "text/plain": [
       "    FurnitureNASNetALarge_20180418_0635  20180428_1455  \\\n",
       "id                                                       \n",
       "12                                  128             19   \n",
       "14                                   77             77   \n",
       "20                                  108            108   \n",
       "24                                   15             63   \n",
       "26                                   89             89   \n",
       "38                                   75             61   \n",
       "47                                   82            127   \n",
       "48                                   15             15   \n",
       "52                                  127            127   \n",
       "76                                   14             30   \n",
       "\n",
       "    FurnitureInceptionResNet299_20180426_1440  20180514_0917  20180514_1126  \n",
       "id                                                                           \n",
       "12                                         19             19             19  \n",
       "14                                         45             77             77  \n",
       "20                                         27             49             49  \n",
       "24                                         63             15             26  \n",
       "26                                         89             97             97  \n",
       "38                                         61             61             61  \n",
       "47                                         43             43             43  \n",
       "48                                         63             15             15  \n",
       "52                                        127            127            110  \n",
       "76                                         30             30             30  "
      ]
     },
     "execution_count": 61,
     "metadata": {},
     "output_type": "execute_result"
    }
   ],
   "source": [
    "merged_df[disagreement_mask].head(10)"
   ]
  },
  {
   "cell_type": "code",
   "execution_count": 62,
   "metadata": {},
   "outputs": [
    {
     "data": {
      "text/html": [
       "<div>\n",
       "<style scoped>\n",
       "    .dataframe tbody tr th:only-of-type {\n",
       "        vertical-align: middle;\n",
       "    }\n",
       "\n",
       "    .dataframe tbody tr th {\n",
       "        vertical-align: top;\n",
       "    }\n",
       "\n",
       "    .dataframe thead th {\n",
       "        text-align: right;\n",
       "    }\n",
       "</style>\n",
       "<table border=\"1\" class=\"dataframe\">\n",
       "  <thead>\n",
       "    <tr style=\"text-align: right;\">\n",
       "      <th></th>\n",
       "      <th>FurnitureNASNetALarge_20180418_0635</th>\n",
       "      <th>20180428_1455</th>\n",
       "      <th>FurnitureInceptionResNet299_20180426_1440</th>\n",
       "      <th>20180514_0917</th>\n",
       "      <th>20180514_1126</th>\n",
       "    </tr>\n",
       "    <tr>\n",
       "      <th>id</th>\n",
       "      <th></th>\n",
       "      <th></th>\n",
       "      <th></th>\n",
       "      <th></th>\n",
       "      <th></th>\n",
       "    </tr>\n",
       "  </thead>\n",
       "  <tbody>\n",
       "    <tr>\n",
       "      <th>12723</th>\n",
       "      <td>30</td>\n",
       "      <td>30</td>\n",
       "      <td>30</td>\n",
       "      <td>37</td>\n",
       "      <td>37</td>\n",
       "    </tr>\n",
       "    <tr>\n",
       "      <th>12729</th>\n",
       "      <td>77</td>\n",
       "      <td>81</td>\n",
       "      <td>77</td>\n",
       "      <td>77</td>\n",
       "      <td>77</td>\n",
       "    </tr>\n",
       "    <tr>\n",
       "      <th>12739</th>\n",
       "      <td>105</td>\n",
       "      <td>105</td>\n",
       "      <td>73</td>\n",
       "      <td>100</td>\n",
       "      <td>100</td>\n",
       "    </tr>\n",
       "    <tr>\n",
       "      <th>12741</th>\n",
       "      <td>84</td>\n",
       "      <td>84</td>\n",
       "      <td>84</td>\n",
       "      <td>84</td>\n",
       "      <td>51</td>\n",
       "    </tr>\n",
       "    <tr>\n",
       "      <th>12747</th>\n",
       "      <td>42</td>\n",
       "      <td>113</td>\n",
       "      <td>13</td>\n",
       "      <td>113</td>\n",
       "      <td>113</td>\n",
       "    </tr>\n",
       "    <tr>\n",
       "      <th>12766</th>\n",
       "      <td>60</td>\n",
       "      <td>106</td>\n",
       "      <td>106</td>\n",
       "      <td>106</td>\n",
       "      <td>106</td>\n",
       "    </tr>\n",
       "    <tr>\n",
       "      <th>12776</th>\n",
       "      <td>79</td>\n",
       "      <td>115</td>\n",
       "      <td>37</td>\n",
       "      <td>79</td>\n",
       "      <td>79</td>\n",
       "    </tr>\n",
       "    <tr>\n",
       "      <th>12787</th>\n",
       "      <td>54</td>\n",
       "      <td>54</td>\n",
       "      <td>54</td>\n",
       "      <td>54</td>\n",
       "      <td>50</td>\n",
       "    </tr>\n",
       "    <tr>\n",
       "      <th>12795</th>\n",
       "      <td>2</td>\n",
       "      <td>2</td>\n",
       "      <td>88</td>\n",
       "      <td>2</td>\n",
       "      <td>88</td>\n",
       "    </tr>\n",
       "    <tr>\n",
       "      <th>12797</th>\n",
       "      <td>75</td>\n",
       "      <td>75</td>\n",
       "      <td>75</td>\n",
       "      <td>61</td>\n",
       "      <td>61</td>\n",
       "    </tr>\n",
       "  </tbody>\n",
       "</table>\n",
       "</div>"
      ],
      "text/plain": [
       "       FurnitureNASNetALarge_20180418_0635  20180428_1455  \\\n",
       "id                                                          \n",
       "12723                                   30             30   \n",
       "12729                                   77             81   \n",
       "12739                                  105            105   \n",
       "12741                                   84             84   \n",
       "12747                                   42            113   \n",
       "12766                                   60            106   \n",
       "12776                                   79            115   \n",
       "12787                                   54             54   \n",
       "12795                                    2              2   \n",
       "12797                                   75             75   \n",
       "\n",
       "       FurnitureInceptionResNet299_20180426_1440  20180514_0917  20180514_1126  \n",
       "id                                                                              \n",
       "12723                                         30             37             37  \n",
       "12729                                         77             77             77  \n",
       "12739                                         73            100            100  \n",
       "12741                                         84             84             51  \n",
       "12747                                         13            113            113  \n",
       "12766                                        106            106            106  \n",
       "12776                                         37             79             79  \n",
       "12787                                         54             54             50  \n",
       "12795                                         88              2             88  \n",
       "12797                                         75             61             61  "
      ]
     },
     "execution_count": 62,
     "metadata": {},
     "output_type": "execute_result"
    }
   ],
   "source": [
    "merged_df[disagreement_mask].tail(10)"
   ]
  },
  {
   "cell_type": "code",
   "execution_count": 63,
   "metadata": {},
   "outputs": [],
   "source": [
    "def get_decision_fn(weights):    \n",
    "    def fn(row):\n",
    "        votes = np.zeros(128 + 1, dtype=np.int)\n",
    "        for r, w in zip(row, weights):\n",
    "            votes[r] += w\n",
    "        return np.argmax(votes)\n",
    "    return fn"
   ]
  },
  {
   "cell_type": "code",
   "execution_count": 64,
   "metadata": {},
   "outputs": [],
   "source": [
    "merged_df.loc[:, 'MajVote'] = merged_df.apply(get_decision_fn(weights=[1] * merged_df.shape[1]), axis=1)"
   ]
  },
  {
   "cell_type": "code",
   "execution_count": 217,
   "metadata": {},
   "outputs": [
    {
     "data": {
      "text/html": [
       "<div>\n",
       "<style scoped>\n",
       "    .dataframe tbody tr th:only-of-type {\n",
       "        vertical-align: middle;\n",
       "    }\n",
       "\n",
       "    .dataframe tbody tr th {\n",
       "        vertical-align: top;\n",
       "    }\n",
       "\n",
       "    .dataframe thead th {\n",
       "        text-align: right;\n",
       "    }\n",
       "</style>\n",
       "<table border=\"1\" class=\"dataframe\">\n",
       "  <thead>\n",
       "    <tr style=\"text-align: right;\">\n",
       "      <th></th>\n",
       "      <th>FurnitureNASNetALarge_20180418_0635</th>\n",
       "      <th>20180428_1455</th>\n",
       "      <th>FurnitureInceptionResNet299_20180426_1440</th>\n",
       "      <th>20180514_0917</th>\n",
       "      <th>20180514_1126</th>\n",
       "      <th>MajVote</th>\n",
       "    </tr>\n",
       "    <tr>\n",
       "      <th>id</th>\n",
       "      <th></th>\n",
       "      <th></th>\n",
       "      <th></th>\n",
       "      <th></th>\n",
       "      <th></th>\n",
       "      <th></th>\n",
       "    </tr>\n",
       "  </thead>\n",
       "  <tbody>\n",
       "    <tr>\n",
       "      <th>2</th>\n",
       "      <td>71</td>\n",
       "      <td>71</td>\n",
       "      <td>71</td>\n",
       "      <td>61</td>\n",
       "      <td>71</td>\n",
       "      <td>71</td>\n",
       "    </tr>\n",
       "    <tr>\n",
       "      <th>12</th>\n",
       "      <td>128</td>\n",
       "      <td>19</td>\n",
       "      <td>19</td>\n",
       "      <td>19</td>\n",
       "      <td>19</td>\n",
       "      <td>19</td>\n",
       "    </tr>\n",
       "    <tr>\n",
       "      <th>14</th>\n",
       "      <td>77</td>\n",
       "      <td>77</td>\n",
       "      <td>45</td>\n",
       "      <td>77</td>\n",
       "      <td>77</td>\n",
       "      <td>77</td>\n",
       "    </tr>\n",
       "    <tr>\n",
       "      <th>24</th>\n",
       "      <td>15</td>\n",
       "      <td>63</td>\n",
       "      <td>63</td>\n",
       "      <td>15</td>\n",
       "      <td>26</td>\n",
       "      <td>15</td>\n",
       "    </tr>\n",
       "    <tr>\n",
       "      <th>26</th>\n",
       "      <td>89</td>\n",
       "      <td>89</td>\n",
       "      <td>89</td>\n",
       "      <td>97</td>\n",
       "      <td>97</td>\n",
       "      <td>89</td>\n",
       "    </tr>\n",
       "    <tr>\n",
       "      <th>38</th>\n",
       "      <td>75</td>\n",
       "      <td>61</td>\n",
       "      <td>61</td>\n",
       "      <td>61</td>\n",
       "      <td>61</td>\n",
       "      <td>61</td>\n",
       "    </tr>\n",
       "    <tr>\n",
       "      <th>43</th>\n",
       "      <td>3</td>\n",
       "      <td>58</td>\n",
       "      <td>58</td>\n",
       "      <td>58</td>\n",
       "      <td>58</td>\n",
       "      <td>58</td>\n",
       "    </tr>\n",
       "    <tr>\n",
       "      <th>47</th>\n",
       "      <td>82</td>\n",
       "      <td>127</td>\n",
       "      <td>43</td>\n",
       "      <td>43</td>\n",
       "      <td>43</td>\n",
       "      <td>43</td>\n",
       "    </tr>\n",
       "    <tr>\n",
       "      <th>52</th>\n",
       "      <td>127</td>\n",
       "      <td>127</td>\n",
       "      <td>127</td>\n",
       "      <td>127</td>\n",
       "      <td>110</td>\n",
       "      <td>127</td>\n",
       "    </tr>\n",
       "    <tr>\n",
       "      <th>61</th>\n",
       "      <td>27</td>\n",
       "      <td>112</td>\n",
       "      <td>27</td>\n",
       "      <td>112</td>\n",
       "      <td>112</td>\n",
       "      <td>112</td>\n",
       "    </tr>\n",
       "  </tbody>\n",
       "</table>\n",
       "</div>"
      ],
      "text/plain": [
       "    FurnitureNASNetALarge_20180418_0635  20180428_1455  \\\n",
       "id                                                       \n",
       "2                                    71             71   \n",
       "12                                  128             19   \n",
       "14                                   77             77   \n",
       "24                                   15             63   \n",
       "26                                   89             89   \n",
       "38                                   75             61   \n",
       "43                                    3             58   \n",
       "47                                   82            127   \n",
       "52                                  127            127   \n",
       "61                                   27            112   \n",
       "\n",
       "    FurnitureInceptionResNet299_20180426_1440  20180514_0917  20180514_1126  \\\n",
       "id                                                                            \n",
       "2                                          71             61             71   \n",
       "12                                         19             19             19   \n",
       "14                                         45             77             77   \n",
       "24                                         63             15             26   \n",
       "26                                         89             97             97   \n",
       "38                                         61             61             61   \n",
       "43                                         58             58             58   \n",
       "47                                         43             43             43   \n",
       "52                                        127            127            110   \n",
       "61                                         27            112            112   \n",
       "\n",
       "    MajVote  \n",
       "id           \n",
       "2        71  \n",
       "12       19  \n",
       "14       77  \n",
       "24       15  \n",
       "26       89  \n",
       "38       61  \n",
       "43       58  \n",
       "47       43  \n",
       "52      127  \n",
       "61      112  "
      ]
     },
     "execution_count": 217,
     "metadata": {},
     "output_type": "execute_result"
    }
   ],
   "source": [
    "merged_df[disagreement_mask].head(10)"
   ]
  },
  {
   "cell_type": "code",
   "execution_count": 34,
   "metadata": {},
   "outputs": [
    {
     "data": {
      "text/html": [
       "<div>\n",
       "<style scoped>\n",
       "    .dataframe tbody tr th:only-of-type {\n",
       "        vertical-align: middle;\n",
       "    }\n",
       "\n",
       "    .dataframe tbody tr th {\n",
       "        vertical-align: top;\n",
       "    }\n",
       "\n",
       "    .dataframe thead th {\n",
       "        text-align: right;\n",
       "    }\n",
       "</style>\n",
       "<table border=\"1\" class=\"dataframe\">\n",
       "  <thead>\n",
       "    <tr style=\"text-align: right;\">\n",
       "      <th></th>\n",
       "      <th>FurnitureNASNetALarge_20180418_0635</th>\n",
       "      <th>20180428_1455</th>\n",
       "      <th>FurnitureInceptionResNet299_20180426_1440</th>\n",
       "      <th>20180514_0917</th>\n",
       "      <th>20180514_1126</th>\n",
       "      <th>MajVote</th>\n",
       "    </tr>\n",
       "    <tr>\n",
       "      <th>id</th>\n",
       "      <th></th>\n",
       "      <th></th>\n",
       "      <th></th>\n",
       "      <th></th>\n",
       "      <th></th>\n",
       "      <th></th>\n",
       "    </tr>\n",
       "  </thead>\n",
       "  <tbody>\n",
       "    <tr>\n",
       "      <th>12723</th>\n",
       "      <td>30</td>\n",
       "      <td>30</td>\n",
       "      <td>30</td>\n",
       "      <td>37</td>\n",
       "      <td>37</td>\n",
       "      <td>30</td>\n",
       "    </tr>\n",
       "    <tr>\n",
       "      <th>12729</th>\n",
       "      <td>77</td>\n",
       "      <td>81</td>\n",
       "      <td>77</td>\n",
       "      <td>77</td>\n",
       "      <td>77</td>\n",
       "      <td>77</td>\n",
       "    </tr>\n",
       "    <tr>\n",
       "      <th>12739</th>\n",
       "      <td>105</td>\n",
       "      <td>105</td>\n",
       "      <td>73</td>\n",
       "      <td>100</td>\n",
       "      <td>100</td>\n",
       "      <td>100</td>\n",
       "    </tr>\n",
       "    <tr>\n",
       "      <th>12741</th>\n",
       "      <td>84</td>\n",
       "      <td>84</td>\n",
       "      <td>84</td>\n",
       "      <td>84</td>\n",
       "      <td>51</td>\n",
       "      <td>84</td>\n",
       "    </tr>\n",
       "    <tr>\n",
       "      <th>12747</th>\n",
       "      <td>42</td>\n",
       "      <td>113</td>\n",
       "      <td>13</td>\n",
       "      <td>113</td>\n",
       "      <td>113</td>\n",
       "      <td>113</td>\n",
       "    </tr>\n",
       "    <tr>\n",
       "      <th>12766</th>\n",
       "      <td>60</td>\n",
       "      <td>106</td>\n",
       "      <td>106</td>\n",
       "      <td>106</td>\n",
       "      <td>106</td>\n",
       "      <td>106</td>\n",
       "    </tr>\n",
       "    <tr>\n",
       "      <th>12776</th>\n",
       "      <td>79</td>\n",
       "      <td>115</td>\n",
       "      <td>37</td>\n",
       "      <td>79</td>\n",
       "      <td>79</td>\n",
       "      <td>79</td>\n",
       "    </tr>\n",
       "    <tr>\n",
       "      <th>12787</th>\n",
       "      <td>54</td>\n",
       "      <td>54</td>\n",
       "      <td>54</td>\n",
       "      <td>54</td>\n",
       "      <td>50</td>\n",
       "      <td>54</td>\n",
       "    </tr>\n",
       "    <tr>\n",
       "      <th>12795</th>\n",
       "      <td>2</td>\n",
       "      <td>2</td>\n",
       "      <td>88</td>\n",
       "      <td>2</td>\n",
       "      <td>88</td>\n",
       "      <td>2</td>\n",
       "    </tr>\n",
       "    <tr>\n",
       "      <th>12797</th>\n",
       "      <td>75</td>\n",
       "      <td>75</td>\n",
       "      <td>75</td>\n",
       "      <td>61</td>\n",
       "      <td>61</td>\n",
       "      <td>75</td>\n",
       "    </tr>\n",
       "  </tbody>\n",
       "</table>\n",
       "</div>"
      ],
      "text/plain": [
       "       FurnitureNASNetALarge_20180418_0635  20180428_1455  \\\n",
       "id                                                          \n",
       "12723                                   30             30   \n",
       "12729                                   77             81   \n",
       "12739                                  105            105   \n",
       "12741                                   84             84   \n",
       "12747                                   42            113   \n",
       "12766                                   60            106   \n",
       "12776                                   79            115   \n",
       "12787                                   54             54   \n",
       "12795                                    2              2   \n",
       "12797                                   75             75   \n",
       "\n",
       "       FurnitureInceptionResNet299_20180426_1440  20180514_0917  \\\n",
       "id                                                                \n",
       "12723                                         30             37   \n",
       "12729                                         77             77   \n",
       "12739                                         73            100   \n",
       "12741                                         84             84   \n",
       "12747                                         13            113   \n",
       "12766                                        106            106   \n",
       "12776                                         37             79   \n",
       "12787                                         54             54   \n",
       "12795                                         88              2   \n",
       "12797                                         75             61   \n",
       "\n",
       "       20180514_1126  MajVote  \n",
       "id                             \n",
       "12723             37       30  \n",
       "12729             77       77  \n",
       "12739            100      100  \n",
       "12741             51       84  \n",
       "12747            113      113  \n",
       "12766            106      106  \n",
       "12776             79       79  \n",
       "12787             50       54  \n",
       "12795             88        2  \n",
       "12797             61       75  "
      ]
     },
     "execution_count": 34,
     "metadata": {},
     "output_type": "execute_result"
    }
   ],
   "source": [
    "merged_df[disagreement_mask].tail(10)"
   ]
  },
  {
   "cell_type": "code",
   "execution_count": 35,
   "metadata": {},
   "outputs": [],
   "source": [
    "merged_df['MajVote'].to_csv(\"maj_votes_4nasnet_incv4rc.csv\", header=[\"predicted\"])"
   ]
  },
  {
   "cell_type": "code",
   "execution_count": 36,
   "metadata": {},
   "outputs": [
    {
     "name": "stdout",
     "output_type": "stream",
     "text": [
      "id,predicted\n",
      "1,12\n",
      "2,71\n",
      "3,91\n",
      "4,54\n",
      "5,126\n",
      "6,76\n",
      "7,94\n",
      "8,8\n",
      "9,127\n"
     ]
    }
   ],
   "source": [
    "!head maj_votes_4nasnet_incv4rc.csv"
   ]
  },
  {
   "cell_type": "code",
   "execution_count": 37,
   "metadata": {},
   "outputs": [],
   "source": [
    "!cd ../ && python3 utils/update_test_predictions.py notebooks/maj_votes_4nasnet_incv4rc.csv notebooks/test_with_labels.csv notebooks/"
   ]
  },
  {
   "cell_type": "code",
   "execution_count": null,
   "metadata": {},
   "outputs": [],
   "source": []
  },
  {
   "cell_type": "code",
   "execution_count": null,
   "metadata": {},
   "outputs": [],
   "source": []
  },
  {
   "cell_type": "code",
   "execution_count": null,
   "metadata": {},
   "outputs": [],
   "source": []
  },
  {
   "cell_type": "code",
   "execution_count": null,
   "metadata": {},
   "outputs": [],
   "source": []
  },
  {
   "cell_type": "code",
   "execution_count": null,
   "metadata": {},
   "outputs": [],
   "source": []
  },
  {
   "cell_type": "code",
   "execution_count": null,
   "metadata": {},
   "outputs": [],
   "source": []
  },
  {
   "cell_type": "markdown",
   "metadata": {},
   "source": [
    "## Probas on validation"
   ]
  },
  {
   "cell_type": "code",
   "execution_count": 1,
   "metadata": {},
   "outputs": [],
   "source": [
    "from pathlib import Path\n",
    "import sys\n",
    "sys.path.insert(0, Path(\".\").absolute().parent.as_posix())"
   ]
  },
  {
   "cell_type": "code",
   "execution_count": 2,
   "metadata": {},
   "outputs": [],
   "source": [
    "import matplotlib.pylab as plt\n",
    "%matplotlib inline\n",
    "import seaborn as sns\n"
   ]
  },
  {
   "cell_type": "code",
   "execution_count": 69,
   "metadata": {},
   "outputs": [],
   "source": [
    "import numpy as np\n",
    "import pandas as pd\n",
    "\n",
    "\n",
    "OUTPUT_PATH = Path(\".\").absolute().parent / \"output\" / \"val_probas\""
   ]
  },
  {
   "cell_type": "code",
   "execution_count": 70,
   "metadata": {},
   "outputs": [],
   "source": [
    "# !head -50 ../output/val_probas/val_probas_nasnetalarge_350_random_resized_crop/20180514_2232/predict.log"
   ]
  },
  {
   "cell_type": "code",
   "execution_count": 71,
   "metadata": {},
   "outputs": [],
   "source": [
    "# prediction_files = [\n",
    "#     OUTPUT_PATH / \"val_probas_inceptionresnetv2_350_resized_crop\" / \"20180428_1622\" / \"probas.csv\",\n",
    "#     OUTPUT_PATH / \"val_probas_inceptionv4_350_resized_crop\" / \"20180428_1633\" / \"probas.csv\",\n",
    "#     OUTPUT_PATH / \"val_probas_nasnetalarge_350_resized_crop\" / \"20180428_1654\" / \"probas.csv\",    \n",
    "# #     OUTPUT_PATH / \"val_probas_inceptionresnetv2_350_weighted_sampler2_resized_crop\" / \"20180501_1710\" / \"probas.csv\"\n",
    "# ]"
   ]
  },
  {
   "cell_type": "code",
   "execution_count": 72,
   "metadata": {},
   "outputs": [],
   "source": [
    "prediction_files = [\n",
    "    OUTPUT_PATH / \"val_probas_inceptionv4_350_resized_crop\" / \"20180428_1633\" / \"probas.csv\",\n",
    "    \n",
    "    OUTPUT_PATH / \"val_probas_inceptionresnetv2_350_resized_crop\" / \"20180428_1622\" / \"probas.csv\",\n",
    "    \n",
    "    OUTPUT_PATH / \"val_probas_nasnetalarge_350_resized_crop\" / \"20180428_1654\" / \"probas.csv\",\n",
    "    OUTPUT_PATH / \"val_probas_nasnetalarge_350_random_resized_crop\" / \"20180514_2232\" / \"probas.csv\",\n",
    "    OUTPUT_PATH / \"val_probas_nasnetalarge_350_random_resized_crop\" / \"20180514_2202\" / \"probas.csv\",\n",
    "\n",
    "]"
   ]
  },
  {
   "cell_type": "code",
   "execution_count": 73,
   "metadata": {},
   "outputs": [],
   "source": [
    "dfs = [pd.read_csv(f, index_col='id') for f in prediction_files]\n",
    "assert len(dfs) == len(prediction_files)\n",
    "\n",
    "# merged_df = pd.concat([df for df in dfs], axis=1)\n",
    "# merged_df.columns = names"
   ]
  },
  {
   "cell_type": "code",
   "execution_count": 74,
   "metadata": {},
   "outputs": [],
   "source": [
    "df_probas = pd.concat(dfs, axis=0)"
   ]
  },
  {
   "cell_type": "markdown",
   "metadata": {},
   "source": [
    "### Probability mean/gmean value"
   ]
  },
  {
   "cell_type": "code",
   "execution_count": 9,
   "metadata": {},
   "outputs": [
    {
     "data": {
      "text/html": [
       "<div>\n",
       "<style scoped>\n",
       "    .dataframe tbody tr th:only-of-type {\n",
       "        vertical-align: middle;\n",
       "    }\n",
       "\n",
       "    .dataframe tbody tr th {\n",
       "        vertical-align: top;\n",
       "    }\n",
       "\n",
       "    .dataframe thead th {\n",
       "        text-align: right;\n",
       "    }\n",
       "</style>\n",
       "<table border=\"1\" class=\"dataframe\">\n",
       "  <thead>\n",
       "    <tr style=\"text-align: right;\">\n",
       "      <th></th>\n",
       "      <th>c0</th>\n",
       "      <th>c1</th>\n",
       "      <th>c2</th>\n",
       "      <th>c3</th>\n",
       "      <th>c4</th>\n",
       "      <th>c5</th>\n",
       "      <th>c6</th>\n",
       "      <th>c7</th>\n",
       "      <th>c8</th>\n",
       "      <th>c9</th>\n",
       "      <th>...</th>\n",
       "      <th>c118</th>\n",
       "      <th>c119</th>\n",
       "      <th>c120</th>\n",
       "      <th>c121</th>\n",
       "      <th>c122</th>\n",
       "      <th>c123</th>\n",
       "      <th>c124</th>\n",
       "      <th>c125</th>\n",
       "      <th>c126</th>\n",
       "      <th>c127</th>\n",
       "    </tr>\n",
       "    <tr>\n",
       "      <th>id</th>\n",
       "      <th></th>\n",
       "      <th></th>\n",
       "      <th></th>\n",
       "      <th></th>\n",
       "      <th></th>\n",
       "      <th></th>\n",
       "      <th></th>\n",
       "      <th></th>\n",
       "      <th></th>\n",
       "      <th></th>\n",
       "      <th></th>\n",
       "      <th></th>\n",
       "      <th></th>\n",
       "      <th></th>\n",
       "      <th></th>\n",
       "      <th></th>\n",
       "      <th></th>\n",
       "      <th></th>\n",
       "      <th></th>\n",
       "      <th></th>\n",
       "      <th></th>\n",
       "    </tr>\n",
       "  </thead>\n",
       "  <tbody>\n",
       "    <tr>\n",
       "      <th>1</th>\n",
       "      <td>3.261211e-08</td>\n",
       "      <td>5.020128e-07</td>\n",
       "      <td>5.361635e-08</td>\n",
       "      <td>5.244438e-08</td>\n",
       "      <td>2.904140e-08</td>\n",
       "      <td>2.049096e-07</td>\n",
       "      <td>3.680670e-08</td>\n",
       "      <td>3.855628e-07</td>\n",
       "      <td>1.036326e-08</td>\n",
       "      <td>1.775351e-06</td>\n",
       "      <td>...</td>\n",
       "      <td>1.444290e-07</td>\n",
       "      <td>1.634095e-08</td>\n",
       "      <td>1.411942e-08</td>\n",
       "      <td>1.679812e-08</td>\n",
       "      <td>1.096860e-07</td>\n",
       "      <td>3.669452e-08</td>\n",
       "      <td>5.038070e-07</td>\n",
       "      <td>4.049326e-07</td>\n",
       "      <td>8.418400e-08</td>\n",
       "      <td>8.085588e-09</td>\n",
       "    </tr>\n",
       "    <tr>\n",
       "      <th>2</th>\n",
       "      <td>1.639542e-05</td>\n",
       "      <td>1.142982e-05</td>\n",
       "      <td>1.791650e-03</td>\n",
       "      <td>1.533915e-03</td>\n",
       "      <td>5.987830e-06</td>\n",
       "      <td>2.031333e-05</td>\n",
       "      <td>1.078239e-05</td>\n",
       "      <td>2.285750e-04</td>\n",
       "      <td>6.070983e-06</td>\n",
       "      <td>4.953544e-06</td>\n",
       "      <td>...</td>\n",
       "      <td>2.327797e-06</td>\n",
       "      <td>3.492094e-04</td>\n",
       "      <td>9.739353e-06</td>\n",
       "      <td>3.244911e-05</td>\n",
       "      <td>1.101533e-05</td>\n",
       "      <td>8.239251e-06</td>\n",
       "      <td>1.509805e-05</td>\n",
       "      <td>1.728167e-04</td>\n",
       "      <td>1.036550e-05</td>\n",
       "      <td>3.453305e-05</td>\n",
       "    </tr>\n",
       "    <tr>\n",
       "      <th>3</th>\n",
       "      <td>2.223867e-07</td>\n",
       "      <td>3.875993e-06</td>\n",
       "      <td>4.823339e-07</td>\n",
       "      <td>1.984758e-06</td>\n",
       "      <td>5.422234e-07</td>\n",
       "      <td>2.974989e-07</td>\n",
       "      <td>1.743876e-06</td>\n",
       "      <td>6.688515e-07</td>\n",
       "      <td>8.298736e-07</td>\n",
       "      <td>7.477412e-07</td>\n",
       "      <td>...</td>\n",
       "      <td>2.835943e-07</td>\n",
       "      <td>1.003089e-05</td>\n",
       "      <td>3.911409e-05</td>\n",
       "      <td>4.124321e-06</td>\n",
       "      <td>7.035635e-07</td>\n",
       "      <td>4.920156e-04</td>\n",
       "      <td>5.588339e-07</td>\n",
       "      <td>2.379691e-06</td>\n",
       "      <td>1.179465e-06</td>\n",
       "      <td>1.429031e-06</td>\n",
       "    </tr>\n",
       "    <tr>\n",
       "      <th>4</th>\n",
       "      <td>3.574091e-06</td>\n",
       "      <td>2.971038e-06</td>\n",
       "      <td>3.370575e-06</td>\n",
       "      <td>1.243775e-03</td>\n",
       "      <td>2.660921e-06</td>\n",
       "      <td>2.563698e-06</td>\n",
       "      <td>2.037598e-06</td>\n",
       "      <td>4.181594e-04</td>\n",
       "      <td>2.632974e-06</td>\n",
       "      <td>1.064510e-06</td>\n",
       "      <td>...</td>\n",
       "      <td>7.601619e-07</td>\n",
       "      <td>7.902462e-06</td>\n",
       "      <td>2.933021e-06</td>\n",
       "      <td>2.335509e-06</td>\n",
       "      <td>1.434222e-06</td>\n",
       "      <td>6.150513e-06</td>\n",
       "      <td>2.793845e-06</td>\n",
       "      <td>9.095035e-01</td>\n",
       "      <td>2.003358e-06</td>\n",
       "      <td>2.616796e-06</td>\n",
       "    </tr>\n",
       "    <tr>\n",
       "      <th>5</th>\n",
       "      <td>2.281384e-07</td>\n",
       "      <td>1.183288e-08</td>\n",
       "      <td>9.152753e-09</td>\n",
       "      <td>4.319045e-06</td>\n",
       "      <td>6.928589e-09</td>\n",
       "      <td>5.316984e-07</td>\n",
       "      <td>2.452763e-08</td>\n",
       "      <td>2.973251e-08</td>\n",
       "      <td>6.539660e-09</td>\n",
       "      <td>5.746810e-08</td>\n",
       "      <td>...</td>\n",
       "      <td>2.045407e-09</td>\n",
       "      <td>1.755008e-07</td>\n",
       "      <td>2.688771e-08</td>\n",
       "      <td>3.720073e-09</td>\n",
       "      <td>1.590606e-08</td>\n",
       "      <td>1.175132e-08</td>\n",
       "      <td>5.677245e-09</td>\n",
       "      <td>5.581510e-09</td>\n",
       "      <td>5.408371e-09</td>\n",
       "      <td>1.503289e-08</td>\n",
       "    </tr>\n",
       "  </tbody>\n",
       "</table>\n",
       "<p>5 rows × 128 columns</p>\n",
       "</div>"
      ],
      "text/plain": [
       "              c0            c1            c2            c3            c4  \\\n",
       "id                                                                         \n",
       "1   3.261211e-08  5.020128e-07  5.361635e-08  5.244438e-08  2.904140e-08   \n",
       "2   1.639542e-05  1.142982e-05  1.791650e-03  1.533915e-03  5.987830e-06   \n",
       "3   2.223867e-07  3.875993e-06  4.823339e-07  1.984758e-06  5.422234e-07   \n",
       "4   3.574091e-06  2.971038e-06  3.370575e-06  1.243775e-03  2.660921e-06   \n",
       "5   2.281384e-07  1.183288e-08  9.152753e-09  4.319045e-06  6.928589e-09   \n",
       "\n",
       "              c5            c6            c7            c8            c9  \\\n",
       "id                                                                         \n",
       "1   2.049096e-07  3.680670e-08  3.855628e-07  1.036326e-08  1.775351e-06   \n",
       "2   2.031333e-05  1.078239e-05  2.285750e-04  6.070983e-06  4.953544e-06   \n",
       "3   2.974989e-07  1.743876e-06  6.688515e-07  8.298736e-07  7.477412e-07   \n",
       "4   2.563698e-06  2.037598e-06  4.181594e-04  2.632974e-06  1.064510e-06   \n",
       "5   5.316984e-07  2.452763e-08  2.973251e-08  6.539660e-09  5.746810e-08   \n",
       "\n",
       "        ...               c118          c119          c120          c121  \\\n",
       "id      ...                                                                \n",
       "1       ...       1.444290e-07  1.634095e-08  1.411942e-08  1.679812e-08   \n",
       "2       ...       2.327797e-06  3.492094e-04  9.739353e-06  3.244911e-05   \n",
       "3       ...       2.835943e-07  1.003089e-05  3.911409e-05  4.124321e-06   \n",
       "4       ...       7.601619e-07  7.902462e-06  2.933021e-06  2.335509e-06   \n",
       "5       ...       2.045407e-09  1.755008e-07  2.688771e-08  3.720073e-09   \n",
       "\n",
       "            c122          c123          c124          c125          c126  \\\n",
       "id                                                                         \n",
       "1   1.096860e-07  3.669452e-08  5.038070e-07  4.049326e-07  8.418400e-08   \n",
       "2   1.101533e-05  8.239251e-06  1.509805e-05  1.728167e-04  1.036550e-05   \n",
       "3   7.035635e-07  4.920156e-04  5.588339e-07  2.379691e-06  1.179465e-06   \n",
       "4   1.434222e-06  6.150513e-06  2.793845e-06  9.095035e-01  2.003358e-06   \n",
       "5   1.590606e-08  1.175132e-08  5.677245e-09  5.581510e-09  5.408371e-09   \n",
       "\n",
       "            c127  \n",
       "id                \n",
       "1   8.085588e-09  \n",
       "2   3.453305e-05  \n",
       "3   1.429031e-06  \n",
       "4   2.616796e-06  \n",
       "5   1.503289e-08  \n",
       "\n",
       "[5 rows x 128 columns]"
      ]
     },
     "execution_count": 9,
     "metadata": {},
     "output_type": "execute_result"
    }
   ],
   "source": [
    "y_probas = df_probas.groupby('id').mean()\n",
    "y_probas.head()"
   ]
  },
  {
   "cell_type": "code",
   "execution_count": 10,
   "metadata": {},
   "outputs": [],
   "source": [
    "def gmean(arr):\n",
    "    l = len(arr)\n",
    "    prod = np.prod(arr)\n",
    "    return np.power(prod, 1.0/l)"
   ]
  },
  {
   "cell_type": "code",
   "execution_count": 12,
   "metadata": {},
   "outputs": [],
   "source": [
    "from PIL import Image\n",
    "from common.dataset import FilesFromCsvDataset, TransformedDataset\n",
    "from common.meta import get_metafeatures, get_imsize_and_targets\n",
    "\n",
    "\n",
    "dataset = FilesFromCsvDataset(\"../output/filtered_val_dataset.csv\")\n",
    "dataset = TransformedDataset(dataset,\n",
    "                             transforms=lambda x: (x, Image.open(x).size),\n",
    "                             target_transforms=lambda l: l - 1)\n",
    "\n",
    "df_imsize_targets = get_imsize_and_targets(dataset)\n",
    "\n",
    "y_true = df_imsize_targets['target']\n",
    "y_probas = y_probas.loc[y_true.index, :]"
   ]
  },
  {
   "cell_type": "code",
   "execution_count": null,
   "metadata": {},
   "outputs": [],
   "source": [
    "y_probas_gmean = df_probas.groupby('id').agg(gmean)\n",
    "y_probas_gmean = y_probas_gmean.loc[y_true.index, :]\n",
    "y_pred_gmean = np.argmax(y_probas_gmean.values, axis=1)"
   ]
  },
  {
   "cell_type": "code",
   "execution_count": 13,
   "metadata": {},
   "outputs": [],
   "source": [
    "y_pred = np.argmax(y_probas.values, axis=1)"
   ]
  },
  {
   "cell_type": "code",
   "execution_count": 14,
   "metadata": {},
   "outputs": [],
   "source": [
    "from sklearn.metrics import confusion_matrix, recall_score, precision_score, accuracy_score"
   ]
  },
  {
   "cell_type": "code",
   "execution_count": 17,
   "metadata": {},
   "outputs": [],
   "source": [
    "# 1.0 - accuracy_score(y_true, y_pred), 1.0 - accuracy_score(y_true, y_pred_gmean)"
   ]
  },
  {
   "cell_type": "code",
   "execution_count": 16,
   "metadata": {},
   "outputs": [
    {
     "data": {
      "text/plain": [
       "0.12033063106024477"
      ]
     },
     "execution_count": 16,
     "metadata": {},
     "output_type": "execute_result"
    }
   ],
   "source": [
    "1.0 - accuracy_score(y_true, y_pred)"
   ]
  },
  {
   "cell_type": "code",
   "execution_count": null,
   "metadata": {},
   "outputs": [],
   "source": []
  },
  {
   "cell_type": "markdown",
   "metadata": {},
   "source": [
    "Random search on weights"
   ]
  },
  {
   "cell_type": "code",
   "execution_count": 75,
   "metadata": {},
   "outputs": [],
   "source": [
    "from hyperopt import fmin, tpe, hp, STATUS_OK, Trials"
   ]
  },
  {
   "cell_type": "code",
   "execution_count": 78,
   "metadata": {},
   "outputs": [
    {
     "name": "stdout",
     "output_type": "stream",
     "text": [
      "Trial: weights: [0.6502439893957839, 0.26318039929210996, 0.7458385736091229, 0.7722734335810308, 0.6776513407388889] -> Score: 0.11937688761723098\n",
      "Trial: weights: [0.2289318110394981, 0.22694770867699957, 0.3221438489198394, 0.4054594346341398, 0.36348884656616354] -> Score: 0.12048958830074707\n",
      "Trial: weights: [0.7594670427062964, 0.5636441139209528, 0.3869410339976941, 0.4324537181374346, 0.6505878868988342] -> Score: 0.12064854554124937\n",
      "Trial: weights: [0.5392559086067699, 0.6772254053721374, 0.3441934753667838, 0.5006885775318024, 0.5562466922641028] -> Score: 0.12080750278175167\n",
      "Trial: weights: [0.7031387535458071, 0.34843043659348677, 0.25253370588478, 0.4663617622461379, 0.7335647289156442] -> Score: 0.12080750278175167\n",
      "Trial: weights: [0.7132216748504683, 0.40093043423762814, 0.6343983222917918, 0.4947370054340614, 0.2109020339748768] -> Score: 0.12080750278175167\n",
      "Trial: weights: [0.6446847492713286, 0.7514811875858598, 0.7030213887977204, 0.2443196751402988, 0.38081553324780215] -> Score: 0.12192020346526788\n",
      "Trial: weights: [0.5416431128268877, 0.7250253419156312, 0.5637342126277278, 0.5720848681120811, 0.6879071802454932] -> Score: 0.11969480209823558\n",
      "Trial: weights: [0.3703813348492766, 0.6484522311234804, 0.48141500749892874, 0.24744758996877014, 0.6390921214579619] -> Score: 0.12096646002225397\n",
      "Trial: weights: [0.7060907874594808, 0.6345333207781143, 0.4577056532517631, 0.4189558393672973, 0.5522167986297146] -> Score: 0.12048958830074707\n",
      "Trial: weights: [0.4489548956031174, 0.7636336153280796, 0.5147595678701525, 0.376152695818989, 0.43116273033947095] -> Score: 0.12176124622476558\n",
      "Trial: weights: [0.21548046628347187, 0.7024760223497948, 0.6062469076064674, 0.49492529477238384, 0.37180791240428307] -> Score: 0.12176124622476558\n",
      "Trial: weights: [0.38454538234526003, 0.7042242584398168, 0.7227630901489277, 0.2667593446673271, 0.30490689714981795] -> Score: 0.12207916070577018\n",
      "Trial: weights: [0.5231333177055822, 0.22835784608776424, 0.7253829435357433, 0.6613929091934776, 0.24561787295785897] -> Score: 0.12017167381974247\n",
      "Trial: weights: [0.7606132826468479, 0.20057554107168196, 0.3503507869203909, 0.5554476219076725, 0.5964794629611225] -> Score: 0.12033063106024477\n",
      "Trial: weights: [0.23861274630085744, 0.3917388079884443, 0.6903836418571222, 0.6762171902069478, 0.5429532198558156] -> Score: 0.12080750278175167\n",
      "Trial: weights: [0.7121298099371081, 0.2662217736542059, 0.45365122055054924, 0.2708891750533405, 0.4369399556295005] -> Score: 0.11969480209823558\n",
      "Trial: weights: [0.7991957564943148, 0.6720165805705896, 0.7857934243709608, 0.4209012012167443, 0.7063633964158764] -> Score: 0.11985375933873788\n",
      "Trial: weights: [0.2722922143177172, 0.7936291217834033, 0.7104145401440909, 0.504981745420819, 0.203583731891411] -> Score: 0.12223811794627248\n",
      "Trial: weights: [0.2581409870419, 0.46875490616675913, 0.2189646691965803, 0.338764308036767, 0.7013213060319534] -> Score: 0.12255603242727708\n",
      "Trial: weights: [0.6194809462535973, 0.3016924195927013, 0.4399515570870557, 0.7724881627786924, 0.4533033084685729] -> Score: 0.12001271657924018\n",
      "Trial: weights: [0.593043387071439, 0.2772773386486129, 0.5374301426343109, 0.7856434103572952, 0.7996080659279862] -> Score: 0.12033063106024477\n",
      "Trial: weights: [0.6522716882974616, 0.4844910817752886, 0.4249274719907402, 0.3219719177029114, 0.4813748997998063] -> Score: 0.12080750278175167\n",
      "Trial: weights: [0.5788106163955123, 0.272297590764462, 0.7801942650080257, 0.7302392776707024, 0.5005574297566796] -> Score: 0.12001271657924018\n",
      "Trial: weights: [0.45879775180170823, 0.34560798380280744, 0.28353151167777474, 0.2019426991106244, 0.28342054336656086] -> Score: 0.12128437450325857\n",
      "Trial: weights: [0.7882747175491186, 0.4384940911578009, 0.6154910322489457, 0.6250861149082269, 0.7685843683524625] -> Score: 0.11921793037672868\n",
      "Trial: weights: [0.7888968586465818, 0.5477274919788157, 0.654272442826749, 0.6343305161892403, 0.7842960001210277] -> Score: 0.12001271657924018\n",
      "Trial: weights: [0.7535605872022165, 0.4462021452486615, 0.5808387914198121, 0.6063556995552387, 0.7611442017016389] -> Score: 0.11937688761723098\n",
      "Trial: weights: [0.6564489521468145, 0.5361758846771775, 0.7990699099626537, 0.7225880687452753, 0.6644195373067588] -> Score: 0.12001271657924018\n",
      "Trial: weights: [0.6847319802260267, 0.5847512915958306, 0.7540724243184963, 0.722063105701664, 0.7522087889442359] -> Score: 0.12001271657924018\n",
      "Trial: weights: [0.7998464338525264, 0.42487811444081425, 0.6541878469168212, 0.7579942650608373, 0.6096069871223202] -> Score: 0.12033063106024477\n",
      "Trial: weights: [0.7506874051272991, 0.3401996366313793, 0.6152180362778875, 0.6893632047969342, 0.7961225810233022] -> Score: 0.11890001589572408\n",
      "Trial: weights: [0.32923152160748836, 0.34913418617717273, 0.605295456815747, 0.5566433121056804, 0.7965670934206472] -> Score: 0.12144333174376087\n",
      "Trial: weights: [0.7474989903173332, 0.32349778511741367, 0.538999411177285, 0.6920738349578347, 0.726481376194959] -> Score: 0.11890001589572408\n",
      "Trial: weights: [0.7393448024760114, 0.31745163634615536, 0.3955970760336977, 0.6991814275623367, 0.7244056751074768] -> Score: 0.11969480209823558\n",
      "Trial: weights: [0.5864152100298907, 0.2346110770393517, 0.4992212346571867, 0.5904679307661224, 0.600930570415241] -> Score: 0.11905897313622638\n",
      "Trial: weights: [0.4652305652913052, 0.40419275689604617, 0.5441485341942968, 0.7988120966052332, 0.6374377461011917] -> Score: 0.11937688761723098\n",
      "Trial: weights: [0.5035236128186467, 0.36861901397828534, 0.5745986810458967, 0.5280094395862616, 0.7262528869333928] -> Score: 0.12064854554124937\n",
      "Trial: weights: [0.6800228473930153, 0.5153196307683118, 0.6853320096237652, 0.6576574970769828, 0.66096740607359] -> Score: 0.11985375933873788\n",
      "Trial: weights: [0.7415148781554162, 0.20616111830854514, 0.4055600457060744, 0.455073424257848, 0.509207496805557] -> Score: 0.11921793037672868\n",
      "Trial: weights: [0.6198409761965502, 0.6001139881517628, 0.36206046502058464, 0.7514947633529696, 0.5646173290338024] -> Score: 0.11985375933873788\n",
      "Trial: weights: [0.5531485089523586, 0.3090220501871181, 0.48807768233510596, 0.6280372812170771, 0.7414380902171496] -> Score: 0.12001271657924018\n",
      "Trial: weights: [0.6246503179319606, 0.38301149657837597, 0.5223295887236319, 0.6936736557860459, 0.7999558813266651] -> Score: 0.12001271657924018\n",
      "Trial: weights: [0.4141969869330337, 0.34067410852560326, 0.3161158379426084, 0.5294427734999764, 0.40782547984006545] -> Score: 0.11953584485773328\n",
      "Trial: weights: [0.7769326784916107, 0.24631615275569008, 0.6642805164002067, 0.459935606905101, 0.6727237099297433] -> Score: 0.11890001589572408\n",
      "Trial: weights: [0.6826040223769145, 0.2435740578589068, 0.7593918728640179, 0.46356972361068555, 0.6817061142337875] -> Score: 0.11969480209823558\n",
      "Trial: weights: [0.7246715492448845, 0.4146946079575835, 0.6238120329388359, 0.5829225271330706, 0.6216937625853844] -> Score: 0.11969480209823558\n",
      "Trial: weights: [0.7768732000883026, 0.24794864069194889, 0.6584567485444087, 0.39073111639146657, 0.5853401704732246] -> Score: 0.11905897313622638\n",
      "Trial: weights: [0.3503725937413996, 0.20380533396126002, 0.556765655993499, 0.3486347786056444, 0.5688824717879819] -> Score: 0.11985375933873788\n",
      "Trial: weights: [0.5609173241929717, 0.28622758702106565, 0.7379046197498609, 0.4396046858300644, 0.518073745389029] -> Score: 0.11969480209823558\n",
      "Trial: weights: [0.5050997282617945, 0.21484750723266396, 0.46303551511697577, 0.30411143031271737, 0.5365005308403252] -> Score: 0.11953584485773328\n",
      "Trial: weights: [0.2948098753702122, 0.46415448123351927, 0.674107487348276, 0.5132997698867376, 0.3375710136273965] -> Score: 0.12017167381974247\n",
      "Trial: weights: [0.41166830021026524, 0.5098749352086664, 0.5896922267223795, 0.3652851914740521, 0.7014759496956819] -> Score: 0.12001271657924018\n",
      "Trial: weights: [0.7065329548917452, 0.3261633362344505, 0.5201593597525608, 0.7996248833626202, 0.7744429666747872] -> Score: 0.11937688761723098\n",
      "Trial: weights: [0.7672929877032646, 0.36289066974304046, 0.37166653951063566, 0.4787789892939478, 0.6349677118343428] -> Score: 0.12096646002225397\n",
      "Trial: weights: [0.6452318215754578, 0.25584829414748056, 0.7078032545690129, 0.4058531878890104, 0.4630632325881784] -> Score: 0.11953584485773328\n",
      "Trial: weights: [0.20644797604822568, 0.2914636955148552, 0.313199415097888, 0.30746035602721933, 0.39881900936270553] -> Score: 0.12001271657924018\n",
      "Trial: weights: [0.5354274202549506, 0.48609484666474023, 0.47149406456971305, 0.6536687865418612, 0.7207111015711557] -> Score: 0.11985375933873788\n",
      "Trial: weights: [0.4759796025422094, 0.6326533971234215, 0.43314934852597586, 0.6837905885387575, 0.3257499849371204] -> Score: 0.12048958830074707\n",
      "Trial: weights: [0.7256253530510236, 0.38944521124881915, 0.7724416109476558, 0.5492598837234695, 0.6522514392997018] -> Score: 0.11985375933873788\n",
      "Trial: weights: [0.6776577208264526, 0.45028879312446896, 0.6343425687378806, 0.21623848134417173, 0.6843838842221329] -> Score: 0.11985375933873788\n",
      "Trial: weights: [0.4312471433725988, 0.4255181965455621, 0.25295757983678935, 0.7412017485036315, 0.746828965464562] -> Score: 0.12176124622476558\n",
      "Trial: weights: [0.6027447352366601, 0.779955282252467, 0.7230685032513108, 0.4437823701148218, 0.5801184973978805] -> Score: 0.12112541726275627\n",
      "Trial: weights: [0.7778390080038067, 0.26716274110298355, 0.7968037971139321, 0.49150606572063066, 0.7909042285494107] -> Score: 0.12001271657924018\n",
      "Trial: weights: [0.6678850415672106, 0.7356525120267017, 0.5979803421102716, 0.6074375159354026, 0.5345593819979858] -> Score: 0.12080750278175167\n",
      "Trial: weights: [0.7991336695917591, 0.22967133006420593, 0.5646234942175006, 0.7112927550982882, 0.7069387963396284] -> Score: 0.11937688761723098\n",
      "Trial: weights: [0.7480274545578999, 0.3278062083461471, 0.664993872579293, 0.5705041775902784, 0.6685119976673207] -> Score: 0.11921793037672868\n",
      "Trial: weights: [0.6330671068105712, 0.3677617287277406, 0.6376964342601571, 0.6509396164165137, 0.7733436723802304] -> Score: 0.11969480209823558\n",
      "Trial: weights: [0.722562429102197, 0.2942161521398843, 0.538248209293485, 0.6726025304973176, 0.7506694336301013] -> Score: 0.11921793037672868\n",
      "Trial: weights: [0.6972421641299481, 0.2180017325485999, 0.49361356646642635, 0.7796834279228808, 0.6136259043018878] -> Score: 0.11953584485773328\n",
      "Trial: weights: [0.761658700682623, 0.334049609264596, 0.6398343244482269, 0.5374524947098323, 0.4815313369277223] -> Score: 0.11953584485773328\n",
      "Trial: weights: [0.6074043331429688, 0.354964232220921, 0.687668900431994, 0.6045992194885061, 0.7179501913988228] -> Score: 0.12001271657924018\n",
      "Trial: weights: [0.5714906926438428, 0.31353680967732767, 0.6133477808900909, 0.4196591120053419, 0.7341124941102317] -> Score: 0.11969480209823558\n",
      "Trial: weights: [0.6612530564550058, 0.40225733224599625, 0.555830271563372, 0.638272560598205, 0.26402791758620375] -> Score: 0.12017167381974247\n",
      "Trial: weights: [0.6939553249321968, 0.3797147531296316, 0.41713845838392916, 0.7630649777002386, 0.6967844793814661] -> Score: 0.11985375933873788\n",
      "Trial: weights: [0.7964780161117894, 0.5312912716889817, 0.4481616172277296, 0.47831219668088437, 0.62928788759439] -> Score: 0.12064854554124937\n",
      "Trial: weights: [0.7817758994421166, 0.27935399941060746, 0.5808192356231142, 0.3856654598368331, 0.6461769985296912] -> Score: 0.11874105865522178\n",
      "Trial: weights: [0.775802654755932, 0.27409487987961667, 0.5082555161683613, 0.24874724618257063, 0.5916391621816434] -> Score: 0.11969480209823558\n",
      "Trial: weights: [0.7471564725972358, 0.4912834454330872, 0.582808878941687, 0.3392729246972117, 0.6437233266076614] -> Score: 0.12080750278175167\n",
      "Trial: weights: [0.6410777631317599, 0.2536379318297197, 0.47755810547762445, 0.39155283221438253, 0.5510278159774563] -> Score: 0.11969480209823558\n",
      "Trial: weights: [0.7334154956899539, 0.2373072636561591, 0.5333616894441164, 0.2857664429427804, 0.6080499701053661] -> Score: 0.11905897313622638\n",
      "Trial: weights: [0.7137582887544739, 0.3051442452466687, 0.6948476695049102, 0.36426331051375044, 0.6744066626869163] -> Score: 0.11953584485773328\n",
      "Trial: weights: [0.5261963847941692, 0.4346129749147507, 0.572240965546694, 0.7396025350614334, 0.7595020573224482] -> Score: 0.11969480209823558\n",
      "Trial: weights: [0.7850207311880748, 0.5772149208514246, 0.6247564985030075, 0.5084578137614393, 0.654067317896318] -> Score: 0.12112541726275627\n",
      "Trial: weights: [0.7643110443936301, 0.20228392477792734, 0.7399384436078288, 0.39544630792859636, 0.516291020698065] -> Score: 0.11937688761723098\n",
      "Trial: weights: [0.31181339805011793, 0.28162904704201547, 0.6730073186079354, 0.43376856025378224, 0.5646380177815643] -> Score: 0.11953584485773328\n",
      "Trial: weights: [0.48236310150312917, 0.34593258782351155, 0.3317322822965462, 0.21866621209662013, 0.7984160945875085] -> Score: 0.12001271657924018\n",
      "Trial: weights: [0.3638859104941235, 0.46045885108133633, 0.5083622327717418, 0.7040873236324916, 0.2159872573163823] -> Score: 0.12033063106024477\n",
      "Trial: weights: [0.6659655042979895, 0.3190510179493308, 0.592848719395083, 0.5688014092975986, 0.784160515144495] -> Score: 0.11890001589572408\n",
      "Trial: weights: [0.23410378666891418, 0.2597569856874735, 0.7121787634780332, 0.3227638017581742, 0.6200365184818843] -> Score: 0.12001271657924018\n",
      "Trial: weights: [0.6952457891587356, 0.24113876273518597, 0.6427090350030666, 0.41338501244162207, 0.4838561104971754] -> Score: 0.11858210141471948\n",
      "Trial: weights: [0.6099016750987702, 0.21561658880487244, 0.5990824059324374, 0.2746269355315527, 0.43790770623819125] -> Score: 0.11969480209823558\n",
      "Trial: weights: [0.587809139842949, 0.29769998866867886, 0.648146179439812, 0.3702777397951263, 0.38256425471695] -> Score: 0.12048958830074707\n",
      "Trial: weights: [0.6969876517491368, 0.3798063095652435, 0.5558233488956165, 0.35462227172097793, 0.4832559092988168] -> Score: 0.11921793037672868\n",
      "Trial: weights: [0.5556456711053395, 0.41450925205022615, 0.7630081356426668, 0.40700116005787407, 0.4166995356358403] -> Score: 0.12033063106024477\n",
      "Trial: weights: [0.663975460156036, 0.5562700908482023, 0.5905853864023013, 0.4759408736528933, 0.360355396338894] -> Score: 0.12096646002225397\n",
      "Trial: weights: [0.71104449273533, 0.2790219413877379, 0.6193237443829778, 0.3229935349675998, 0.4525889372192051] -> Score: 0.11921793037672868\n",
      "Trial: weights: [0.628676052787083, 0.6261981698196877, 0.7013720776367491, 0.37999423275148797, 0.29923306899782265] -> Score: 0.12112541726275627\n",
      "Trial: weights: [0.38791072977735164, 0.7061682954363367, 0.5453265386901929, 0.29487884958051314, 0.49656504010586205] -> Score: 0.12176124622476558\n",
      "Trial: weights: [0.6494945138768282, 0.6626535646799092, 0.39343770465516625, 0.26077181495523716, 0.5298741713834053] -> Score: 0.12128437450325857\n",
      "Trial: weights: [0.7318133318034244, 0.22449326122492952, 0.36976032933483793, 0.4501892698300143, 0.42309744633331514] -> Score: 0.11921793037672868\n",
      "Trial: weights: [0.7548338345012562, 0.3599258391237084, 0.7487117684631098, 0.4250174102102339, 0.35155586952390305] -> Score: 0.12064854554124937\n",
      "Trial: weights: [0.7992249394312487, 0.24926650906607284, 0.7836871696188379, 0.4623194124566393, 0.38514021873596554] -> Score: 0.11937688761723098\n",
      "Trial: weights: [0.572994886884491, 0.3356290137079716, 0.7240559194818461, 0.5202543170018338, 0.458729638863204] -> Score: 0.11937688761723098\n",
      "Trial: weights: [0.5093855359902107, 0.4752143426084029, 0.48647311779636293, 0.4947383562299496, 0.6023607708090376] -> Score: 0.11969480209823558\n",
      "Trial: weights: [0.6791847049824794, 0.2623301786677411, 0.6732653389538479, 0.2260550761490223, 0.5741975388418266] -> Score: 0.11953584485773328\n",
      "Trial: weights: [0.6907295841791053, 0.200954256187849, 0.5220391330193798, 0.5404069207480234, 0.4954374136371691] -> Score: 0.11890001589572408\n",
      "Trial: weights: [0.5416567859292819, 0.201427592420943, 0.528281725099181, 0.5432414534603585, 0.46948772790532795] -> Score: 0.11969480209823558\n",
      "Trial: weights: [0.5989893098476301, 0.5288573089067812, 0.6467085299551301, 0.3127873945946162, 0.4445871576323831] -> Score: 0.12112541726275627\n",
      "Trial: weights: [0.719517529834807, 0.41791937440128035, 0.4446509775320978, 0.3794261486731349, 0.39651893689686274] -> Score: 0.12017167381974247\n",
      "Trial: weights: [0.2619458198546745, 0.5058472757444578, 0.6070808409106804, 0.3395187227909239, 0.5442192991380101] -> Score: 0.12048958830074707\n",
      "Trial: weights: [0.4383254815337918, 0.37242345459024745, 0.7328420054613123, 0.5928765274758008, 0.3165617015863116] -> Score: 0.12017167381974247\n",
      "Trial: weights: [0.7888712985349131, 0.40192011428980057, 0.5725316956536067, 0.41275516457186895, 0.5901940721914534] -> Score: 0.11985375933873788\n",
      "Trial: weights: [0.6865995777949775, 0.2243596346989972, 0.45554707007657963, 0.4867463349441963, 0.4997810744577869] -> Score: 0.11874105865522178\n",
      "Trial: weights: [0.6410336602297124, 0.22928322038358928, 0.21834779784718755, 0.4851942028511582, 0.5074982193364728] -> Score: 0.12080750278175167\n",
      "Trial: weights: [0.6213403088759702, 0.30714697438686483, 0.20401374443638504, 0.5610426662050686, 0.5310603535343648] -> Score: 0.12096646002225397\n",
      "Trial: weights: [0.5169405443564847, 0.2146207520515569, 0.2668988941281391, 0.4297344418048926, 0.42981826066297796] -> Score: 0.12001271657924018\n",
      "Trial: weights: [0.7041966952280231, 0.2681922270269601, 0.4135190271493231, 0.516944645010223, 0.4736826894323604] -> Score: 0.11985375933873788\n",
      "Trial: weights: [0.7418098192349302, 0.6129384907218292, 0.43133590908713887, 0.3560532178262677, 0.5541570196968812] -> Score: 0.12048958830074707\n",
      "Trial: weights: [0.7678263691956242, 0.2391404338348715, 0.2964858615480034, 0.397041922585818, 0.4108746067925455] -> Score: 0.11953584485773328\n",
      "Trial: weights: [0.48070098955036966, 0.28680262517206007, 0.4625889680783757, 0.33144836448817905, 0.5155633043130659] -> Score: 0.11953584485773328\n",
      "Trial: weights: [0.5813007417829865, 0.3943301659043075, 0.3523778008005751, 0.4429938634848255, 0.23929127816161916] -> Score: 0.12017167381974247\n",
      "Trial: weights: [0.5644290376835781, 0.4508547778217109, 0.5079922353442252, 0.4671590337393427, 0.3367745673298968] -> Score: 0.12048958830074707\n",
      "Trial: weights: [0.4940270566449123, 0.2962159341891738, 0.40052139136641196, 0.23804761996308146, 0.49223231630394587] -> Score: 0.12033063106024477\n",
      "Trial: weights: [0.6729061881569564, 0.3474226398850876, 0.3781788315663839, 0.28632956831846545, 0.3687733060031763] -> Score: 0.11969480209823558\n",
      "Trial: weights: [0.6554012305625337, 0.3212397042380061, 0.47004292244700835, 0.6229977799357176, 0.5613354447702222] -> Score: 0.12001271657924018\n",
      "Trial: weights: [0.6151285713838431, 0.21186476729181974, 0.5452308586514704, 0.4494613283504103, 0.270757102532776] -> Score: 0.11937688761723098\n",
      "Trial: weights: [0.5460265743264363, 0.22633320425530862, 0.48941621892759707, 0.5056778894415919, 0.44530476825948995] -> Score: 0.11953584485773328\n",
      "Trial: weights: [0.7358177363267429, 0.7988824762138254, 0.3415683735112159, 0.38556202349492025, 0.690167876468343] -> Score: 0.12192020346526788\n",
      "Trial: weights: [0.6349008752662327, 0.5872528031399981, 0.6314946750277132, 0.4702671652252552, 0.5239423045107942] -> Score: 0.12096646002225397\n",
      "Trial: weights: [0.5927966205326198, 0.24366450007117166, 0.38183260451502077, 0.5314681840878469, 0.5800687804814673] -> Score: 0.11953584485773328\n",
      "Trial: weights: [0.41150092877370237, 0.27063630234423147, 0.5799657766526656, 0.5779066517088445, 0.6298772937828441] -> Score: 0.12096646002225397\n",
      "Trial: weights: [0.5305021632132224, 0.7676232180119675, 0.45837493465619883, 0.20643371938071461, 0.6577434569568007] -> Score: 0.12192020346526788\n",
      "Trial: weights: [0.6866790753766031, 0.6934870841974651, 0.42140731657348385, 0.4206735985660428, 0.2948255830346071] -> Score: 0.12176124622476558\n",
      "Trial: weights: [0.7740419814226494, 0.33406046164814296, 0.7964082468566296, 0.4934278143928422, 0.5432222274135662] -> Score: 0.11953584485773328\n",
      "Trial: weights: [0.46037525797820467, 0.4410725520203392, 0.4979311147492799, 0.4081734803464866, 0.39588503466490643] -> Score: 0.12064854554124937\n",
      "Trial: weights: [0.7542897662616549, 0.3121414554512431, 0.5613224530517988, 0.35136047052803593, 0.6459394195950698] -> Score: 0.11937688761723098\n",
      "Trial: weights: [0.7225446990699554, 0.3542018662396675, 0.6596624822789514, 0.36881437956434876, 0.3543614265680746] -> Score: 0.12064854554124937\n",
      "Trial: weights: [0.7990499719655972, 0.42712215214577787, 0.30538610031206137, 0.2571766619907062, 0.5038129728501652] -> Score: 0.12064854554124937\n",
      "Trial: weights: [0.710618258451525, 0.25829463876801456, 0.7670270642340186, 0.30106081581183275, 0.7105694122046259] -> Score: 0.11985375933873788\n",
      "Trial: weights: [0.3426315080370978, 0.4958076472647153, 0.7137304213862098, 0.5534099918051972, 0.47521136596696834] -> Score: 0.12048958830074707\n",
      "Trial: weights: [0.6547915287252735, 0.4771984897277929, 0.6859127392560572, 0.2782931850195397, 0.4609574169843763] -> Score: 0.12096646002225397\n",
      "Trial: weights: [0.7864062666530769, 0.28564292693207305, 0.43851275310373217, 0.4344033190292921, 0.43099651483197077] -> Score: 0.12017167381974247\n",
      "Trial: weights: [0.6905422978473845, 0.5187277715435388, 0.5508945440783903, 0.5912767452077445, 0.5990553850870809] -> Score: 0.12048958830074707\n",
      "Trial: weights: [0.6712161774426229, 0.382828923033023, 0.5176294959400207, 0.6113900255832645, 0.6156888232156962] -> Score: 0.11969480209823558\n",
      "Trial: weights: [0.699617351534729, 0.20257827046709986, 0.5314658392142998, 0.5215007713078379, 0.4837229106865187] -> Score: 0.11937688761723098\n",
      "Trial: weights: [0.750206305733856, 0.29979542288647115, 0.6071385103632868, 0.45630080365043857, 0.7683983230905207] -> Score: 0.11905897313622638\n",
      "Trial: weights: [0.7623916651568752, 0.25191480576635256, 0.6222699440946187, 0.39705864109907796, 0.5773798171910585] -> Score: 0.11921793037672868\n",
      "Trial: weights: [0.7289182784328507, 0.23702281396039931, 0.5913534684494589, 0.6673476095038562, 0.7447344778815802] -> Score: 0.11905897313622638\n",
      "Trial: weights: [0.7801137418661573, 0.36333228906415993, 0.6450581847166917, 0.4860114732126141, 0.6860380000581566] -> Score: 0.11985375933873788\n",
      "Trial: weights: [0.735359644735522, 0.27425736444096416, 0.5713886126095619, 0.6824053192871098, 0.731103321577304] -> Score: 0.11905897313622638\n",
      "Trial: weights: [0.6280581066482005, 0.3191422947405353, 0.4754307685238286, 0.6431121270601753, 0.556432788473435] -> Score: 0.11985375933873788\n",
      "Trial: weights: [0.716364968863949, 0.32725593941101333, 0.6795952263849407, 0.31681418076323764, 0.5235957756951938] -> Score: 0.11905897313622638\n",
      "Trial: weights: [0.6808002558259705, 0.2061605494295388, 0.5243273794513147, 0.5029530630620805, 0.4936460187150341] -> Score: 0.11937688761723098\n",
      "Trial: weights: [0.795496219276973, 0.22325283140930313, 0.6675194823571432, 0.34283024606926166, 0.6721332010415575] -> Score: 0.11921793037672868\n",
      "Trial: weights: [0.7659865390798068, 0.33916724250391345, 0.6958302072510509, 0.7155329092296033, 0.41297897908635883] -> Score: 0.11969480209823558\n",
      "Trial: weights: [0.6431344572090203, 0.4099421348021167, 0.4062388809291309, 0.4197506464102632, 0.7197036953858006] -> Score: 0.11969480209823558\n",
      "Trial: weights: [0.7460730020625045, 0.28586967115413675, 0.4481302218514097, 0.43808107433973936, 0.6306170552231058] -> Score: 0.11969480209823558\n",
      "Trial: weights: [0.6707398530741792, 0.30455259912886323, 0.5930954804604233, 0.5639922816477798, 0.7834921902995063] -> Score: 0.11905897313622638\n",
      "Trial: weights: [0.701699617241671, 0.25439306977770204, 0.6130725470745413, 0.3631542548301214, 0.4472877267981127] -> Score: 0.11905897313622638\n",
      "Trial: weights: [0.5983546643808035, 0.23667542198304115, 0.5387079785042543, 0.47866608288468915, 0.5944576747526266] -> Score: 0.11953584485773328\n",
      "Trial: weights: [0.7825967475611706, 0.2665231094560311, 0.5104181371218135, 0.38854349131728894, 0.7572209326677583] -> Score: 0.11953584485773328\n",
      "Trial: weights: [0.6069771981992337, 0.21801551821212864, 0.4814888384719201, 0.3752414350111126, 0.7022953842600334] -> Score: 0.11905897313622638\n",
      "Trial: weights: [0.651698251896879, 0.3888778815097732, 0.5636908464419023, 0.7946296907906456, 0.38127871248829853] -> Score: 0.12017167381974247\n",
      "Trial: weights: [0.7591441889240109, 0.3702857324755003, 0.6560159239021918, 0.5382859846862698, 0.5400454393497367] -> Score: 0.11985375933873788\n",
      "Trial: weights: [0.567852993749711, 0.3097240301525041, 0.6332061323641565, 0.5682107955686789, 0.7847453561376917] -> Score: 0.11969480209823558\n",
      "Trial: weights: [0.6619145302334885, 0.29322475461105696, 0.3303879648086987, 0.5819459287200279, 0.513082040068021] -> Score: 0.12017167381974247\n",
      "Trial: weights: [0.7230611335112771, 0.6495277945449107, 0.5802705396062003, 0.772714306122441, 0.5698655677173797] -> Score: 0.12017167381974247\n",
      "Trial: weights: [0.7947051117813797, 0.24522776821660497, 0.726002040090525, 0.45357553023120223, 0.6648566622394263] -> Score: 0.11969480209823558\n",
      "Trial: weights: [0.6271427712930956, 0.5446286737688218, 0.49750137719106347, 0.3289970891443022, 0.33634574626805996] -> Score: 0.12160228898426328\n",
      "Trial: weights: [0.49507285619486063, 0.35247931473219984, 0.7072850205930377, 0.6263079178884609, 0.4659074897251276] -> Score: 0.12064854554124937\n",
      "Trial: weights: [0.7708795297022266, 0.23117871856296324, 0.7482740234057437, 0.40604045861696864, 0.648841856539699] -> Score: 0.11937688761723098\n",
      "Trial: weights: [0.21958738916951687, 0.281194416968135, 0.6658301164345684, 0.5066648325982042, 0.6200113726731373] -> Score: 0.12048958830074707\n",
      "Trial: weights: [0.7106698240585215, 0.20166590268448217, 0.7737109498259507, 0.46515610723728773, 0.6072935798943301] -> Score: 0.12017167381974247\n",
      "Trial: weights: [0.6100803212429002, 0.4539742435438232, 0.5491755810796886, 0.4306373205511487, 0.4293466254461141] -> Score: 0.12048958830074707\n",
      "Trial: weights: [0.5547352012141994, 0.2129640448886098, 0.46027340368931424, 0.524067722470904, 0.48833920822536114] -> Score: 0.11953584485773328\n",
      "Trial: weights: [0.5805387483207797, 0.2631655589422467, 0.39156525561060523, 0.548556099891462, 0.39685657910706845] -> Score: 0.12001271657924018\n",
      "Trial: weights: [0.6913026811220975, 0.7374785662559157, 0.4287692485494212, 0.6063247014449575, 0.5039899910146928] -> Score: 0.12128437450325857\n",
      "Trial: weights: [0.3896092804256286, 0.22457556052502184, 0.5218263737610926, 0.5406381252812763, 0.3153611940044242] -> Score: 0.11985375933873788\n",
      "Trial: weights: [0.2796536957353567, 0.3263822045890449, 0.6002545785218292, 0.7385763528651763, 0.5423409098750899] -> Score: 0.12112541726275627\n",
      "Trial: weights: [0.739851721974836, 0.31669296913960165, 0.6306805751890743, 0.497319695459401, 0.5531242529059004] -> Score: 0.11985375933873788\n",
      "Trial: weights: [0.5175597305506796, 0.5670079241744592, 0.5034901318860445, 0.4813740480149067, 0.4588657480633525] -> Score: 0.12064854554124937\n",
      "Trial: weights: [0.6841453031728537, 0.2462199238908309, 0.36654972105377737, 0.512347354216805, 0.3678816566017345] -> Score: 0.11905897313622638\n",
      "Trial: weights: [0.7786277231669875, 0.20082255313307623, 0.73883718212611, 0.4466868495409575, 0.5824421168007579] -> Score: 0.11890001589572408\n",
      "Trial: weights: [0.7982879264987724, 0.2773657267073445, 0.7596859210362014, 0.29540251449785304, 0.5622129151544855] -> Score: 0.11905897313622638\n",
      "Trial: weights: [0.7309348800459132, 0.2012395811220053, 0.7880966256754691, 0.35678273006518113, 0.5885031027573491] -> Score: 0.11937688761723098\n",
      "Trial: weights: [0.7551689935349941, 0.2556847712529787, 0.6480257466935748, 0.4160690516402427, 0.6367890319127261] -> Score: 0.11905897313622638\n",
      "Trial: weights: [0.6388501178802396, 0.23530401437847295, 0.4155193326650529, 0.5308683357345717, 0.42198283889698496] -> Score: 0.11953584485773328\n",
      "Trial: weights: [0.5885848539547919, 0.21502255567525969, 0.4697824888367858, 0.5951465843372956, 0.4058453746955507] -> Score: 0.11937688761723098\n",
      "Trial: weights: [0.541957830547807, 0.2962514495956893, 0.4882998089409614, 0.46947787002246877, 0.4764953022421825] -> Score: 0.11969480209823558\n",
      "Trial: weights: [0.45015618264869145, 0.3401418499590706, 0.45233050116105833, 0.6158675646285294, 0.5287339376006971] -> Score: 0.11953584485773328\n",
      "Trial: weights: [0.698851526766463, 0.4274545592152674, 0.5592056312219085, 0.2340604965210521, 0.6845647872901143] -> Score: 0.12096646002225397\n",
      "Trial: weights: [0.7426419735987554, 0.3975796297424068, 0.6920608912332253, 0.3837250662457043, 0.6753106230595545] -> Score: 0.11953584485773328\n",
      "Trial: weights: [0.6176682490630346, 0.3726627511927143, 0.3529483560790679, 0.25716591934289434, 0.7150634667498688] -> Score: 0.12048958830074707\n",
      "Trial: weights: [0.6663271742540455, 0.46446709212572734, 0.535708048990243, 0.30666792782559293, 0.7351309715560799] -> Score: 0.12048958830074707\n",
      "Trial: weights: [0.7121535373340477, 0.35295415634014576, 0.6163888550598124, 0.6945188558610861, 0.69385094481473] -> Score: 0.11969480209823558\n",
      "Trial: weights: [0.7838389145638089, 0.24711610492958952, 0.7211036941520702, 0.3351540505345572, 0.6570270775154805] -> Score: 0.11937688761723098\n",
      "Trial: weights: [0.6507697108904438, 0.26931035493125705, 0.5739227333788651, 0.6519937466155834, 0.43642934823439866] -> Score: 0.11953584485773328\n",
      "Trial: weights: [0.6773540689727965, 0.3071414618643802, 0.5847319631699855, 0.3660875174206575, 0.5181756974959619] -> Score: 0.11953584485773328\n",
      "Trial: weights: [0.31972524871822183, 0.3319423460561823, 0.6805438297642264, 0.39954077324255705, 0.450885006423991] -> Score: 0.12064854554124937\n"
     ]
    },
    {
     "data": {
      "text/plain": [
       "{'w_0': 0.6952457891587356,\n",
       " 'w_1': 0.24113876273518597,\n",
       " 'w_2': 0.6427090350030666,\n",
       " 'w_3': 0.41338501244162207,\n",
       " 'w_4': 0.4838561104971754}"
      ]
     },
     "execution_count": 78,
     "metadata": {},
     "output_type": "execute_result"
    }
   ],
   "source": [
    "y_true = df_imsize_targets['target']\n",
    "\n",
    "\n",
    "def score(params):\n",
    "    weights = [params[\"w_{}\".format(i)] for i in range(len(prediction_files))]\n",
    "    \n",
    "    print(\"Trial: weights: {}\".format(weights), end=\" -> \")\n",
    "    \n",
    "    dfs = [w * pd.read_csv(f, index_col='id') for w, f in zip(weights, prediction_files)]\n",
    "    df_probas = pd.concat(dfs, axis=0)\n",
    "    y_probas = df_probas.groupby('id').sum()\n",
    "    y_probas = y_probas.loc[y_true.index, :]\n",
    "    y_pred = np.argmax(y_probas.values, axis=1)\n",
    "    \n",
    "    res = 1.0 - accuracy_score(y_true, y_pred)\n",
    "    print(\"Score: {}\".format(res))\n",
    "    return {'loss': res, 'status': STATUS_OK}\n",
    "    \n",
    "    \n",
    "def get_uniform(name):\n",
    "    return hp.uniform(name, 0.2, 0.8)\n",
    "    \n",
    "    \n",
    "def optimize(trials):\n",
    "    params = {}\n",
    "    for i in range(len(prediction_files)):\n",
    "        n = \"w_{}\".format(i)\n",
    "        params[n] = get_uniform(n)   \n",
    "    best = fmin(score, params, algo=tpe.suggest, trials=trials, max_evals=200)    \n",
    "    return best\n",
    "\n",
    "\n",
    "trials = Trials()\n",
    "best_weights = optimize(trials)\n",
    "best_weights"
   ]
  },
  {
   "cell_type": "code",
   "execution_count": 79,
   "metadata": {},
   "outputs": [
    {
     "data": {
      "text/plain": [
       "({'w_0': 0.6952457891587356,\n",
       "  'w_1': 0.24113876273518597,\n",
       "  'w_2': 0.6427090350030666,\n",
       "  'w_3': 0.41338501244162207,\n",
       "  'w_4': 0.4838561104971754},\n",
       " {'book_time': datetime.datetime(2018, 5, 15, 7, 14, 4, 265000),\n",
       "  'exp_key': None,\n",
       "  'misc': {'cmd': ('domain_attachment', 'FMinIter_Domain'),\n",
       "   'idxs': {'w_0': [90], 'w_1': [90], 'w_2': [90], 'w_3': [90], 'w_4': [90]},\n",
       "   'tid': 90,\n",
       "   'vals': {'w_0': [0.6952457891587356],\n",
       "    'w_1': [0.24113876273518597],\n",
       "    'w_2': [0.6427090350030666],\n",
       "    'w_3': [0.41338501244162207],\n",
       "    'w_4': [0.4838561104971754]},\n",
       "   'workdir': None},\n",
       "  'owner': None,\n",
       "  'refresh_time': datetime.datetime(2018, 5, 15, 7, 14, 5, 133000),\n",
       "  'result': {'loss': 0.11858210141471948, 'status': 'ok'},\n",
       "  'spec': None,\n",
       "  'state': 2,\n",
       "  'tid': 90,\n",
       "  'version': 0})"
      ]
     },
     "execution_count": 79,
     "metadata": {},
     "output_type": "execute_result"
    }
   ],
   "source": [
    "best_weights, trials.best_trial"
   ]
  },
  {
   "cell_type": "code",
   "execution_count": 89,
   "metadata": {},
   "outputs": [],
   "source": [
    "# weights = [best_weights[\"w_{}\".format(i)] for i in range(len(prediction_files))]\n",
    "weights = [0.7, 0.25, 0.65, 0.42, 0.48]\n",
    "\n",
    "dfs = [w * pd.read_csv(f, index_col='id') for w, f in zip(weights, prediction_files)]\n",
    "assert len(dfs) == len(prediction_files)\n",
    "\n",
    "# merged_df = pd.concat([df for df in dfs], axis=1)\n",
    "# merged_df.columns = names"
   ]
  },
  {
   "cell_type": "code",
   "execution_count": 90,
   "metadata": {},
   "outputs": [],
   "source": [
    "df_probas = pd.concat(dfs, axis=0)\n",
    "\n",
    "y_probas = df_probas.groupby('id').sum()\n",
    "\n",
    "\n",
    "y_probas = y_probas.loc[y_true.index, :]\n",
    "y_pred = np.argmax(y_probas.values, axis=1)"
   ]
  },
  {
   "cell_type": "code",
   "execution_count": 91,
   "metadata": {},
   "outputs": [],
   "source": [
    "from sklearn.metrics import confusion_matrix, recall_score, precision_score, accuracy_score"
   ]
  },
  {
   "cell_type": "code",
   "execution_count": 92,
   "metadata": {},
   "outputs": [
    {
     "data": {
      "text/plain": [
       "0.11858210141471948"
      ]
     },
     "execution_count": 92,
     "metadata": {},
     "output_type": "execute_result"
    }
   ],
   "source": [
    "1.0 - accuracy_score(y_true, y_pred)"
   ]
  },
  {
   "cell_type": "markdown",
   "metadata": {},
   "source": [
    "```\n",
    "{'w_0': 0.6952457891587356,\n",
    " 'w_1': 0.24113876273518597,\n",
    " 'w_2': 0.6427090350030666,\n",
    " 'w_3': 0.41338501244162207,\n",
    " 'w_4': 0.4838561104971754}\n",
    "``` -> `0.11858210141471948`"
   ]
  },
  {
   "cell_type": "code",
   "execution_count": null,
   "metadata": {},
   "outputs": [],
   "source": []
  },
  {
   "cell_type": "markdown",
   "metadata": {},
   "source": [
    "### Learn weights between models"
   ]
  },
  {
   "cell_type": "code",
   "execution_count": 134,
   "metadata": {},
   "outputs": [],
   "source": [
    "import os\n",
    "os.environ['JOBLIB_TEMP_FOLDER']=\"/tmp\""
   ]
  },
  {
   "cell_type": "code",
   "execution_count": 135,
   "metadata": {},
   "outputs": [
    {
     "data": {
      "text/plain": [
       "(6291, 640)"
      ]
     },
     "execution_count": 135,
     "metadata": {},
     "output_type": "execute_result"
    }
   ],
   "source": [
    "df_probas_aligned = pd.concat(dfs, axis=1)\n",
    "df_probas_aligned = df_probas_aligned.loc[y_true.index, :]\n",
    "df_probas_aligned.shape"
   ]
  },
  {
   "cell_type": "code",
   "execution_count": 281,
   "metadata": {},
   "outputs": [],
   "source": [
    "from sklearn.linear_model import LogisticRegressionCV, LogisticRegression\n",
    "from sklearn.model_selection import StratifiedKFold, StratifiedShuffleSplit\n",
    "\n",
    "seed = 15\n",
    "\n",
    "holdout = StratifiedShuffleSplit(test_size=0.3, random_state=seed)\n",
    "\n",
    "x_all = df_probas_aligned.values\n",
    "y_all = y_true.values\n",
    "train_index, test_index = next(holdout.split(x_all, y_all))\n",
    "\n",
    "x_trainval = x_all[train_index]\n",
    "x_test = x_all[test_index]\n",
    "\n",
    "y_trainval = y_all[train_index]\n",
    "y_test = y_all[test_index]"
   ]
  },
  {
   "cell_type": "code",
   "execution_count": 286,
   "metadata": {},
   "outputs": [],
   "source": [
    "split = StratifiedKFold(n_splits=4, random_state=seed)\n",
    "\n",
    "log_reg_cv = LogisticRegressionCV(cv=split, n_jobs=5, max_iter=750, verbose=True)"
   ]
  },
  {
   "cell_type": "code",
   "execution_count": 287,
   "metadata": {},
   "outputs": [
    {
     "name": "stderr",
     "output_type": "stream",
     "text": [
      "[Parallel(n_jobs=5)]: Done  40 tasks      | elapsed:   41.7s\n",
      "[Parallel(n_jobs=5)]: Done 190 tasks      | elapsed:  3.4min\n",
      "/usr/local/lib/python3.5/dist-packages/sklearn/linear_model/logistic.py:718: UserWarning: lbfgs failed to converge. Increase the number of iterations.\n",
      "  warnings.warn(\"lbfgs failed to converge. Increase the number \"\n",
      "/usr/local/lib/python3.5/dist-packages/sklearn/linear_model/logistic.py:718: UserWarning: lbfgs failed to converge. Increase the number of iterations.\n",
      "  warnings.warn(\"lbfgs failed to converge. Increase the number \"\n",
      "/usr/local/lib/python3.5/dist-packages/sklearn/linear_model/logistic.py:718: UserWarning: lbfgs failed to converge. Increase the number of iterations.\n",
      "  warnings.warn(\"lbfgs failed to converge. Increase the number \"\n",
      "/usr/local/lib/python3.5/dist-packages/sklearn/linear_model/logistic.py:718: UserWarning: lbfgs failed to converge. Increase the number of iterations.\n",
      "  warnings.warn(\"lbfgs failed to converge. Increase the number \"\n",
      "[Parallel(n_jobs=5)]: Done 440 tasks      | elapsed:  8.2min\n",
      "[Parallel(n_jobs=5)]: Done 512 out of 512 | elapsed: 10.0min finished\n"
     ]
    },
    {
     "data": {
      "text/plain": [
       "LogisticRegressionCV(Cs=10, class_weight=None,\n",
       "           cv=StratifiedKFold(n_splits=4, random_state=15, shuffle=False),\n",
       "           dual=False, fit_intercept=True, intercept_scaling=1.0,\n",
       "           max_iter=750, multi_class='ovr', n_jobs=5, penalty='l2',\n",
       "           random_state=None, refit=True, scoring=None, solver='lbfgs',\n",
       "           tol=0.0001, verbose=True)"
      ]
     },
     "execution_count": 287,
     "metadata": {},
     "output_type": "execute_result"
    }
   ],
   "source": [
    "log_reg_cv.fit(x_trainval, y_trainval)"
   ]
  },
  {
   "cell_type": "code",
   "execution_count": 290,
   "metadata": {},
   "outputs": [
    {
     "data": {
      "text/plain": [
       "[0.9986282735399113,\n",
       " 0.9977577016097718,\n",
       " 0.9980007060364007,\n",
       " 0.9943301553171191,\n",
       " 0.9995659722222222,\n",
       " 0.9988450434509585,\n",
       " 0.9984216165563875,\n",
       " 0.9988984047026512,\n",
       " 0.9991034375321204,\n",
       " 0.9990751745976383]"
      ]
     },
     "execution_count": 290,
     "metadata": {},
     "output_type": "execute_result"
    }
   ],
   "source": [
    "[np.mean(log_reg_cv.scores_[i], axis=0).max() for i in range(10)]"
   ]
  },
  {
   "cell_type": "code",
   "execution_count": 288,
   "metadata": {},
   "outputs": [],
   "source": [
    "y_test_pred = log_reg_cv.predict(x_test)"
   ]
  },
  {
   "cell_type": "code",
   "execution_count": 289,
   "metadata": {},
   "outputs": [
    {
     "data": {
      "text/plain": [
       "0.13082627118644063"
      ]
     },
     "execution_count": 289,
     "metadata": {},
     "output_type": "execute_result"
    }
   ],
   "source": [
    "1.0 - accuracy_score(y_test, y_test_pred)"
   ]
  },
  {
   "cell_type": "code",
   "execution_count": 153,
   "metadata": {},
   "outputs": [
    {
     "data": {
      "text/plain": [
       "['trained_log_reg_cv.pkl']"
      ]
     },
     "execution_count": 153,
     "metadata": {},
     "output_type": "execute_result"
    }
   ],
   "source": [
    "from sklearn.externals import joblib\n",
    "\n",
    "joblib.dump(log_reg_cv, \"trained_log_reg_cv.pkl\")"
   ]
  },
  {
   "cell_type": "code",
   "execution_count": null,
   "metadata": {},
   "outputs": [],
   "source": []
  },
  {
   "cell_type": "code",
   "execution_count": null,
   "metadata": {},
   "outputs": [],
   "source": []
  },
  {
   "cell_type": "code",
   "execution_count": null,
   "metadata": {},
   "outputs": [],
   "source": []
  },
  {
   "cell_type": "code",
   "execution_count": null,
   "metadata": {},
   "outputs": [],
   "source": []
  },
  {
   "cell_type": "code",
   "execution_count": null,
   "metadata": {},
   "outputs": [],
   "source": []
  },
  {
   "cell_type": "markdown",
   "metadata": {},
   "source": [
    "By definition a confusion matrix :math:`C` is such that :math:`C_{i, j}`\n",
    "is equal to the number of observations known to be in group :math:`i` but\n",
    "predicted to be in group :math:`j`."
   ]
  },
  {
   "cell_type": "code",
   "execution_count": 56,
   "metadata": {},
   "outputs": [],
   "source": [
    "cm = confusion_matrix(y_true, y_pred)\n",
    "recall_per_class = recall_score(y_true, y_pred, average=None)"
   ]
  },
  {
   "cell_type": "code",
   "execution_count": 57,
   "metadata": {},
   "outputs": [
    {
     "data": {
      "text/plain": [
       "array([0.88      , 0.84      , 0.92      , 0.52083333, 0.96      ,\n",
       "       0.91489362, 0.89361702, 0.92      , 0.9375    , 0.9787234 ,\n",
       "       0.96      , 0.97959184, 0.9375    , 0.88      , 0.32      ,\n",
       "       1.        , 0.89583333, 0.9375    , 0.68      , 0.96      ,\n",
       "       0.87234043, 0.78723404, 0.81632653, 0.95918367, 0.81632653,\n",
       "       0.9375    , 0.69387755, 0.89795918, 0.85714286, 0.82      ,\n",
       "       0.79166667, 0.95918367, 0.98      , 0.9375    , 0.77083333,\n",
       "       0.95833333, 0.95918367, 0.97959184, 0.72      , 0.98      ,\n",
       "       0.98      , 0.95833333, 1.        , 1.        , 0.89583333,\n",
       "       1.        , 0.82      , 0.89583333, 0.71428571, 0.67346939,\n",
       "       0.75      , 0.89795918, 0.84      , 0.7755102 , 1.        ,\n",
       "       0.98      , 0.85714286, 0.87755102, 0.88      , 0.93877551,\n",
       "       0.89583333, 0.88      , 0.28      , 0.97959184, 0.83333333,\n",
       "       0.5       , 0.85416667, 1.        , 0.97916667, 0.79591837,\n",
       "       0.97916667, 0.93877551, 0.98      , 0.81632653, 0.96      ,\n",
       "       0.97959184, 0.86      , 0.96      , 0.9       , 0.93877551,\n",
       "       1.        , 0.84      , 0.875     , 0.94      , 0.94      ,\n",
       "       0.7755102 , 0.88      , 0.76      , 0.95918367, 0.89583333,\n",
       "       0.91836735, 0.98      , 0.96      , 0.9       , 0.98      ,\n",
       "       0.86      , 0.78      , 1.        , 0.98      , 0.79591837,\n",
       "       1.        , 0.95918367, 0.85714286, 0.98      , 0.64583333,\n",
       "       0.91836735, 0.9       , 0.84      , 0.91666667, 0.8       ,\n",
       "       0.98      , 0.8       , 0.94      , 0.76      , 0.79591837,\n",
       "       1.        , 0.96      , 0.98      , 0.91836735, 0.86      ,\n",
       "       0.77083333, 0.91836735, 0.97959184, 0.6122449 , 0.94      ,\n",
       "       0.87755102, 0.83333333, 0.77083333])"
      ]
     },
     "execution_count": 57,
     "metadata": {},
     "output_type": "execute_result"
    }
   ],
   "source": [
    "recall_per_class"
   ]
  },
  {
   "cell_type": "code",
   "execution_count": 58,
   "metadata": {},
   "outputs": [],
   "source": [
    "idx = np.arange(len(cm))\n",
    "mcm = cm - cm[idx, idx] * np.eye(len(cm), dtype=np.int)"
   ]
  },
  {
   "cell_type": "code",
   "execution_count": 59,
   "metadata": {},
   "outputs": [],
   "source": [
    "misclassifed = {}\n",
    "\n",
    "for i in range(128):\n",
    "    classes = np.where(mcm[i, :] >= 4)[0]\n",
    "    values = mcm[i, classes]\n",
    "    if len(classes) > 0:\n",
    "        misclassifed[i] = {\n",
    "            'recall': recall_per_class[i],\n",
    "            'wrong_classes':[(c, v) for c, v in zip(classes, values)]\n",
    "        }"
   ]
  },
  {
   "cell_type": "code",
   "execution_count": 60,
   "metadata": {},
   "outputs": [
    {
     "data": {
      "text/plain": [
       "{1: {'recall': 0.84, 'wrong_classes': [(87, 5)]},\n",
       " 3: {'recall': 0.5208333333333334, 'wrong_classes': [(2, 7), (28, 5)]},\n",
       " 14: {'recall': 0.32, 'wrong_classes': [(3, 5), (28, 6), (62, 7), (125, 6)]},\n",
       " 18: {'recall': 0.68, 'wrong_classes': [(79, 4), (127, 6)]},\n",
       " 21: {'recall': 0.7872340425531915, 'wrong_classes': [(16, 4)]},\n",
       " 26: {'recall': 0.6938775510204082, 'wrong_classes': [(111, 10)]},\n",
       " 27: {'recall': 0.8979591836734694, 'wrong_classes': [(23, 4)]},\n",
       " 30: {'recall': 0.7916666666666666, 'wrong_classes': [(69, 5)]},\n",
       " 34: {'recall': 0.7708333333333334, 'wrong_classes': [(12, 4), (69, 5)]},\n",
       " 38: {'recall': 0.72, 'wrong_classes': [(86, 10), (108, 4)]},\n",
       " 48: {'recall': 0.7142857142857143, 'wrong_classes': [(124, 6)]},\n",
       " 49: {'recall': 0.673469387755102, 'wrong_classes': [(19, 4), (53, 10)]},\n",
       " 50: {'recall': 0.75, 'wrong_classes': [(52, 4)]},\n",
       " 53: {'recall': 0.7755102040816326, 'wrong_classes': [(19, 5)]},\n",
       " 57: {'recall': 0.8775510204081632, 'wrong_classes': [(2, 4)]},\n",
       " 58: {'recall': 0.88, 'wrong_classes': [(41, 4)]},\n",
       " 62: {'recall': 0.28, 'wrong_classes': [(14, 5), (22, 7), (25, 8), (28, 9)]},\n",
       " 64: {'recall': 0.8333333333333334, 'wrong_classes': [(123, 5)]},\n",
       " 65: {'recall': 0.5, 'wrong_classes': [(31, 4), (39, 8), (56, 4), (101, 4)]},\n",
       " 66: {'recall': 0.8541666666666666, 'wrong_classes': [(112, 4)]},\n",
       " 69: {'recall': 0.7959183673469388, 'wrong_classes': [(116, 4)]},\n",
       " 86: {'recall': 0.88, 'wrong_classes': [(38, 5)]},\n",
       " 87: {'recall': 0.76, 'wrong_classes': [(1, 4), (53, 4)]},\n",
       " 96: {'recall': 0.78, 'wrong_classes': [(50, 4), (88, 4)]},\n",
       " 99: {'recall': 0.7959183673469388, 'wrong_classes': [(19, 7)]},\n",
       " 104: {'recall': 0.6458333333333334, 'wrong_classes': [(59, 13)]},\n",
       " 107: {'recall': 0.84, 'wrong_classes': [(4, 4)]},\n",
       " 108: {'recall': 0.9166666666666666, 'wrong_classes': [(38, 4)]},\n",
       " 111: {'recall': 0.8, 'wrong_classes': [(26, 6)]},\n",
       " 113: {'recall': 0.76, 'wrong_classes': [(81, 8)]},\n",
       " 114: {'recall': 0.7959183673469388, 'wrong_classes': [(120, 6)]},\n",
       " 123: {'recall': 0.6122448979591837, 'wrong_classes': [(64, 17)]},\n",
       " 126: {'recall': 0.8333333333333334, 'wrong_classes': [(81, 6)]},\n",
       " 127: {'recall': 0.7708333333333334, 'wrong_classes': [(18, 6)]}}"
      ]
     },
     "execution_count": 60,
     "metadata": {},
     "output_type": "execute_result"
    }
   ],
   "source": [
    "misclassifed"
   ]
  },
  {
   "cell_type": "code",
   "execution_count": 25,
   "metadata": {},
   "outputs": [],
   "source": [
    "misclassifed_t = {}\n",
    "\n",
    "for i in range(128):\n",
    "    classes = np.where(cm[:, i] >= 4)[0]\n",
    "    values = cm[classes, i]\n",
    "    if len(classes) > 1:\n",
    "        misclassifed_t[i] = {\n",
    "            'true_classes':[(c, v) for c, v in zip(classes, values)]\n",
    "        }"
   ]
  },
  {
   "cell_type": "code",
   "execution_count": 61,
   "metadata": {},
   "outputs": [],
   "source": [
    "# misclassifed_t"
   ]
  },
  {
   "cell_type": "code",
   "execution_count": 195,
   "metadata": {},
   "outputs": [],
   "source": [
    "# class_index = 62\n",
    "# cols = ['c{}'.format(c) for c, _ in misclassifed[class_index]['wrong_classes']] + ['c{}'.format(class_index)]"
   ]
  },
  {
   "cell_type": "code",
   "execution_count": 14,
   "metadata": {},
   "outputs": [],
   "source": [
    "# df_probas.loc[y_true[y_true == class_index].index[:10], cols]"
   ]
  },
  {
   "cell_type": "code",
   "execution_count": null,
   "metadata": {},
   "outputs": [],
   "source": []
  },
  {
   "cell_type": "code",
   "execution_count": 40,
   "metadata": {},
   "outputs": [
    {
     "data": {
      "text/plain": [
       "(0.8761723096487045, 0.8761723096487045)"
      ]
     },
     "execution_count": 40,
     "metadata": {},
     "output_type": "execute_result"
    }
   ],
   "source": [
    "y_probas_mean = df_probas.groupby('id').mean()\n",
    "y_probas_mean = y_probas_mean.loc[y_true.index, :]\n",
    "\n",
    "y_pred_mean = np.argmax(y_probas_mean.values, axis=1)\n",
    "\n",
    "from sklearn.metrics import recall_score, precision_score\n",
    "\n",
    "recall_score(y_true, y_pred_mean, average='micro'), precision_score(y_true, y_pred_mean, average='micro')"
   ]
  },
  {
   "cell_type": "code",
   "execution_count": 41,
   "metadata": {},
   "outputs": [],
   "source": [
    "def gmean(arr):\n",
    "    l = len(arr)\n",
    "    prod = np.prod(arr)\n",
    "    return np.power(prod, 1.0/l)"
   ]
  },
  {
   "cell_type": "code",
   "execution_count": 42,
   "metadata": {},
   "outputs": [
    {
     "data": {
      "text/plain": [
       "(0.8761723096487045, 0.8761723096487045)"
      ]
     },
     "execution_count": 42,
     "metadata": {},
     "output_type": "execute_result"
    }
   ],
   "source": [
    "y_probas_gmean = df_probas.groupby('id').agg(gmean)\n",
    "y_probas_gmean = y_probas_gmean.loc[y_true.index, :]\n",
    "\n",
    "y_pred_gmean = np.argmax(y_probas_gmean.values, axis=1)\n",
    "\n",
    "recall_score(y_true, y_pred_gmean, average='micro'), precision_score(y_true, y_pred_gmean, average='micro')"
   ]
  },
  {
   "cell_type": "code",
   "execution_count": 45,
   "metadata": {},
   "outputs": [
    {
     "data": {
      "text/plain": [
       "(6.305511012639352e-09, 1.1421323731959247e-07)"
      ]
     },
     "execution_count": 45,
     "metadata": {},
     "output_type": "execute_result"
    }
   ],
   "source": [
    "y_probas_gmean.loc[1, 'c0'], y_probas_mean.loc[1, 'c0']"
   ]
  },
  {
   "cell_type": "code",
   "execution_count": null,
   "metadata": {},
   "outputs": [],
   "source": []
  },
  {
   "cell_type": "code",
   "execution_count": null,
   "metadata": {},
   "outputs": [],
   "source": []
  },
  {
   "cell_type": "markdown",
   "metadata": {},
   "source": [
    "## Predict on test data"
   ]
  },
  {
   "cell_type": "code",
   "execution_count": 38,
   "metadata": {},
   "outputs": [],
   "source": [
    "from pathlib import Path\n",
    "import sys\n",
    "sys.path.insert(0, Path(\".\").absolute().parent.as_posix())"
   ]
  },
  {
   "cell_type": "code",
   "execution_count": 100,
   "metadata": {},
   "outputs": [],
   "source": [
    "import matplotlib.pylab as plt\n",
    "%matplotlib inline\n",
    "import seaborn as sns"
   ]
  },
  {
   "cell_type": "code",
   "execution_count": 101,
   "metadata": {},
   "outputs": [],
   "source": [
    "import numpy as np\n",
    "import pandas as pd\n",
    "\n",
    "\n",
    "OUTPUT_PATH = Path(\".\").absolute().parent / \"output\" / \"test_probas\""
   ]
  },
  {
   "cell_type": "code",
   "execution_count": 102,
   "metadata": {},
   "outputs": [],
   "source": [
    "# prediction_files = [\n",
    "#     OUTPUT_PATH / \"val_probas_inceptionv4_350_resized_crop\" / \"20180428_1633\" / \"probas.csv\",\n",
    "    \n",
    "#     OUTPUT_PATH / \"val_probas_inceptionresnetv2_350_resized_crop\" / \"20180428_1622\" / \"probas.csv\",\n",
    "    \n",
    "#     OUTPUT_PATH / \"val_probas_nasnetalarge_350_resized_crop\" / \"20180428_1654\" / \"probas.csv\",\n",
    "#     OUTPUT_PATH / \"val_probas_nasnetalarge_350_random_resized_crop\" / \"20180514_2202\" / \"probas.csv\",\n",
    "#     OUTPUT_PATH / \"val_probas_nasnetalarge_350_random_resized_crop\" / \"20180514_2232\" / \"probas.csv\",    \n",
    "# ]"
   ]
  },
  {
   "cell_type": "code",
   "execution_count": 103,
   "metadata": {},
   "outputs": [],
   "source": [
    "# !ls ../output/test_probas/test_probas_nasnetalarge_350_random_resized_crop/20180514_1034/"
   ]
  },
  {
   "cell_type": "code",
   "execution_count": 105,
   "metadata": {},
   "outputs": [],
   "source": [
    "test_prediction_files = [\n",
    "    OUTPUT_PATH / \"test_probas_inceptionv4_350_resized_crop\" / \"20180429_1303\" / \"probas.csv\",\n",
    "    \n",
    "    OUTPUT_PATH / \"test_probas_inceptionresnetv2_350_resized_crop\" / \"20180429_1242\" / \"probas.csv\",    \n",
    "    \n",
    "    OUTPUT_PATH / \"test_probas_nasnetalarge_350_resized_crop\" / \"20180429_1406\" / \"probas.csv\",\n",
    "    OUTPUT_PATH / \"test_probas_nasnetalarge_350_random_resized_crop\" / \"20180514_0821\" / \"probas.csv\",\n",
    "    OUTPUT_PATH / \"test_probas_nasnetalarge_350_random_resized_crop\" / \"20180514_1034\" / \"probas.csv\",    \n",
    "]"
   ]
  },
  {
   "cell_type": "code",
   "execution_count": 107,
   "metadata": {},
   "outputs": [],
   "source": [
    "test_dfs = [pd.read_csv(f, index_col='id') for f in test_prediction_files]\n",
    "\n",
    "# merged_df = pd.concat([df for df in dfs], axis=1)\n",
    "# merged_df.columns = names"
   ]
  },
  {
   "cell_type": "code",
   "execution_count": 108,
   "metadata": {},
   "outputs": [],
   "source": [
    "df_test_probas = pd.concat(test_dfs, axis=0)\n",
    "\n",
    "y_test_probas = df_test_probas.groupby('id').mean()\n",
    "# y_test_probas.head()"
   ]
  },
  {
   "cell_type": "code",
   "execution_count": 224,
   "metadata": {},
   "outputs": [
    {
     "name": "stdout",
     "output_type": "stream",
     "text": [
      "(12800,)\n"
     ]
    }
   ],
   "source": [
    "# Add mising values:\n",
    "missing_indices = list(set(merged_df['MajVote'].index) - set(y_test_probas.index))\n",
    "missing_values = merged_df.loc[missing_indices, 'MajVote'].values\n",
    "for idx, v in zip(missing_indices, missing_values):\n",
    "    y_test_probas.loc[idx, :] = 0.01\n",
    "    col = y_test_probas.columns[v - 1]\n",
    "    y_test_probas.loc[idx, col] = 0.99\n",
    "    \n",
    "y_test_pred = np.argmax(y_test_probas.values, axis=1) + 1   \n",
    "print(y_test_pred.shape)\n",
    "\n",
    "df = pd.DataFrame({\"predicted\": y_test_pred}, index=y_test_probas.index)\n",
    "df.to_csv(\"mean_proba_incv4_incv4rc_3nasnet.csv\")"
   ]
  },
  {
   "cell_type": "code",
   "execution_count": 225,
   "metadata": {},
   "outputs": [],
   "source": [
    "!cd ../ && python3 utils/update_test_predictions.py notebooks/mean_proba_incv4_incv4rc_3nasnet.csv notebooks/test_with_labels.csv notebooks/"
   ]
  },
  {
   "cell_type": "code",
   "execution_count": 226,
   "metadata": {},
   "outputs": [
    {
     "name": "stdout",
     "output_type": "stream",
     "text": [
      "id,predicted\n",
      "1,12\n",
      "2,71\n",
      "3,91\n",
      "4,54\n",
      "5,126\n",
      "6,76\n",
      "7,94\n",
      "8,8\n",
      "9,127\n"
     ]
    }
   ],
   "source": [
    "!head -10 fixed_mean_proba_incv4_incv4rc_3nasnet.csv"
   ]
  },
  {
   "cell_type": "code",
   "execution_count": 227,
   "metadata": {},
   "outputs": [
    {
     "name": "stdout",
     "output_type": "stream",
     "text": [
      "id,predicted\n",
      "1,12\n",
      "2,71\n",
      "3,91\n",
      "4,54\n",
      "5,126\n",
      "6,76\n",
      "7,94\n",
      "8,8\n",
      "9,127\n"
     ]
    }
   ],
   "source": [
    "!head -10 fixed_maj_votes_4nasnet_incv4rc.csv"
   ]
  },
  {
   "cell_type": "code",
   "execution_count": null,
   "metadata": {},
   "outputs": [],
   "source": []
  },
  {
   "cell_type": "markdown",
   "metadata": {},
   "source": [
    "### Weighted probas "
   ]
  },
  {
   "cell_type": "code",
   "execution_count": 93,
   "metadata": {},
   "outputs": [
    {
     "data": {
      "text/plain": [
       "{'w_0': 0.6952457891587356,\n",
       " 'w_1': 0.24113876273518597,\n",
       " 'w_2': 0.6427090350030666,\n",
       " 'w_3': 0.41338501244162207,\n",
       " 'w_4': 0.4838561104971754}"
      ]
     },
     "execution_count": 93,
     "metadata": {},
     "output_type": "execute_result"
    }
   ],
   "source": [
    "best_weights"
   ]
  },
  {
   "cell_type": "code",
   "execution_count": 99,
   "metadata": {},
   "outputs": [
    {
     "data": {
      "text/plain": [
       "[0.6952457891587356,\n",
       " 0.24113876273518597,\n",
       " 0.6427090350030666,\n",
       " 0.41338501244162207,\n",
       " 0.4838561104971754]"
      ]
     },
     "execution_count": 99,
     "metadata": {},
     "output_type": "execute_result"
    }
   ],
   "source": [
    "[0.6952, 0.2411, 0.6427, 0.4133, 0.4838]"
   ]
  },
  {
   "cell_type": "code",
   "execution_count": 109,
   "metadata": {},
   "outputs": [],
   "source": [
    "weights = [best_weights[\"w_{}\".format(i)] for i in range(len(test_prediction_files))]\n",
    "test_dfs = [w * pd.read_csv(f, index_col='id') for w, f in zip(weights, test_prediction_files)]"
   ]
  },
  {
   "cell_type": "code",
   "execution_count": 110,
   "metadata": {},
   "outputs": [],
   "source": [
    "df_test_probas = pd.concat(test_dfs, axis=0)\n",
    "y_test_probas = df_test_probas.groupby('id').mean()"
   ]
  },
  {
   "cell_type": "code",
   "execution_count": 111,
   "metadata": {},
   "outputs": [
    {
     "name": "stdout",
     "output_type": "stream",
     "text": [
      "(12800,)\n"
     ]
    }
   ],
   "source": [
    "# Add mising values:\n",
    "missing_indices = list(set(merged_df['MajVote'].index) - set(y_test_probas.index))\n",
    "missing_values = merged_df.loc[missing_indices, 'MajVote'].values\n",
    "for idx, v in zip(missing_indices, missing_values):\n",
    "    y_test_probas.loc[idx, :] = 0.01\n",
    "    col = y_test_probas.columns[v - 1]\n",
    "    y_test_probas.loc[idx, col] = 0.99\n",
    "    \n",
    "y_test_pred = np.argmax(y_test_probas.values, axis=1) + 1   \n",
    "print(y_test_pred.shape)\n",
    "\n",
    "df = pd.DataFrame({\"predicted\": y_test_pred}, index=y_test_probas.index)\n",
    "df.to_csv(\"weighted_proba_incv4_incv4rc_3nasnet.csv\")"
   ]
  },
  {
   "cell_type": "code",
   "execution_count": 112,
   "metadata": {},
   "outputs": [],
   "source": [
    "!cd ../ && python3 utils/update_test_predictions.py notebooks/weighted_proba_incv4_incv4rc_3nasnet.csv notebooks/test_with_labels.csv notebooks/"
   ]
  },
  {
   "cell_type": "code",
   "execution_count": 113,
   "metadata": {},
   "outputs": [
    {
     "name": "stdout",
     "output_type": "stream",
     "text": [
      "id,predicted\n",
      "1,12\n",
      "2,71\n",
      "3,91\n",
      "4,54\n",
      "5,126\n",
      "6,76\n",
      "7,94\n",
      "8,8\n",
      "9,127\n"
     ]
    }
   ],
   "source": [
    "!head -10 fixed_weighted_proba_incv4_incv4rc_3nasnet.csv"
   ]
  },
  {
   "cell_type": "code",
   "execution_count": null,
   "metadata": {},
   "outputs": [],
   "source": []
  },
  {
   "cell_type": "code",
   "execution_count": null,
   "metadata": {},
   "outputs": [],
   "source": []
  },
  {
   "cell_type": "code",
   "execution_count": null,
   "metadata": {},
   "outputs": [],
   "source": []
  },
  {
   "cell_type": "code",
   "execution_count": null,
   "metadata": {},
   "outputs": [],
   "source": []
  },
  {
   "cell_type": "code",
   "execution_count": null,
   "metadata": {},
   "outputs": [],
   "source": []
  },
  {
   "cell_type": "markdown",
   "metadata": {},
   "source": [
    "### Predict with trained model:"
   ]
  },
  {
   "cell_type": "code",
   "execution_count": 257,
   "metadata": {},
   "outputs": [],
   "source": [
    "# To the same indices:\n",
    "index = dfs[0].index\n",
    "for i in range(1, len(prediction_files)):\n",
    "    dfs[i] = dfs[i].loc[index, :]"
   ]
  },
  {
   "cell_type": "code",
   "execution_count": 259,
   "metadata": {},
   "outputs": [
    {
     "data": {
      "text/plain": [
       "(12639, 640)"
      ]
     },
     "execution_count": 259,
     "metadata": {},
     "output_type": "execute_result"
    }
   ],
   "source": [
    "df_test_probas_aligned = pd.concat(dfs, axis=1)\n",
    "df_test_probas_aligned.shape"
   ]
  },
  {
   "cell_type": "code",
   "execution_count": 260,
   "metadata": {},
   "outputs": [],
   "source": [
    "log_reg_cv = joblib.load(\"trained_log_reg_cv.pkl\")"
   ]
  },
  {
   "cell_type": "code",
   "execution_count": 269,
   "metadata": {},
   "outputs": [],
   "source": [
    "y_test_probas = log_reg_cv.predict_proba(df_test_probas_aligned.values)\n",
    "y_test_probas_df = pd.DataFrame(y_test_probas, index=df_test_probas_aligned.index)"
   ]
  },
  {
   "cell_type": "code",
   "execution_count": 277,
   "metadata": {},
   "outputs": [
    {
     "name": "stdout",
     "output_type": "stream",
     "text": [
      "(12800,)\n"
     ]
    }
   ],
   "source": [
    "# Add mising values:\n",
    "missing_indices = list(set(merged_df['MajVote'].index) - set(y_test_probas_df.index))\n",
    "missing_values = merged_df.loc[missing_indices, 'MajVote'].values\n",
    "for idx, v in zip(missing_indices, missing_values):    \n",
    "    y_test_probas_df.loc[idx, :] = 0.01\n",
    "    col = y_test_probas_df.columns[v - 1]\n",
    "    y_test_probas_df.loc[idx, col] = 0.99\n",
    "    \n",
    "y_test_pred = np.argmax(y_test_probas_df.values, axis=1) + 1   \n",
    "print(y_test_pred.shape)\n",
    "\n",
    "df = pd.DataFrame({\"predicted\": y_test_pred}, index=y_test_probas_df.index).sort_index()\n",
    "df.to_csv(\"log_reg_proba_incv4_incv4rc_3nasnet.csv\")"
   ]
  },
  {
   "cell_type": "code",
   "execution_count": 278,
   "metadata": {},
   "outputs": [],
   "source": [
    "!cd ../ && python3 utils/update_test_predictions.py notebooks/log_reg_proba_incv4_incv4rc_3nasnet.csv notebooks/test_with_labels.csv notebooks/"
   ]
  },
  {
   "cell_type": "code",
   "execution_count": 279,
   "metadata": {},
   "outputs": [
    {
     "name": "stdout",
     "output_type": "stream",
     "text": [
      "id,predicted\n",
      "1,12\n",
      "2,71\n",
      "3,91\n",
      "4,54\n",
      "5,126\n",
      "6,76\n",
      "7,94\n",
      "8,8\n",
      "9,127\n"
     ]
    }
   ],
   "source": [
    "!head -10 fixed_log_reg_proba_incv4_incv4rc_3nasnet.csv"
   ]
  },
  {
   "cell_type": "code",
   "execution_count": 280,
   "metadata": {},
   "outputs": [
    {
     "name": "stdout",
     "output_type": "stream",
     "text": [
      "id,predicted\n",
      "1,12\n",
      "2,71\n",
      "3,91\n",
      "4,54\n",
      "5,126\n",
      "6,76\n",
      "7,94\n",
      "8,8\n",
      "9,127\n"
     ]
    }
   ],
   "source": [
    "!head -10 fixed_maj_votes_4nasnet_incv4rc.csv"
   ]
  },
  {
   "cell_type": "code",
   "execution_count": null,
   "metadata": {},
   "outputs": [],
   "source": []
  },
  {
   "cell_type": "code",
   "execution_count": null,
   "metadata": {},
   "outputs": [],
   "source": []
  },
  {
   "cell_type": "code",
   "execution_count": null,
   "metadata": {},
   "outputs": [],
   "source": []
  },
  {
   "cell_type": "code",
   "execution_count": null,
   "metadata": {},
   "outputs": [],
   "source": []
  },
  {
   "cell_type": "code",
   "execution_count": null,
   "metadata": {},
   "outputs": [],
   "source": []
  },
  {
   "cell_type": "code",
   "execution_count": 220,
   "metadata": {},
   "outputs": [
    {
     "data": {
      "text/html": [
       "<div>\n",
       "<style scoped>\n",
       "    .dataframe tbody tr th:only-of-type {\n",
       "        vertical-align: middle;\n",
       "    }\n",
       "\n",
       "    .dataframe tbody tr th {\n",
       "        vertical-align: top;\n",
       "    }\n",
       "\n",
       "    .dataframe thead th {\n",
       "        text-align: right;\n",
       "    }\n",
       "</style>\n",
       "<table border=\"1\" class=\"dataframe\">\n",
       "  <thead>\n",
       "    <tr style=\"text-align: right;\">\n",
       "      <th></th>\n",
       "      <th>c0</th>\n",
       "      <th>c1</th>\n",
       "      <th>c2</th>\n",
       "      <th>c3</th>\n",
       "      <th>c4</th>\n",
       "      <th>c5</th>\n",
       "      <th>c6</th>\n",
       "      <th>c7</th>\n",
       "      <th>c8</th>\n",
       "      <th>c9</th>\n",
       "      <th>...</th>\n",
       "      <th>c118</th>\n",
       "      <th>c119</th>\n",
       "      <th>c120</th>\n",
       "      <th>c121</th>\n",
       "      <th>c122</th>\n",
       "      <th>c123</th>\n",
       "      <th>c124</th>\n",
       "      <th>c125</th>\n",
       "      <th>c126</th>\n",
       "      <th>c127</th>\n",
       "    </tr>\n",
       "    <tr>\n",
       "      <th>id</th>\n",
       "      <th></th>\n",
       "      <th></th>\n",
       "      <th></th>\n",
       "      <th></th>\n",
       "      <th></th>\n",
       "      <th></th>\n",
       "      <th></th>\n",
       "      <th></th>\n",
       "      <th></th>\n",
       "      <th></th>\n",
       "      <th></th>\n",
       "      <th></th>\n",
       "      <th></th>\n",
       "      <th></th>\n",
       "      <th></th>\n",
       "      <th></th>\n",
       "      <th></th>\n",
       "      <th></th>\n",
       "      <th></th>\n",
       "      <th></th>\n",
       "      <th></th>\n",
       "    </tr>\n",
       "  </thead>\n",
       "  <tbody>\n",
       "    <tr>\n",
       "      <th>12796</th>\n",
       "      <td>3.740855e-08</td>\n",
       "      <td>7.699472e-07</td>\n",
       "      <td>3.621496e-07</td>\n",
       "      <td>3.964026e-08</td>\n",
       "      <td>1.351679e-08</td>\n",
       "      <td>6.045437e-08</td>\n",
       "      <td>2.199541e-07</td>\n",
       "      <td>6.690590e-09</td>\n",
       "      <td>3.975444e-07</td>\n",
       "      <td>6.771315e-09</td>\n",
       "      <td>...</td>\n",
       "      <td>5.479484e-09</td>\n",
       "      <td>6.028931e-07</td>\n",
       "      <td>1.559961e-07</td>\n",
       "      <td>6.559622e-08</td>\n",
       "      <td>8.916581e-08</td>\n",
       "      <td>1.017504e-07</td>\n",
       "      <td>8.690805e-08</td>\n",
       "      <td>2.232733e-08</td>\n",
       "      <td>2.711755e-09</td>\n",
       "      <td>1.691902e-09</td>\n",
       "    </tr>\n",
       "    <tr>\n",
       "      <th>12797</th>\n",
       "      <td>5.812775e-06</td>\n",
       "      <td>4.587319e-06</td>\n",
       "      <td>2.474041e-05</td>\n",
       "      <td>2.488180e-05</td>\n",
       "      <td>1.054539e-05</td>\n",
       "      <td>7.284781e-06</td>\n",
       "      <td>6.714315e-06</td>\n",
       "      <td>2.000873e-05</td>\n",
       "      <td>4.213140e-06</td>\n",
       "      <td>3.695690e-06</td>\n",
       "      <td>...</td>\n",
       "      <td>4.620517e-06</td>\n",
       "      <td>2.139555e-05</td>\n",
       "      <td>2.764587e-05</td>\n",
       "      <td>1.579153e-05</td>\n",
       "      <td>7.022183e-06</td>\n",
       "      <td>4.496449e-03</td>\n",
       "      <td>1.263526e-05</td>\n",
       "      <td>3.531694e-05</td>\n",
       "      <td>1.338969e-05</td>\n",
       "      <td>7.176692e-06</td>\n",
       "    </tr>\n",
       "    <tr>\n",
       "      <th>12798</th>\n",
       "      <td>5.186350e-05</td>\n",
       "      <td>2.736125e-06</td>\n",
       "      <td>2.193131e-01</td>\n",
       "      <td>9.613796e-04</td>\n",
       "      <td>1.518391e-06</td>\n",
       "      <td>6.302892e-06</td>\n",
       "      <td>1.375831e-05</td>\n",
       "      <td>5.459569e-06</td>\n",
       "      <td>3.268561e-06</td>\n",
       "      <td>9.933181e-07</td>\n",
       "      <td>...</td>\n",
       "      <td>3.199144e-06</td>\n",
       "      <td>2.900240e-05</td>\n",
       "      <td>2.855623e-06</td>\n",
       "      <td>6.058239e-06</td>\n",
       "      <td>2.601914e-06</td>\n",
       "      <td>7.006069e-07</td>\n",
       "      <td>2.281592e-06</td>\n",
       "      <td>8.103623e-06</td>\n",
       "      <td>1.303272e-06</td>\n",
       "      <td>1.239960e-06</td>\n",
       "    </tr>\n",
       "    <tr>\n",
       "      <th>12799</th>\n",
       "      <td>8.749835e-01</td>\n",
       "      <td>8.248669e-06</td>\n",
       "      <td>7.530487e-04</td>\n",
       "      <td>1.940677e-03</td>\n",
       "      <td>1.398804e-05</td>\n",
       "      <td>3.930042e-03</td>\n",
       "      <td>1.243980e-04</td>\n",
       "      <td>1.117339e-05</td>\n",
       "      <td>4.665101e-05</td>\n",
       "      <td>3.284426e-05</td>\n",
       "      <td>...</td>\n",
       "      <td>3.624489e-04</td>\n",
       "      <td>4.786405e-03</td>\n",
       "      <td>1.282868e-04</td>\n",
       "      <td>2.173255e-03</td>\n",
       "      <td>6.709419e-05</td>\n",
       "      <td>4.579863e-06</td>\n",
       "      <td>9.111378e-06</td>\n",
       "      <td>7.063308e-05</td>\n",
       "      <td>1.432265e-05</td>\n",
       "      <td>7.423627e-05</td>\n",
       "    </tr>\n",
       "    <tr>\n",
       "      <th>12800</th>\n",
       "      <td>4.885252e-08</td>\n",
       "      <td>2.691364e-08</td>\n",
       "      <td>8.786990e-08</td>\n",
       "      <td>1.913607e-07</td>\n",
       "      <td>3.794453e-08</td>\n",
       "      <td>8.208963e-08</td>\n",
       "      <td>9.521560e-08</td>\n",
       "      <td>2.032380e-08</td>\n",
       "      <td>8.779747e-08</td>\n",
       "      <td>6.181915e-09</td>\n",
       "      <td>...</td>\n",
       "      <td>1.766298e-08</td>\n",
       "      <td>1.143649e-07</td>\n",
       "      <td>5.289379e-08</td>\n",
       "      <td>4.477025e-08</td>\n",
       "      <td>2.463165e-07</td>\n",
       "      <td>2.244294e-07</td>\n",
       "      <td>1.638680e-07</td>\n",
       "      <td>9.434708e-09</td>\n",
       "      <td>2.923246e-08</td>\n",
       "      <td>6.561676e-07</td>\n",
       "    </tr>\n",
       "  </tbody>\n",
       "</table>\n",
       "<p>5 rows × 128 columns</p>\n",
       "</div>"
      ],
      "text/plain": [
       "                 c0            c1            c2            c3            c4  \\\n",
       "id                                                                            \n",
       "12796  3.740855e-08  7.699472e-07  3.621496e-07  3.964026e-08  1.351679e-08   \n",
       "12797  5.812775e-06  4.587319e-06  2.474041e-05  2.488180e-05  1.054539e-05   \n",
       "12798  5.186350e-05  2.736125e-06  2.193131e-01  9.613796e-04  1.518391e-06   \n",
       "12799  8.749835e-01  8.248669e-06  7.530487e-04  1.940677e-03  1.398804e-05   \n",
       "12800  4.885252e-08  2.691364e-08  8.786990e-08  1.913607e-07  3.794453e-08   \n",
       "\n",
       "                 c5            c6            c7            c8            c9  \\\n",
       "id                                                                            \n",
       "12796  6.045437e-08  2.199541e-07  6.690590e-09  3.975444e-07  6.771315e-09   \n",
       "12797  7.284781e-06  6.714315e-06  2.000873e-05  4.213140e-06  3.695690e-06   \n",
       "12798  6.302892e-06  1.375831e-05  5.459569e-06  3.268561e-06  9.933181e-07   \n",
       "12799  3.930042e-03  1.243980e-04  1.117339e-05  4.665101e-05  3.284426e-05   \n",
       "12800  8.208963e-08  9.521560e-08  2.032380e-08  8.779747e-08  6.181915e-09   \n",
       "\n",
       "           ...               c118          c119          c120          c121  \\\n",
       "id         ...                                                                \n",
       "12796      ...       5.479484e-09  6.028931e-07  1.559961e-07  6.559622e-08   \n",
       "12797      ...       4.620517e-06  2.139555e-05  2.764587e-05  1.579153e-05   \n",
       "12798      ...       3.199144e-06  2.900240e-05  2.855623e-06  6.058239e-06   \n",
       "12799      ...       3.624489e-04  4.786405e-03  1.282868e-04  2.173255e-03   \n",
       "12800      ...       1.766298e-08  1.143649e-07  5.289379e-08  4.477025e-08   \n",
       "\n",
       "               c122          c123          c124          c125          c126  \\\n",
       "id                                                                            \n",
       "12796  8.916581e-08  1.017504e-07  8.690805e-08  2.232733e-08  2.711755e-09   \n",
       "12797  7.022183e-06  4.496449e-03  1.263526e-05  3.531694e-05  1.338969e-05   \n",
       "12798  2.601914e-06  7.006069e-07  2.281592e-06  8.103623e-06  1.303272e-06   \n",
       "12799  6.709419e-05  4.579863e-06  9.111378e-06  7.063308e-05  1.432265e-05   \n",
       "12800  2.463165e-07  2.244294e-07  1.638680e-07  9.434708e-09  2.923246e-08   \n",
       "\n",
       "               c127  \n",
       "id                   \n",
       "12796  1.691902e-09  \n",
       "12797  7.176692e-06  \n",
       "12798  1.239960e-06  \n",
       "12799  7.423627e-05  \n",
       "12800  6.561676e-07  \n",
       "\n",
       "[5 rows x 128 columns]"
      ]
     },
     "execution_count": 220,
     "metadata": {},
     "output_type": "execute_result"
    }
   ],
   "source": [
    "y_probas = y_probas.sort_index()\n",
    "y_probas.tail()"
   ]
  },
  {
   "cell_type": "code",
   "execution_count": 221,
   "metadata": {},
   "outputs": [],
   "source": [
    "y_pred = np.argmax(y_probas.values, axis=1) + 1"
   ]
  },
  {
   "cell_type": "code",
   "execution_count": 222,
   "metadata": {},
   "outputs": [],
   "source": [
    "y_maj_votes = merged_df['MajVote'].values"
   ]
  },
  {
   "cell_type": "code",
   "execution_count": 223,
   "metadata": {},
   "outputs": [
    {
     "data": {
      "text/plain": [
       "(12318, 482, 12800)"
      ]
     },
     "execution_count": 223,
     "metadata": {},
     "output_type": "execute_result"
    }
   ],
   "source": [
    "(y_maj_votes == y_pred).sum(), (y_maj_votes != y_pred).sum(), len(y_maj_votes)"
   ]
  },
  {
   "cell_type": "code",
   "execution_count": 225,
   "metadata": {},
   "outputs": [
    {
     "data": {
      "text/plain": [
       "array([ 45, 110,  91, 124,   4, 100, 102,  21,  90,  97,   1,   6,  27,\n",
       "        15,  97,  50,  30,  24, 115,  49,  45,   4,  14,  50,  16,  80,\n",
       "        42,  63,   4,  51,  51,  87, 128, 116,  71, 108,  98,  66,  35,\n",
       "        63, 100,  81,  63,  45,   4,  21,  27, 112,  87,  45,  54,  22,\n",
       "       124,  30, 126,  62, 116,  44, 116,   1,  89,  18,  18, 108,  96,\n",
       "       112, 127,  69,  51,  31,  90,  47,   1, 104,  85,  98,  15,  15,\n",
       "       109,  50,  63, 103,  66,   4,   3,  84,  43,  61, 127, 118,  83,\n",
       "        93, 126,  37, 125,  10, 103,   3,  21, 112, 110, 124,  94,   8,\n",
       "        39,  84,  69, 121, 107, 124,  27,  76,   1,  42, 106,  54,  82,\n",
       "        83,  31,  73, 103,  18,  91, 117,  92, 115,  16,  86,  19,  92,\n",
       "        97,   2,   8,  66,  65,  53,  71,  35,  74, 104,   5, 110,   4,\n",
       "        27,  59,  70, 113, 118,   4,  21, 105,  63, 117,  97,  63,  61,\n",
       "        66,  69,   7,  98, 110,  67,  15,   4, 115,  45,  66, 103,  45,\n",
       "        63,  42,  61,  66,  52,  20,  11,  35,  27, 124,  96,  15,  63,\n",
       "        68,  54,  87,  35, 116,  45, 113,  93,  25,  14,  12, 127,  63,\n",
       "        15,   4,  45, 121,  13,   1,  86,  39, 120,  39,  37, 104,   4,\n",
       "        57,  89,  29, 100, 102,  98,  20,  38,  58, 128,  31,  75,  88,\n",
       "        53,   4,  89,   4,  25,  96,  78,  65, 115,  61,  98,  97, 110,\n",
       "        15,  11,  31, 126, 105,  61,  35,  73, 126,  63, 124, 125, 108,\n",
       "        56,  35,   4,  19, 123,   4,  73,  63,  73, 120,  61, 101,  63,\n",
       "       127,  42,  35,  47, 115,  63,  15,  97,  60, 115,  39,  88,   4,\n",
       "         1, 124, 122,  21, 102, 126,  97, 116,  39,  88, 127, 121,  81,\n",
       "        76,  61,  19, 120,  63,  63, 121,  63, 102,  12,  79,   4,  91,\n",
       "       109,  51, 115,   4, 114, 108,  83,  63, 112,  63, 111, 107,  63,\n",
       "        63,  59,  65,  63,  15,  65, 112,  97, 112,  77,  38,  27,   4,\n",
       "         4,  50,  43,  57, 106,  64,   2,   2,   4,  20,  37, 105, 124,\n",
       "         9, 112,  14,  39,  65,  15,  89,  86,  90,  50,  73, 115,  73,\n",
       "       118,  39,  39,  15, 125,  27,  60, 103,  69,   5,  23,  63, 105,\n",
       "        45,  49,  45,  65,  15,   4,  63, 100,  39,  45,  54,  63,  91,\n",
       "        19,  73,   4, 126,   4,  63,   4,   6, 124,  49,  39,  12,  82,\n",
       "       112,  52,  73, 114,  97,  66,  83,   4, 115, 118, 126,  39,  18,\n",
       "       124,  54,  80,   4,   8,  63,  82, 100,   8,  51,   4,  80, 102,\n",
       "        15,  23, 115, 103,  50,  66,  63,  69,   4,  54,   4, 101, 108,\n",
       "        63,  10, 105,  81,  22,  63, 124,  97,  63,   4,  19,   4,  54,\n",
       "       126,  42, 126,  91,  39, 121,  21, 128,  69,  29,  94,  19,   4,\n",
       "        50,   2,  82,  79,  66,  97, 110, 120, 113,  39,  19,  22,   4,\n",
       "        16,  62,  60,  67,  18, 105, 119,  93,  95,  14,  63,  55,  73,\n",
       "        15])"
      ]
     },
     "execution_count": 225,
     "metadata": {},
     "output_type": "execute_result"
    }
   ],
   "source": [
    "y_pred[y_maj_votes != y_pred]"
   ]
  },
  {
   "cell_type": "code",
   "execution_count": 228,
   "metadata": {},
   "outputs": [],
   "source": [
    "df = pd.DataFrame({\"predicted\": y_pred}, index=y_probas.index)\n",
    "df.to_csv(\"mean_proba_nasnet_incv4_incv4rc_ws2.csv\")"
   ]
  },
  {
   "cell_type": "code",
   "execution_count": 229,
   "metadata": {},
   "outputs": [
    {
     "name": "stdout",
     "output_type": "stream",
     "text": [
      "id,predicted\n",
      "1,12\n",
      "2,71\n",
      "3,91\n",
      "4,54\n",
      "5,126\n",
      "6,76\n",
      "7,94\n",
      "8,8\n",
      "9,127\n"
     ]
    }
   ],
   "source": [
    "!head -10 mean_proba_nasnet_incv4_incv4rc_ws2.csv"
   ]
  },
  {
   "cell_type": "code",
   "execution_count": null,
   "metadata": {},
   "outputs": [],
   "source": []
  },
  {
   "cell_type": "code",
   "execution_count": null,
   "metadata": {},
   "outputs": [],
   "source": []
  },
  {
   "cell_type": "code",
   "execution_count": null,
   "metadata": {},
   "outputs": [],
   "source": []
  },
  {
   "cell_type": "code",
   "execution_count": null,
   "metadata": {},
   "outputs": [],
   "source": []
  }
 ],
 "metadata": {
  "kernelspec": {
   "display_name": "Python 3",
   "language": "python",
   "name": "python3"
  },
  "language_info": {
   "codemirror_mode": {
    "name": "ipython",
    "version": 3
   },
   "file_extension": ".py",
   "mimetype": "text/x-python",
   "name": "python",
   "nbconvert_exporter": "python",
   "pygments_lexer": "ipython3",
   "version": "3.5.2"
  }
 },
 "nbformat": 4,
 "nbformat_minor": 2
}
