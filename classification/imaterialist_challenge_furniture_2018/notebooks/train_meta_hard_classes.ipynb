{
 "cells": [
  {
   "cell_type": "markdown",
   "metadata": {},
   "source": [
    "# Train binary meta-models on hard-classes"
   ]
  },
  {
   "cell_type": "code",
   "execution_count": 1,
   "metadata": {},
   "outputs": [],
   "source": [
    "# https://ipython.org/ipython-doc/3/config/extensions/autoreload.html\n",
    "%load_ext autoreload\n",
    "%autoreload 2\n",
    "\n",
    "from pathlib import Path\n",
    "import sys\n",
    "sys.path.insert(0, Path(\".\").absolute().parent.as_posix())\n",
    "\n",
    "from PIL import Image\n",
    "\n",
    "import pandas as pd\n",
    "\n",
    "import numpy as np\n",
    "from common.meta import get_metafeatures, get_imsize_and_targets"
   ]
  },
  {
   "cell_type": "code",
   "execution_count": 2,
   "metadata": {},
   "outputs": [],
   "source": [
    "import matplotlib.pylab as plt\n",
    "%matplotlib inline\n",
    "import seaborn as sns\n",
    "\n",
    "sns.set_style('darkgrid')\n",
    "sns.set(rc={'figure.figsize':(12, 10)})\n",
    "\n",
    "OUTPUT_PATH = Path(\".\").absolute().parent / \"output\" / \"val_probas\""
   ]
  },
  {
   "cell_type": "code",
   "execution_count": 3,
   "metadata": {},
   "outputs": [],
   "source": [
    "meta_features_list = [\n",
    "    OUTPUT_PATH / \"val_probas_inceptionv4_350_resized_crop\" / \"20180428_1633\" / \"probas.csv\",\n",
    "    OUTPUT_PATH / \"val_probas_inceptionv4_350_cls_wts_adam_resized_crop\" / \"20180520_2026\" / \"probas.csv\",\n",
    "    OUTPUT_PATH / \"val_probas_inceptionv4_350_fc_random_resized_crop\" / \"20180520_2032\" / \"probas.csv\",\n",
    "    \n",
    "    OUTPUT_PATH / \"val_probas_resnet152_350_adam_random_crop\" / \"20180522_1903\" / \"probas.csv\",\n",
    "    OUTPUT_PATH / \"val_probas_resnet152_350_adam_random_crop\" / \"20180522_1905\" / \"probas.csv\",    \n",
    "        \n",
    "    OUTPUT_PATH / \"val_probas_inceptionresnetv2_350_resized_crop\" / \"20180428_1622\" / \"probas.csv\",\n",
    "    OUTPUT_PATH / \"val_probas_inceptionresnetv2_350_weighted_sampler2_resized_crop\" / \"20180501_1710\" / \"probas.csv\",\n",
    "    \n",
    "    OUTPUT_PATH / \"val_probas_nasnetalarge_350_resized_crop\" / \"20180428_1654\" / \"probas.csv\",\n",
    "    OUTPUT_PATH / \"val_probas_nasnetalarge_350_random_resized_crop\" / \"20180514_2232\" / \"probas.csv\",\n",
    "    OUTPUT_PATH / \"val_probas_nasnetalarge_350_random_resized_crop\" / \"20180514_2202\" / \"probas.csv\",\n",
    "]"
   ]
  },
  {
   "cell_type": "code",
   "execution_count": 4,
   "metadata": {},
   "outputs": [],
   "source": [
    "from common.dataset import FilesFromCsvDataset, TransformedDataset\n",
    "\n",
    "\n",
    "dataset = FilesFromCsvDataset(\"../output/unique_filtered_val_dataset.csv\")\n",
    "dataset = TransformedDataset(dataset,\n",
    "                             transforms=lambda x: (x, Image.open(x).size),\n",
    "                             target_transforms=lambda l: l - 1)\n",
    "\n",
    "df_imsize_targets = get_imsize_and_targets(dataset)\n",
    "y_true = df_imsize_targets['target']"
   ]
  },
  {
   "cell_type": "markdown",
   "metadata": {},
   "source": [
    "## Get hard classes:"
   ]
  },
  {
   "cell_type": "code",
   "execution_count": 5,
   "metadata": {},
   "outputs": [],
   "source": [
    "from sklearn.metrics import confusion_matrix, recall_score, precision_score, accuracy_score\n",
    "\n",
    "dfs = [pd.read_csv(f, index_col='id') for f in meta_features_list]"
   ]
  },
  {
   "cell_type": "code",
   "execution_count": 6,
   "metadata": {},
   "outputs": [
    {
     "data": {
      "text/plain": [
       "0.11895257863643627"
      ]
     },
     "execution_count": 6,
     "metadata": {},
     "output_type": "execute_result"
    }
   ],
   "source": [
    "df_probas = pd.concat(dfs, axis=0)\n",
    "y_probas = df_probas.groupby('id').mean()\n",
    "y_probas = y_probas.loc[y_true.index, :]\n",
    "y_pred = np.argmax(y_probas.values, axis=1)\n",
    "\n",
    "1.0 - accuracy_score(y_true, y_pred)"
   ]
  },
  {
   "cell_type": "code",
   "execution_count": 9,
   "metadata": {},
   "outputs": [],
   "source": [
    "cm = confusion_matrix(y_true, y_pred)\n",
    "recall_per_class = recall_score(y_true, y_pred, average=None)\n",
    "\n",
    "idx = np.arange(len(cm))\n",
    "mcm = cm - cm[idx, idx] * np.eye(len(cm), dtype=np.int)\n",
    "misclassifed = {}\n",
    "\n",
    "for i in range(128):\n",
    "    classes = np.where(mcm[i, :] >= 4)[0]\n",
    "    values = mcm[i, classes]\n",
    "    if len(classes) > 0:\n",
    "        misclassifed[i] = {\n",
    "            'recall': recall_per_class[i],\n",
    "            'wrong_classes':[(c, v) for c, v in zip(classes, values)]\n",
    "        }\n",
    "        "
   ]
  },
  {
   "cell_type": "code",
   "execution_count": 10,
   "metadata": {},
   "outputs": [
    {
     "data": {
      "text/plain": [
       "[3, 65, 14, 123, 62]"
      ]
     },
     "execution_count": 10,
     "metadata": {},
     "output_type": "execute_result"
    }
   ],
   "source": [
    "hard_classes = [k for k in misclassifed if misclassifed[k]['recall'] < 0.65]\n",
    "hard_classes"
   ]
  },
  {
   "cell_type": "code",
   "execution_count": null,
   "metadata": {},
   "outputs": [],
   "source": []
  },
  {
   "cell_type": "code",
   "execution_count": 177,
   "metadata": {},
   "outputs": [],
   "source": [
    "dfs = [pd.read_csv(f, index_col='id') for f in meta_features_list]\n",
    "dfs = [df.loc[y_true.index, :] for df in dfs]\n",
    "df_probas = pd.concat(dfs, axis=1)"
   ]
  },
  {
   "cell_type": "code",
   "execution_count": 178,
   "metadata": {},
   "outputs": [
    {
     "data": {
      "text/plain": [
       "(6263, 1280)"
      ]
     },
     "execution_count": 178,
     "metadata": {},
     "output_type": "execute_result"
    }
   ],
   "source": [
    "df_probas.shape"
   ]
  },
  {
   "cell_type": "markdown",
   "metadata": {},
   "source": [
    "Mean proba baseline"
   ]
  },
  {
   "cell_type": "code",
   "execution_count": 188,
   "metadata": {},
   "outputs": [],
   "source": [
    "dfs_ = [pd.read_csv(f, index_col='id') for f in meta_features_list]\n",
    "df_probas_ = pd.concat(dfs_, axis=0)\n",
    "y_mean_probas = df_probas_.groupby('id').mean()\n",
    "y_mean_probas = y_mean_probas.loc[y_true.index, :].values"
   ]
  },
  {
   "cell_type": "code",
   "execution_count": 194,
   "metadata": {},
   "outputs": [],
   "source": [
    "y_mean_pred = np.argmax(y_mean_probas, axis=1)"
   ]
  },
  {
   "cell_type": "code",
   "execution_count": null,
   "metadata": {},
   "outputs": [],
   "source": []
  },
  {
   "cell_type": "markdown",
   "metadata": {},
   "source": [
    "### Try logistic regression on hard classes"
   ]
  },
  {
   "cell_type": "code",
   "execution_count": 16,
   "metadata": {},
   "outputs": [],
   "source": [
    "from sklearn.model_selection import StratifiedShuffleSplit, StratifiedKFold\n",
    "from sklearn.linear_model import LogisticRegressionCV"
   ]
  },
  {
   "cell_type": "code",
   "execution_count": 206,
   "metadata": {},
   "outputs": [
    {
     "data": {
      "text/plain": [
       "3"
      ]
     },
     "execution_count": 206,
     "metadata": {},
     "output_type": "execute_result"
    }
   ],
   "source": [
    "cls_index = hard_classes[0]\n",
    "cls_index"
   ]
  },
  {
   "cell_type": "code",
   "execution_count": 207,
   "metadata": {},
   "outputs": [],
   "source": [
    "seed = 12\n",
    "\n",
    "X_full = df_probas.values\n",
    "y_full = (y_true == cls_index).values.astype(np.int)\n",
    "\n",
    "splt = StratifiedShuffleSplit(test_size=0.25, random_state=seed)\n",
    "\n",
    "train_index, test_index = next(splt.split(X_full, y_full))\n",
    "\n",
    "X_trainval = X_full[train_index]\n",
    "X_test = X_full[test_index]\n",
    "\n",
    "y_trainval = y_full[train_index]\n",
    "y_test = y_full[test_index]\n",
    "\n",
    "y_mean_pred_test = (y_mean_pred[test_index] == cls_index).astype(np.int)"
   ]
  },
  {
   "cell_type": "code",
   "execution_count": 208,
   "metadata": {},
   "outputs": [],
   "source": [
    "splt = StratifiedKFold(n_splits=5, random_state=seed, shuffle=True)\n",
    "\n",
    "log_reg_cv = LogisticRegressionCV(cv=splt, scoring='precision',\n",
    "                                  class_weight='balanced', \n",
    "                                  solver='liblinear',\n",
    "                                  n_jobs=10, verbose=True, random_state=seed)"
   ]
  },
  {
   "cell_type": "code",
   "execution_count": 209,
   "metadata": {},
   "outputs": [
    {
     "name": "stderr",
     "output_type": "stream",
     "text": [
      "[Parallel(n_jobs=10)]: Done   5 out of   5 | elapsed:   26.4s finished\n"
     ]
    },
    {
     "data": {
      "text/plain": [
       "LogisticRegressionCV(Cs=10, class_weight='balanced',\n",
       "           cv=StratifiedKFold(n_splits=5, random_state=12, shuffle=True),\n",
       "           dual=False, fit_intercept=True, intercept_scaling=1.0,\n",
       "           max_iter=100, multi_class='ovr', n_jobs=10, penalty='l2',\n",
       "           random_state=12, refit=True, scoring='precision',\n",
       "           solver='liblinear', tol=0.0001, verbose=True)"
      ]
     },
     "execution_count": 209,
     "metadata": {},
     "output_type": "execute_result"
    }
   ],
   "source": [
    "log_reg_cv.fit(X_trainval, y_trainval)"
   ]
  },
  {
   "cell_type": "code",
   "execution_count": 210,
   "metadata": {},
   "outputs": [
    {
     "data": {
      "text/plain": [
       "0.8"
      ]
     },
     "execution_count": 210,
     "metadata": {},
     "output_type": "execute_result"
    }
   ],
   "source": [
    "log_reg_cv.scores_[1].max()"
   ]
  },
  {
   "cell_type": "code",
   "execution_count": 211,
   "metadata": {},
   "outputs": [],
   "source": [
    "y_pred = log_reg_cv.predict(X_test)"
   ]
  },
  {
   "cell_type": "code",
   "execution_count": 212,
   "metadata": {},
   "outputs": [
    {
     "data": {
      "text/plain": [
       "(array([[1538,   16],\n",
       "        [   4,    8]]), array([[1550,    4],\n",
       "        [   5,    7]]))"
      ]
     },
     "execution_count": 212,
     "metadata": {},
     "output_type": "execute_result"
    }
   ],
   "source": [
    "confusion_matrix(y_test, y_pred), confusion_matrix(y_test, y_mean_pred_test)"
   ]
  },
  {
   "cell_type": "code",
   "execution_count": 213,
   "metadata": {},
   "outputs": [
    {
     "data": {
      "text/plain": [
       "(0.6666666666666666, 0.3333333333333333, 0.9872286079182631)"
      ]
     },
     "execution_count": 213,
     "metadata": {},
     "output_type": "execute_result"
    }
   ],
   "source": [
    "recall_score(y_test, y_pred), precision_score(y_test, y_pred), accuracy_score(y_test, y_pred)"
   ]
  },
  {
   "cell_type": "code",
   "execution_count": 214,
   "metadata": {},
   "outputs": [
    {
     "data": {
      "text/plain": [
       "(0.5833333333333334, 0.6363636363636364, 0.9942528735632183)"
      ]
     },
     "execution_count": 214,
     "metadata": {},
     "output_type": "execute_result"
    }
   ],
   "source": [
    "recall_score(y_test, y_mean_pred_test), precision_score(y_test, y_mean_pred_test), accuracy_score(y_test, y_mean_pred_test)"
   ]
  },
  {
   "cell_type": "code",
   "execution_count": null,
   "metadata": {},
   "outputs": [],
   "source": []
  },
  {
   "cell_type": "code",
   "execution_count": 174,
   "metadata": {},
   "outputs": [],
   "source": [
    "def visualize_coefficients(classifier, feature_names=None, n_top_features=25):\n",
    "    # get coefficients with large absolute values \n",
    "    coef = classifier.coef_.ravel()\n",
    "    positive_coefficients = np.argsort(coef)[-n_top_features:]\n",
    "    negative_coefficients = np.argsort(coef)[:n_top_features]\n",
    "    interesting_coefficients = np.hstack([negative_coefficients, positive_coefficients])\n",
    "    # plot them\n",
    "    plt.figure(figsize=(15, 5))\n",
    "    colors = [\"red\" if c < 0 else \"blue\" for c in coef[interesting_coefficients]]\n",
    "    plt.bar(np.arange(2 * n_top_features), coef[interesting_coefficients], color=colors)\n",
    "    feature_names = np.array(feature_names) if feature_names is not None else np.array(range(len(coef)))\n",
    "    plt.xticks(np.arange(1, 1 + 2 * n_top_features), feature_names[interesting_coefficients], rotation=60, ha=\"right\");"
   ]
  },
  {
   "cell_type": "code",
   "execution_count": 175,
   "metadata": {},
   "outputs": [
    {
     "data": {
      "image/png": "[encoded data removed]",
      "text/plain": [
       "<Figure size 1080x360 with 1 Axes>"
      ]
     },
     "metadata": {},
     "output_type": "display_data"
    }
   ],
   "source": [
    "cols = [\"{}_c_{}\".format(j, i) for j in range(10) for i in range(128)]\n",
    "\n",
    "visualize_coefficients(log_reg_cv, feature_names=cols, n_top_features=20)"
   ]
  },
  {
   "cell_type": "code",
   "execution_count": null,
   "metadata": {},
   "outputs": [],
   "source": []
  },
  {
   "cell_type": "code",
   "execution_count": 145,
   "metadata": {},
   "outputs": [],
   "source": [
    "coef = log_reg_cv.coef_.ravel()"
   ]
  },
  {
   "cell_type": "code",
   "execution_count": 159,
   "metadata": {},
   "outputs": [],
   "source": [
    "n_top_features = 150\n",
    "positive_coefficients = np.argsort(coef)[-n_top_features:]\n",
    "negative_coefficients = np.argsort(coef)[:n_top_features]\n",
    "interesting_coefficients = np.hstack([negative_coefficients, positive_coefficients])"
   ]
  },
  {
   "cell_type": "code",
   "execution_count": 160,
   "metadata": {},
   "outputs": [],
   "source": [
    "splt = StratifiedKFold(n_splits=5, random_state=seed, shuffle=True)\n",
    "\n",
    "log_reg_cv_2 = LogisticRegressionCV(cv=splt, scoring='precision', \n",
    "                                    class_weight='balanced', \n",
    "                                    solver='liblinear',\n",
    "                                    n_jobs=10, verbose=True, random_state=seed)"
   ]
  },
  {
   "cell_type": "code",
   "execution_count": 161,
   "metadata": {},
   "outputs": [
    {
     "name": "stderr",
     "output_type": "stream",
     "text": [
      "[Parallel(n_jobs=10)]: Done   5 out of   5 | elapsed:    5.5s finished\n"
     ]
    },
    {
     "data": {
      "text/plain": [
       "LogisticRegressionCV(Cs=10, class_weight='balanced',\n",
       "           cv=StratifiedKFold(n_splits=5, random_state=12, shuffle=True),\n",
       "           dual=False, fit_intercept=True, intercept_scaling=1.0,\n",
       "           max_iter=100, multi_class='ovr', n_jobs=10, penalty='l2',\n",
       "           random_state=12, refit=True, scoring='precision',\n",
       "           solver='liblinear', tol=0.0001, verbose=True)"
      ]
     },
     "execution_count": 161,
     "metadata": {},
     "output_type": "execute_result"
    }
   ],
   "source": [
    "log_reg_cv_2.fit(X_trainval[:, interesting_coefficients], y_trainval)"
   ]
  },
  {
   "cell_type": "code",
   "execution_count": 162,
   "metadata": {},
   "outputs": [
    {
     "data": {
      "text/plain": [
       "0.8571428571428571"
      ]
     },
     "execution_count": 162,
     "metadata": {},
     "output_type": "execute_result"
    }
   ],
   "source": [
    "log_reg_cv_2.scores_[1].max()"
   ]
  },
  {
   "cell_type": "code",
   "execution_count": 163,
   "metadata": {},
   "outputs": [],
   "source": [
    "y_pred = log_reg_cv_2.predict(X_test[:, interesting_coefficients])"
   ]
  },
  {
   "cell_type": "code",
   "execution_count": 164,
   "metadata": {},
   "outputs": [
    {
     "data": {
      "text/plain": [
       "array([[1549,    4],\n",
       "       [   2,   11]])"
      ]
     },
     "execution_count": 164,
     "metadata": {},
     "output_type": "execute_result"
    }
   ],
   "source": [
    "confusion_matrix(y_test, y_pred)"
   ]
  },
  {
   "cell_type": "code",
   "execution_count": 165,
   "metadata": {},
   "outputs": [
    {
     "data": {
      "text/plain": [
       "(0.8461538461538461, 0.7333333333333333, 0.9961685823754789)"
      ]
     },
     "execution_count": 165,
     "metadata": {},
     "output_type": "execute_result"
    }
   ],
   "source": [
    "recall_score(y_test, y_pred), precision_score(y_test, y_pred), accuracy_score(y_test, y_pred)"
   ]
  },
  {
   "cell_type": "code",
   "execution_count": null,
   "metadata": {},
   "outputs": [],
   "source": []
  },
  {
   "cell_type": "code",
   "execution_count": null,
   "metadata": {},
   "outputs": [],
   "source": []
  },
  {
   "cell_type": "markdown",
   "metadata": {},
   "source": [
    "### Try RF on hard classes"
   ]
  },
  {
   "cell_type": "code",
   "execution_count": 297,
   "metadata": {},
   "outputs": [],
   "source": [
    "from sklearn.model_selection import StratifiedShuffleSplit, StratifiedKFold\n",
    "from sklearn.ensemble import RandomForestClassifier\n",
    "from sklearn.metrics import confusion_matrix, recall_score, precision_score, accuracy_score, roc_auc_score"
   ]
  },
  {
   "cell_type": "code",
   "execution_count": null,
   "metadata": {},
   "outputs": [],
   "source": [
    "65, 123, 62"
   ]
  },
  {
   "cell_type": "code",
   "execution_count": 358,
   "metadata": {},
   "outputs": [
    {
     "data": {
      "text/plain": [
       "3"
      ]
     },
     "execution_count": 358,
     "metadata": {},
     "output_type": "execute_result"
    }
   ],
   "source": [
    "cls_index = hard_classes[0]\n",
    "cls_index"
   ]
  },
  {
   "cell_type": "code",
   "execution_count": 359,
   "metadata": {},
   "outputs": [],
   "source": [
    "seed = 12\n",
    "\n",
    "X_full = df_probas.values\n",
    "y_full = (y_true == cls_index).values.astype(np.int)\n",
    "\n",
    "splt = StratifiedShuffleSplit(test_size=0.25, random_state=seed)\n",
    "\n",
    "train_index, test_index = next(splt.split(X_full, y_full))\n",
    "\n",
    "X_trainval = X_full[train_index]\n",
    "X_test = X_full[test_index]\n",
    "\n",
    "y_trainval = y_full[train_index]\n",
    "y_test = y_full[test_index]\n",
    "\n",
    "y_mean_pred_test = (y_mean_pred[test_index] == cls_index).astype(np.int)"
   ]
  },
  {
   "cell_type": "code",
   "execution_count": 362,
   "metadata": {},
   "outputs": [],
   "source": [
    "# Utility function to report best scores\n",
    "def report(results, n_top=3):\n",
    "    for i in range(1, n_top + 1):\n",
    "        candidates = np.flatnonzero(results['rank_test_score'] == i)\n",
    "        for candidate in candidates:\n",
    "            print(\"Model with rank: {0}\".format(i))\n",
    "            print(\"Mean validation score: {0:.3f} (std: {1:.3f})\".format(\n",
    "                  results['mean_test_score'][candidate],\n",
    "                  results['std_test_score'][candidate]))\n",
    "            print(\"Parameters: {0}\".format(results['params'][candidate]))\n",
    "            print(\"\")"
   ]
  },
  {
   "cell_type": "code",
   "execution_count": 369,
   "metadata": {},
   "outputs": [
    {
     "name": "stdout",
     "output_type": "stream",
     "text": [
      "Fitting 5 folds for each of 216 candidates, totalling 1080 fits\n"
     ]
    },
    {
     "name": "stderr",
     "output_type": "stream",
     "text": [
      "[Parallel(n_jobs=8)]: Done  34 tasks      | elapsed:    2.5s\n",
      "[Parallel(n_jobs=8)]: Done 184 tasks      | elapsed:   12.5s\n",
      "[Parallel(n_jobs=8)]: Done 434 tasks      | elapsed:   28.9s\n",
      "[Parallel(n_jobs=8)]: Done 784 tasks      | elapsed:   52.7s\n",
      "[Parallel(n_jobs=8)]: Done 1080 out of 1080 | elapsed:  1.2min finished\n"
     ]
    },
    {
     "data": {
      "text/plain": [
       "GridSearchCV(cv=StratifiedKFold(n_splits=5, random_state=12, shuffle=True),\n",
       "       error_score='raise',\n",
       "       estimator=RandomForestClassifier(bootstrap=True, class_weight=None, criterion='gini',\n",
       "            max_depth=None, max_features='auto', max_leaf_nodes=None,\n",
       "            min_impurity_decrease=0.0, min_impurity_split=None,\n",
       "            min_samples_leaf=1, min_samples_split=2,\n",
       "            min_weight_fraction_leaf=0.0, n_estimators=10, n_jobs=1,\n",
       "            oob_score=False, random_state=12, verbose=0, warm_start=False),\n",
       "       fit_params=None, iid=True, n_jobs=8,\n",
       "       param_grid={'max_depth': [3, 4, 5], 'max_features': ['auto', 'log2'], 'min_samples_leaf': [1, 3, 10], 'criterion': ['gini', 'entropy'], 'bootstrap': [True, False], 'min_samples_split': [2, 3, 10]},\n",
       "       pre_dispatch='2*n_jobs', refit=True, return_train_score='warn',\n",
       "       scoring='accuracy', verbose=True)"
      ]
     },
     "execution_count": 369,
     "metadata": {},
     "output_type": "execute_result"
    }
   ],
   "source": [
    "splt = StratifiedKFold(n_splits=5, random_state=seed, shuffle=True)\n",
    "\n",
    "from sklearn.model_selection import GridSearchCV\n",
    "\n",
    "rf = RandomForestClassifier(random_state=seed)\n",
    "\n",
    "param_grid = {\"max_depth\": [3, 4, 5],\n",
    "              \"max_features\": ['auto', 'log2'],\n",
    "              \"min_samples_split\": [2, 3, 10],\n",
    "              \"min_samples_leaf\": [1, 3, 10],\n",
    "              \"bootstrap\": [True, False],\n",
    "              \"criterion\": [\"gini\", \"entropy\"]}\n",
    "\n",
    "\n",
    "grid_search = GridSearchCV(rf, param_grid=param_grid, scoring='accuracy', cv=splt, verbose=True, n_jobs=8)\n",
    "grid_search.fit(X_trainval, y_trainval)\n"
   ]
  },
  {
   "cell_type": "code",
   "execution_count": 371,
   "metadata": {},
   "outputs": [
    {
     "name": "stdout",
     "output_type": "stream",
     "text": [
      "Model with rank: 1\n",
      "Mean validation score: 0.994 (std: 0.001)\n",
      "Parameters: {'max_depth': 5, 'max_features': 'auto', 'min_samples_leaf': 1, 'criterion': 'gini', 'bootstrap': False, 'min_samples_split': 3}\n",
      "\n",
      "Model with rank: 1\n",
      "Mean validation score: 0.994 (std: 0.002)\n",
      "Parameters: {'max_depth': 5, 'max_features': 'auto', 'min_samples_leaf': 1, 'criterion': 'gini', 'bootstrap': False, 'min_samples_split': 10}\n",
      "\n",
      "Model with rank: 1\n",
      "Mean validation score: 0.994 (std: 0.003)\n",
      "Parameters: {'max_depth': 5, 'max_features': 'auto', 'min_samples_leaf': 3, 'criterion': 'gini', 'bootstrap': False, 'min_samples_split': 2}\n",
      "\n",
      "Model with rank: 1\n",
      "Mean validation score: 0.994 (std: 0.003)\n",
      "Parameters: {'max_depth': 5, 'max_features': 'auto', 'min_samples_leaf': 3, 'criterion': 'gini', 'bootstrap': False, 'min_samples_split': 3}\n",
      "\n"
     ]
    }
   ],
   "source": [
    "report(grid_search.cv_results_)"
   ]
  },
  {
   "cell_type": "code",
   "execution_count": 372,
   "metadata": {},
   "outputs": [],
   "source": [
    "y_pred = grid_search.best_estimator_.predict(X_test)"
   ]
  },
  {
   "cell_type": "code",
   "execution_count": 373,
   "metadata": {},
   "outputs": [
    {
     "data": {
      "text/plain": [
       "(array([[1551,    3],\n",
       "        [   6,    6]]), array([[1550,    4],\n",
       "        [   5,    7]]))"
      ]
     },
     "execution_count": 373,
     "metadata": {},
     "output_type": "execute_result"
    }
   ],
   "source": [
    "confusion_matrix(y_test, y_pred), confusion_matrix(y_test, y_mean_pred_test)"
   ]
  },
  {
   "cell_type": "code",
   "execution_count": 374,
   "metadata": {},
   "outputs": [
    {
     "data": {
      "text/plain": [
       "(0.5, 0.6666666666666666, 0.749034749034749)"
      ]
     },
     "execution_count": 374,
     "metadata": {},
     "output_type": "execute_result"
    }
   ],
   "source": [
    "recall_score(y_test, y_pred), precision_score(y_test, y_pred), roc_auc_score(y_test, y_pred)"
   ]
  },
  {
   "cell_type": "code",
   "execution_count": 375,
   "metadata": {},
   "outputs": [
    {
     "data": {
      "text/plain": [
       "(0.5833333333333334, 0.6363636363636364, 0.7903796653796654)"
      ]
     },
     "execution_count": 375,
     "metadata": {},
     "output_type": "execute_result"
    }
   ],
   "source": [
    "recall_score(y_test, y_mean_pred_test), precision_score(y_test, y_mean_pred_test), roc_auc_score(y_test, y_mean_pred_test)"
   ]
  },
  {
   "cell_type": "code",
   "execution_count": null,
   "metadata": {},
   "outputs": [],
   "source": []
  },
  {
   "cell_type": "code",
   "execution_count": null,
   "metadata": {},
   "outputs": [],
   "source": []
  }
 ],
 "metadata": {
  "kernelspec": {
   "display_name": "Python 3",
   "language": "python",
   "name": "python3"
  },
  "language_info": {
   "codemirror_mode": {
    "name": "ipython",
    "version": 3
   },
   "file_extension": ".py",
   "mimetype": "text/x-python",
   "name": "python",
   "nbconvert_exporter": "python",
   "pygments_lexer": "ipython3",
   "version": "3.5.2"
  }
 },
 "nbformat": 4,
 "nbformat_minor": 2
}
