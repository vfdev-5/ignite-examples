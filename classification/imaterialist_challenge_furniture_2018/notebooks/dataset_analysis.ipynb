{
 "cells": [
  {
   "cell_type": "markdown",
   "metadata": {},
   "source": [
    "# Dataset analysis\n",
    "\n"
   ]
  },
  {
   "cell_type": "code",
   "execution_count": 1,
   "metadata": {},
   "outputs": [],
   "source": [
    "# https://ipython.org/ipython-doc/3/config/extensions/autoreload.html\n",
    "%load_ext autoreload\n",
    "%autoreload 2"
   ]
  },
  {
   "cell_type": "code",
   "execution_count": 4,
   "metadata": {},
   "outputs": [],
   "source": [
    "from pathlib import Path\n",
    "import sys\n",
    "sys.path.insert(0, Path(\".\").absolute().parent.as_posix())"
   ]
  },
  {
   "cell_type": "code",
   "execution_count": 21,
   "metadata": {},
   "outputs": [],
   "source": [
    "import numpy as np\n",
    "from imblearn.under_sampling import RandomUnderSampler\n",
    "from common.dataset import TrainvalFilesDataset, TransformedDataset"
   ]
  },
  {
   "cell_type": "code",
   "execution_count": 68,
   "metadata": {},
   "outputs": [],
   "source": [
    "dataset = TrainvalFilesDataset(\"/home/fast_storage/imaterialist-challenge-furniture-2018/train_400x400/\")\n",
    "dataset = TransformedDataset(dataset, transforms=lambda x: x, target_transforms=lambda y: y - 1)"
   ]
  },
  {
   "cell_type": "code",
   "execution_count": 69,
   "metadata": {},
   "outputs": [],
   "source": [
    "n_samples = len(dataset)\n",
    "indices = np.zeros((n_samples, 1), dtype=np.int)\n",
    "y = np.zeros((n_samples,), dtype=np.int)"
   ]
  },
  {
   "cell_type": "code",
   "execution_count": 70,
   "metadata": {},
   "outputs": [],
   "source": [
    "for i, dp in enumerate(dataset):\n",
    "    y[i] = dp[1]\n",
    "    indices[i, 0] = i"
   ]
  },
  {
   "cell_type": "code",
   "execution_count": 71,
   "metadata": {},
   "outputs": [],
   "source": [
    "y_counts = np.bincount(y)"
   ]
  },
  {
   "cell_type": "code",
   "execution_count": 72,
   "metadata": {},
   "outputs": [
    {
     "data": {
      "text/plain": [
       "array([1231, 1481, 2352, 1458, 1577, 1092, 1581, 1349,  465, 1962, 1726,\n",
       "       2554, 1583, 1854, 1039, 1335, 1459, 1517,  842, 3922, 2416, 1365,\n",
       "       1178, 1761,  524, 1535, 2164, 1666, 1409, 1149, 2067, 1684, 1219,\n",
       "        715,  641, 1555, 2221, 2281, 1094, 2016,  619, 3889, 1711, 1429,\n",
       "       2252, 1481,  729, 1270, 1841, 1261, 1000, 1153, 1274, 1768, 2142,\n",
       "       1709,  691,  781, 1401, 1656, 1899,  675, 1732, 1928, 1143,  338,\n",
       "       1057, 2210, 1224, 1330, 1224, 1387, 2243,  604, 1772, 2112,  542,\n",
       "       1989, 1494, 1482, 1570, 1262,  322, 1254,  616,  664, 1649, 1221,\n",
       "       2312, 1221, 2062, 2626, 2280, 1280, 1146, 1292, 1060, 1823, 1909,\n",
       "       1371, 1852, 1330, 2179, 2006,  833,  863, 1720, 1432,  742,  810,\n",
       "       1827, 1730, 1356,  727,  803, 1866, 2206, 1744, 1062, 2031,  430,\n",
       "       2433, 1956,  411, 2566, 1922,  729, 1273])"
      ]
     },
     "execution_count": 72,
     "metadata": {},
     "output_type": "execute_result"
    }
   ],
   "source": [
    "y_counts"
   ]
  },
  {
   "cell_type": "code",
   "execution_count": 73,
   "metadata": {},
   "outputs": [],
   "source": [
    "desired_ratio = dict([\n",
    "    (label, min(c, 1500)) for label, c in enumerate(y_counts)\n",
    "])"
   ]
  },
  {
   "cell_type": "code",
   "execution_count": 74,
   "metadata": {},
   "outputs": [],
   "source": [
    "rs = RandomUnderSampler(ratio=desired_ratio,random_state=12345)"
   ]
  },
  {
   "cell_type": "code",
   "execution_count": 75,
   "metadata": {},
   "outputs": [],
   "source": [
    "resampled_indices, y_resampled = rs.fit_sample(indices, y)"
   ]
  },
  {
   "cell_type": "code",
   "execution_count": 76,
   "metadata": {},
   "outputs": [],
   "source": [
    "y_resampled_counts = np.bincount(y_resampled)"
   ]
  },
  {
   "cell_type": "code",
   "execution_count": 77,
   "metadata": {},
   "outputs": [
    {
     "data": {
      "text/plain": [
       "array([1231, 1481, 1500, 1458, 1500, 1092, 1500, 1349,  465, 1500, 1500,\n",
       "       1500, 1500, 1500, 1039, 1335, 1459, 1500,  842, 1500, 1500, 1365,\n",
       "       1178, 1500,  524, 1500, 1500, 1500, 1409, 1149, 1500, 1500, 1219,\n",
       "        715,  641, 1500, 1500, 1500, 1094, 1500,  619, 1500, 1500, 1429,\n",
       "       1500, 1481,  729, 1270, 1500, 1261, 1000, 1153, 1274, 1500, 1500,\n",
       "       1500,  691,  781, 1401, 1500, 1500,  675, 1500, 1500, 1143,  338,\n",
       "       1057, 1500, 1224, 1330, 1224, 1387, 1500,  604, 1500, 1500,  542,\n",
       "       1500, 1494, 1482, 1500, 1262,  322, 1254,  616,  664, 1500, 1221,\n",
       "       1500, 1221, 1500, 1500, 1500, 1280, 1146, 1292, 1060, 1500, 1500,\n",
       "       1371, 1500, 1330, 1500, 1500,  833,  863, 1500, 1432,  742,  810,\n",
       "       1500, 1500, 1356,  727,  803, 1500, 1500, 1500, 1062, 1500,  430,\n",
       "       1500, 1500,  411, 1500, 1500,  729, 1273])"
      ]
     },
     "execution_count": 77,
     "metadata": {},
     "output_type": "execute_result"
    }
   ],
   "source": [
    "y_resampled_counts"
   ]
  },
  {
   "cell_type": "code",
   "execution_count": 79,
   "metadata": {},
   "outputs": [],
   "source": [
    "resampled_indices = resampled_indices[:, 0]"
   ]
  },
  {
   "cell_type": "code",
   "execution_count": 80,
   "metadata": {},
   "outputs": [],
   "source": [
    "y_resampled2 = y[resampled_indices]"
   ]
  },
  {
   "cell_type": "code",
   "execution_count": 81,
   "metadata": {},
   "outputs": [
    {
     "data": {
      "text/plain": [
       "(160644,)"
      ]
     },
     "execution_count": 81,
     "metadata": {},
     "output_type": "execute_result"
    }
   ],
   "source": [
    "y_resampled2.shape"
   ]
  },
  {
   "cell_type": "code",
   "execution_count": 83,
   "metadata": {},
   "outputs": [
    {
     "data": {
      "text/plain": [
       "array([1231, 1481, 1500, 1458, 1500, 1092, 1500, 1349,  465, 1500, 1500,\n",
       "       1500, 1500, 1500, 1039, 1335, 1459, 1500,  842, 1500, 1500, 1365,\n",
       "       1178, 1500,  524, 1500, 1500, 1500, 1409, 1149, 1500, 1500, 1219,\n",
       "        715,  641, 1500, 1500, 1500, 1094, 1500,  619, 1500, 1500, 1429,\n",
       "       1500, 1481,  729, 1270, 1500, 1261, 1000, 1153, 1274, 1500, 1500,\n",
       "       1500,  691,  781, 1401, 1500, 1500,  675, 1500, 1500, 1143,  338,\n",
       "       1057, 1500, 1224, 1330, 1224, 1387, 1500,  604, 1500, 1500,  542,\n",
       "       1500, 1494, 1482, 1500, 1262,  322, 1254,  616,  664, 1500, 1221,\n",
       "       1500, 1221, 1500, 1500, 1500, 1280, 1146, 1292, 1060, 1500, 1500,\n",
       "       1371, 1500, 1330, 1500, 1500,  833,  863, 1500, 1432,  742,  810,\n",
       "       1500, 1500, 1356,  727,  803, 1500, 1500, 1500, 1062, 1500,  430,\n",
       "       1500, 1500,  411, 1500, 1500,  729, 1273])"
      ]
     },
     "execution_count": 83,
     "metadata": {},
     "output_type": "execute_result"
    }
   ],
   "source": [
    "np.bincount(y_resampled2)"
   ]
  },
  {
   "cell_type": "code",
   "execution_count": null,
   "metadata": {},
   "outputs": [],
   "source": []
  }
 ],
 "metadata": {
  "kernelspec": {
   "display_name": "Python 3",
   "language": "python",
   "name": "python3"
  },
  "language_info": {
   "codemirror_mode": {
    "name": "ipython",
    "version": 3
   },
   "file_extension": ".py",
   "mimetype": "text/x-python",
   "name": "python",
   "nbconvert_exporter": "python",
   "pygments_lexer": "ipython3",
   "version": "3.5.2"
  }
 },
 "nbformat": 4,
 "nbformat_minor": 2
}
