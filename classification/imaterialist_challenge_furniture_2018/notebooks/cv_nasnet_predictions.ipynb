{
 "cells": [
  {
   "cell_type": "markdown",
   "metadata": {},
   "source": [
    "# Predictions with nasnet models"
   ]
  },
  {
   "cell_type": "code",
   "execution_count": 3,
   "metadata": {},
   "outputs": [],
   "source": [
    "CD = \"cd ../ &&\""
   ]
  },
  {
   "cell_type": "code",
   "execution_count": 4,
   "metadata": {},
   "outputs": [],
   "source": [
    "from pathlib import Path\n",
    "import sys\n",
    "sys.path.insert(0, Path(\".\").absolute().parent.as_posix())"
   ]
  },
  {
   "cell_type": "code",
   "execution_count": null,
   "metadata": {},
   "outputs": [],
   "source": []
  },
  {
   "cell_type": "code",
   "execution_count": null,
   "metadata": {},
   "outputs": [],
   "source": []
  },
  {
   "cell_type": "markdown",
   "metadata": {},
   "source": [
    "Validation"
   ]
  },
  {
   "cell_type": "code",
   "execution_count": 5,
   "metadata": {},
   "outputs": [],
   "source": [
    "files = [\n",
    "    \"configs/val_probas/cv/nasnetlarge_350_resized_crop/fold_0.py\",\n",
    "    \"configs/val_probas/cv/nasnetlarge_350_resized_crop/fold_1.py\",\n",
    "    \"configs/val_probas/cv/nasnetlarge_350_resized_crop/fold_2.py\",\n",
    "    \"configs/val_probas/cv/nasnetlarge_350_resized_crop/fold_3.py\",\n",
    "]"
   ]
  },
  {
   "cell_type": "code",
   "execution_count": 8,
   "metadata": {},
   "outputs": [
    {
     "name": "stdout",
     "output_type": "stream",
     "text": [
      "Run multiple predictions\n",
      "\n",
      "\n",
      "----- run configs/val_probas/cv/nasnetlarge_350_resized_crop/fold_0.py -----\n",
      "\n",
      "--- iMaterialist 2018 : Inference --- \n",
      "Load config file ... \n",
      "Activated debug mode\n",
      "2018-05-30 07:47:54,531|iMaterialist 2018: Inference|DEBUG| Setup tensorboard writer\n",
      "2018-05-30 07:47:54,533|iMaterialist 2018: Inference|INFO| \n",
      "        Configuration file: configs/val_probas/cv/nasnetlarge_350_resized_crop/fold_0.py\n",
      "\n",
      "        LOG_DIR: output/val_probas/cv/nasnetlarge_350_resized_crop/fold_0/20180530_0747\n",
      "            \n",
      "    \t# Basic training configuration file\n",
      "\tfrom pathlib import Path\n",
      "\tfrom torch.utils.data import ConcatDataset\n",
      "\tfrom torchvision.transforms import RandomVerticalFlip, RandomHorizontalFlip\n",
      "\tfrom torchvision.transforms import RandomResizedCrop\n",
      "\tfrom torchvision.transforms import ToTensor, Normalize\n",
      "\t\n",
      "\tfrom common.dataset import FilesFromCsvDataset\n",
      "\tfrom common.data_loaders import get_data_loader, get_trainval_indices\n",
      "\t\n",
      "\t\n",
      "\tSEED = 1245\n",
      "\tDEBUG = True\n",
      "\tDEVICE = \"cuda\"\n",
      "\t\n",
      "\tOUTPUT_PATH = Path(\"output\") / \"val_probas\" / \"cv\" / \"nasnetlarge_350_resized_crop\"\n",
      "\tdataset_path = Path(\"/home/fast_storage/imaterialist-challenge-furniture-2018/\")\n",
      "\t\n",
      "\tSAVE_PROBAS = True\n",
      "\t# SAMPLE_SUBMISSION_PATH = dataset_path / \"sample_submission_randomlabel.csv\"\n",
      "\t\n",
      "\t\n",
      "\tTEST_TRANSFORMS = [\n",
      "\t    RandomResizedCrop(350, scale=(0.7, 1.0), interpolation=3),\n",
      "\t    RandomHorizontalFlip(p=0.5),\n",
      "\t    ToTensor(),\n",
      "\t    Normalize(mean=[0.5, 0.5, 0.5], std=[0.5, 0.5, 0.5])\n",
      "\t]\n",
      "\t\n",
      "\tN_CLASSES = 128\n",
      "\tbatch_size = 64\n",
      "\tnum_workers = 15\n",
      "\t\n",
      "\t\n",
      "\ttrain_dataset = FilesFromCsvDataset(\"output/unique_filtered_train_dataset.csv\")\n",
      "\tval_dataset = FilesFromCsvDataset(\"output/unique_filtered_val_dataset.csv\")\n",
      "\ttrainval_dataset = ConcatDataset([train_dataset, val_dataset])\n",
      "\t\n",
      "\t\n",
      "\t# #### Stratified split :\n",
      "\tfold_index = 0\n",
      "\tn_splits = 4\n",
      "\ttrain_index, val_index = get_trainval_indices(trainval_dataset,\n",
      "\t                                              fold_index=fold_index, n_splits=n_splits,\n",
      "\t                                              xy_transforms=None,\n",
      "\t                                              batch_size=batch_size, n_workers=8,\n",
      "\t                                              seed=SEED)\n",
      "\t# ####\n",
      "\t\n",
      "\tTEST_LOADER = get_data_loader(trainval_dataset,\n",
      "\t                              data_transform=TEST_TRANSFORMS,\n",
      "\t                              sample_indices=val_index,\n",
      "\t                              batch_size=batch_size,\n",
      "\t                              num_workers=num_workers,\n",
      "\t                              pin_memory=\"cuda\" in DEVICE)\n",
      "\t\n",
      "\t\n",
      "\tMODEL = (Path(\"output\") / \"cv\" / \"nasnetlarge_350_resized_crop\" / \"fold_0\" / \"20180524_2212\" /\n",
      "\t         \"model_FurnitureNASNetALarge350_6_val_loss=0.5466337.pth\").as_posix()\n",
      "\t\n",
      "\tN_TTA = 7\n",
      "\n",
      "\n",
      "\n",
      "2018-05-30 07:47:54,534|iMaterialist 2018: Inference|DEBUG| CUDA is enabled\n",
      "2018-05-30 07:47:54,563|iMaterialist 2018: Inference|DEBUG| Setup test dataloader\n",
      "2018-05-30 07:47:54,564|iMaterialist 2018: Inference|DEBUG| Setup ignite inferencer\n",
      "2018-05-30 07:47:54,583|iMaterialist 2018: Inference|DEBUG| Setup handlers\n",
      "2018-05-30 07:47:54,584|iMaterialist 2018: Inference|INFO| Start inference\n",
      "2018-05-30 08:04:38,392|iMaterialist 2018: Inference|ERROR| \n",
      "Traceback (most recent call last):\n",
      "  File \"/home/working_directory/ml/ignite-examples/classification/imaterialist_challenge_furniture_2018/predict.py\", line 186, in run\n",
      "    inferencer.run(test_loader, max_epochs=n_tta)\n",
      "  File \"/usr/local/lib/python3.5/dist-packages/ignite/engine/engine.py\", line 223, in run\n",
      "    self._handle_exception(e)\n",
      "  File \"/usr/local/lib/python3.5/dist-packages/ignite/engine/engine.py\", line 188, in _handle_exception\n",
      "    raise e\n",
      "  File \"/usr/local/lib/python3.5/dist-packages/ignite/engine/engine.py\", line 210, in run\n",
      "    hours, mins, secs = self._run_once_on_dataset()\n",
      "  File \"/usr/local/lib/python3.5/dist-packages/ignite/engine/engine.py\", line 177, in _run_once_on_dataset\n",
      "    self._handle_exception(e)\n",
      "  File \"/usr/local/lib/python3.5/dist-packages/ignite/engine/engine.py\", line 188, in _handle_exception\n",
      "    raise e\n",
      "  File \"/usr/local/lib/python3.5/dist-packages/ignite/engine/engine.py\", line 171, in _run_once_on_dataset\n",
      "    self._fire_event(Events.ITERATION_COMPLETED)\n",
      "  File \"/usr/local/lib/python3.5/dist-packages/ignite/engine/engine.py\", line 154, in _fire_event\n",
      "    func(self, *(event_args + args), **kwargs)\n",
      "  File \"/home/working_directory/ml/ignite-examples/classification/imaterialist_challenge_furniture_2018/predict.py\", line 180, in save_results\n",
      "    y_probas_tta[start_index:end_index, :, tta_index] = batch_y_probas\n",
      "ValueError: could not broadcast input array from shape (19,128) into shape (64,128)\n",
      "Python 3.5.2 (default, Nov 23 2017, 16:37:01) \n",
      "Type 'copyright', 'credits' or 'license' for more information\n",
      "IPython 6.3.1 -- An enhanced Interactive Python. Type '?' for help.\n",
      "\n",
      "\u001b[?1l\u001b[6n\u001b[?2004h\u001b[?25l\u001b[0m\u001b[?7l\u001b[0m\u001b[J\u001b[0;38;5;28mIn [\u001b[0;38;5;10;1m1\u001b[0;38;5;28m]: \u001b[8D\u001b[8C\u001b[?7h\u001b[0m\u001b[?12l\u001b[?25h\u001b[?25l\u001b[?7l\u001b[8D\u001b[0m\u001b[J\u001b[0;38;5;28mIn [\u001b[0;38;5;10;1m1\u001b[0;38;5;28m]: \u001b[8D\u001b[0m\n",
      "\u001b[J\u001b[?7h\u001b[0m\u001b[?12l\u001b[?25h\u001b[?2004l\n",
      "\u001b[?1l\u001b[6n\u001b[?2004h\u001b[?25l\u001b[0m\u001b[?7l\u001b[0m\u001b[J\u001b[0;38;5;28mIn [\u001b[0;38;5;10;1m1\u001b[0;38;5;28m]: \u001b[8D\u001b[8C\u001b[?7h\u001b[0m\u001b[?12l\u001b[?25h\u001b[?25l\u001b[?7l\u001b[?7h\u001b[0m\u001b[?12l\u001b[?25h"
     ]
    }
   ],
   "source": [
    "!{CD} python3 multi_predict.py {\" \".join(files)}"
   ]
  },
  {
   "cell_type": "code",
   "execution_count": 17,
   "metadata": {},
   "outputs": [],
   "source": [
    "from pathlib import Path\n",
    "import numpy as np\n",
    "import pandas as pd\n",
    "\n",
    "\n",
    "OUTPUT_PATH = Path(\".\").absolute().parent / \"output\" / \"val_probas\" / \"cv\" / \"nasnetlarge_350_resized_crop\""
   ]
  },
  {
   "cell_type": "code",
   "execution_count": 24,
   "metadata": {},
   "outputs": [
    {
     "name": "stdout",
     "output_type": "stream",
     "text": [
      "20180529_2317\n"
     ]
    }
   ],
   "source": [
    "!ls {(OUTPUT_PATH / \"fold_3\").as_posix()}"
   ]
  },
  {
   "cell_type": "code",
   "execution_count": 25,
   "metadata": {},
   "outputs": [],
   "source": [
    "val_prediction_files = [\n",
    "    OUTPUT_PATH / \"fold_0\" / \"20180529_2153\" / \"probas.csv\",\n",
    "    OUTPUT_PATH / \"fold_1\" / \"20180529_2221\" / \"probas.csv\",\n",
    "    OUTPUT_PATH / \"fold_2\" / \"20180529_2249\" / \"probas.csv\",\n",
    "    OUTPUT_PATH / \"fold_3\" / \"20180529_2317\" / \"probas.csv\",\n",
    "]\n",
    "\n",
    "val_dfs = [pd.read_csv(f, index_col='id') for f in val_prediction_files]\n",
    "df_probas = pd.concat(val_dfs, axis=0)"
   ]
  },
  {
   "cell_type": "code",
   "execution_count": 31,
   "metadata": {},
   "outputs": [],
   "source": [
    "from PIL import Image\n",
    "from common.dataset import FilesFromCsvDataset, TransformedDataset\n",
    "from common.meta import get_imsize_and_targets\n",
    "\n",
    "\n",
    "dataset = FilesFromCsvDataset(\"../output/filtered_val_dataset.csv\")\n",
    "dataset = TransformedDataset(dataset,\n",
    "                             transforms=lambda x: (x, Image.open(x).size),\n",
    "                             target_transforms=lambda l: l - 1)\n",
    "\n",
    "df_imsize_targets = get_imsize_and_targets(dataset)\n",
    "y_true = df_imsize_targets['target']"
   ]
  },
  {
   "cell_type": "code",
   "execution_count": 32,
   "metadata": {},
   "outputs": [],
   "source": [
    "y_probas = df_probas.groupby('id').mean()\n",
    "y_probas = y_probas.loc[y_true.index, :]"
   ]
  },
  {
   "cell_type": "code",
   "execution_count": 33,
   "metadata": {},
   "outputs": [
    {
     "data": {
      "text/plain": [
       "0.10968049594659035"
      ]
     },
     "execution_count": 33,
     "metadata": {},
     "output_type": "execute_result"
    }
   ],
   "source": [
    "from sklearn.metrics import accuracy_score\n",
    "\n",
    "\n",
    "y_pred = np.argmax(y_probas.values, axis=1)\n",
    "val_error = 1.0 - accuracy_score(y_true, y_pred)\n",
    "val_error"
   ]
  },
  {
   "cell_type": "code",
   "execution_count": null,
   "metadata": {},
   "outputs": [],
   "source": []
  },
  {
   "cell_type": "code",
   "execution_count": null,
   "metadata": {},
   "outputs": [],
   "source": []
  },
  {
   "cell_type": "markdown",
   "metadata": {},
   "source": [
    "Predict on test dataset"
   ]
  },
  {
   "cell_type": "code",
   "execution_count": 9,
   "metadata": {},
   "outputs": [],
   "source": [
    "files = [\n",
    "    \"configs/test_probas/cv/nasnetlarge_350_resized_crop/fold_0.py\",\n",
    "    \"configs/test_probas/cv/nasnetlarge_350_resized_crop/fold_1.py\",\n",
    "    \"configs/test_probas/cv/nasnetlarge_350_resized_crop/fold_2.py\",\n",
    "    \"configs/test_probas/cv/nasnetlarge_350_resized_crop/fold_3.py\",\n",
    "]"
   ]
  },
  {
   "cell_type": "code",
   "execution_count": 11,
   "metadata": {},
   "outputs": [],
   "source": [
    "!{CD} python3 multi_predict.py {\" \".join(files)}"
   ]
  },
  {
   "cell_type": "code",
   "execution_count": 13,
   "metadata": {},
   "outputs": [],
   "source": [
    "from pathlib import Path\n",
    "import numpy as np\n",
    "import pandas as pd"
   ]
  },
  {
   "cell_type": "code",
   "execution_count": 14,
   "metadata": {},
   "outputs": [],
   "source": [
    "OUTPUT_PATH = Path(\".\").absolute().parent / \"output\" / \"test_probas\" / \"cv\" / \"nasnetlarge_350_resized_crop\"\n",
    "\n",
    "test_prediction_files = [\n",
    "#     OUTPUT_PATH / \"fold_0\" / \"20180529_2353\" / \"probas.csv\",\n",
    "#     OUTPUT_PATH / \"fold_1\" / \"20180530_0048\" / \"probas.csv\",\n",
    "    OUTPUT_PATH / \"fold_2\" / \"20180530_0143\" / \"probas.csv\",\n",
    "    OUTPUT_PATH / \"fold_3\" / \"20180530_0239\" / \"probas.csv\",\n",
    "]\n",
    "\n",
    "test_dfs = [pd.read_csv(f, index_col='id') for f in test_prediction_files]"
   ]
  },
  {
   "cell_type": "code",
   "execution_count": 15,
   "metadata": {},
   "outputs": [],
   "source": [
    "val_error = \"XYZ\""
   ]
  },
  {
   "cell_type": "code",
   "execution_count": 16,
   "metadata": {},
   "outputs": [],
   "source": [
    "filename=\"nasnetlarge_cv_f23_predictions_val_err={}.csv\".format(val_error)"
   ]
  },
  {
   "cell_type": "code",
   "execution_count": 17,
   "metadata": {},
   "outputs": [],
   "source": [
    "df_test_probas = pd.concat(test_dfs, axis=0)\n",
    "y_test_probas = df_test_probas.groupby('id').mean()\n",
    "y_test_pred = np.argmax(y_test_probas.values, axis=1) + 1   \n",
    "\n",
    "sample_predicitions_df = pd.read_csv(\"/home/fast_storage/imaterialist-challenge-furniture-2018/sample_submission_randomlabel.csv\", \n",
    "                                     index_col='id')\n",
    "df = sample_predicitions_df.copy()\n",
    "df.loc[y_test_probas.index, 'predicted'] = y_test_pred\n",
    "df.to_csv(filename)"
   ]
  },
  {
   "cell_type": "code",
   "execution_count": 18,
   "metadata": {},
   "outputs": [],
   "source": [
    "!{CD} python3 utils/update_test_predictions.py notebooks/{filename} notebooks/test_with_labels.csv notebooks/"
   ]
  },
  {
   "cell_type": "code",
   "execution_count": 19,
   "metadata": {},
   "outputs": [
    {
     "name": "stdout",
     "output_type": "stream",
     "text": [
      "id,predicted\n",
      "1,12\n",
      "2,71\n",
      "3,91\n",
      "4,54\n",
      "5,126\n",
      "6,76\n",
      "7,94\n",
      "8,8\n",
      "9,127\n"
     ]
    }
   ],
   "source": [
    "!head -10 fixed_{filename}"
   ]
  },
  {
   "cell_type": "markdown",
   "metadata": {},
   "source": [
    "id,predicted\n",
    "1,12\n",
    "2,71\n",
    "3,91\n",
    "4,54\n",
    "5,126\n",
    "6,76\n",
    "7,94\n",
    "8,8\n",
    "9,127"
   ]
  },
  {
   "cell_type": "code",
   "execution_count": null,
   "metadata": {},
   "outputs": [],
   "source": []
  }
 ],
 "metadata": {
  "kernelspec": {
   "display_name": "Python 3",
   "language": "python",
   "name": "python3"
  },
  "language_info": {
   "codemirror_mode": {
    "name": "ipython",
    "version": 3
   },
   "file_extension": ".py",
   "mimetype": "text/x-python",
   "name": "python",
   "nbconvert_exporter": "python",
   "pygments_lexer": "ipython3",
   "version": "3.5.2"
  }
 },
 "nbformat": 4,
 "nbformat_minor": 2
}
