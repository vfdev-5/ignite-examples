{
 "cells": [
  {
   "cell_type": "markdown",
   "metadata": {},
   "source": [
    "# Check meta-model training as binary predictor"
   ]
  },
  {
   "cell_type": "code",
   "execution_count": 1,
   "metadata": {},
   "outputs": [],
   "source": [
    "# https://ipython.org/ipython-doc/3/config/extensions/autoreload.html\n",
    "%load_ext autoreload\n",
    "%autoreload 2\n",
    "\n",
    "from pathlib import Path\n",
    "import sys\n",
    "sys.path.insert(0, Path(\".\").absolute().parent.as_posix())\n",
    "\n",
    "from PIL import Image\n",
    "\n",
    "import pandas as pd\n",
    "\n",
    "import numpy as np\n",
    "from common.dataset import FilesFromCsvDataset, TransformedDataset\n",
    "from common.meta import get_metafeatures, get_imsize_and_targets"
   ]
  },
  {
   "cell_type": "code",
   "execution_count": 2,
   "metadata": {},
   "outputs": [],
   "source": [
    "import matplotlib.pylab as plt\n",
    "%matplotlib inline\n",
    "import seaborn as sns\n",
    "\n",
    "sns.set_style('darkgrid')\n",
    "sns.set(rc={'figure.figsize':(12, 10)})"
   ]
  },
  {
   "cell_type": "code",
   "execution_count": 31,
   "metadata": {},
   "outputs": [],
   "source": [
    "OUTPUT_PATH = Path(\".\").absolute().parent / \"output\" / \"val_probas\"\n",
    "\n",
    "meta_features_list = [\n",
    "    OUTPUT_PATH / \"val_probas_inceptionv4_350_resized_crop\" / \"20180428_1633\" / \"probas.csv\",\n",
    "    OUTPUT_PATH / \"val_probas_inceptionv4_350_cls_wts_adam_resized_crop\" / \"20180520_2026\" / \"probas.csv\",\n",
    "    OUTPUT_PATH / \"val_probas_inceptionv4_350_fc_random_resized_crop\" / \"20180520_2032\" / \"probas.csv\",\n",
    "    \n",
    "    OUTPUT_PATH / \"val_probas_resnet152_350_adam_random_crop\" / \"20180522_1903\" / \"probas.csv\",\n",
    "    OUTPUT_PATH / \"val_probas_resnet152_350_adam_random_crop\" / \"20180522_1905\" / \"probas.csv\",\n",
    "    OUTPUT_PATH / \"val_probas_resnet152_350_amsgrad_adam_random_crop\" / \"20180523_2243\" / \"probas.csv\",    \n",
    "    \n",
    "    OUTPUT_PATH / \"val_probas_inceptionresnetv2_350_resized_crop\" / \"20180428_1622\" / \"probas.csv\",\n",
    "    OUTPUT_PATH / \"val_probas_inceptionresnetv2_350_weighted_sampler2_resized_crop\" / \"20180501_1710\" / \"probas.csv\",\n",
    "    \n",
    "    OUTPUT_PATH / \"val_probas_nasnetalarge_350_resized_crop\" / \"20180428_1654\" / \"probas.csv\",\n",
    "    OUTPUT_PATH / \"val_probas_nasnetalarge_350_random_resized_crop\" / \"20180514_2232\" / \"probas.csv\",\n",
    "    OUTPUT_PATH / \"val_probas_nasnetalarge_350_random_resized_crop\" / \"20180514_2202\" / \"probas.csv\",\n",
    "]"
   ]
  },
  {
   "cell_type": "markdown",
   "metadata": {},
   "source": [
    "## Prepare data"
   ]
  },
  {
   "cell_type": "code",
   "execution_count": 32,
   "metadata": {},
   "outputs": [],
   "source": [
    "def create_topk_with_probas_df(df, k):\n",
    "    df_values = df.values\n",
    "    topk_values = np.argsort(df_values, axis=1)[:, -k:]\n",
    "    topk_probas = np.zeros_like(topk_values, dtype=np.float)\n",
    "    for i, indices in enumerate(topk_values):\n",
    "        topk_probas[i, :] = df_values[i, indices]\n",
    "    cols1 = [\"top_{}\".format(k - i) for i in range(k)]\n",
    "    cols2 = [\"top_{}_proba\".format(k - i) for i in range(k)]\n",
    "    data = np.concatenate([topk_values, topk_probas], axis=1)\n",
    "    topk_df = pd.DataFrame(data, index=df.index, columns=cols1 + cols2)\n",
    "    topk_df[cols1] = topk_df[cols1].astype(np.int)\n",
    "    return topk_df\n",
    "\n",
    "\n",
    "def get_topk_with_probas_metafeatures(prediction_files, k=5):\n",
    "    dfs = [pd.read_csv(f, index_col='id') for f in prediction_files]\n",
    "    dfs = [create_topk_with_probas_df(df, k=k) for df in dfs]\n",
    "    for i, df in enumerate(dfs):\n",
    "        df.columns = [\"f{}_{}\".format(i, c) for c in df.columns]\n",
    "    meta_features = pd.concat([df for df in dfs], axis=1)\n",
    "    return meta_features"
   ]
  },
  {
   "cell_type": "code",
   "execution_count": 33,
   "metadata": {},
   "outputs": [],
   "source": [
    "n_models = len(meta_features_list)\n",
    "k = 4"
   ]
  },
  {
   "cell_type": "code",
   "execution_count": 34,
   "metadata": {},
   "outputs": [],
   "source": [
    "dataset = FilesFromCsvDataset(\"../output/unique_filtered_val_dataset.csv\")\n",
    "dataset = TransformedDataset(dataset,\n",
    "                             transforms=lambda x: (x, Image.open(x).size),\n",
    "                             target_transforms=lambda l: l - 1)\n",
    "df_imsize_targets = get_imsize_and_targets(dataset)\n",
    "y_true = df_imsize_targets['target']"
   ]
  },
  {
   "cell_type": "code",
   "execution_count": 35,
   "metadata": {},
   "outputs": [
    {
     "data": {
      "text/plain": [
       "(52948, 90)"
      ]
     },
     "execution_count": 35,
     "metadata": {},
     "output_type": "execute_result"
    }
   ],
   "source": [
    "meta_features_init = get_topk_with_probas_metafeatures(meta_features_list, k=k)\n",
    "meta_features_init = meta_features_init.loc[y_true.index, :]\n",
    "\n",
    "meta_features_init.loc[:, 'y_pred'] = -1\n",
    "meta_features_init.loc[:, 'y_true'] = y_true\n",
    "\n",
    "dfs = []\n",
    "\n",
    "for i in range(n_models):\n",
    "    for j in range(1, k + 1):\n",
    "        df = meta_features_init.copy()\n",
    "        df['y_pred'] = df['f{}_top_{}'.format(i, j)]\n",
    "        dfs.append(df)\n",
    "        \n",
    "meta_features = pd.concat(dfs, axis=0)\n",
    "meta_features = meta_features[~meta_features.duplicated()]\n",
    "\n",
    "meta_features.shape"
   ]
  },
  {
   "cell_type": "code",
   "execution_count": 36,
   "metadata": {},
   "outputs": [
    {
     "data": {
      "text/html": [
       "<div>\n",
       "<style scoped>\n",
       "    .dataframe tbody tr th:only-of-type {\n",
       "        vertical-align: middle;\n",
       "    }\n",
       "\n",
       "    .dataframe tbody tr th {\n",
       "        vertical-align: top;\n",
       "    }\n",
       "\n",
       "    .dataframe thead th {\n",
       "        text-align: right;\n",
       "    }\n",
       "</style>\n",
       "<table border=\"1\" class=\"dataframe\">\n",
       "  <thead>\n",
       "    <tr style=\"text-align: right;\">\n",
       "      <th></th>\n",
       "      <th>f0_top_4</th>\n",
       "      <th>f0_top_3</th>\n",
       "      <th>f0_top_2</th>\n",
       "      <th>f0_top_1</th>\n",
       "      <th>f0_top_4_proba</th>\n",
       "      <th>f0_top_3_proba</th>\n",
       "      <th>f0_top_2_proba</th>\n",
       "      <th>f0_top_1_proba</th>\n",
       "      <th>f1_top_4</th>\n",
       "      <th>f1_top_3</th>\n",
       "      <th>...</th>\n",
       "      <th>f10_top_4</th>\n",
       "      <th>f10_top_3</th>\n",
       "      <th>f10_top_2</th>\n",
       "      <th>f10_top_1</th>\n",
       "      <th>f10_top_4_proba</th>\n",
       "      <th>f10_top_3_proba</th>\n",
       "      <th>f10_top_2_proba</th>\n",
       "      <th>f10_top_1_proba</th>\n",
       "      <th>y_pred</th>\n",
       "      <th>y_true</th>\n",
       "    </tr>\n",
       "  </thead>\n",
       "  <tbody>\n",
       "    <tr>\n",
       "      <th>1205</th>\n",
       "      <td>28</td>\n",
       "      <td>22</td>\n",
       "      <td>14</td>\n",
       "      <td>62</td>\n",
       "      <td>0.007003</td>\n",
       "      <td>0.031993</td>\n",
       "      <td>0.171253</td>\n",
       "      <td>0.7806</td>\n",
       "      <td>28</td>\n",
       "      <td>22</td>\n",
       "      <td>...</td>\n",
       "      <td>28</td>\n",
       "      <td>22</td>\n",
       "      <td>14</td>\n",
       "      <td>62</td>\n",
       "      <td>0.006772</td>\n",
       "      <td>0.163155</td>\n",
       "      <td>0.269543</td>\n",
       "      <td>0.55669</td>\n",
       "      <td>62</td>\n",
       "      <td>62</td>\n",
       "    </tr>\n",
       "    <tr>\n",
       "      <th>1205</th>\n",
       "      <td>28</td>\n",
       "      <td>22</td>\n",
       "      <td>14</td>\n",
       "      <td>62</td>\n",
       "      <td>0.007003</td>\n",
       "      <td>0.031993</td>\n",
       "      <td>0.171253</td>\n",
       "      <td>0.7806</td>\n",
       "      <td>28</td>\n",
       "      <td>22</td>\n",
       "      <td>...</td>\n",
       "      <td>28</td>\n",
       "      <td>22</td>\n",
       "      <td>14</td>\n",
       "      <td>62</td>\n",
       "      <td>0.006772</td>\n",
       "      <td>0.163155</td>\n",
       "      <td>0.269543</td>\n",
       "      <td>0.55669</td>\n",
       "      <td>14</td>\n",
       "      <td>62</td>\n",
       "    </tr>\n",
       "    <tr>\n",
       "      <th>1205</th>\n",
       "      <td>28</td>\n",
       "      <td>22</td>\n",
       "      <td>14</td>\n",
       "      <td>62</td>\n",
       "      <td>0.007003</td>\n",
       "      <td>0.031993</td>\n",
       "      <td>0.171253</td>\n",
       "      <td>0.7806</td>\n",
       "      <td>28</td>\n",
       "      <td>22</td>\n",
       "      <td>...</td>\n",
       "      <td>28</td>\n",
       "      <td>22</td>\n",
       "      <td>14</td>\n",
       "      <td>62</td>\n",
       "      <td>0.006772</td>\n",
       "      <td>0.163155</td>\n",
       "      <td>0.269543</td>\n",
       "      <td>0.55669</td>\n",
       "      <td>22</td>\n",
       "      <td>62</td>\n",
       "    </tr>\n",
       "    <tr>\n",
       "      <th>1205</th>\n",
       "      <td>28</td>\n",
       "      <td>22</td>\n",
       "      <td>14</td>\n",
       "      <td>62</td>\n",
       "      <td>0.007003</td>\n",
       "      <td>0.031993</td>\n",
       "      <td>0.171253</td>\n",
       "      <td>0.7806</td>\n",
       "      <td>28</td>\n",
       "      <td>22</td>\n",
       "      <td>...</td>\n",
       "      <td>28</td>\n",
       "      <td>22</td>\n",
       "      <td>14</td>\n",
       "      <td>62</td>\n",
       "      <td>0.006772</td>\n",
       "      <td>0.163155</td>\n",
       "      <td>0.269543</td>\n",
       "      <td>0.55669</td>\n",
       "      <td>28</td>\n",
       "      <td>62</td>\n",
       "    </tr>\n",
       "    <tr>\n",
       "      <th>1205</th>\n",
       "      <td>28</td>\n",
       "      <td>22</td>\n",
       "      <td>14</td>\n",
       "      <td>62</td>\n",
       "      <td>0.007003</td>\n",
       "      <td>0.031993</td>\n",
       "      <td>0.171253</td>\n",
       "      <td>0.7806</td>\n",
       "      <td>28</td>\n",
       "      <td>22</td>\n",
       "      <td>...</td>\n",
       "      <td>28</td>\n",
       "      <td>22</td>\n",
       "      <td>14</td>\n",
       "      <td>62</td>\n",
       "      <td>0.006772</td>\n",
       "      <td>0.163155</td>\n",
       "      <td>0.269543</td>\n",
       "      <td>0.55669</td>\n",
       "      <td>3</td>\n",
       "      <td>62</td>\n",
       "    </tr>\n",
       "  </tbody>\n",
       "</table>\n",
       "<p>5 rows × 90 columns</p>\n",
       "</div>"
      ],
      "text/plain": [
       "      f0_top_4  f0_top_3  f0_top_2  f0_top_1  f0_top_4_proba  f0_top_3_proba  \\\n",
       "1205        28        22        14        62        0.007003        0.031993   \n",
       "1205        28        22        14        62        0.007003        0.031993   \n",
       "1205        28        22        14        62        0.007003        0.031993   \n",
       "1205        28        22        14        62        0.007003        0.031993   \n",
       "1205        28        22        14        62        0.007003        0.031993   \n",
       "\n",
       "      f0_top_2_proba  f0_top_1_proba  f1_top_4  f1_top_3   ...    f10_top_4  \\\n",
       "1205        0.171253          0.7806        28        22   ...           28   \n",
       "1205        0.171253          0.7806        28        22   ...           28   \n",
       "1205        0.171253          0.7806        28        22   ...           28   \n",
       "1205        0.171253          0.7806        28        22   ...           28   \n",
       "1205        0.171253          0.7806        28        22   ...           28   \n",
       "\n",
       "      f10_top_3  f10_top_2  f10_top_1  f10_top_4_proba  f10_top_3_proba  \\\n",
       "1205         22         14         62         0.006772         0.163155   \n",
       "1205         22         14         62         0.006772         0.163155   \n",
       "1205         22         14         62         0.006772         0.163155   \n",
       "1205         22         14         62         0.006772         0.163155   \n",
       "1205         22         14         62         0.006772         0.163155   \n",
       "\n",
       "      f10_top_2_proba  f10_top_1_proba  y_pred  y_true  \n",
       "1205         0.269543          0.55669      62      62  \n",
       "1205         0.269543          0.55669      14      62  \n",
       "1205         0.269543          0.55669      22      62  \n",
       "1205         0.269543          0.55669      28      62  \n",
       "1205         0.269543          0.55669       3      62  \n",
       "\n",
       "[5 rows x 90 columns]"
      ]
     },
     "execution_count": 36,
     "metadata": {},
     "output_type": "execute_result"
    }
   ],
   "source": [
    "meta_features.loc[1205, :]"
   ]
  },
  {
   "cell_type": "code",
   "execution_count": 37,
   "metadata": {},
   "outputs": [],
   "source": [
    "meta_features.loc[:, 'target'] = (meta_features['y_pred'] == meta_features['y_true']).astype(np.int)"
   ]
  },
  {
   "cell_type": "code",
   "execution_count": 38,
   "metadata": {},
   "outputs": [
    {
     "data": {
      "text/html": [
       "<div>\n",
       "<style scoped>\n",
       "    .dataframe tbody tr th:only-of-type {\n",
       "        vertical-align: middle;\n",
       "    }\n",
       "\n",
       "    .dataframe tbody tr th {\n",
       "        vertical-align: top;\n",
       "    }\n",
       "\n",
       "    .dataframe thead th {\n",
       "        text-align: right;\n",
       "    }\n",
       "</style>\n",
       "<table border=\"1\" class=\"dataframe\">\n",
       "  <thead>\n",
       "    <tr style=\"text-align: right;\">\n",
       "      <th></th>\n",
       "      <th>f0_top_4</th>\n",
       "      <th>f0_top_3</th>\n",
       "      <th>f0_top_2</th>\n",
       "      <th>f0_top_1</th>\n",
       "      <th>f0_top_4_proba</th>\n",
       "      <th>f0_top_3_proba</th>\n",
       "      <th>f0_top_2_proba</th>\n",
       "      <th>f0_top_1_proba</th>\n",
       "      <th>f1_top_4</th>\n",
       "      <th>f1_top_3</th>\n",
       "      <th>...</th>\n",
       "      <th>f10_top_3</th>\n",
       "      <th>f10_top_2</th>\n",
       "      <th>f10_top_1</th>\n",
       "      <th>f10_top_4_proba</th>\n",
       "      <th>f10_top_3_proba</th>\n",
       "      <th>f10_top_2_proba</th>\n",
       "      <th>f10_top_1_proba</th>\n",
       "      <th>y_pred</th>\n",
       "      <th>y_true</th>\n",
       "      <th>target</th>\n",
       "    </tr>\n",
       "  </thead>\n",
       "  <tbody>\n",
       "    <tr>\n",
       "      <th>6302</th>\n",
       "      <td>36</td>\n",
       "      <td>96</td>\n",
       "      <td>52</td>\n",
       "      <td>47</td>\n",
       "      <td>8.939854e-09</td>\n",
       "      <td>2.021888e-08</td>\n",
       "      <td>3.179983e-07</td>\n",
       "      <td>1.000000</td>\n",
       "      <td>96</td>\n",
       "      <td>36</td>\n",
       "      <td>...</td>\n",
       "      <td>36</td>\n",
       "      <td>52</td>\n",
       "      <td>47</td>\n",
       "      <td>0.000017</td>\n",
       "      <td>0.000018</td>\n",
       "      <td>0.000073</td>\n",
       "      <td>0.999869</td>\n",
       "      <td>47</td>\n",
       "      <td>47</td>\n",
       "      <td>1</td>\n",
       "    </tr>\n",
       "    <tr>\n",
       "      <th>3349</th>\n",
       "      <td>71</td>\n",
       "      <td>8</td>\n",
       "      <td>106</td>\n",
       "      <td>78</td>\n",
       "      <td>1.221437e-03</td>\n",
       "      <td>4.590297e-03</td>\n",
       "      <td>1.697846e-02</td>\n",
       "      <td>0.976116</td>\n",
       "      <td>71</td>\n",
       "      <td>8</td>\n",
       "      <td>...</td>\n",
       "      <td>71</td>\n",
       "      <td>106</td>\n",
       "      <td>78</td>\n",
       "      <td>0.000484</td>\n",
       "      <td>0.002700</td>\n",
       "      <td>0.005359</td>\n",
       "      <td>0.990709</td>\n",
       "      <td>78</td>\n",
       "      <td>78</td>\n",
       "      <td>1</td>\n",
       "    </tr>\n",
       "    <tr>\n",
       "      <th>484</th>\n",
       "      <td>2</td>\n",
       "      <td>21</td>\n",
       "      <td>44</td>\n",
       "      <td>118</td>\n",
       "      <td>4.046735e-09</td>\n",
       "      <td>3.343205e-07</td>\n",
       "      <td>5.579347e-07</td>\n",
       "      <td>0.999999</td>\n",
       "      <td>44</td>\n",
       "      <td>42</td>\n",
       "      <td>...</td>\n",
       "      <td>21</td>\n",
       "      <td>0</td>\n",
       "      <td>118</td>\n",
       "      <td>0.000016</td>\n",
       "      <td>0.000032</td>\n",
       "      <td>0.000033</td>\n",
       "      <td>0.999911</td>\n",
       "      <td>118</td>\n",
       "      <td>118</td>\n",
       "      <td>1</td>\n",
       "    </tr>\n",
       "    <tr>\n",
       "      <th>2677</th>\n",
       "      <td>81</td>\n",
       "      <td>99</td>\n",
       "      <td>111</td>\n",
       "      <td>26</td>\n",
       "      <td>3.559150e-09</td>\n",
       "      <td>6.325067e-08</td>\n",
       "      <td>6.518025e-06</td>\n",
       "      <td>0.999993</td>\n",
       "      <td>81</td>\n",
       "      <td>99</td>\n",
       "      <td>...</td>\n",
       "      <td>99</td>\n",
       "      <td>111</td>\n",
       "      <td>26</td>\n",
       "      <td>0.000016</td>\n",
       "      <td>0.000155</td>\n",
       "      <td>0.000182</td>\n",
       "      <td>0.999620</td>\n",
       "      <td>26</td>\n",
       "      <td>26</td>\n",
       "      <td>1</td>\n",
       "    </tr>\n",
       "    <tr>\n",
       "      <th>1517</th>\n",
       "      <td>119</td>\n",
       "      <td>20</td>\n",
       "      <td>21</td>\n",
       "      <td>16</td>\n",
       "      <td>1.030732e-02</td>\n",
       "      <td>1.466374e-02</td>\n",
       "      <td>1.823608e-02</td>\n",
       "      <td>0.948546</td>\n",
       "      <td>20</td>\n",
       "      <td>21</td>\n",
       "      <td>...</td>\n",
       "      <td>21</td>\n",
       "      <td>91</td>\n",
       "      <td>16</td>\n",
       "      <td>0.007766</td>\n",
       "      <td>0.026205</td>\n",
       "      <td>0.069932</td>\n",
       "      <td>0.889029</td>\n",
       "      <td>16</td>\n",
       "      <td>21</td>\n",
       "      <td>0</td>\n",
       "    </tr>\n",
       "  </tbody>\n",
       "</table>\n",
       "<p>5 rows × 91 columns</p>\n",
       "</div>"
      ],
      "text/plain": [
       "      f0_top_4  f0_top_3  f0_top_2  f0_top_1  f0_top_4_proba  f0_top_3_proba  \\\n",
       "6302        36        96        52        47    8.939854e-09    2.021888e-08   \n",
       "3349        71         8       106        78    1.221437e-03    4.590297e-03   \n",
       "484          2        21        44       118    4.046735e-09    3.343205e-07   \n",
       "2677        81        99       111        26    3.559150e-09    6.325067e-08   \n",
       "1517       119        20        21        16    1.030732e-02    1.466374e-02   \n",
       "\n",
       "      f0_top_2_proba  f0_top_1_proba  f1_top_4  f1_top_3   ...    f10_top_3  \\\n",
       "6302    3.179983e-07        1.000000        96        36   ...           36   \n",
       "3349    1.697846e-02        0.976116        71         8   ...           71   \n",
       "484     5.579347e-07        0.999999        44        42   ...           21   \n",
       "2677    6.518025e-06        0.999993        81        99   ...           99   \n",
       "1517    1.823608e-02        0.948546        20        21   ...           21   \n",
       "\n",
       "      f10_top_2  f10_top_1  f10_top_4_proba  f10_top_3_proba  f10_top_2_proba  \\\n",
       "6302         52         47         0.000017         0.000018         0.000073   \n",
       "3349        106         78         0.000484         0.002700         0.005359   \n",
       "484           0        118         0.000016         0.000032         0.000033   \n",
       "2677        111         26         0.000016         0.000155         0.000182   \n",
       "1517         91         16         0.007766         0.026205         0.069932   \n",
       "\n",
       "      f10_top_1_proba  y_pred  y_true  target  \n",
       "6302         0.999869      47      47       1  \n",
       "3349         0.990709      78      78       1  \n",
       "484          0.999911     118     118       1  \n",
       "2677         0.999620      26      26       1  \n",
       "1517         0.889029      16      21       0  \n",
       "\n",
       "[5 rows x 91 columns]"
      ]
     },
     "execution_count": 38,
     "metadata": {},
     "output_type": "execute_result"
    }
   ],
   "source": [
    "meta_features.head()"
   ]
  },
  {
   "cell_type": "code",
   "execution_count": null,
   "metadata": {},
   "outputs": [],
   "source": []
  },
  {
   "cell_type": "markdown",
   "metadata": {},
   "source": [
    "### Majority vote top-1 baseline"
   ]
  },
  {
   "cell_type": "code",
   "execution_count": 39,
   "metadata": {},
   "outputs": [],
   "source": [
    "top1_cols = [\"f{}_top_1\".format(i) for i in range(n_models)]"
   ]
  },
  {
   "cell_type": "code",
   "execution_count": 40,
   "metadata": {},
   "outputs": [],
   "source": [
    "y_pred_baseline = meta_features_init[top1_cols].apply(lambda row: np.argmax(np.bincount(row)), axis=1)"
   ]
  },
  {
   "cell_type": "code",
   "execution_count": 41,
   "metadata": {},
   "outputs": [
    {
     "data": {
      "text/plain": [
       "((6263,), (6263,))"
      ]
     },
     "execution_count": 41,
     "metadata": {},
     "output_type": "execute_result"
    }
   ],
   "source": [
    "y_true.shape, y_pred_baseline.shape"
   ]
  },
  {
   "cell_type": "code",
   "execution_count": 42,
   "metadata": {},
   "outputs": [
    {
     "data": {
      "text/plain": [
       "0.11991058598115922"
      ]
     },
     "execution_count": 42,
     "metadata": {},
     "output_type": "execute_result"
    }
   ],
   "source": [
    "from sklearn.metrics import accuracy_score\n",
    "\n",
    "1.0 - accuracy_score(y_true.values, y_pred_baseline.values)"
   ]
  },
  {
   "cell_type": "code",
   "execution_count": 19,
   "metadata": {},
   "outputs": [],
   "source": [
    "# from sklearn.metrics import accuracy_score\n",
    "\n",
    "# 1.0 - accuracy_score(y_true.values, y_pred_baseline.values)"
   ]
  },
  {
   "cell_type": "code",
   "execution_count": 43,
   "metadata": {},
   "outputs": [
    {
     "data": {
      "text/plain": [
       "(751, (6263,))"
      ]
     },
     "execution_count": 43,
     "metadata": {},
     "output_type": "execute_result"
    }
   ],
   "source": [
    "(y_true.values != y_pred_baseline.values).sum(), y_true.shape"
   ]
  },
  {
   "cell_type": "code",
   "execution_count": null,
   "metadata": {},
   "outputs": [],
   "source": []
  },
  {
   "cell_type": "markdown",
   "metadata": {},
   "source": [
    "### Train meta models"
   ]
  },
  {
   "cell_type": "code",
   "execution_count": 44,
   "metadata": {},
   "outputs": [],
   "source": [
    "# meta_features = pd.concat([meta_features, pd.get_dummies(meta_features['y_pred'], prefix='y_pred')], axis=1)"
   ]
  },
  {
   "cell_type": "code",
   "execution_count": 45,
   "metadata": {},
   "outputs": [],
   "source": [
    "train_columns = meta_features.columns.tolist()\n",
    "# train_columns.remove('y_pred')\n",
    "train_columns.remove('y_true')\n",
    "train_columns.remove('target')"
   ]
  },
  {
   "cell_type": "code",
   "execution_count": 46,
   "metadata": {},
   "outputs": [
    {
     "data": {
      "text/plain": [
       "89"
      ]
     },
     "execution_count": 46,
     "metadata": {},
     "output_type": "execute_result"
    }
   ],
   "source": [
    "len(train_columns)"
   ]
  },
  {
   "cell_type": "markdown",
   "metadata": {},
   "source": [
    "Add feature interactions"
   ]
  },
  {
   "cell_type": "code",
   "execution_count": 64,
   "metadata": {},
   "outputs": [],
   "source": [
    "interaction_train_columns = []\n",
    "for i, c1 in enumerate(train_columns):\n",
    "    for j, c2 in enumerate(train_columns):\n",
    "        if i < j:\n",
    "            interaction_train_columns.append(\"{} {}\".format(c1, c2))"
   ]
  },
  {
   "cell_type": "code",
   "execution_count": 66,
   "metadata": {},
   "outputs": [
    {
     "data": {
      "text/plain": [
       "3240"
      ]
     },
     "execution_count": 66,
     "metadata": {},
     "output_type": "execute_result"
    }
   ],
   "source": [
    "len(interaction_train_columns)"
   ]
  },
  {
   "cell_type": "code",
   "execution_count": 107,
   "metadata": {},
   "outputs": [],
   "source": [
    "for fname in interaction_train_columns:\n",
    "    if \" \" in fname:\n",
    "        f1, f2 = fname.split(\" \")\n",
    "        if \"proba\" in f1 and \"proba\" in f2:\n",
    "            meta_features.loc[:, fname] = 0.0\n",
    "            meta_features.loc[:, fname] = meta_features[f1] * meta_features[f2]\n",
    "        elif \"proba\" not in f1 and \"proba\" not in f2:\n",
    "            meta_features.loc[:, fname] = \"\"\n",
    "            meta_features.loc[:, fname] = meta_features[f1].astype(str) + \" \" + meta_features[f2].astype(str)"
   ]
  },
  {
   "cell_type": "code",
   "execution_count": 108,
   "metadata": {},
   "outputs": [
    {
     "data": {
      "text/plain": [
       "(51533, 1780)"
      ]
     },
     "execution_count": 108,
     "metadata": {},
     "output_type": "execute_result"
    }
   ],
   "source": [
    "meta_features.shape"
   ]
  },
  {
   "cell_type": "code",
   "execution_count": null,
   "metadata": {},
   "outputs": [],
   "source": []
  },
  {
   "cell_type": "markdown",
   "metadata": {},
   "source": [
    "Trainval / Test split\n",
    "\n",
    "We need to split meta_features_init in order to avoid dataleak "
   ]
  },
  {
   "cell_type": "code",
   "execution_count": 47,
   "metadata": {},
   "outputs": [],
   "source": [
    "from sklearn.model_selection import StratifiedShuffleSplit\n",
    "\n",
    "seed = 12\n",
    "split = StratifiedShuffleSplit(random_state=seed, test_size=0.4)\n",
    "\n",
    "y_total = meta_features_init['y_true']\n",
    "\n",
    "train_index, test_index = next(split.split(y_total, y_total))"
   ]
  },
  {
   "cell_type": "code",
   "execution_count": 48,
   "metadata": {},
   "outputs": [],
   "source": [
    "train_idx = meta_features_init.index[train_index]\n",
    "test_idx = meta_features_init.index[test_index]"
   ]
  },
  {
   "cell_type": "code",
   "execution_count": 74,
   "metadata": {},
   "outputs": [],
   "source": [
    "important_train_columns = ['f0_top_2', 'f0_top_1', 'f1_top_1', 'f2_top_1', 'f3_top_1',\n",
    "       'f4_top_1', 'f5_top_1', 'f6_top_1', 'f6_top_3_proba', 'f7_top_1',\n",
    "       'f8_top_1', 'f8_top_3_proba', 'f8_top_2_proba', 'f9_top_1',\n",
    "       'f10_top_1', 'y_pred']"
   ]
  },
  {
   "cell_type": "code",
   "execution_count": 75,
   "metadata": {},
   "outputs": [],
   "source": [
    "train_columns_ = important_train_columns\n",
    "# train_columns_ = train_columns"
   ]
  },
  {
   "cell_type": "code",
   "execution_count": 76,
   "metadata": {},
   "outputs": [],
   "source": [
    "x_trainval = meta_features.loc[train_idx, train_columns_].values\n",
    "y_trainval = meta_features.loc[train_idx, 'target'].values\n",
    "\n",
    "x_test = meta_features.loc[test_idx, train_columns_].values\n",
    "y_test = meta_features.loc[test_idx, 'target'].values"
   ]
  },
  {
   "cell_type": "code",
   "execution_count": 77,
   "metadata": {},
   "outputs": [
    {
     "data": {
      "text/plain": [
       "(array([27971,  3744]), array([18740,  2493]))"
      ]
     },
     "execution_count": 77,
     "metadata": {},
     "output_type": "execute_result"
    }
   ],
   "source": [
    "np.bincount(y_trainval), np.bincount(y_test)"
   ]
  },
  {
   "cell_type": "markdown",
   "metadata": {},
   "source": [
    "GBM as meta-model"
   ]
  },
  {
   "cell_type": "code",
   "execution_count": 78,
   "metadata": {},
   "outputs": [],
   "source": [
    "import lightgbm as lgb"
   ]
  },
  {
   "cell_type": "code",
   "execution_count": 79,
   "metadata": {},
   "outputs": [],
   "source": [
    "lgb_trainval = lgb.Dataset(x_trainval, label=y_trainval, feature_name=train_columns_)"
   ]
  },
  {
   "cell_type": "code",
   "execution_count": 80,
   "metadata": {},
   "outputs": [],
   "source": [
    "params = {\n",
    "    'boosting_type': 'gbdt',\n",
    "    'objective': 'binary',\n",
    "    'num_leaves': 35,\n",
    "    'max_depth': 200,\n",
    "    'learning_rate': 0.00075,\n",
    "#     'feature_fraction': 0.75,\n",
    "#     'bagging_fraction': 0.8,\n",
    "#     'bagging_freq': 5,\n",
    "}"
   ]
  },
  {
   "cell_type": "code",
   "execution_count": 81,
   "metadata": {},
   "outputs": [],
   "source": [
    "num_boost_round = 250000"
   ]
  },
  {
   "cell_type": "code",
   "execution_count": 82,
   "metadata": {},
   "outputs": [
    {
     "name": "stdout",
     "output_type": "stream",
     "text": [
      "[500]\tcv_agg's auc: 0.837047 + 0.0429524\n",
      "[1000]\tcv_agg's auc: 0.875236 + 0.0240233\n",
      "[1500]\tcv_agg's auc: 0.890238 + 0.0195913\n",
      "[2000]\tcv_agg's auc: 0.903437 + 0.00886812\n",
      "[2500]\tcv_agg's auc: 0.913686 + 0.00497642\n",
      "[3000]\tcv_agg's auc: 0.921622 + 0.00556528\n",
      "[3500]\tcv_agg's auc: 0.926437 + 0.00521093\n",
      "[4000]\tcv_agg's auc: 0.930836 + 0.0049186\n",
      "[4500]\tcv_agg's auc: 0.934285 + 0.00516838\n",
      "[5000]\tcv_agg's auc: 0.936795 + 0.00530043\n",
      "[5500]\tcv_agg's auc: 0.939105 + 0.00502712\n",
      "[6000]\tcv_agg's auc: 0.940868 + 0.0050614\n",
      "[6500]\tcv_agg's auc: 0.942495 + 0.00544645\n",
      "[7000]\tcv_agg's auc: 0.943768 + 0.00600507\n",
      "[7500]\tcv_agg's auc: 0.944797 + 0.00631845\n",
      "[8000]\tcv_agg's auc: 0.945631 + 0.00667547\n",
      "[8500]\tcv_agg's auc: 0.946436 + 0.00664919\n",
      "[9000]\tcv_agg's auc: 0.947125 + 0.0065632\n",
      "[9500]\tcv_agg's auc: 0.947881 + 0.00665796\n",
      "[10000]\tcv_agg's auc: 0.94863 + 0.00660453\n",
      "[10500]\tcv_agg's auc: 0.949309 + 0.00648263\n",
      "[11000]\tcv_agg's auc: 0.949991 + 0.0064567\n",
      "[11500]\tcv_agg's auc: 0.950701 + 0.00642575\n",
      "[12000]\tcv_agg's auc: 0.951428 + 0.00642508\n",
      "[12500]\tcv_agg's auc: 0.952036 + 0.00640557\n",
      "[13000]\tcv_agg's auc: 0.952652 + 0.00643082\n",
      "[13500]\tcv_agg's auc: 0.953216 + 0.00643141\n",
      "[14000]\tcv_agg's auc: 0.953681 + 0.00635285\n",
      "[14500]\tcv_agg's auc: 0.954105 + 0.00634438\n",
      "[15000]\tcv_agg's auc: 0.954573 + 0.00632028\n",
      "[15500]\tcv_agg's auc: 0.954956 + 0.00639834\n",
      "[16000]\tcv_agg's auc: 0.955267 + 0.0063973\n",
      "[16500]\tcv_agg's auc: 0.955596 + 0.00634622\n",
      "[17000]\tcv_agg's auc: 0.955971 + 0.00630275\n",
      "[17500]\tcv_agg's auc: 0.956287 + 0.00631755\n",
      "[18000]\tcv_agg's auc: 0.95646 + 0.00624498\n",
      "[18500]\tcv_agg's auc: 0.956689 + 0.00617328\n",
      "[19000]\tcv_agg's auc: 0.956929 + 0.00610666\n",
      "[19500]\tcv_agg's auc: 0.957175 + 0.00608652\n",
      "[20000]\tcv_agg's auc: 0.957411 + 0.00591681\n",
      "[20500]\tcv_agg's auc: 0.957692 + 0.00570178\n",
      "[21000]\tcv_agg's auc: 0.957959 + 0.00546635\n",
      "[21500]\tcv_agg's auc: 0.958131 + 0.00544998\n",
      "[22000]\tcv_agg's auc: 0.958348 + 0.00538812\n",
      "[22500]\tcv_agg's auc: 0.958574 + 0.00526848\n",
      "[23000]\tcv_agg's auc: 0.958765 + 0.00519789\n",
      "[23500]\tcv_agg's auc: 0.958991 + 0.00519274\n",
      "[24000]\tcv_agg's auc: 0.959169 + 0.00517854\n",
      "[24500]\tcv_agg's auc: 0.959361 + 0.00507882\n",
      "[25000]\tcv_agg's auc: 0.95955 + 0.00507836\n",
      "[25500]\tcv_agg's auc: 0.959658 + 0.00508612\n",
      "[26000]\tcv_agg's auc: 0.959722 + 0.00507091\n",
      "[26500]\tcv_agg's auc: 0.959827 + 0.00509184\n",
      "[27000]\tcv_agg's auc: 0.959941 + 0.0050407\n",
      "[27500]\tcv_agg's auc: 0.959993 + 0.00493993\n",
      "[28000]\tcv_agg's auc: 0.960106 + 0.00482893\n",
      "[28500]\tcv_agg's auc: 0.960231 + 0.00467423\n",
      "[29000]\tcv_agg's auc: 0.960303 + 0.00455899\n",
      "[29500]\tcv_agg's auc: 0.960422 + 0.00450062\n",
      "[30000]\tcv_agg's auc: 0.960518 + 0.00446606\n",
      "[30500]\tcv_agg's auc: 0.960582 + 0.00436845\n",
      "[31000]\tcv_agg's auc: 0.960696 + 0.00430373\n",
      "[31500]\tcv_agg's auc: 0.960841 + 0.00423776\n",
      "[32000]\tcv_agg's auc: 0.960936 + 0.00415089\n",
      "[32500]\tcv_agg's auc: 0.960992 + 0.00410569\n",
      "[33000]\tcv_agg's auc: 0.960997 + 0.0040521\n"
     ]
    }
   ],
   "source": [
    "cv_results = lgb.cv(params, lgb_trainval, num_boost_round=num_boost_round, nfold=5,\n",
    "                    metrics='auc',                    \n",
    "                    early_stopping_rounds=500, verbose_eval=500)"
   ]
  },
  {
   "cell_type": "code",
   "execution_count": 83,
   "metadata": {},
   "outputs": [
    {
     "data": {
      "text/plain": [
       "(32642, 0.9610062869735453)"
      ]
     },
     "execution_count": 83,
     "metadata": {},
     "output_type": "execute_result"
    }
   ],
   "source": [
    "best_boost_round = np.argmax(cv_results['auc-mean'])\n",
    "best_boost_round, np.max(cv_results['auc-mean'])"
   ]
  },
  {
   "cell_type": "code",
   "execution_count": 84,
   "metadata": {},
   "outputs": [],
   "source": [
    "gbm = lgb.train(params, lgb_trainval, num_boost_round=best_boost_round)"
   ]
  },
  {
   "cell_type": "code",
   "execution_count": 85,
   "metadata": {},
   "outputs": [],
   "source": [
    "y_test_probas = gbm.predict(x_test)"
   ]
  },
  {
   "cell_type": "code",
   "execution_count": 86,
   "metadata": {},
   "outputs": [],
   "source": [
    "y_test_pred = (y_test_probas > 0.5).astype(np.int)"
   ]
  },
  {
   "cell_type": "code",
   "execution_count": 87,
   "metadata": {},
   "outputs": [],
   "source": [
    "meta_features.loc[:, 'bin_pred'] = 0\n",
    "meta_features.loc[test_idx, 'bin_pred'] = y_test_pred"
   ]
  },
  {
   "cell_type": "code",
   "execution_count": 88,
   "metadata": {},
   "outputs": [],
   "source": [
    "y_test_true = meta_features_init.loc[test_idx, 'y_true'].values"
   ]
  },
  {
   "cell_type": "code",
   "execution_count": 89,
   "metadata": {},
   "outputs": [],
   "source": [
    "df_ = meta_features.loc[test_idx, ['bin_pred', 'y_pred']]\n",
    "y_test_pred = np.zeros_like(y_test_true)\n",
    "assert len(y_test_pred) == len(test_idx)\n",
    "for i, idx in enumerate(test_idx):\n",
    "    d = df_.loc[idx].values\n",
    "    if d[:, 0].sum() >= 1:\n",
    "        y_test_pred[i] = d[d[:, 0] > 0, 1][0]\n",
    "    else:\n",
    "        y_test_pred[i] = d[0, 1]"
   ]
  },
  {
   "cell_type": "markdown",
   "metadata": {},
   "source": [
    "Compare with baseline:"
   ]
  },
  {
   "cell_type": "code",
   "execution_count": 90,
   "metadata": {},
   "outputs": [
    {
     "data": {
      "text/plain": [
       "(0.12649640861931366, 0.11612130885873906)"
      ]
     },
     "execution_count": 90,
     "metadata": {},
     "output_type": "execute_result"
    }
   ],
   "source": [
    "1.0 - accuracy_score(y_test_true, y_test_pred), 1.0 - accuracy_score(y_true[test_idx].values, y_pred_baseline[test_idx].values)"
   ]
  },
  {
   "cell_type": "code",
   "execution_count": 64,
   "metadata": {},
   "outputs": [
    {
     "data": {
      "text/plain": [
       "(0.13128491620111726, 0.11612130885873906)"
      ]
     },
     "execution_count": 64,
     "metadata": {},
     "output_type": "execute_result"
    }
   ],
   "source": [
    "1.0 - accuracy_score(y_test_true, y_test_pred), 1.0 - accuracy_score(y_true[test_idx].values, y_pred_baseline[test_idx].values)"
   ]
  },
  {
   "cell_type": "code",
   "execution_count": 140,
   "metadata": {},
   "outputs": [
    {
     "data": {
      "text/plain": [
       "(0.1213088587390263, 0.11851556264964092)"
      ]
     },
     "execution_count": 140,
     "metadata": {},
     "output_type": "execute_result"
    }
   ],
   "source": [
    "1.0 - accuracy_score(y_test_true, y_test_pred), 1.0 - accuracy_score(y_true[test_idx].values, y_pred_baseline[test_idx].values)"
   ]
  },
  {
   "cell_type": "code",
   "execution_count": 57,
   "metadata": {},
   "outputs": [
    {
     "data": {
      "text/plain": [
       "(0.12729449321628095, 0.11851556264964092)"
      ]
     },
     "execution_count": 57,
     "metadata": {},
     "output_type": "execute_result"
    }
   ],
   "source": [
    "1.0 - accuracy_score(y_test_true, y_test_pred), 1.0 - accuracy_score(y_true[test_idx].values, y_pred_baseline[test_idx].values)"
   ]
  },
  {
   "cell_type": "code",
   "execution_count": null,
   "metadata": {},
   "outputs": [],
   "source": []
  },
  {
   "cell_type": "code",
   "execution_count": 72,
   "metadata": {},
   "outputs": [],
   "source": [
    "feature_importance = gbm.feature_importance()\n",
    "\n",
    "important_col_indices = np.where(feature_importance > 0.025 * feature_importance.max())[0]"
   ]
  },
  {
   "cell_type": "code",
   "execution_count": 73,
   "metadata": {},
   "outputs": [
    {
     "data": {
      "text/plain": [
       "array(['f0_top_2', 'f0_top_1', 'f1_top_1', 'f2_top_1', 'f3_top_1',\n",
       "       'f4_top_1', 'f5_top_1', 'f6_top_1', 'f6_top_3_proba', 'f7_top_1',\n",
       "       'f8_top_1', 'f8_top_3_proba', 'f8_top_2_proba', 'f9_top_1',\n",
       "       'f10_top_1', 'y_pred'], dtype='<U15')"
      ]
     },
     "execution_count": 73,
     "metadata": {},
     "output_type": "execute_result"
    }
   ],
   "source": [
    "np.array(gbm.feature_name())[important_col_indices]"
   ]
  },
  {
   "cell_type": "code",
   "execution_count": 91,
   "metadata": {},
   "outputs": [
    {
     "data": {
      "text/plain": [
       "<matplotlib.axes._subplots.AxesSubplot at 0x7f737e4bc5c0>"
      ]
     },
     "execution_count": 91,
     "metadata": {},
     "output_type": "execute_result"
    },
    {
     "data": {
      "image/png": "[encoded data removed]",
      "text/plain": [
       "<Figure size 1080x1080 with 1 Axes>"
      ]
     },
     "metadata": {},
     "output_type": "display_data"
    }
   ],
   "source": [
    "lgb.plot_importance(gbm, figsize=(15, 15))"
   ]
  },
  {
   "cell_type": "code",
   "execution_count": null,
   "metadata": {},
   "outputs": [],
   "source": []
  },
  {
   "cell_type": "code",
   "execution_count": null,
   "metadata": {},
   "outputs": [],
   "source": []
  },
  {
   "cell_type": "markdown",
   "metadata": {},
   "source": [
    "## Apply on the test data"
   ]
  },
  {
   "cell_type": "code",
   "execution_count": 101,
   "metadata": {},
   "outputs": [
    {
     "name": "stdout",
     "output_type": "stream",
     "text": [
      "20180429_1406\n"
     ]
    }
   ],
   "source": [
    "!ls {test_meta_features_path}/test_probas_nasnetalarge_350_resized_crop"
   ]
  },
  {
   "cell_type": "code",
   "execution_count": 92,
   "metadata": {},
   "outputs": [],
   "source": [
    "OUTPUT_PATH = Path(\".\").absolute().parent / \"output\" / \"test_probas\"\n",
    "\n",
    "test_meta_features_list = [\n",
    "    \n",
    "    OUTPUT_PATH / \"test_probas_inceptionv4_350_resized_crop\" / \"20180429_1303\" / \"probas.csv\",    \n",
    "    OUTPUT_PATH / \"test_probas_inceptionv4_350_cls_wts_adam_resized_crop\" / \"20180520_2151\" / \"probas.csv\",\n",
    "    OUTPUT_PATH / \"test_probas_inceptionv4_350_fc_random_resized_crop\" / \"20180520_2151\" / \"probas.csv\",\n",
    "    \n",
    "    OUTPUT_PATH / \"test_probas_resnet152_350_adam_random_crop\" / \"20180522_2014\" / \"probas.csv\",\n",
    "    OUTPUT_PATH / \"test_probas_resnet152_350_adam_random_crop\" / \"20180522_2039\" / \"probas.csv\",\n",
    "    OUTPUT_PATH / \"test_probas_resnet152_350_amsgrad_adam_random_crop\" / \"20180523_2307\" / \"probas.csv\",\n",
    "    \n",
    "    OUTPUT_PATH / \"test_probas_inceptionresnetv2_350_resized_crop\" / \"20180429_1242\" / \"probas.csv\",\n",
    "    OUTPUT_PATH / \"test_probas_inceptionresnetv2_350_weighted_sampler2_resized_crop\" / \"20180501_1725\" / \"probas.csv\",\n",
    "    \n",
    "    OUTPUT_PATH / \"test_probas_nasnetalarge_350_resized_crop\" / \"20180429_1406\" / \"probas.csv\",\n",
    "    OUTPUT_PATH / \"test_probas_nasnetalarge_350_random_resized_crop\" / \"20180514_1034\" / \"probas.csv\",    \n",
    "    OUTPUT_PATH / \"test_probas_nasnetalarge_350_random_resized_crop\" / \"20180514_0821\" / \"probas.csv\",\n",
    "]\n"
   ]
  },
  {
   "cell_type": "code",
   "execution_count": 93,
   "metadata": {},
   "outputs": [],
   "source": [
    "test_dfs = [pd.read_csv(f, index_col='id') for f in test_meta_features_list]"
   ]
  },
  {
   "cell_type": "code",
   "execution_count": 94,
   "metadata": {},
   "outputs": [
    {
     "name": "stdout",
     "output_type": "stream",
     "text": [
      "[(12639, 128), (12665, 128), (12665, 128), (12665, 128), (12665, 128), (12665, 128), (12639, 128), (12664, 128), (12639, 128), (12665, 128), (12665, 128)]\n"
     ]
    }
   ],
   "source": [
    "print([df.shape for df in test_dfs])"
   ]
  },
  {
   "cell_type": "code",
   "execution_count": 95,
   "metadata": {},
   "outputs": [
    {
     "data": {
      "text/plain": [
       "(12639, 128)"
      ]
     },
     "execution_count": 95,
     "metadata": {},
     "output_type": "execute_result"
    }
   ],
   "source": [
    "test_dfs[0].shape"
   ]
  },
  {
   "cell_type": "code",
   "execution_count": 96,
   "metadata": {},
   "outputs": [
    {
     "data": {
      "text/plain": [
       "(107576, 89)"
      ]
     },
     "execution_count": 96,
     "metadata": {},
     "output_type": "execute_result"
    }
   ],
   "source": [
    "test_meta_features_init = get_topk_with_probas_metafeatures(test_meta_features_list, k=k)\n",
    "test_meta_features_init = test_meta_features_init.loc[test_dfs[0].index, :]\n",
    "test_meta_features_init.loc[:, 'y_pred'] = -1\n",
    "\n",
    "dfs = []\n",
    "for i in range(n_models):\n",
    "    for j in range(1, k + 1):\n",
    "        df = test_meta_features_init.copy()\n",
    "        df['y_pred'] = df['f{}_top_{}'.format(i, j)]\n",
    "        dfs.append(df)\n",
    "        \n",
    "test_meta_features = pd.concat(dfs, axis=0)\n",
    "test_meta_features = test_meta_features[~test_meta_features.duplicated()]\n",
    "\n",
    "test_meta_features.shape"
   ]
  },
  {
   "cell_type": "code",
   "execution_count": 104,
   "metadata": {},
   "outputs": [],
   "source": [
    "test_data = test_meta_features[train_columns_].values"
   ]
  },
  {
   "cell_type": "code",
   "execution_count": null,
   "metadata": {},
   "outputs": [],
   "source": [
    "test_probas = gbm.predict(test_data)\n",
    "test_pred = (test_probas > 0.5).astype(np.int)"
   ]
  },
  {
   "cell_type": "code",
   "execution_count": null,
   "metadata": {},
   "outputs": [],
   "source": [
    "test_meta_features.loc[:, 'bin_pred'] = test_pred"
   ]
  },
  {
   "cell_type": "code",
   "execution_count": 115,
   "metadata": {},
   "outputs": [],
   "source": [
    "df_ = test_meta_features.loc[:, ['bin_pred', 'y_pred']]\n",
    "test_pred = np.zeros((len(test_meta_features_init), ), dtype=np.int)\n",
    "\n",
    "for i, idx in enumerate(test_meta_features_init.index):\n",
    "    d = df_.loc[idx].values\n",
    "    if d[:, 0].sum() >= 1:\n",
    "        test_pred[i] = d[d[:, 0] > 0, 1][0]\n",
    "    else:\n",
    "        test_pred[i] = d[0, 1]"
   ]
  },
  {
   "cell_type": "code",
   "execution_count": 116,
   "metadata": {},
   "outputs": [
    {
     "data": {
      "text/plain": [
       "(12639,)"
      ]
     },
     "execution_count": 116,
     "metadata": {},
     "output_type": "execute_result"
    }
   ],
   "source": [
    "test_pred.shape"
   ]
  },
  {
   "cell_type": "code",
   "execution_count": 117,
   "metadata": {},
   "outputs": [],
   "source": [
    "sample_predicitions_df = pd.read_csv(\"/home/fast_storage/imaterialist-challenge-furniture-2018/sample_submission_randomlabel.csv\", index_col='id')"
   ]
  },
  {
   "cell_type": "code",
   "execution_count": 120,
   "metadata": {},
   "outputs": [],
   "source": [
    "df = sample_predicitions_df.copy()\n",
    "df.loc[test_meta_features_init.index, 'predicted'] = test_pred + 1\n",
    "df.to_csv(\"predictions_boosted_11models.csv\")"
   ]
  },
  {
   "cell_type": "code",
   "execution_count": 121,
   "metadata": {},
   "outputs": [],
   "source": [
    "!cd ../ && python3 utils/update_test_predictions.py notebooks/predictions_boosted_11models.csv notebooks/test_with_labels.csv notebooks/"
   ]
  },
  {
   "cell_type": "code",
   "execution_count": 122,
   "metadata": {},
   "outputs": [
    {
     "name": "stdout",
     "output_type": "stream",
     "text": [
      "id,predicted\n",
      "1,12\n",
      "2,71\n",
      "3,91\n",
      "4,54\n",
      "5,126\n",
      "6,76\n",
      "7,94\n",
      "8,8\n",
      "9,127\n"
     ]
    }
   ],
   "source": [
    "!head -10 fixed_predictions_boosted_11models.csv"
   ]
  },
  {
   "cell_type": "code",
   "execution_count": null,
   "metadata": {},
   "outputs": [],
   "source": []
  }
 ],
 "metadata": {
  "kernelspec": {
   "display_name": "Python 3",
   "language": "python",
   "name": "python3"
  },
  "language_info": {
   "codemirror_mode": {
    "name": "ipython",
    "version": 3
   },
   "file_extension": ".py",
   "mimetype": "text/x-python",
   "name": "python",
   "nbconvert_exporter": "python",
   "pygments_lexer": "ipython3",
   "version": "3.5.2"
  }
 },
 "nbformat": 4,
 "nbformat_minor": 2
}
